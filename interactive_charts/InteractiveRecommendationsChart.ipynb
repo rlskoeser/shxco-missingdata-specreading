{
 "cells": [
  {
   "cell_type": "markdown",
   "metadata": {
    "id": "I1x1AE35cOtj"
   },
   "source": [
    "# Generate and Evaluate Lenskit Model Stability and Select Scores for Predictions"
   ]
  },
  {
   "cell_type": "markdown",
   "metadata": {
    "id": "EjZT_ntacTdr"
   },
   "source": [
    "## Load libraries and data"
   ]
  },
  {
   "cell_type": "code",
   "execution_count": 1,
   "metadata": {},
   "outputs": [
    {
     "name": "stdout",
     "output_type": "stream",
     "text": [
      "Lenskit is already installed.\n"
     ]
    }
   ],
   "source": [
    "# This code checks if the lenskit library is installed and installs it if it is not.\n",
    "try:\n",
    "    import lenskit\n",
    "    print(\"Lenskit is already installed.\")\n",
    "except ImportError:\n",
    "    print(\"Lenskit is not installed. Installing...\")\n",
    "    import subprocess\n",
    "    subprocess.check_call([\"pip\", \"install\", \"lenskit\"])"
   ]
  },
  {
   "cell_type": "code",
   "execution_count": 2,
   "metadata": {
    "id": "Xo656ZZAGfei"
   },
   "outputs": [],
   "source": [
    "# Standard library imports\n",
    "import os\n",
    "import sys\n",
    "from typing import List\n",
    "\n",
    "# Third party imports\n",
    "import altair as alt  # For data visualization\n",
    "import numpy as np  # For numerical operations\n",
    "import pandas as pd  # For data manipulation\n",
    "import scipy\n",
    "from scipy.stats import zscore  # For statistical computations\n",
    "from sklearn.preprocessing import MinMaxScaler  # For data preprocessing\n",
    "from tqdm.notebook import tqdm  # For progress bars\n",
    "from textwrap import wrap\n",
    "\n",
    "# LensKit imports\n",
    "from lenskit import Recommender, topn, util, batch, crossfold as xf  # For recommendation systems\n",
    "from lenskit.algorithms import als, basic  # For recommendation algorithms\n",
    "\n",
    "# Local application/library specific imports\n",
    "sys.path.append(\"..\")\n",
    "from utils.missing_data_processing import *  # For handling missing data"
   ]
  },
  {
   "cell_type": "code",
   "execution_count": 3,
   "metadata": {},
   "outputs": [],
   "source": [
    "# Load the initial data into four DataFrames: events_df, members_df, books_df, and borrow_overrides_df.\n",
    "events_df, members_df, books_df, borrow_overrides_df  = load_initial_data()\n",
    "\n",
    "# Process the events data to clean it and prepare it for analysis.\n",
    "events_df = preprocess_events_data(events_df)\n",
    "\n",
    "# Extract the item ID from the URI in the books DataFrame.\n",
    "# The item ID is the second to last part of the URI.\n",
    "books_df[\"item_id\"] = books_df.uri.apply(\n",
    "    lambda x: x.split(\"/\")[-2] if pd.notna(x) else None\n",
    ")\n",
    "\n",
    "# Create a lookup table for item titles\n",
    "title_lookup = {row.item_id: row.title for row in books_df.itertuples()}\n",
    "\n",
    "# Generate short IDs for the members in the members DataFrame.\n",
    "# The ID is the second to last part of the URI.\n",
    "members_df[\"id\"] = members_df.uri.apply(\n",
    "    lambda x: x.split(\"/\")[-2]\n",
    ")\n",
    "\n",
    "# Get all member-book interactions from the events DataFrame.\n",
    "# Only include rows where the item URI is not null.\n",
    "interactions_df = events_df[(events_df.item_uri.notna()) & (events_df.item_id.isin(books_df[books_df.author.notna()].item_id))].copy()\n",
    "\n",
    "# Restrict the interactions to borrow events only.\n",
    "interactions_df = interactions_df[interactions_df.event_type == 'Borrow'].copy()\n",
    "\n",
    "# Reduce the interactions DataFrame to the minimum user/item interaction fields and drop duplicate rows.\n",
    "unique_interactions_df = interactions_df[\n",
    "    [\"member_id\", \"item_id\"]\n",
    "].drop_duplicates(subset=[\"member_id\", \"item_id\"])\n",
    "\n",
    "# Rename the columns to the names expected by LensKit.\n",
    "# The DataFrame is renamed to 'ratings' for use with the tutorial.\n",
    "ratings = unique_interactions_df.rename(columns={'member_id': 'user', 'item_id': 'item'})\n",
    "\n",
    "# The example assumes a rating. Use a 1/0 rating and set all to 1 to confirm interaction.\n",
    "ratings['rating'] = 1\n",
    "\n",
    "dated_events_df = events_df.copy()\n",
    "dated_events_df['start_date_dt'] = pd.to_datetime(dated_events_df['start_date'], errors='coerce')\n",
    "dated_events_df['end_date_dt'] = pd.to_datetime(dated_events_df['end_date'], errors='coerce')"
   ]
  },
  {
   "cell_type": "markdown",
   "metadata": {
    "id": "DwEwSsFdjD7r"
   },
   "source": [
    "## Lenskit Recommendations"
   ]
  },
  {
   "cell_type": "code",
   "execution_count": 4,
   "metadata": {
    "id": "_Z3-aAZHdr4p"
   },
   "outputs": [],
   "source": [
    "lenskit_model = pd.read_csv(f'../speculative_reading/data/redo_lenskit_model100_scores.csv')\n",
    "lenskit_model['member_period'] = lenskit_model.member_id + ': ' + lenskit_model.subscription_start.astype(str) + '/' + lenskit_model.subscription_end.astype(str)"
   ]
  },
  {
   "cell_type": "code",
   "execution_count": 5,
   "metadata": {
    "colab": {
     "base_uri": "https://localhost:8080/"
    },
    "id": "XVVmXsmvrNus",
    "outputId": "e0d5e8e3-d06e-4937-dc56-bd4ebcfec1a0"
   },
   "outputs": [
    {
     "data": {
      "text/plain": [
       "member_id         subscription_start  subscription_end\n",
       "hemingway-ernest  1924-03-28          1925-03-28          116200\n",
       "                  1921-12-28          1922-11-08           59500\n",
       "dtype: int64"
      ]
     },
     "execution_count": 5,
     "metadata": {},
     "output_type": "execute_result"
    }
   ],
   "source": [
    "lenskit_model[['member_id', 'subscription_start', 'subscription_end']].value_counts()"
   ]
  },
  {
   "cell_type": "code",
   "execution_count": 6,
   "metadata": {},
   "outputs": [
    {
     "data": {
      "text/plain": [
       "member_period\n",
       "hemingway-ernest: 1921-12-28/1922-11-08     595\n",
       "hemingway-ernest: 1924-03-28/1925-03-28    1162\n",
       "Name: item_id, dtype: int64"
      ]
     },
     "execution_count": 6,
     "metadata": {},
     "output_type": "execute_result"
    }
   ],
   "source": [
    "lenskit_model.groupby('member_period')['item_id'].nunique()"
   ]
  },
  {
   "cell_type": "code",
   "execution_count": 7,
   "metadata": {
    "id": "D7ACefq438yi"
   },
   "outputs": [],
   "source": [
    "def get_formatted_titles(row):\n",
    "\n",
    "  item = books_df[books_df.item_id == row.item_id]\n",
    "  if item.author.isna().any() == False:\n",
    "    author = ' '.join(item.author.str.split(',').values[0][::-1])\n",
    "    author = ' by' + author\n",
    "  else: \n",
    "    author = '(Periodical)'\n",
    "  title = item.title.values[0]\n",
    "  return title + author\n",
    "\n",
    "lenskit_model['formatted_title'] = lenskit_model.apply(get_formatted_titles, axis=1)"
   ]
  },
  {
   "cell_type": "code",
   "execution_count": 8,
   "metadata": {
    "id": "GY36uXxDrkhb"
   },
   "outputs": [],
   "source": [
    "lenskit_model['period'] = lenskit_model.member_period.str.split(':').str[1]\n",
    "lenskit_model['zscore'] = lenskit_model.groupby(['member_id', 'subscription_start', 'subscription_end', 'item_id'])['score'].transform(lambda x : zscore(x,ddof=1))\n",
    "\n",
    "top_scores = lenskit_model.groupby(['member_id', 'subscription_start', 'subscription_end', 'item_id']).agg({'score':'max'})[['score']].reset_index()\n",
    "top_scores = pd.merge(top_scores, lenskit_model, on=top_scores.columns.tolist(), how='inner')\n",
    "\n",
    "top_scores = top_scores.rename(columns={'score': 'top_score', 'zscore' : 'top_zscore'})\n",
    "\n",
    "avg_scores = lenskit_model.groupby(['member_id', 'subscription_start', 'subscription_end', 'item_id'])['score'].mean().reset_index(name='avg_score')\n",
    "scores_df = pd.merge(top_scores, avg_scores, on=['member_id', 'subscription_start', 'subscription_end', 'item_id'])\n",
    "\n",
    "std_scores = lenskit_model.groupby(['member_id', 'subscription_start', 'subscription_end', 'item_id']).agg({'score':'std'}).reset_index()\n",
    "std_scores = std_scores.rename(columns={'score': 'std_score'})\n",
    "scores_df = pd.merge(scores_df, std_scores, on=['member_id', 'subscription_start', 'subscription_end', 'item_id'])\n",
    "\n",
    "median_scores = lenskit_model.groupby(['member_id', 'subscription_start', 'subscription_end', 'item_id'])['score'].median().reset_index(name='median_score')\n",
    "scores_df = pd.merge(scores_df, median_scores, on=['member_id', 'subscription_start', 'subscription_end', 'item_id'])\n",
    "\n",
    "mode_scores = lenskit_model.groupby(['member_id', 'subscription_start', 'subscription_end', 'item_id'])['score'].agg(lambda x: scipy.stats.mode(x)[0][0]).reset_index()\n",
    "mode_scores = pd.merge(mode_scores, lenskit_model, on=mode_scores.columns.tolist(), how='inner')\n",
    "mode_scores = mode_scores.rename(columns={'score': 'mode_score', 'zscore' : 'mode_zscore'})\n",
    "\n",
    "lenskit_scores = pd.merge(mode_scores[['member_id', 'subscription_start', 'subscription_end', 'item_id', 'mode_score', 'mode_zscore']], scores_df, on=['member_id', 'subscription_start', 'subscription_end', 'item_id'])"
   ]
  },
  {
   "cell_type": "code",
   "execution_count": 9,
   "metadata": {},
   "outputs": [
    {
     "data": {
      "text/html": [
       "<div>\n",
       "<style scoped>\n",
       "    .dataframe tbody tr th:only-of-type {\n",
       "        vertical-align: middle;\n",
       "    }\n",
       "\n",
       "    .dataframe tbody tr th {\n",
       "        vertical-align: top;\n",
       "    }\n",
       "\n",
       "    .dataframe thead th {\n",
       "        text-align: right;\n",
       "    }\n",
       "</style>\n",
       "<table border=\"1\" class=\"dataframe\">\n",
       "  <thead>\n",
       "    <tr style=\"text-align: right;\">\n",
       "      <th></th>\n",
       "      <th>member_id</th>\n",
       "      <th>subscription_start</th>\n",
       "      <th>subscription_end</th>\n",
       "      <th>item_id</th>\n",
       "      <th>mode_score</th>\n",
       "      <th>mode_zscore</th>\n",
       "      <th>top_score</th>\n",
       "      <th>median</th>\n",
       "      <th>skew</th>\n",
       "      <th>std</th>\n",
       "      <th>...</th>\n",
       "      <th>kurtosis</th>\n",
       "      <th>model_loops</th>\n",
       "      <th>model_run</th>\n",
       "      <th>member_period</th>\n",
       "      <th>formatted_title</th>\n",
       "      <th>period</th>\n",
       "      <th>top_zscore</th>\n",
       "      <th>avg_score</th>\n",
       "      <th>std_score</th>\n",
       "      <th>median_score</th>\n",
       "    </tr>\n",
       "  </thead>\n",
       "  <tbody>\n",
       "    <tr>\n",
       "      <th>0</th>\n",
       "      <td>hemingway-ernest</td>\n",
       "      <td>1921-12-28</td>\n",
       "      <td>1922-11-08</td>\n",
       "      <td>a-e-candle-vision</td>\n",
       "      <td>-0.211456</td>\n",
       "      <td>-2.496513</td>\n",
       "      <td>0.362358</td>\n",
       "      <td>0.106474</td>\n",
       "      <td>-0.220694</td>\n",
       "      <td>0.122719</td>\n",
       "      <td>...</td>\n",
       "      <td>-0.040707</td>\n",
       "      <td>100</td>\n",
       "      <td>22</td>\n",
       "      <td>hemingway-ernest: 1921-12-28/1922-11-08</td>\n",
       "      <td>The Candle of Vision byÆ</td>\n",
       "      <td>1921-12-28/1922-11-08</td>\n",
       "      <td>2.179319</td>\n",
       "      <td>0.094914</td>\n",
       "      <td>0.122719</td>\n",
       "      <td>0.106474</td>\n",
       "    </tr>\n",
       "    <tr>\n",
       "      <th>1</th>\n",
       "      <td>hemingway-ernest</td>\n",
       "      <td>1921-12-28</td>\n",
       "      <td>1922-11-08</td>\n",
       "      <td>a-e-collected-poems</td>\n",
       "      <td>-0.322248</td>\n",
       "      <td>-2.206841</td>\n",
       "      <td>0.399307</td>\n",
       "      <td>-0.019966</td>\n",
       "      <td>0.190475</td>\n",
       "      <td>0.132462</td>\n",
       "      <td>...</td>\n",
       "      <td>0.131728</td>\n",
       "      <td>100</td>\n",
       "      <td>64</td>\n",
       "      <td>hemingway-ernest: 1921-12-28/1922-11-08</td>\n",
       "      <td>Collected Poems byÆ</td>\n",
       "      <td>1921-12-28/1922-11-08</td>\n",
       "      <td>3.240428</td>\n",
       "      <td>-0.029926</td>\n",
       "      <td>0.132462</td>\n",
       "      <td>-0.019966</td>\n",
       "    </tr>\n",
       "    <tr>\n",
       "      <th>2</th>\n",
       "      <td>hemingway-ernest</td>\n",
       "      <td>1921-12-28</td>\n",
       "      <td>1922-11-08</td>\n",
       "      <td>a-e-imaginations-reveries</td>\n",
       "      <td>-0.090730</td>\n",
       "      <td>-1.863097</td>\n",
       "      <td>0.327839</td>\n",
       "      <td>0.082864</td>\n",
       "      <td>0.207887</td>\n",
       "      <td>0.096638</td>\n",
       "      <td>...</td>\n",
       "      <td>-0.525446</td>\n",
       "      <td>100</td>\n",
       "      <td>22</td>\n",
       "      <td>hemingway-ernest: 1921-12-28/1922-11-08</td>\n",
       "      <td>Imaginations and Reveries byÆ</td>\n",
       "      <td>1921-12-28/1922-11-08</td>\n",
       "      <td>2.468220</td>\n",
       "      <td>0.089315</td>\n",
       "      <td>0.096638</td>\n",
       "      <td>0.082864</td>\n",
       "    </tr>\n",
       "    <tr>\n",
       "      <th>3</th>\n",
       "      <td>hemingway-ernest</td>\n",
       "      <td>1921-12-28</td>\n",
       "      <td>1922-11-08</td>\n",
       "      <td>abercrombie-speculative-dialogues</td>\n",
       "      <td>-0.693151</td>\n",
       "      <td>-3.235700</td>\n",
       "      <td>0.154087</td>\n",
       "      <td>-0.197518</td>\n",
       "      <td>-0.325633</td>\n",
       "      <td>0.152323</td>\n",
       "      <td>...</td>\n",
       "      <td>0.735525</td>\n",
       "      <td>100</td>\n",
       "      <td>17</td>\n",
       "      <td>hemingway-ernest: 1921-12-28/1922-11-08</td>\n",
       "      <td>Speculative Dialogues by Lascelles Abercrombie</td>\n",
       "      <td>1921-12-28/1922-11-08</td>\n",
       "      <td>2.326402</td>\n",
       "      <td>-0.200279</td>\n",
       "      <td>0.152323</td>\n",
       "      <td>-0.197518</td>\n",
       "    </tr>\n",
       "    <tr>\n",
       "      <th>4</th>\n",
       "      <td>hemingway-ernest</td>\n",
       "      <td>1921-12-28</td>\n",
       "      <td>1922-11-08</td>\n",
       "      <td>abercrombie-thomas-hardy-critical</td>\n",
       "      <td>-0.053308</td>\n",
       "      <td>-2.433895</td>\n",
       "      <td>0.245264</td>\n",
       "      <td>0.087059</td>\n",
       "      <td>0.055321</td>\n",
       "      <td>0.058677</td>\n",
       "      <td>...</td>\n",
       "      <td>0.016082</td>\n",
       "      <td>100</td>\n",
       "      <td>34</td>\n",
       "      <td>hemingway-ernest: 1921-12-28/1922-11-08</td>\n",
       "      <td>Thomas Hardy: A Critical Study by Lascelles Ab...</td>\n",
       "      <td>1921-12-28/1922-11-08</td>\n",
       "      <td>2.654514</td>\n",
       "      <td>0.089505</td>\n",
       "      <td>0.058677</td>\n",
       "      <td>0.087059</td>\n",
       "    </tr>\n",
       "  </tbody>\n",
       "</table>\n",
       "<p>5 rows × 21 columns</p>\n",
       "</div>"
      ],
      "text/plain": [
       "          member_id subscription_start subscription_end  \\\n",
       "0  hemingway-ernest         1921-12-28       1922-11-08   \n",
       "1  hemingway-ernest         1921-12-28       1922-11-08   \n",
       "2  hemingway-ernest         1921-12-28       1922-11-08   \n",
       "3  hemingway-ernest         1921-12-28       1922-11-08   \n",
       "4  hemingway-ernest         1921-12-28       1922-11-08   \n",
       "\n",
       "                             item_id  mode_score  mode_zscore  top_score  \\\n",
       "0                  a-e-candle-vision   -0.211456    -2.496513   0.362358   \n",
       "1                a-e-collected-poems   -0.322248    -2.206841   0.399307   \n",
       "2          a-e-imaginations-reveries   -0.090730    -1.863097   0.327839   \n",
       "3  abercrombie-speculative-dialogues   -0.693151    -3.235700   0.154087   \n",
       "4  abercrombie-thomas-hardy-critical   -0.053308    -2.433895   0.245264   \n",
       "\n",
       "     median      skew       std  ...  kurtosis  model_loops  model_run  \\\n",
       "0  0.106474 -0.220694  0.122719  ... -0.040707          100         22   \n",
       "1 -0.019966  0.190475  0.132462  ...  0.131728          100         64   \n",
       "2  0.082864  0.207887  0.096638  ... -0.525446          100         22   \n",
       "3 -0.197518 -0.325633  0.152323  ...  0.735525          100         17   \n",
       "4  0.087059  0.055321  0.058677  ...  0.016082          100         34   \n",
       "\n",
       "                             member_period  \\\n",
       "0  hemingway-ernest: 1921-12-28/1922-11-08   \n",
       "1  hemingway-ernest: 1921-12-28/1922-11-08   \n",
       "2  hemingway-ernest: 1921-12-28/1922-11-08   \n",
       "3  hemingway-ernest: 1921-12-28/1922-11-08   \n",
       "4  hemingway-ernest: 1921-12-28/1922-11-08   \n",
       "\n",
       "                                     formatted_title                  period  \\\n",
       "0                           The Candle of Vision byÆ   1921-12-28/1922-11-08   \n",
       "1                                Collected Poems byÆ   1921-12-28/1922-11-08   \n",
       "2                      Imaginations and Reveries byÆ   1921-12-28/1922-11-08   \n",
       "3     Speculative Dialogues by Lascelles Abercrombie   1921-12-28/1922-11-08   \n",
       "4  Thomas Hardy: A Critical Study by Lascelles Ab...   1921-12-28/1922-11-08   \n",
       "\n",
       "  top_zscore  avg_score  std_score  median_score  \n",
       "0   2.179319   0.094914   0.122719      0.106474  \n",
       "1   3.240428  -0.029926   0.132462     -0.019966  \n",
       "2   2.468220   0.089315   0.096638      0.082864  \n",
       "3   2.326402  -0.200279   0.152323     -0.197518  \n",
       "4   2.654514   0.089505   0.058677      0.087059  \n",
       "\n",
       "[5 rows x 21 columns]"
      ]
     },
     "execution_count": 9,
     "metadata": {},
     "output_type": "execute_result"
    }
   ],
   "source": [
    "lenskit_scores.head()"
   ]
  },
  {
   "cell_type": "code",
   "execution_count": 10,
   "metadata": {},
   "outputs": [],
   "source": [
    "lenskit_model['formatted_wrapped_title'] = lenskit_model.formatted_title.apply(wrap, args=[50])"
   ]
  },
  {
   "cell_type": "markdown",
   "metadata": {},
   "source": [
    "## Collaborative Filtering"
   ]
  },
  {
   "cell_type": "markdown",
   "metadata": {},
   "source": [
    "There's a number of permutations available with collaborative filtering:\n",
    "\n",
    "- Keep all data including periodicals\n",
    "- Exclude periodicals\n",
    "- Limit to circulation period when making predictions"
   ]
  },
  {
   "cell_type": "code",
   "execution_count": 11,
   "metadata": {},
   "outputs": [
    {
     "data": {
      "text/plain": [
       "Index(['item_id', 'formatted_chart_title', 'formatted_table_title',\n",
       "       'member_id', 'period', 'subscription_start', 'subscription_end',\n",
       "       'metric', 'score', 'formatted_title'],\n",
       "      dtype='object')"
      ]
     },
     "execution_count": 11,
     "metadata": {},
     "output_type": "execute_result"
    }
   ],
   "source": [
    "collaborative_filtering_model = pd.read_csv(\"../speculative_reading/data/memorycf_full_results.csv\")\n",
    "collaborative_filtering_model = collaborative_filtering_model.rename(columns={'item_uri': 'item_id'})\n",
    "collaborative_filtering_model['formatted_title'] = collaborative_filtering_model.apply(get_formatted_titles, axis=1)\n",
    "collaborative_filtering_scores = pd.read_csv(\"../speculative_reading/data/full_collaborative_filtering_predictions.csv\")\n",
    "collaborative_filtering_model.columns"
   ]
  },
  {
   "cell_type": "code",
   "execution_count": 12,
   "metadata": {},
   "outputs": [],
   "source": [
    "collaborative_filtering_model = collaborative_filtering_model[['item_id', 'formatted_title', 'member_id', 'period', 'subscription_start', 'subscription_end', 'metric', 'score']]\n",
    "collaborative_filtering_model.loc[collaborative_filtering_model.formatted_title.str.contains('Instigations of Ezra Pound'), 'formatted_title'] = 'Instigations of Ezra Pound: Together with an Essay on the Chinese Written Character by Ezra Pound and Ernest Fenollosa'\n",
    "collaborative_filtering_model['formatted_wrapped_title'] = collaborative_filtering_model.formatted_title.apply(wrap, args=[50])\n",
    "collaborative_filtering_model.loc[collaborative_filtering_model.metric == 'cosine', 'metric'] = 'Cosine Distance'\n",
    "collaborative_filtering_model.loc[collaborative_filtering_model.metric == 'pearson', 'metric'] = 'Pearson Correlation Coefficient'\n",
    "collaborative_filtering_model.loc[collaborative_filtering_model.metric == 'euclidean', 'metric'] = 'Euclidean Distance'\n"
   ]
  },
  {
   "cell_type": "code",
   "execution_count": 13,
   "metadata": {},
   "outputs": [
    {
     "data": {
      "text/html": [
       "\n",
       "<div id=\"altair-viz-a736b63ba59444738f116d0b0be7ea81\"></div>\n",
       "<script type=\"text/javascript\">\n",
       "  var VEGA_DEBUG = (typeof VEGA_DEBUG == \"undefined\") ? {} : VEGA_DEBUG;\n",
       "  (function(spec, embedOpt){\n",
       "    let outputDiv = document.currentScript.previousElementSibling;\n",
       "    if (outputDiv.id !== \"altair-viz-a736b63ba59444738f116d0b0be7ea81\") {\n",
       "      outputDiv = document.getElementById(\"altair-viz-a736b63ba59444738f116d0b0be7ea81\");\n",
       "    }\n",
       "    const paths = {\n",
       "      \"vega\": \"https://cdn.jsdelivr.net/npm/vega@5?noext\",\n",
       "      \"vega-lib\": \"https://cdn.jsdelivr.net/npm/vega-lib?noext\",\n",
       "      \"vega-lite\": \"https://cdn.jsdelivr.net/npm/vega-lite@5.6.1?noext\",\n",
       "      \"vega-embed\": \"https://cdn.jsdelivr.net/npm/vega-embed@6?noext\",\n",
       "    };\n",
       "\n",
       "    function maybeLoadScript(lib, version) {\n",
       "      var key = `${lib.replace(\"-\", \"\")}_version`;\n",
       "      return (VEGA_DEBUG[key] == version) ?\n",
       "        Promise.resolve(paths[lib]) :\n",
       "        new Promise(function(resolve, reject) {\n",
       "          var s = document.createElement('script');\n",
       "          document.getElementsByTagName(\"head\")[0].appendChild(s);\n",
       "          s.async = true;\n",
       "          s.onload = () => {\n",
       "            VEGA_DEBUG[key] = version;\n",
       "            return resolve(paths[lib]);\n",
       "          };\n",
       "          s.onerror = () => reject(`Error loading script: ${paths[lib]}`);\n",
       "          s.src = paths[lib];\n",
       "        });\n",
       "    }\n",
       "\n",
       "    function showError(err) {\n",
       "      outputDiv.innerHTML = `<div class=\"error\" style=\"color:red;\">${err}</div>`;\n",
       "      throw err;\n",
       "    }\n",
       "\n",
       "    function displayChart(vegaEmbed) {\n",
       "      vegaEmbed(outputDiv, spec, embedOpt)\n",
       "        .catch(err => showError(`Javascript Error: ${err.message}<br>This usually means there's a typo in your chart specification. See the javascript console for the full traceback.`));\n",
       "    }\n",
       "\n",
       "    if(typeof define === \"function\" && define.amd) {\n",
       "      requirejs.config({paths});\n",
       "      require([\"vega-embed\"], displayChart, err => showError(`Error loading script: ${err.message}`));\n",
       "    } else {\n",
       "      maybeLoadScript(\"vega\", \"5\")\n",
       "        .then(() => maybeLoadScript(\"vega-lite\", \"5.6.1\"))\n",
       "        .then(() => maybeLoadScript(\"vega-embed\", \"6\"))\n",
       "        .catch(showError)\n",
       "        .then(() => displayChart(vegaEmbed));\n",
       "    }\n",
       "  })({\"config\": {\"view\": {\"continuousWidth\": 300, \"continuousHeight\": 300}}, \"data\": {\"name\": \"data-7648b79bc129859defa48427d17ad3fb\"}, \"mark\": {\"type\": \"point\", \"filled\": true, \"opacity\": 0.8, \"thickness\": 3}, \"encoding\": {\"color\": {\"field\": \"period\", \"legend\": {\"title\": [\"Subscription Period\"]}, \"type\": \"nominal\"}, \"opacity\": {\"condition\": {\"param\": \"param_1\", \"value\": 1}, \"value\": 0.2}, \"shape\": {\"field\": \"metric\", \"legend\": {\"title\": \"Method for Collaborative Filtering\"}, \"type\": \"nominal\"}, \"x\": {\"field\": \"score\", \"type\": \"quantitative\"}, \"y\": {\"axis\": {\"labelFontSize\": 9, \"title\": \"\"}, \"field\": \"formatted_title\", \"sort\": \"-x\", \"type\": \"nominal\"}}, \"params\": [{\"name\": \"param_2\", \"bind\": {\"input\": \"search\", \"placeholder\": \"Search title\", \"name\": \"Search \"}, \"value\": \"\"}, {\"name\": \"param_1\", \"select\": {\"type\": \"point\", \"fields\": [\"period\"]}, \"bind\": \"legend\"}], \"title\": \"Top Predictions by Collaborative Filtering Memory-Based Methods\", \"transform\": [{\"filter\": \"test(regexp(param_2,'i'),datum.formatted_chart_title)\"}], \"width\": 300, \"$schema\": \"https://vega.github.io/schema/vega-lite/v5.6.1.json\", \"datasets\": {\"data-7648b79bc129859defa48427d17ad3fb\": [{\"item_id\": \"thompson-francis-thompsons-works\", \"formatted_title\": \"Works of Francis Thompson by Francis Thompson\", \"member_id\": \"hemingway-ernest\", \"period\": \"1924-03-28/1925-03-28\", \"subscription_start\": \"1924-03-28\", \"subscription_end\": \"1925-03-28\", \"metric\": \"Cosine Distance\", \"score\": 1.0000000000000002, \"formatted_wrapped_title\": [\"Works of Francis Thompson by Francis Thompson\"]}, {\"item_id\": \"thompson-francis-thompsons-works\", \"formatted_title\": \"Works of Francis Thompson by Francis Thompson\", \"member_id\": \"hemingway-ernest\", \"period\": \"1924-03-28/1925-03-28\", \"subscription_start\": \"1924-03-28\", \"subscription_end\": \"1925-03-28\", \"metric\": \"Euclidean Distance\", \"score\": 1.0000000000000002, \"formatted_wrapped_title\": [\"Works of Francis Thompson by Francis Thompson\"]}, {\"item_id\": \"thompson-francis-thompsons-works\", \"formatted_title\": \"Works of Francis Thompson by Francis Thompson\", \"member_id\": \"hemingway-ernest\", \"period\": \"1924-03-28/1925-03-28\", \"subscription_start\": \"1924-03-28\", \"subscription_end\": \"1925-03-28\", \"metric\": \"Pearson Correlation Coefficient\", \"score\": 1.0, \"formatted_wrapped_title\": [\"Works of Francis Thompson by Francis Thompson\"]}, {\"item_id\": \"moore-confessions-young-man\", \"formatted_title\": \"The Confessions of a Young Man by George Moore\", \"member_id\": \"hemingway-ernest\", \"period\": \"1924-03-28/1925-03-28\", \"subscription_start\": \"1924-03-28\", \"subscription_end\": \"1925-03-28\", \"metric\": \"Pearson Correlation Coefficient\", \"score\": 0.98003755200565, \"formatted_wrapped_title\": [\"The Confessions of a Young Man by George Moore\"]}, {\"item_id\": \"george-strangers-wedding-comedy\", \"formatted_title\": \"The Strangers' Wedding; or, The Comedy of a Romantic by Walter Lionel George\", \"member_id\": \"hemingway-ernest\", \"period\": \"1924-03-28/1925-03-28\", \"subscription_start\": \"1924-03-28\", \"subscription_end\": \"1925-03-28\", \"metric\": \"Pearson Correlation Coefficient\", \"score\": 0.9629349595513166, \"formatted_wrapped_title\": [\"The Strangers' Wedding; or, The Comedy of a\", \"Romantic by Walter Lionel George\"]}, {\"item_id\": \"george-strangers-wedding-comedy\", \"formatted_title\": \"The Strangers' Wedding; or, The Comedy of a Romantic by Walter Lionel George\", \"member_id\": \"hemingway-ernest\", \"period\": \"1921-12-28/1922-11-08\", \"subscription_start\": \"1921-12-28\", \"subscription_end\": \"1922-11-08\", \"metric\": \"Pearson Correlation Coefficient\", \"score\": 0.9629349595513166, \"formatted_wrapped_title\": [\"The Strangers' Wedding; or, The Comedy of a\", \"Romantic by Walter Lionel George\"]}, {\"item_id\": \"pound-instigations-ezra-pound\", \"formatted_title\": \"Instigations of Ezra Pound: Together with an Essay on the Chinese Written Character by Ezra Pound and Ernest Fenollosa\", \"member_id\": \"hemingway-ernest\", \"period\": \"1924-03-28/1925-03-28\", \"subscription_start\": \"1924-03-28\", \"subscription_end\": \"1925-03-28\", \"metric\": \"Pearson Correlation Coefficient\", \"score\": 0.9263568579030412, \"formatted_wrapped_title\": [\"Instigations of Ezra Pound: Together with an Essay\", \"on the Chinese Written Character by Ezra Pound and\", \"Ernest Fenollosa\"]}, {\"item_id\": \"pound-instigations-ezra-pound\", \"formatted_title\": \"Instigations of Ezra Pound: Together with an Essay on the Chinese Written Character by Ezra Pound and Ernest Fenollosa\", \"member_id\": \"hemingway-ernest\", \"period\": \"1921-12-28/1922-11-08\", \"subscription_start\": \"1921-12-28\", \"subscription_end\": \"1922-11-08\", \"metric\": \"Pearson Correlation Coefficient\", \"score\": 0.9263568579030412, \"formatted_wrapped_title\": [\"Instigations of Ezra Pound: Together with an Essay\", \"on the Chinese Written Character by Ezra Pound and\", \"Ernest Fenollosa\"]}, {\"item_id\": \"norris-shanghaied\", \"formatted_title\": \"Shanghaied by Frank Norris\", \"member_id\": \"hemingway-ernest\", \"period\": \"1921-12-28/1922-11-08\", \"subscription_start\": \"1921-12-28\", \"subscription_end\": \"1922-11-08\", \"metric\": \"Pearson Correlation Coefficient\", \"score\": 0.9154074317957842, \"formatted_wrapped_title\": [\"Shanghaied by Frank Norris\"]}, {\"item_id\": \"norris-shanghaied\", \"formatted_title\": \"Shanghaied by Frank Norris\", \"member_id\": \"hemingway-ernest\", \"period\": \"1924-03-28/1925-03-28\", \"subscription_start\": \"1924-03-28\", \"subscription_end\": \"1925-03-28\", \"metric\": \"Pearson Correlation Coefficient\", \"score\": 0.9154074317957842, \"formatted_wrapped_title\": [\"Shanghaied by Frank Norris\"]}, {\"item_id\": \"machen-shining-pyramid\", \"formatted_title\": \"The Shining Pyramid by Arthur Machen\", \"member_id\": \"hemingway-ernest\", \"period\": \"1924-03-28/1925-03-28\", \"subscription_start\": \"1924-03-28\", \"subscription_end\": \"1925-03-28\", \"metric\": \"Pearson Correlation Coefficient\", \"score\": 0.9020296132656692, \"formatted_wrapped_title\": [\"The Shining Pyramid by Arthur Machen\"]}, {\"item_id\": \"trollope-last-chronicle-barset\", \"formatted_title\": \"The Last Chronicle of Barset by Anthony Trollope\", \"member_id\": \"hemingway-ernest\", \"period\": \"1924-03-28/1925-03-28\", \"subscription_start\": \"1924-03-28\", \"subscription_end\": \"1925-03-28\", \"metric\": \"Pearson Correlation Coefficient\", \"score\": 0.8949614860034576, \"formatted_wrapped_title\": [\"The Last Chronicle of Barset by Anthony Trollope\"]}, {\"item_id\": \"moore-avowals\", \"formatted_title\": \"Avowals by George Moore\", \"member_id\": \"hemingway-ernest\", \"period\": \"1924-03-28/1925-03-28\", \"subscription_start\": \"1924-03-28\", \"subscription_end\": \"1925-03-28\", \"metric\": \"Pearson Correlation Coefficient\", \"score\": 0.8943177531006985, \"formatted_wrapped_title\": [\"Avowals by George Moore\"]}, {\"item_id\": \"carritt-theory-beauty\", \"formatted_title\": \"The Theory of Beauty by E. F. Carritt\", \"member_id\": \"hemingway-ernest\", \"period\": \"1924-03-28/1925-03-28\", \"subscription_start\": \"1924-03-28\", \"subscription_end\": \"1925-03-28\", \"metric\": \"Pearson Correlation Coefficient\", \"score\": 0.8915732922705475, \"formatted_wrapped_title\": [\"The Theory of Beauty by E. F. Carritt\"]}, {\"item_id\": \"cather-one\", \"formatted_title\": \"One of Ours by Willa Cather\", \"member_id\": \"hemingway-ernest\", \"period\": \"1924-03-28/1925-03-28\", \"subscription_start\": \"1924-03-28\", \"subscription_end\": \"1925-03-28\", \"metric\": \"Pearson Correlation Coefficient\", \"score\": 0.8815222922815156, \"formatted_wrapped_title\": [\"One of Ours by Willa Cather\"]}, {\"item_id\": \"macaulay-potterism\", \"formatted_title\": \"Potterism by Rose Macaulay\", \"member_id\": \"hemingway-ernest\", \"period\": \"1924-03-28/1925-03-28\", \"subscription_start\": \"1924-03-28\", \"subscription_end\": \"1925-03-28\", \"metric\": \"Pearson Correlation Coefficient\", \"score\": 0.8736806542243403, \"formatted_wrapped_title\": [\"Potterism by Rose Macaulay\"]}, {\"item_id\": \"macaulay-potterism\", \"formatted_title\": \"Potterism by Rose Macaulay\", \"member_id\": \"hemingway-ernest\", \"period\": \"1921-12-28/1922-11-08\", \"subscription_start\": \"1921-12-28\", \"subscription_end\": \"1922-11-08\", \"metric\": \"Pearson Correlation Coefficient\", \"score\": 0.8736806542243403, \"formatted_wrapped_title\": [\"Potterism by Rose Macaulay\"]}, {\"item_id\": \"george-stiff-lip-novel\", \"formatted_title\": \"The Stiff Lip: A Novel by Walter Lionel George\", \"member_id\": \"hemingway-ernest\", \"period\": \"1924-03-28/1925-03-28\", \"subscription_start\": \"1924-03-28\", \"subscription_end\": \"1925-03-28\", \"metric\": \"Pearson Correlation Coefficient\", \"score\": 0.8647117399318345, \"formatted_wrapped_title\": [\"The Stiff Lip: A Novel by Walter Lionel George\"]}, {\"item_id\": \"george-stiff-lip-novel\", \"formatted_title\": \"The Stiff Lip: A Novel by Walter Lionel George\", \"member_id\": \"hemingway-ernest\", \"period\": \"1921-12-28/1922-11-08\", \"subscription_start\": \"1921-12-28\", \"subscription_end\": \"1922-11-08\", \"metric\": \"Pearson Correlation Coefficient\", \"score\": 0.8647117399318345, \"formatted_wrapped_title\": [\"The Stiff Lip: A Novel by Walter Lionel George\"]}, {\"item_id\": \"trollope-small-house-allington\", \"formatted_title\": \"The Small House at Allington by Anthony Trollope\", \"member_id\": \"hemingway-ernest\", \"period\": \"1924-03-28/1925-03-28\", \"subscription_start\": \"1924-03-28\", \"subscription_end\": \"1925-03-28\", \"metric\": \"Pearson Correlation Coefficient\", \"score\": 0.862964642214604, \"formatted_wrapped_title\": [\"The Small House at Allington by Anthony Trollope\"]}, {\"item_id\": \"galsworthy-country-house\", \"formatted_title\": \"The Country House by John Galsworthy\", \"member_id\": \"hemingway-ernest\", \"period\": \"1921-12-28/1922-11-08\", \"subscription_start\": \"1921-12-28\", \"subscription_end\": \"1922-11-08\", \"metric\": \"Pearson Correlation Coefficient\", \"score\": 0.8607643140870105, \"formatted_wrapped_title\": [\"The Country House by John Galsworthy\"]}, {\"item_id\": \"galsworthy-country-house\", \"formatted_title\": \"The Country House by John Galsworthy\", \"member_id\": \"hemingway-ernest\", \"period\": \"1924-03-28/1925-03-28\", \"subscription_start\": \"1924-03-28\", \"subscription_end\": \"1925-03-28\", \"metric\": \"Pearson Correlation Coefficient\", \"score\": 0.8607643140870105, \"formatted_wrapped_title\": [\"The Country House by John Galsworthy\"]}, {\"item_id\": \"mackenzie-vanity-girl\", \"formatted_title\": \"The Vanity Girl by Compton Mackenzie\", \"member_id\": \"hemingway-ernest\", \"period\": \"1924-03-28/1925-03-28\", \"subscription_start\": \"1924-03-28\", \"subscription_end\": \"1925-03-28\", \"metric\": \"Pearson Correlation Coefficient\", \"score\": 0.8606592168582909, \"formatted_wrapped_title\": [\"The Vanity Girl by Compton Mackenzie\"]}, {\"item_id\": \"mackenzie-poor-relations\", \"formatted_title\": \"Poor Relations by Compton Mackenzie\", \"member_id\": \"hemingway-ernest\", \"period\": \"1924-03-28/1925-03-28\", \"subscription_start\": \"1924-03-28\", \"subscription_end\": \"1925-03-28\", \"metric\": \"Pearson Correlation Coefficient\", \"score\": 0.8606592168582909, \"formatted_wrapped_title\": [\"Poor Relations by Compton Mackenzie\"]}, {\"item_id\": \"crane-maggie-girl-streets\", \"formatted_title\": \"Maggie: A Girl of the Streets by Stephen Crane\", \"member_id\": \"hemingway-ernest\", \"period\": \"1924-03-28/1925-03-28\", \"subscription_start\": \"1924-03-28\", \"subscription_end\": \"1925-03-28\", \"metric\": \"Pearson Correlation Coefficient\", \"score\": 0.8589891200438664, \"formatted_wrapped_title\": [\"Maggie: A Girl of the Streets by Stephen Crane\"]}, {\"item_id\": \"rhys-rabindranath-tagore-biographical\", \"formatted_title\": \"Rabindranath Tagore: A Biographical Study by Ernest Rhys\", \"member_id\": \"hemingway-ernest\", \"period\": \"1921-12-28/1922-11-08\", \"subscription_start\": \"1921-12-28\", \"subscription_end\": \"1922-11-08\", \"metric\": \"Pearson Correlation Coefficient\", \"score\": 0.8574686951836562, \"formatted_wrapped_title\": [\"Rabindranath Tagore: A Biographical Study by\", \"Ernest Rhys\"]}, {\"item_id\": \"rhys-rabindranath-tagore-biographical\", \"formatted_title\": \"Rabindranath Tagore: A Biographical Study by Ernest Rhys\", \"member_id\": \"hemingway-ernest\", \"period\": \"1924-03-28/1925-03-28\", \"subscription_start\": \"1924-03-28\", \"subscription_end\": \"1925-03-28\", \"metric\": \"Pearson Correlation Coefficient\", \"score\": 0.8574686951836562, \"formatted_wrapped_title\": [\"Rabindranath Tagore: A Biographical Study by\", \"Ernest Rhys\"]}, {\"item_id\": \"robinson-collected-poems\", \"formatted_title\": \"Collected Poems by Edwin Arlington Robinson\", \"member_id\": \"hemingway-ernest\", \"period\": \"1924-03-28/1925-03-28\", \"subscription_start\": \"1924-03-28\", \"subscription_end\": \"1925-03-28\", \"metric\": \"Pearson Correlation Coefficient\", \"score\": 0.857049700010852, \"formatted_wrapped_title\": [\"Collected Poems by Edwin Arlington Robinson\"]}, {\"item_id\": \"tagore-gitanjali\", \"formatted_title\": \"Gitanjali by Rabindranath Tagore\", \"member_id\": \"hemingway-ernest\", \"period\": \"1924-03-28/1925-03-28\", \"subscription_start\": \"1924-03-28\", \"subscription_end\": \"1925-03-28\", \"metric\": \"Pearson Correlation Coefficient\", \"score\": 0.8563714386057635, \"formatted_wrapped_title\": [\"Gitanjali by Rabindranath Tagore\"]}, {\"item_id\": \"tagore-gitanjali\", \"formatted_title\": \"Gitanjali by Rabindranath Tagore\", \"member_id\": \"hemingway-ernest\", \"period\": \"1921-12-28/1922-11-08\", \"subscription_start\": \"1921-12-28\", \"subscription_end\": \"1922-11-08\", \"metric\": \"Pearson Correlation Coefficient\", \"score\": 0.8563714386057635, \"formatted_wrapped_title\": [\"Gitanjali by Rabindranath Tagore\"]}, {\"item_id\": \"corkery-threshold-quiet\", \"formatted_title\": \"The Threshold of Quiet by Daniel Corkery\", \"member_id\": \"hemingway-ernest\", \"period\": \"1924-03-28/1925-03-28\", \"subscription_start\": \"1924-03-28\", \"subscription_end\": \"1925-03-28\", \"metric\": \"Pearson Correlation Coefficient\", \"score\": 0.85543105636073, \"formatted_wrapped_title\": [\"The Threshold of Quiet by Daniel Corkery\"]}, {\"item_id\": \"jameson-clash\", \"formatted_title\": \"The Clash by Storm Jameson\", \"member_id\": \"hemingway-ernest\", \"period\": \"1921-12-28/1922-11-08\", \"subscription_start\": \"1921-12-28\", \"subscription_end\": \"1922-11-08\", \"metric\": \"Pearson Correlation Coefficient\", \"score\": 0.85543105636073, \"formatted_wrapped_title\": [\"The Clash by Storm Jameson\"]}, {\"item_id\": \"jameson-clash\", \"formatted_title\": \"The Clash by Storm Jameson\", \"member_id\": \"hemingway-ernest\", \"period\": \"1924-03-28/1925-03-28\", \"subscription_start\": \"1924-03-28\", \"subscription_end\": \"1925-03-28\", \"metric\": \"Pearson Correlation Coefficient\", \"score\": 0.85543105636073, \"formatted_wrapped_title\": [\"The Clash by Storm Jameson\"]}, {\"item_id\": \"anderson-story-tellers-story\", \"formatted_title\": \"A Story Teller's Story by Sherwood Anderson\", \"member_id\": \"hemingway-ernest\", \"period\": \"1924-03-28/1925-03-28\", \"subscription_start\": \"1924-03-28\", \"subscription_end\": \"1925-03-28\", \"metric\": \"Pearson Correlation Coefficient\", \"score\": 0.85543105636073, \"formatted_wrapped_title\": [\"A Story Teller's Story by Sherwood Anderson\"]}, {\"item_id\": \"jones-samuel-butler\", \"formatted_title\": \"Samuel Butler by Henry Festing Jones\", \"member_id\": \"hemingway-ernest\", \"period\": \"1921-12-28/1922-11-08\", \"subscription_start\": \"1921-12-28\", \"subscription_end\": \"1922-11-08\", \"metric\": \"Pearson Correlation Coefficient\", \"score\": 0.85543105636073, \"formatted_wrapped_title\": [\"Samuel Butler by Henry Festing Jones\"]}, {\"item_id\": \"jones-samuel-butler\", \"formatted_title\": \"Samuel Butler by Henry Festing Jones\", \"member_id\": \"hemingway-ernest\", \"period\": \"1924-03-28/1925-03-28\", \"subscription_start\": \"1924-03-28\", \"subscription_end\": \"1925-03-28\", \"metric\": \"Pearson Correlation Coefficient\", \"score\": 0.85543105636073, \"formatted_wrapped_title\": [\"Samuel Butler by Henry Festing Jones\"]}, {\"item_id\": \"dane-wandering-stars\", \"formatted_title\": \"Wandering Stars by Clemence Dane\", \"member_id\": \"hemingway-ernest\", \"period\": \"1924-03-28/1925-03-28\", \"subscription_start\": \"1924-03-28\", \"subscription_end\": \"1925-03-28\", \"metric\": \"Pearson Correlation Coefficient\", \"score\": 0.85543105636073, \"formatted_wrapped_title\": [\"Wandering Stars by Clemence Dane\"]}, {\"item_id\": \"swinnerton-casement\", \"formatted_title\": \"The Casement by Frank Swinnerton\", \"member_id\": \"hemingway-ernest\", \"period\": \"1924-03-28/1925-03-28\", \"subscription_start\": \"1924-03-28\", \"subscription_end\": \"1925-03-28\", \"metric\": \"Pearson Correlation Coefficient\", \"score\": 0.85543105636073, \"formatted_wrapped_title\": [\"The Casement by Frank Swinnerton\"]}, {\"item_id\": \"abercrombie-thomas-hardy-critical\", \"formatted_title\": \"Thomas Hardy: A Critical Study by Lascelles Abercrombie\", \"member_id\": \"hemingway-ernest\", \"period\": \"1924-03-28/1925-03-28\", \"subscription_start\": \"1924-03-28\", \"subscription_end\": \"1925-03-28\", \"metric\": \"Pearson Correlation Coefficient\", \"score\": 0.85543105636073, \"formatted_wrapped_title\": [\"Thomas Hardy: A Critical Study by Lascelles\", \"Abercrombie\"]}, {\"item_id\": \"abercrombie-thomas-hardy-critical\", \"formatted_title\": \"Thomas Hardy: A Critical Study by Lascelles Abercrombie\", \"member_id\": \"hemingway-ernest\", \"period\": \"1921-12-28/1922-11-08\", \"subscription_start\": \"1921-12-28\", \"subscription_end\": \"1922-11-08\", \"metric\": \"Pearson Correlation Coefficient\", \"score\": 0.85543105636073, \"formatted_wrapped_title\": [\"Thomas Hardy: A Critical Study by Lascelles\", \"Abercrombie\"]}, {\"item_id\": \"dostoyevsky-eternal-husband-stories\", \"formatted_title\": \"The Eternal Husband and Other Stories by Fyodor Dostoyevsky\", \"member_id\": \"hemingway-ernest\", \"period\": \"1924-03-28/1925-03-28\", \"subscription_start\": \"1924-03-28\", \"subscription_end\": \"1925-03-28\", \"metric\": \"Pearson Correlation Coefficient\", \"score\": 0.85543105636073, \"formatted_wrapped_title\": [\"The Eternal Husband and Other Stories by Fyodor\", \"Dostoyevsky\"]}, {\"item_id\": \"ingram-true-chatterton-new\", \"formatted_title\": \"The True Chatterton: A New Study from Original Documents by John Henry Ingram\", \"member_id\": \"hemingway-ernest\", \"period\": \"1924-03-28/1925-03-28\", \"subscription_start\": \"1924-03-28\", \"subscription_end\": \"1925-03-28\", \"metric\": \"Pearson Correlation Coefficient\", \"score\": 0.85543105636073, \"formatted_wrapped_title\": [\"The True Chatterton: A New Study from Original\", \"Documents by John Henry Ingram\"]}, {\"item_id\": \"austen-lady-susan\", \"formatted_title\": \"Lady Susan by Jane Austen\", \"member_id\": \"hemingway-ernest\", \"period\": \"1924-03-28/1925-03-28\", \"subscription_start\": \"1924-03-28\", \"subscription_end\": \"1925-03-28\", \"metric\": \"Pearson Correlation Coefficient\", \"score\": 0.85543105636073, \"formatted_wrapped_title\": [\"Lady Susan by Jane Austen\"]}, {\"item_id\": \"twain-mark-twains-autobiography\", \"formatted_title\": \"Mark Twain's Autobiography by Mark Twain\", \"member_id\": \"hemingway-ernest\", \"period\": \"1924-03-28/1925-03-28\", \"subscription_start\": \"1924-03-28\", \"subscription_end\": \"1925-03-28\", \"metric\": \"Pearson Correlation Coefficient\", \"score\": 0.85543105636073, \"formatted_wrapped_title\": [\"Mark Twain's Autobiography by Mark Twain\"]}, {\"item_id\": \"wells-washington-hope-peace\", \"formatted_title\": \"Washington and the Hope of Peace by H. G. Wells\", \"member_id\": \"hemingway-ernest\", \"period\": \"1921-12-28/1922-11-08\", \"subscription_start\": \"1921-12-28\", \"subscription_end\": \"1922-11-08\", \"metric\": \"Pearson Correlation Coefficient\", \"score\": 0.85543105636073, \"formatted_wrapped_title\": [\"Washington and the Hope of Peace by H. G. Wells\"]}, {\"item_id\": \"smollett-adventures-roderick-random\", \"formatted_title\": \"The Adventures of Roderick Random by Tobias Smollett\", \"member_id\": \"hemingway-ernest\", \"period\": \"1924-03-28/1925-03-28\", \"subscription_start\": \"1924-03-28\", \"subscription_end\": \"1925-03-28\", \"metric\": \"Pearson Correlation Coefficient\", \"score\": 0.85543105636073, \"formatted_wrapped_title\": [\"The Adventures of Roderick Random by Tobias\", \"Smollett\"]}, {\"item_id\": \"wells-washington-hope-peace\", \"formatted_title\": \"Washington and the Hope of Peace by H. G. Wells\", \"member_id\": \"hemingway-ernest\", \"period\": \"1924-03-28/1925-03-28\", \"subscription_start\": \"1924-03-28\", \"subscription_end\": \"1925-03-28\", \"metric\": \"Pearson Correlation Coefficient\", \"score\": 0.85543105636073, \"formatted_wrapped_title\": [\"Washington and the Hope of Peace by H. G. Wells\"]}, {\"item_id\": \"galsworthy-villa-rubein\", \"formatted_title\": \"Villa Rubein by John Galsworthy\", \"member_id\": \"hemingway-ernest\", \"period\": \"1924-03-28/1925-03-28\", \"subscription_start\": \"1924-03-28\", \"subscription_end\": \"1925-03-28\", \"metric\": \"Pearson Correlation Coefficient\", \"score\": 0.85543105636073, \"formatted_wrapped_title\": [\"Villa Rubein by John Galsworthy\"]}, {\"item_id\": \"snaith-van-roon\", \"formatted_title\": \"The Van Roon by J. C. Snaith\", \"member_id\": \"hemingway-ernest\", \"period\": \"1924-03-28/1925-03-28\", \"subscription_start\": \"1924-03-28\", \"subscription_end\": \"1925-03-28\", \"metric\": \"Pearson Correlation Coefficient\", \"score\": 0.85543105636073, \"formatted_wrapped_title\": [\"The Van Roon by J. C. Snaith\"]}, {\"item_id\": \"white-gold\", \"formatted_title\": \"Gold by Stewart Edward White\", \"member_id\": \"hemingway-ernest\", \"period\": \"1924-03-28/1925-03-28\", \"subscription_start\": \"1924-03-28\", \"subscription_end\": \"1925-03-28\", \"metric\": \"Pearson Correlation Coefficient\", \"score\": 0.85543105636073, \"formatted_wrapped_title\": [\"Gold by Stewart Edward White\"]}, {\"item_id\": \"byron-lord-byrons-correspondence\", \"formatted_title\": \"Lord Byron's Correspondence by George Gordon Byron Byron\", \"member_id\": \"hemingway-ernest\", \"period\": \"1924-03-28/1925-03-28\", \"subscription_start\": \"1924-03-28\", \"subscription_end\": \"1925-03-28\", \"metric\": \"Pearson Correlation Coefficient\", \"score\": 0.85543105636073, \"formatted_wrapped_title\": [\"Lord Byron's Correspondence by George Gordon Byron\", \"Byron\"]}, {\"item_id\": \"bell-since-cezanne\", \"formatted_title\": \"Since C\\u00e9zanne by Clive Bell\", \"member_id\": \"hemingway-ernest\", \"period\": \"1924-03-28/1925-03-28\", \"subscription_start\": \"1924-03-28\", \"subscription_end\": \"1925-03-28\", \"metric\": \"Pearson Correlation Coefficient\", \"score\": 0.85543105636073, \"formatted_wrapped_title\": [\"Since C\\u00e9zanne by Clive Bell\"]}, {\"item_id\": \"bell-since-cezanne\", \"formatted_title\": \"Since C\\u00e9zanne by Clive Bell\", \"member_id\": \"hemingway-ernest\", \"period\": \"1921-12-28/1922-11-08\", \"subscription_start\": \"1921-12-28\", \"subscription_end\": \"1922-11-08\", \"metric\": \"Pearson Correlation Coefficient\", \"score\": 0.85543105636073, \"formatted_wrapped_title\": [\"Since C\\u00e9zanne by Clive Bell\"]}, {\"item_id\": \"george-bed-roses\", \"formatted_title\": \"A Bed of Roses by Walter Lionel George\", \"member_id\": \"hemingway-ernest\", \"period\": \"1924-03-28/1925-03-28\", \"subscription_start\": \"1924-03-28\", \"subscription_end\": \"1925-03-28\", \"metric\": \"Pearson Correlation Coefficient\", \"score\": 0.85543105636073, \"formatted_wrapped_title\": [\"A Bed of Roses by Walter Lionel George\"]}, {\"item_id\": \"wright-life-walter-pater\", \"formatted_title\": \"The Life of Walter Pater by Thomas Wright\", \"member_id\": \"hemingway-ernest\", \"period\": \"1921-12-28/1922-11-08\", \"subscription_start\": \"1921-12-28\", \"subscription_end\": \"1922-11-08\", \"metric\": \"Pearson Correlation Coefficient\", \"score\": 0.85543105636073, \"formatted_wrapped_title\": [\"The Life of Walter Pater by Thomas Wright\"]}, {\"item_id\": \"wright-life-walter-pater\", \"formatted_title\": \"The Life of Walter Pater by Thomas Wright\", \"member_id\": \"hemingway-ernest\", \"period\": \"1924-03-28/1925-03-28\", \"subscription_start\": \"1924-03-28\", \"subscription_end\": \"1925-03-28\", \"metric\": \"Pearson Correlation Coefficient\", \"score\": 0.85543105636073, \"formatted_wrapped_title\": [\"The Life of Walter Pater by Thomas Wright\"]}, {\"item_id\": \"thoreau-essays-writings-henry\", \"formatted_title\": \"Essays and Other Writings of Henry Thoreau by Henry David Thoreau\", \"member_id\": \"hemingway-ernest\", \"period\": \"1924-03-28/1925-03-28\", \"subscription_start\": \"1924-03-28\", \"subscription_end\": \"1925-03-28\", \"metric\": \"Pearson Correlation Coefficient\", \"score\": 0.85543105636073, \"formatted_wrapped_title\": [\"Essays and Other Writings of Henry Thoreau by\", \"Henry David Thoreau\"]}, {\"item_id\": \"wharton-age-innocence\", \"formatted_title\": \"The Age of Innocence by Edith Wharton\", \"member_id\": \"hemingway-ernest\", \"period\": \"1924-03-28/1925-03-28\", \"subscription_start\": \"1924-03-28\", \"subscription_end\": \"1925-03-28\", \"metric\": \"Pearson Correlation Coefficient\", \"score\": 0.8545456630287529, \"formatted_wrapped_title\": [\"The Age of Innocence by Edith Wharton\"]}, {\"item_id\": \"wharton-age-innocence\", \"formatted_title\": \"The Age of Innocence by Edith Wharton\", \"member_id\": \"hemingway-ernest\", \"period\": \"1921-12-28/1922-11-08\", \"subscription_start\": \"1921-12-28\", \"subscription_end\": \"1922-11-08\", \"metric\": \"Pearson Correlation Coefficient\", \"score\": 0.8545456630287529, \"formatted_wrapped_title\": [\"The Age of Innocence by Edith Wharton\"]}, {\"item_id\": \"walpole-cathedral-novel\", \"formatted_title\": \"The Cathedral: A Novel by Hugh Walpole\", \"member_id\": \"hemingway-ernest\", \"period\": \"1924-03-28/1925-03-28\", \"subscription_start\": \"1924-03-28\", \"subscription_end\": \"1925-03-28\", \"metric\": \"Pearson Correlation Coefficient\", \"score\": 0.8541321507458547, \"formatted_wrapped_title\": [\"The Cathedral: A Novel by Hugh Walpole\"]}, {\"item_id\": \"dreiser-genius\", \"formatted_title\": \"The \\\"Genius\\\" by Theodore Dreiser\", \"member_id\": \"hemingway-ernest\", \"period\": \"1924-03-28/1925-03-28\", \"subscription_start\": \"1924-03-28\", \"subscription_end\": \"1925-03-28\", \"metric\": \"Pearson Correlation Coefficient\", \"score\": 0.853521516176935, \"formatted_wrapped_title\": [\"The \\\"Genius\\\" by Theodore Dreiser\"]}, {\"item_id\": \"maugham-chinese-screen\", \"formatted_title\": \"On a Chinese Screen by W. Somerset Maugham\", \"member_id\": \"hemingway-ernest\", \"period\": \"1924-03-28/1925-03-28\", \"subscription_start\": \"1924-03-28\", \"subscription_end\": \"1925-03-28\", \"metric\": \"Pearson Correlation Coefficient\", \"score\": 0.8529765106503948, \"formatted_wrapped_title\": [\"On a Chinese Screen by W. Somerset Maugham\"]}, {\"item_id\": \"frank-rahab\", \"formatted_title\": \"Rahab by Waldo Frank\", \"member_id\": \"hemingway-ernest\", \"period\": \"1921-12-28/1922-11-08\", \"subscription_start\": \"1921-12-28\", \"subscription_end\": \"1922-11-08\", \"metric\": \"Pearson Correlation Coefficient\", \"score\": 0.8516377866291452, \"formatted_wrapped_title\": [\"Rahab by Waldo Frank\"]}, {\"item_id\": \"frank-rahab\", \"formatted_title\": \"Rahab by Waldo Frank\", \"member_id\": \"hemingway-ernest\", \"period\": \"1924-03-28/1925-03-28\", \"subscription_start\": \"1924-03-28\", \"subscription_end\": \"1925-03-28\", \"metric\": \"Pearson Correlation Coefficient\", \"score\": 0.8516377866291452, \"formatted_wrapped_title\": [\"Rahab by Waldo Frank\"]}, {\"item_id\": \"sterne-works-sterne-life\", \"formatted_title\": \"The Works of Sterne: The Life and Opinions of Tristram Shandy, Gentleman & A Sentimental Journey through France and Italy by Laurence Sterne\", \"member_id\": \"hemingway-ernest\", \"period\": \"1924-03-28/1925-03-28\", \"subscription_start\": \"1924-03-28\", \"subscription_end\": \"1925-03-28\", \"metric\": \"Pearson Correlation Coefficient\", \"score\": 0.8506520463704224, \"formatted_wrapped_title\": [\"The Works of Sterne: The Life and Opinions of\", \"Tristram Shandy, Gentleman & A Sentimental Journey\", \"through France and Italy by Laurence Sterne\"]}, {\"item_id\": \"richardson-tunnel-pilgrimage-4\", \"formatted_title\": \"The Tunnel (Pilgrimage 4) by Dorothy M. Richardson\", \"member_id\": \"hemingway-ernest\", \"period\": \"1924-03-28/1925-03-28\", \"subscription_start\": \"1924-03-28\", \"subscription_end\": \"1925-03-28\", \"metric\": \"Pearson Correlation Coefficient\", \"score\": 0.8495867210598812, \"formatted_wrapped_title\": [\"The Tunnel (Pilgrimage 4) by Dorothy M. Richardson\"]}, {\"item_id\": \"chesterton-heretics\", \"formatted_title\": \"Heretics by G. K. Chesterton\", \"member_id\": \"hemingway-ernest\", \"period\": \"1921-12-28/1922-11-08\", \"subscription_start\": \"1921-12-28\", \"subscription_end\": \"1922-11-08\", \"metric\": \"Pearson Correlation Coefficient\", \"score\": 0.8485807248268861, \"formatted_wrapped_title\": [\"Heretics by G. K. Chesterton\"]}, {\"item_id\": \"chesterton-heretics\", \"formatted_title\": \"Heretics by G. K. Chesterton\", \"member_id\": \"hemingway-ernest\", \"period\": \"1924-03-28/1925-03-28\", \"subscription_start\": \"1924-03-28\", \"subscription_end\": \"1925-03-28\", \"metric\": \"Pearson Correlation Coefficient\", \"score\": 0.8485807248268861, \"formatted_wrapped_title\": [\"Heretics by G. K. Chesterton\"]}, {\"item_id\": \"williams-kora-hell-improvisations\", \"formatted_title\": \"Kora in Hell: Improvisations by William Carlos Williams\", \"member_id\": \"hemingway-ernest\", \"period\": \"1924-03-28/1925-03-28\", \"subscription_start\": \"1924-03-28\", \"subscription_end\": \"1925-03-28\", \"metric\": \"Pearson Correlation Coefficient\", \"score\": 0.8474870925581053, \"formatted_wrapped_title\": [\"Kora in Hell: Improvisations by William Carlos\", \"Williams\"]}, {\"item_id\": \"ford-good-soldier\", \"formatted_title\": \"The Good Soldier by Ford Madox Ford\", \"member_id\": \"hemingway-ernest\", \"period\": \"1924-03-28/1925-03-28\", \"subscription_start\": \"1924-03-28\", \"subscription_end\": \"1925-03-28\", \"metric\": \"Pearson Correlation Coefficient\", \"score\": 0.8469446217475176, \"formatted_wrapped_title\": [\"The Good Soldier by Ford Madox Ford\"]}, {\"item_id\": \"doughty-travels-arabia-deserta\", \"formatted_title\": \"Travels in Arabia Deserta by Charles Montagu Doughty\", \"member_id\": \"hemingway-ernest\", \"period\": \"1924-03-28/1925-03-28\", \"subscription_start\": \"1924-03-28\", \"subscription_end\": \"1925-03-28\", \"metric\": \"Pearson Correlation Coefficient\", \"score\": 0.8464600333752685, \"formatted_wrapped_title\": [\"Travels in Arabia Deserta by Charles Montagu\", \"Doughty\"]}, {\"item_id\": \"moore-memoirs-dead-life\", \"formatted_title\": \"Memoirs of My Dead Life by George Moore\", \"member_id\": \"hemingway-ernest\", \"period\": \"1924-03-28/1925-03-28\", \"subscription_start\": \"1924-03-28\", \"subscription_end\": \"1925-03-28\", \"metric\": \"Pearson Correlation Coefficient\", \"score\": 0.8457079541163445, \"formatted_wrapped_title\": [\"Memoirs of My Dead Life by George Moore\"]}, {\"item_id\": \"merezhkovsky-forerunner-romance-leonardo\", \"formatted_title\": \"The Romance of Leonardo da Vinci: The Forerunner by Dmitry Merezhkovsky\", \"member_id\": \"hemingway-ernest\", \"period\": \"1924-03-28/1925-03-28\", \"subscription_start\": \"1924-03-28\", \"subscription_end\": \"1925-03-28\", \"metric\": \"Pearson Correlation Coefficient\", \"score\": 0.8448981502411741, \"formatted_wrapped_title\": [\"The Romance of Leonardo da Vinci: The Forerunner\", \"by Dmitry Merezhkovsky\"]}, {\"item_id\": \"moore-muslin\", \"formatted_title\": \"Muslin by George Moore\", \"member_id\": \"hemingway-ernest\", \"period\": \"1921-12-28/1922-11-08\", \"subscription_start\": \"1921-12-28\", \"subscription_end\": \"1922-11-08\", \"metric\": \"Pearson Correlation Coefficient\", \"score\": 0.8446497529419728, \"formatted_wrapped_title\": [\"Muslin by George Moore\"]}, {\"item_id\": \"moore-muslin\", \"formatted_title\": \"Muslin by George Moore\", \"member_id\": \"hemingway-ernest\", \"period\": \"1924-03-28/1925-03-28\", \"subscription_start\": \"1924-03-28\", \"subscription_end\": \"1925-03-28\", \"metric\": \"Pearson Correlation Coefficient\", \"score\": 0.8446497529419728, \"formatted_wrapped_title\": [\"Muslin by George Moore\"]}, {\"item_id\": \"foster-coquette-history-eliza\", \"formatted_title\": \"The Coquette; Or, the History of Eliza Wharton by Hannah Webster Foster\", \"member_id\": \"hemingway-ernest\", \"period\": \"1924-03-28/1925-03-28\", \"subscription_start\": \"1924-03-28\", \"subscription_end\": \"1925-03-28\", \"metric\": \"Pearson Correlation Coefficient\", \"score\": 0.8446497529419728, \"formatted_wrapped_title\": [\"The Coquette; Or, the History of Eliza Wharton by\", \"Hannah Webster Foster\"]}, {\"item_id\": \"foster-coquette-history-eliza\", \"formatted_title\": \"The Coquette; Or, the History of Eliza Wharton by Hannah Webster Foster\", \"member_id\": \"hemingway-ernest\", \"period\": \"1921-12-28/1922-11-08\", \"subscription_start\": \"1921-12-28\", \"subscription_end\": \"1922-11-08\", \"metric\": \"Pearson Correlation Coefficient\", \"score\": 0.8446497529419728, \"formatted_wrapped_title\": [\"The Coquette; Or, the History of Eliza Wharton by\", \"Hannah Webster Foster\"]}, {\"item_id\": \"sitwell-triple-fugue\", \"formatted_title\": \"Triple Fugue by Osbert Sitwell\", \"member_id\": \"hemingway-ernest\", \"period\": \"1924-03-28/1925-03-28\", \"subscription_start\": \"1924-03-28\", \"subscription_end\": \"1925-03-28\", \"metric\": \"Pearson Correlation Coefficient\", \"score\": 0.8442984646675079, \"formatted_wrapped_title\": [\"Triple Fugue by Osbert Sitwell\"]}, {\"item_id\": \"anderson-many-marriages\", \"formatted_title\": \"Many Marriages by Sherwood Anderson\", \"member_id\": \"hemingway-ernest\", \"period\": \"1924-03-28/1925-03-28\", \"subscription_start\": \"1924-03-28\", \"subscription_end\": \"1925-03-28\", \"metric\": \"Pearson Correlation Coefficient\", \"score\": 0.8439138488254528, \"formatted_wrapped_title\": [\"Many Marriages by Sherwood Anderson\"]}, {\"item_id\": \"forster-longest-journey\", \"formatted_title\": \"The Longest Journey by E. M. Forster\", \"member_id\": \"hemingway-ernest\", \"period\": \"1924-03-28/1925-03-28\", \"subscription_start\": \"1924-03-28\", \"subscription_end\": \"1925-03-28\", \"metric\": \"Pearson Correlation Coefficient\", \"score\": 0.8437025531529228, \"formatted_wrapped_title\": [\"The Longest Journey by E. M. Forster\"]}, {\"item_id\": \"walpole-duchess-wrexe-decline\", \"formatted_title\": \"The Duchess of Wrexe, Her Decline and Death: A Romantic Commentary by Hugh Walpole\", \"member_id\": \"hemingway-ernest\", \"period\": \"1924-03-28/1925-03-28\", \"subscription_start\": \"1924-03-28\", \"subscription_end\": \"1925-03-28\", \"metric\": \"Pearson Correlation Coefficient\", \"score\": 0.8434380108630428, \"formatted_wrapped_title\": [\"The Duchess of Wrexe, Her Decline and Death: A\", \"Romantic Commentary by Hugh Walpole\"]}, {\"item_id\": \"hardy-collected-poems-thomas\", \"formatted_title\": \"Collected Poems of Thomas Hardy by Thomas Hardy\", \"member_id\": \"hemingway-ernest\", \"period\": \"1921-12-28/1922-11-08\", \"subscription_start\": \"1921-12-28\", \"subscription_end\": \"1922-11-08\", \"metric\": \"Pearson Correlation Coefficient\", \"score\": 0.843265560661181, \"formatted_wrapped_title\": [\"Collected Poems of Thomas Hardy by Thomas Hardy\"]}, {\"item_id\": \"hardy-collected-poems-thomas\", \"formatted_title\": \"Collected Poems of Thomas Hardy by Thomas Hardy\", \"member_id\": \"hemingway-ernest\", \"period\": \"1924-03-28/1925-03-28\", \"subscription_start\": \"1924-03-28\", \"subscription_end\": \"1925-03-28\", \"metric\": \"Pearson Correlation Coefficient\", \"score\": 0.843265560661181, \"formatted_wrapped_title\": [\"Collected Poems of Thomas Hardy by Thomas Hardy\"]}, {\"item_id\": \"trollope-bertrams\", \"formatted_title\": \"The Bertrams by Anthony Trollope\", \"member_id\": \"hemingway-ernest\", \"period\": \"1924-03-28/1925-03-28\", \"subscription_start\": \"1924-03-28\", \"subscription_end\": \"1925-03-28\", \"metric\": \"Pearson Correlation Coefficient\", \"score\": 0.8430919417233137, \"formatted_wrapped_title\": [\"The Bertrams by Anthony Trollope\"]}, {\"item_id\": \"jackson-eighteen-nineties\", \"formatted_title\": \"The Eighteen Nineties by George Holbrook Jackson\", \"member_id\": \"hemingway-ernest\", \"period\": \"1924-03-28/1925-03-28\", \"subscription_start\": \"1924-03-28\", \"subscription_end\": \"1925-03-28\", \"metric\": \"Pearson Correlation Coefficient\", \"score\": 0.8424441038363305, \"formatted_wrapped_title\": [\"The Eighteen Nineties by George Holbrook Jackson\"]}, {\"item_id\": \"swinnerton-three-lovers\", \"formatted_title\": \"The Three Lovers by Frank Swinnerton\", \"member_id\": \"hemingway-ernest\", \"period\": \"1924-03-28/1925-03-28\", \"subscription_start\": \"1924-03-28\", \"subscription_end\": \"1925-03-28\", \"metric\": \"Pearson Correlation Coefficient\", \"score\": 0.8419110040301384, \"formatted_wrapped_title\": [\"The Three Lovers by Frank Swinnerton\"]}, {\"item_id\": \"forster-howards-end\", \"formatted_title\": \"Howards End by E. M. Forster\", \"member_id\": \"hemingway-ernest\", \"period\": \"1924-03-28/1925-03-28\", \"subscription_start\": \"1924-03-28\", \"subscription_end\": \"1925-03-28\", \"metric\": \"Pearson Correlation Coefficient\", \"score\": 0.8417959927319973, \"formatted_wrapped_title\": [\"Howards End by E. M. Forster\"]}, {\"item_id\": \"stevenson-letters-robert-louis\", \"formatted_title\": \"The Letters of Robert Louis Stevenson by Robert Louis Stevenson\", \"member_id\": \"hemingway-ernest\", \"period\": \"1924-03-28/1925-03-28\", \"subscription_start\": \"1924-03-28\", \"subscription_end\": \"1925-03-28\", \"metric\": \"Pearson Correlation Coefficient\", \"score\": 0.841715645186224, \"formatted_wrapped_title\": [\"The Letters of Robert Louis Stevenson by Robert\", \"Louis Stevenson\"]}, {\"item_id\": \"dreiser-sister-carrie\", \"formatted_title\": \"Sister Carrie by Theodore Dreiser\", \"member_id\": \"hemingway-ernest\", \"period\": \"1921-12-28/1922-11-08\", \"subscription_start\": \"1921-12-28\", \"subscription_end\": \"1922-11-08\", \"metric\": \"Pearson Correlation Coefficient\", \"score\": 0.8412121673176405, \"formatted_wrapped_title\": [\"Sister Carrie by Theodore Dreiser\"]}, {\"item_id\": \"dreiser-sister-carrie\", \"formatted_title\": \"Sister Carrie by Theodore Dreiser\", \"member_id\": \"hemingway-ernest\", \"period\": \"1924-03-28/1925-03-28\", \"subscription_start\": \"1924-03-28\", \"subscription_end\": \"1925-03-28\", \"metric\": \"Pearson Correlation Coefficient\", \"score\": 0.8412121673176405, \"formatted_wrapped_title\": [\"Sister Carrie by Theodore Dreiser\"]}, {\"item_id\": \"moore-sister-teresa\", \"formatted_title\": \"Sister Teresa by George Moore\", \"member_id\": \"hemingway-ernest\", \"period\": \"1924-03-28/1925-03-28\", \"subscription_start\": \"1924-03-28\", \"subscription_end\": \"1925-03-28\", \"metric\": \"Pearson Correlation Coefficient\", \"score\": 0.8411428591419287, \"formatted_wrapped_title\": [\"Sister Teresa by George Moore\"]}, {\"item_id\": \"du-bois-darkwater\", \"formatted_title\": \"Darkwater: Voices from within the Veil by W. E. B. Du Bois\", \"member_id\": \"hemingway-ernest\", \"period\": \"1924-03-28/1925-03-28\", \"subscription_start\": \"1924-03-28\", \"subscription_end\": \"1925-03-28\", \"metric\": \"Pearson Correlation Coefficient\", \"score\": 0.8409312157131016, \"formatted_wrapped_title\": [\"Darkwater: Voices from within the Veil by W. E. B.\", \"Du Bois\"]}, {\"item_id\": \"du-bois-darkwater\", \"formatted_title\": \"Darkwater: Voices from within the Veil by W. E. B. Du Bois\", \"member_id\": \"hemingway-ernest\", \"period\": \"1921-12-28/1922-11-08\", \"subscription_start\": \"1921-12-28\", \"subscription_end\": \"1922-11-08\", \"metric\": \"Pearson Correlation Coefficient\", \"score\": 0.8409312157131016, \"formatted_wrapped_title\": [\"Darkwater: Voices from within the Veil by W. E. B.\", \"Du Bois\"]}, {\"item_id\": \"mackenzie-rich-relatives\", \"formatted_title\": \"Rich Relatives by Compton Mackenzie\", \"member_id\": \"hemingway-ernest\", \"period\": \"1924-03-28/1925-03-28\", \"subscription_start\": \"1924-03-28\", \"subscription_end\": \"1925-03-28\", \"metric\": \"Pearson Correlation Coefficient\", \"score\": 0.8406993310994789, \"formatted_wrapped_title\": [\"Rich Relatives by Compton Mackenzie\"]}, {\"item_id\": \"mackenzie-rich-relatives\", \"formatted_title\": \"Rich Relatives by Compton Mackenzie\", \"member_id\": \"hemingway-ernest\", \"period\": \"1921-12-28/1922-11-08\", \"subscription_start\": \"1921-12-28\", \"subscription_end\": \"1922-11-08\", \"metric\": \"Pearson Correlation Coefficient\", \"score\": 0.8406993310994789, \"formatted_wrapped_title\": [\"Rich Relatives by Compton Mackenzie\"]}, {\"item_id\": \"fitzgerald-side-paradise\", \"formatted_title\": \"This Side of Paradise by F. Scott Fitzgerald\", \"member_id\": \"hemingway-ernest\", \"period\": \"1921-12-28/1922-11-08\", \"subscription_start\": \"1921-12-28\", \"subscription_end\": \"1922-11-08\", \"metric\": \"Pearson Correlation Coefficient\", \"score\": 0.8406992647822902, \"formatted_wrapped_title\": [\"This Side of Paradise by F. Scott Fitzgerald\"]}, {\"item_id\": \"fitzgerald-side-paradise\", \"formatted_title\": \"This Side of Paradise by F. Scott Fitzgerald\", \"member_id\": \"hemingway-ernest\", \"period\": \"1924-03-28/1925-03-28\", \"subscription_start\": \"1924-03-28\", \"subscription_end\": \"1925-03-28\", \"metric\": \"Pearson Correlation Coefficient\", \"score\": 0.8406992647822902, \"formatted_wrapped_title\": [\"This Side of Paradise by F. Scott Fitzgerald\"]}, {\"item_id\": \"brooks-ordeal-mark-twain\", \"formatted_title\": \"The Ordeal of Mark Twain by Van Wyck Brooks\", \"member_id\": \"hemingway-ernest\", \"period\": \"1924-03-28/1925-03-28\", \"subscription_start\": \"1924-03-28\", \"subscription_end\": \"1925-03-28\", \"metric\": \"Pearson Correlation Coefficient\", \"score\": 0.8404179944611785, \"formatted_wrapped_title\": [\"The Ordeal of Mark Twain by Van Wyck Brooks\"]}, {\"item_id\": \"blake-blakes-works\", \"formatted_title\": \"Willam Blake's Works by William Blake\", \"member_id\": \"hemingway-ernest\", \"period\": \"1921-12-28/1922-11-08\", \"subscription_start\": \"1921-12-28\", \"subscription_end\": \"1922-11-08\", \"metric\": \"Pearson Correlation Coefficient\", \"score\": 0.8403870653639871, \"formatted_wrapped_title\": [\"Willam Blake's Works by William Blake\"]}, {\"item_id\": \"blake-blakes-works\", \"formatted_title\": \"Willam Blake's Works by William Blake\", \"member_id\": \"hemingway-ernest\", \"period\": \"1924-03-28/1925-03-28\", \"subscription_start\": \"1924-03-28\", \"subscription_end\": \"1925-03-28\", \"metric\": \"Pearson Correlation Coefficient\", \"score\": 0.8403870653639871, \"formatted_wrapped_title\": [\"Willam Blake's Works by William Blake\"]}]}}, {\"mode\": \"vega-lite\"});\n",
       "</script>"
      ],
      "text/plain": [
       "alt.Chart(...)"
      ]
     },
     "execution_count": 13,
     "metadata": {},
     "output_type": "execute_result"
    }
   ],
   "source": [
    "# Create a selection for the scatter plot\n",
    "selection = alt.selection_point(fields=['period'], bind='legend')\n",
    "\n",
    "# Create a search input selection\n",
    "search_box = alt.param(\n",
    "    value='',\n",
    "    bind=alt.binding(\n",
    "        input='search',\n",
    "        placeholder=\"Search title\",\n",
    "        name='Search ',\n",
    "    )\n",
    ")\n",
    "\n",
    "alt.Chart(collaborative_filtering_model[0:100]).mark_point(opacity=0.8, filled=True, thickness=3).encode(\n",
    "    # The y-axis is the formatted chart title, sorted by the x-axis values\n",
    "    y=alt.Y('formatted_title', sort='-x', axis=alt.Axis(title='', labelFontSize=9)),\n",
    "    # The x-axis is the score\n",
    "    x='score',\n",
    "    # The color represents the subscription period\n",
    "    color=alt.Color('period:N', legend=alt.Legend(title=[\"Subscription Period\"])),\n",
    "    opacity=alt.condition(selection, alt.value(1), alt.value(0.2)),\n",
    "    # The shape represents the method for collaborative filtering\n",
    "    shape=alt.Shape('metric:N', legend=alt.Legend(title='Method for Collaborative Filtering')),\n",
    ").add_params(\n",
    "    search_box, selection\n",
    ").transform_filter(\n",
    "    alt.expr.test(alt.expr.regexp(search_box, 'i'), alt.datum.formatted_chart_title)\n",
    "    ).properties(\n",
    "    # Set the width and height of the plot\n",
    "    width=300,\n",
    "    # height=1800,\n",
    "    # Set the title of the plot\n",
    "    title='Top Predictions by Collaborative Filtering Memory-Based Methods'\n",
    ")"
   ]
  },
  {
   "cell_type": "markdown",
   "metadata": {},
   "source": [
    "## Popular Titles"
   ]
  },
  {
   "cell_type": "code",
   "execution_count": 14,
   "metadata": {},
   "outputs": [
    {
     "name": "stderr",
     "output_type": "stream",
     "text": [
      "Numba is using threading layer workqueue - consider TBB\n",
      "found 1 potential runtime problems - see https://boi.st/lkpy-perf\n"
     ]
    },
    {
     "data": {
      "text/plain": [
       "<lenskit.algorithms.basic.Popular at 0x16db19130>"
      ]
     },
     "execution_count": 14,
     "metadata": {},
     "output_type": "execute_result"
    }
   ],
   "source": [
    "# define a recommender using the algorithm that worked best in eval script\n",
    "rec = Recommender.adapt(als.ImplicitMF(50, use_ratings=False))\n",
    "# fit to all of our data\n",
    "rec.fit(ratings)\n",
    "\n",
    "# define a popularity recommender for comparison\n",
    "popular = Recommender.adapt(basic.Popular())\n",
    "popular.fit(ratings)"
   ]
  },
  {
   "cell_type": "code",
   "execution_count": 15,
   "metadata": {},
   "outputs": [
    {
     "data": {
      "text/html": [
       "<div>\n",
       "<style scoped>\n",
       "    .dataframe tbody tr th:only-of-type {\n",
       "        vertical-align: middle;\n",
       "    }\n",
       "\n",
       "    .dataframe tbody tr th {\n",
       "        vertical-align: top;\n",
       "    }\n",
       "\n",
       "    .dataframe thead th {\n",
       "        text-align: right;\n",
       "    }\n",
       "</style>\n",
       "<table border=\"1\" class=\"dataframe\">\n",
       "  <thead>\n",
       "    <tr style=\"text-align: right;\">\n",
       "      <th></th>\n",
       "      <th>member_id</th>\n",
       "      <th>subscription_start</th>\n",
       "      <th>subscription_end</th>\n",
       "      <th>subscription_start_dt</th>\n",
       "      <th>subscription_end_dt</th>\n",
       "    </tr>\n",
       "  </thead>\n",
       "  <tbody>\n",
       "    <tr>\n",
       "      <th>0</th>\n",
       "      <td>hemingway-ernest</td>\n",
       "      <td>1921-12-28</td>\n",
       "      <td>1922-11-08</td>\n",
       "      <td>1921-12-28</td>\n",
       "      <td>1922-11-08</td>\n",
       "    </tr>\n",
       "    <tr>\n",
       "      <th>59500</th>\n",
       "      <td>hemingway-ernest</td>\n",
       "      <td>1924-03-28</td>\n",
       "      <td>1925-03-28</td>\n",
       "      <td>1924-03-28</td>\n",
       "      <td>1925-03-28</td>\n",
       "    </tr>\n",
       "  </tbody>\n",
       "</table>\n",
       "</div>"
      ],
      "text/plain": [
       "              member_id subscription_start subscription_end  \\\n",
       "0      hemingway-ernest         1921-12-28       1922-11-08   \n",
       "59500  hemingway-ernest         1924-03-28       1925-03-28   \n",
       "\n",
       "      subscription_start_dt subscription_end_dt  \n",
       "0                1921-12-28          1922-11-08  \n",
       "59500            1924-03-28          1925-03-28  "
      ]
     },
     "execution_count": 15,
     "metadata": {},
     "output_type": "execute_result"
    }
   ],
   "source": [
    "popular_periods = lenskit_model[['member_id', 'subscription_start', 'subscription_end']].drop_duplicates()\n",
    "popular_periods['subscription_start_dt'] = pd.to_datetime(popular_periods['subscription_start'], errors='coerce')\n",
    "popular_periods['subscription_end_dt'] = pd.to_datetime(popular_periods['subscription_end'], errors='coerce')\n",
    "popular_periods"
   ]
  },
  {
   "cell_type": "code",
   "execution_count": 16,
   "metadata": {},
   "outputs": [],
   "source": [
    "from dateutil.relativedelta import relativedelta\n",
    "\n",
    "sixmonths = relativedelta(months=6)\n",
    "\n",
    "last_member = None\n",
    "\n",
    "popularity_results = []\n",
    "\n",
    "for _, row in popular_periods.iterrows():\n",
    "\n",
    "\tcirculation_start = row.subscription_start_dt - sixmonths\n",
    "\tuser_id = row.member_id\n",
    "\n",
    "\tcirculating_book_events = dated_events_df[dated_events_df.start_date_dt.between(circulation_start, row.subscription_end_dt) | dated_events_df.end_date_dt.between(circulation_start, row.subscription_end_dt)]\n",
    "\n",
    "\t# get a *unique* list of item ids\n",
    "\titem_ids = circulating_book_events.item_id.unique()\n",
    "\tpop_predictions = popular.recommend(user_id, n=len(item_ids), candidates=item_ids)\n",
    "\n",
    "\tpop_predictions['type'] = 'popular (all time)'\n",
    "\tpop_predictions['subscription_period'] = row.subscription_start + '/' + row.subscription_end\n",
    "\tpop_predictions = pop_predictions.rename(columns={'item': 'item_id'})\n",
    "\t\n",
    "\tpopular_current = circulating_book_events.groupby(['item_id'])['item_id'].count().reset_index(name='score').sort_values(['score'], ascending=False)\n",
    "\tpopular_current['type'] = 'popular (current)'\n",
    "\tpopular_current['subscription_period'] = row.subscription_start + '/' + row.subscription_end\n",
    "\n",
    "\tcombined = pd.concat([pop_predictions, popular_current])\n",
    "\tpopularity_results.append(combined)\n",
    "\n"
   ]
  },
  {
   "cell_type": "code",
   "execution_count": 17,
   "metadata": {},
   "outputs": [
    {
     "data": {
      "text/html": [
       "<div>\n",
       "<style scoped>\n",
       "    .dataframe tbody tr th:only-of-type {\n",
       "        vertical-align: middle;\n",
       "    }\n",
       "\n",
       "    .dataframe tbody tr th {\n",
       "        vertical-align: top;\n",
       "    }\n",
       "\n",
       "    .dataframe thead th {\n",
       "        text-align: right;\n",
       "    }\n",
       "</style>\n",
       "<table border=\"1\" class=\"dataframe\">\n",
       "  <thead>\n",
       "    <tr style=\"text-align: right;\">\n",
       "      <th></th>\n",
       "      <th>item_id</th>\n",
       "      <th>score</th>\n",
       "      <th>type</th>\n",
       "      <th>subscription_period</th>\n",
       "    </tr>\n",
       "  </thead>\n",
       "  <tbody>\n",
       "    <tr>\n",
       "      <th>0</th>\n",
       "      <td>joyce-portrait-artist-young</td>\n",
       "      <td>50.0</td>\n",
       "      <td>popular (all time)</td>\n",
       "      <td>1921-12-28/1922-11-08</td>\n",
       "    </tr>\n",
       "    <tr>\n",
       "      <th>1</th>\n",
       "      <td>joyce-dubliners</td>\n",
       "      <td>45.0</td>\n",
       "      <td>popular (all time)</td>\n",
       "      <td>1921-12-28/1922-11-08</td>\n",
       "    </tr>\n",
       "    <tr>\n",
       "      <th>2</th>\n",
       "      <td>richardson-pointed-roofs</td>\n",
       "      <td>40.0</td>\n",
       "      <td>popular (all time)</td>\n",
       "      <td>1921-12-28/1922-11-08</td>\n",
       "    </tr>\n",
       "    <tr>\n",
       "      <th>3</th>\n",
       "      <td>mansfield-garden-party-stories</td>\n",
       "      <td>34.0</td>\n",
       "      <td>popular (all time)</td>\n",
       "      <td>1921-12-28/1922-11-08</td>\n",
       "    </tr>\n",
       "    <tr>\n",
       "      <th>4</th>\n",
       "      <td>mansfield-bliss-short-stories</td>\n",
       "      <td>31.0</td>\n",
       "      <td>popular (all time)</td>\n",
       "      <td>1921-12-28/1922-11-08</td>\n",
       "    </tr>\n",
       "  </tbody>\n",
       "</table>\n",
       "</div>"
      ],
      "text/plain": [
       "                          item_id  score                type  \\\n",
       "0     joyce-portrait-artist-young   50.0  popular (all time)   \n",
       "1                 joyce-dubliners   45.0  popular (all time)   \n",
       "2        richardson-pointed-roofs   40.0  popular (all time)   \n",
       "3  mansfield-garden-party-stories   34.0  popular (all time)   \n",
       "4   mansfield-bliss-short-stories   31.0  popular (all time)   \n",
       "\n",
       "     subscription_period  \n",
       "0  1921-12-28/1922-11-08  \n",
       "1  1921-12-28/1922-11-08  \n",
       "2  1921-12-28/1922-11-08  \n",
       "3  1921-12-28/1922-11-08  \n",
       "4  1921-12-28/1922-11-08  "
      ]
     },
     "execution_count": 17,
     "metadata": {},
     "output_type": "execute_result"
    }
   ],
   "source": [
    "popularity_results_df = pd.concat(popularity_results)\n",
    "popularity_results_df.head()"
   ]
  }
 ],
 "metadata": {
  "colab": {
   "collapsed_sections": [],
   "name": "lenskit_model_scores_stability.ipynb",
   "provenance": []
  },
  "kernelspec": {
   "display_name": "Python 3 (ipykernel)",
   "language": "python",
   "name": "python3"
  },
  "language_info": {
   "codemirror_mode": {
    "name": "ipython",
    "version": 3
   },
   "file_extension": ".py",
   "mimetype": "text/x-python",
   "name": "python",
   "nbconvert_exporter": "python",
   "pygments_lexer": "ipython3",
   "version": "3.9.18"
  },
  "toc": {
   "base_numbering": 1,
   "nav_menu": {},
   "number_sections": true,
   "sideBar": true,
   "skip_h1_title": false,
   "title_cell": "Table of Contents",
   "title_sidebar": "Contents",
   "toc_cell": false,
   "toc_position": {},
   "toc_section_display": true,
   "toc_window_display": false
  }
 },
 "nbformat": 4,
 "nbformat_minor": 1
}
