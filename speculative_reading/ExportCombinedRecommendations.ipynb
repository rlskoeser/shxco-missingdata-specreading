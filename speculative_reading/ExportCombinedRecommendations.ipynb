{
 "cells": [
  {
   "cell_type": "markdown",
   "metadata": {
    "id": "I1x1AE35cOtj"
   },
   "source": [
    "# Export Combined Recommendations for Interactive Chart"
   ]
  },
  {
   "cell_type": "markdown",
   "metadata": {
    "id": "EjZT_ntacTdr"
   },
   "source": [
    "## Load libraries and data"
   ]
  },
  {
   "cell_type": "code",
   "execution_count": 23,
   "metadata": {
    "id": "Xo656ZZAGfei"
   },
   "outputs": [],
   "source": [
    "import sys\n",
    "\n",
    "import pandas as pd\n",
    "\n",
    "# Local application/library specific imports\n",
    "sys.path.append(\"..\")\n",
    "from utils.missing_data_processing import get_preprocessed_data  # For loading missing data"
   ]
  },
  {
   "cell_type": "code",
   "execution_count": 24,
   "metadata": {},
   "outputs": [],
   "source": [
    "# Load the book dataset with basic preprocessing\n",
    "data = get_preprocessed_data(\"books\")\n",
    "books_df = data[\"books\"]"
   ]
  },
  {
   "cell_type": "markdown",
   "metadata": {
    "id": "DwEwSsFdjD7r"
   },
   "source": [
    "## Load Top Recommendations\n",
    "\n",
    "Load previously generated top recommendations for both methods."
   ]
  },
  {
   "cell_type": "code",
   "execution_count": 59,
   "metadata": {
    "id": "_Z3-aAZHdr4p"
   },
   "outputs": [],
   "source": [
    "\n",
    "top_results_lenskit = pd.read_csv('./data/top_scores_lenskit_model100.csv')\n",
    "# drop unneeded columns so export will be as minimal as possible\n",
    "top_results_lenskit.drop(columns=['member_id', 'subscription_start', 'subscription_end', 'model_loops', 'member_period', 'formatted_title'], inplace=True)\n",
    "top_results_lenskit['period'] = top_results_lenskit.period.str.strip()\n",
    "\n",
    "top_scores_memorycf = pd.read_csv('./data/memorycf_top_results.csv')\n",
    "top_scores_memorycf.drop(columns=['formatted_chart_title', 'formatted_table_title', 'subscription_start', 'subscription_end'], inplace=True)\n",
    "top_scores_memorycf.rename(columns={'item_uri': 'item_id'}, inplace=True)"
   ]
  },
  {
   "cell_type": "code",
   "execution_count": 13,
   "metadata": {},
   "outputs": [
    {
     "data": {
      "text/html": [
       "<div>\n",
       "<style scoped>\n",
       "    .dataframe tbody tr th:only-of-type {\n",
       "        vertical-align: middle;\n",
       "    }\n",
       "\n",
       "    .dataframe tbody tr th {\n",
       "        vertical-align: top;\n",
       "    }\n",
       "\n",
       "    .dataframe thead th {\n",
       "        text-align: right;\n",
       "    }\n",
       "</style>\n",
       "<table border=\"1\" class=\"dataframe\">\n",
       "  <thead>\n",
       "    <tr style=\"text-align: right;\">\n",
       "      <th></th>\n",
       "      <th>item_id</th>\n",
       "      <th>median</th>\n",
       "      <th>skew</th>\n",
       "      <th>std</th>\n",
       "      <th>var</th>\n",
       "      <th>kurtosis</th>\n",
       "      <th>score</th>\n",
       "      <th>model_run</th>\n",
       "      <th>period</th>\n",
       "    </tr>\n",
       "  </thead>\n",
       "  <tbody>\n",
       "    <tr>\n",
       "      <th>0</th>\n",
       "      <td>burney-evelina-history-young</td>\n",
       "      <td>0.320107</td>\n",
       "      <td>-0.048081</td>\n",
       "      <td>0.18916</td>\n",
       "      <td>0.035781</td>\n",
       "      <td>0.023806</td>\n",
       "      <td>0.809843</td>\n",
       "      <td>0</td>\n",
       "      <td>1921-12-28/1922-11-08</td>\n",
       "    </tr>\n",
       "    <tr>\n",
       "      <th>1</th>\n",
       "      <td>burney-evelina-history-young</td>\n",
       "      <td>0.320107</td>\n",
       "      <td>-0.048081</td>\n",
       "      <td>0.18916</td>\n",
       "      <td>0.035781</td>\n",
       "      <td>0.023806</td>\n",
       "      <td>0.148679</td>\n",
       "      <td>1</td>\n",
       "      <td>1921-12-28/1922-11-08</td>\n",
       "    </tr>\n",
       "    <tr>\n",
       "      <th>2</th>\n",
       "      <td>burney-evelina-history-young</td>\n",
       "      <td>0.320107</td>\n",
       "      <td>-0.048081</td>\n",
       "      <td>0.18916</td>\n",
       "      <td>0.035781</td>\n",
       "      <td>0.023806</td>\n",
       "      <td>0.606950</td>\n",
       "      <td>2</td>\n",
       "      <td>1921-12-28/1922-11-08</td>\n",
       "    </tr>\n",
       "    <tr>\n",
       "      <th>3</th>\n",
       "      <td>burney-evelina-history-young</td>\n",
       "      <td>0.320107</td>\n",
       "      <td>-0.048081</td>\n",
       "      <td>0.18916</td>\n",
       "      <td>0.035781</td>\n",
       "      <td>0.023806</td>\n",
       "      <td>0.219080</td>\n",
       "      <td>3</td>\n",
       "      <td>1921-12-28/1922-11-08</td>\n",
       "    </tr>\n",
       "    <tr>\n",
       "      <th>4</th>\n",
       "      <td>burney-evelina-history-young</td>\n",
       "      <td>0.320107</td>\n",
       "      <td>-0.048081</td>\n",
       "      <td>0.18916</td>\n",
       "      <td>0.035781</td>\n",
       "      <td>0.023806</td>\n",
       "      <td>0.172441</td>\n",
       "      <td>4</td>\n",
       "      <td>1921-12-28/1922-11-08</td>\n",
       "    </tr>\n",
       "  </tbody>\n",
       "</table>\n",
       "</div>"
      ],
      "text/plain": [
       "                        item_id    median      skew      std       var  \\\n",
       "0  burney-evelina-history-young  0.320107 -0.048081  0.18916  0.035781   \n",
       "1  burney-evelina-history-young  0.320107 -0.048081  0.18916  0.035781   \n",
       "2  burney-evelina-history-young  0.320107 -0.048081  0.18916  0.035781   \n",
       "3  burney-evelina-history-young  0.320107 -0.048081  0.18916  0.035781   \n",
       "4  burney-evelina-history-young  0.320107 -0.048081  0.18916  0.035781   \n",
       "\n",
       "   kurtosis     score  model_run                  period  \n",
       "0  0.023806  0.809843          0   1921-12-28/1922-11-08  \n",
       "1  0.023806  0.148679          1   1921-12-28/1922-11-08  \n",
       "2  0.023806  0.606950          2   1921-12-28/1922-11-08  \n",
       "3  0.023806  0.219080          3   1921-12-28/1922-11-08  \n",
       "4  0.023806  0.172441          4   1921-12-28/1922-11-08  "
      ]
     },
     "execution_count": 13,
     "metadata": {},
     "output_type": "execute_result"
    }
   ],
   "source": [
    "top_results_lenskit.head()"
   ]
  },
  {
   "cell_type": "code",
   "execution_count": 30,
   "metadata": {},
   "outputs": [
    {
     "data": {
      "text/html": [
       "<div>\n",
       "<style scoped>\n",
       "    .dataframe tbody tr th:only-of-type {\n",
       "        vertical-align: middle;\n",
       "    }\n",
       "\n",
       "    .dataframe tbody tr th {\n",
       "        vertical-align: top;\n",
       "    }\n",
       "\n",
       "    .dataframe thead th {\n",
       "        text-align: right;\n",
       "    }\n",
       "</style>\n",
       "<table border=\"1\" class=\"dataframe\">\n",
       "  <thead>\n",
       "    <tr style=\"text-align: right;\">\n",
       "      <th></th>\n",
       "      <th>item_id</th>\n",
       "      <th>member_id</th>\n",
       "      <th>period</th>\n",
       "      <th>metric</th>\n",
       "      <th>score</th>\n",
       "    </tr>\n",
       "  </thead>\n",
       "  <tbody>\n",
       "    <tr>\n",
       "      <th>0</th>\n",
       "      <td>dickens-david-copperfield</td>\n",
       "      <td>hemingway-ernest</td>\n",
       "      <td>1924-03-28/1925-03-28</td>\n",
       "      <td>pearson</td>\n",
       "      <td>1.000000</td>\n",
       "    </tr>\n",
       "    <tr>\n",
       "      <th>1</th>\n",
       "      <td>thompson-francis-thompsons-works</td>\n",
       "      <td>hemingway-ernest</td>\n",
       "      <td>1924-03-28/1925-03-28</td>\n",
       "      <td>euclidean</td>\n",
       "      <td>1.000000</td>\n",
       "    </tr>\n",
       "    <tr>\n",
       "      <th>2</th>\n",
       "      <td>carritt-theory-beauty</td>\n",
       "      <td>hemingway-ernest</td>\n",
       "      <td>1924-03-28/1925-03-28</td>\n",
       "      <td>euclidean</td>\n",
       "      <td>0.642857</td>\n",
       "    </tr>\n",
       "    <tr>\n",
       "      <th>3</th>\n",
       "      <td>thompson-francis-thompsons-works</td>\n",
       "      <td>hemingway-ernest</td>\n",
       "      <td>1924-03-28/1925-03-28</td>\n",
       "      <td>cosine</td>\n",
       "      <td>0.569721</td>\n",
       "    </tr>\n",
       "    <tr>\n",
       "      <th>4</th>\n",
       "      <td>shakespeare-shakespeare</td>\n",
       "      <td>hemingway-ernest</td>\n",
       "      <td>1921-12-28/1922-11-08</td>\n",
       "      <td>euclidean</td>\n",
       "      <td>0.428571</td>\n",
       "    </tr>\n",
       "  </tbody>\n",
       "</table>\n",
       "</div>"
      ],
      "text/plain": [
       "                            item_id         member_id                 period  \\\n",
       "0         dickens-david-copperfield  hemingway-ernest  1924-03-28/1925-03-28   \n",
       "1  thompson-francis-thompsons-works  hemingway-ernest  1924-03-28/1925-03-28   \n",
       "2             carritt-theory-beauty  hemingway-ernest  1924-03-28/1925-03-28   \n",
       "3  thompson-francis-thompsons-works  hemingway-ernest  1924-03-28/1925-03-28   \n",
       "4           shakespeare-shakespeare  hemingway-ernest  1921-12-28/1922-11-08   \n",
       "\n",
       "      metric     score  \n",
       "0    pearson  1.000000  \n",
       "1  euclidean  1.000000  \n",
       "2  euclidean  0.642857  \n",
       "3     cosine  0.569721  \n",
       "4  euclidean  0.428571  "
      ]
     },
     "execution_count": 30,
     "metadata": {},
     "output_type": "execute_result"
    }
   ],
   "source": [
    "top_scores_memorycf.head()"
   ]
  },
  {
   "cell_type": "code",
   "execution_count": 17,
   "metadata": {},
   "outputs": [
    {
     "data": {
      "text/plain": [
       "(6300, 9)"
      ]
     },
     "execution_count": 17,
     "metadata": {},
     "output_type": "execute_result"
    }
   ],
   "source": [
    "top_results_lenskit.shape"
   ]
  },
  {
   "cell_type": "code",
   "execution_count": 18,
   "metadata": {},
   "outputs": [
    {
     "data": {
      "text/plain": [
       "(231, 5)"
      ]
     },
     "execution_count": 18,
     "metadata": {},
     "output_type": "execute_result"
    }
   ],
   "source": [
    "top_scores_memorycf.shape"
   ]
  },
  {
   "cell_type": "code",
   "execution_count": 60,
   "metadata": {},
   "outputs": [],
   "source": [
    "# save minimal top results for use with interactive figure\n",
    "\n",
    "top_results_lenskit.to_csv('../figures/interactive/lenskit_top_scores.csv', index=False)\n",
    "top_scores_memorycf.to_csv('../figures/interactive/memorycf_top_scores.csv', index=False)\n"
   ]
  },
  {
   "cell_type": "markdown",
   "metadata": {},
   "source": [
    "## Get book display details for items in the top recommendations\n"
   ]
  },
  {
   "cell_type": "code",
   "execution_count": 35,
   "metadata": {},
   "outputs": [
    {
     "name": "stdout",
     "output_type": "stream",
     "text": [
      "52 unique items\n"
     ]
    },
    {
     "data": {
      "text/plain": [
       "array(['burney-evelina-history-young', 'cather-antonia',\n",
       "       'chekhov-black-monk', 'chekhov-letters-tchehov-family',\n",
       "       'chesterton-appreciations-criticisms-works', 'chesterton-manalive',\n",
       "       'clouston-lunatic-large-novel', 'conrad-shadow-line-confession',\n",
       "       'dell-moon-calf', 'dowden-shakespeare'], dtype=object)"
      ]
     },
     "execution_count": 35,
     "metadata": {},
     "output_type": "execute_result"
    }
   ],
   "source": [
    "lenskit_items = top_results_lenskit.item_id.unique()\n",
    "print(f\"{len(lenskit_items)} unique items\")\n",
    "lenskit_items[:10]"
   ]
  },
  {
   "cell_type": "code",
   "execution_count": 36,
   "metadata": {},
   "outputs": [
    {
     "name": "stdout",
     "output_type": "stream",
     "text": [
      "47 unique items\n"
     ]
    },
    {
     "data": {
      "text/plain": [
       "array(['dickens-david-copperfield', 'thompson-francis-thompsons-works',\n",
       "       'carritt-theory-beauty', 'shakespeare-shakespeare',\n",
       "       'swinnerton-george-gissing-critical',\n",
       "       'byron-lord-byrons-correspondence', 'wright-life-walter-pater',\n",
       "       'white-gold', 'lindsay-daniel-jazz-poems',\n",
       "       'corkery-threshold-quiet'], dtype=object)"
      ]
     },
     "execution_count": 36,
     "metadata": {},
     "output_type": "execute_result"
    }
   ],
   "source": [
    "memorycf_items = top_scores_memorycf.item_id.unique()\n",
    "print(f\"{len(memorycf_items)} unique items\")\n",
    "memorycf_items[:10]"
   ]
  },
  {
   "cell_type": "code",
   "execution_count": 40,
   "metadata": {},
   "outputs": [
    {
     "name": "stdout",
     "output_type": "stream",
     "text": [
      "98 unique items combined\n"
     ]
    }
   ],
   "source": [
    "combined_items = set(lenskit_items) | set(memorycf_items)\n",
    "print(f\"{len(combined_items)} unique items combined\")"
   ]
  },
  {
   "cell_type": "code",
   "execution_count": 62,
   "metadata": {},
   "outputs": [
    {
     "data": {
      "text/html": [
       "<div>\n",
       "<style scoped>\n",
       "    .dataframe tbody tr th:only-of-type {\n",
       "        vertical-align: middle;\n",
       "    }\n",
       "\n",
       "    .dataframe tbody tr th {\n",
       "        vertical-align: top;\n",
       "    }\n",
       "\n",
       "    .dataframe thead th {\n",
       "        text-align: right;\n",
       "    }\n",
       "</style>\n",
       "<table border=\"1\" class=\"dataframe\">\n",
       "  <thead>\n",
       "    <tr style=\"text-align: right;\">\n",
       "      <th></th>\n",
       "      <th>id</th>\n",
       "      <th>title</th>\n",
       "      <th>author</th>\n",
       "      <th>year</th>\n",
       "    </tr>\n",
       "  </thead>\n",
       "  <tbody>\n",
       "    <tr>\n",
       "      <th>37</th>\n",
       "      <td>smollett-adventures-roderick-random</td>\n",
       "      <td>The Adventures of Roderick Random</td>\n",
       "      <td>Smollett, Tobias</td>\n",
       "      <td>1748.0</td>\n",
       "    </tr>\n",
       "    <tr>\n",
       "      <th>39</th>\n",
       "      <td>fielding-history-tom-jones</td>\n",
       "      <td>The History of Tom Jones, a Foundling</td>\n",
       "      <td>Fielding, Henry</td>\n",
       "      <td>1749.0</td>\n",
       "    </tr>\n",
       "    <tr>\n",
       "      <th>41</th>\n",
       "      <td>smollett-adventures-peregrine-pickle</td>\n",
       "      <td>The Adventures of Peregrine Pickle</td>\n",
       "      <td>Smollett, Tobias</td>\n",
       "      <td>1751.0</td>\n",
       "    </tr>\n",
       "    <tr>\n",
       "      <th>55</th>\n",
       "      <td>burney-evelina-history-young</td>\n",
       "      <td>Evelina: Or, the History of a Young Lady's Ent...</td>\n",
       "      <td>Burney, Fanny</td>\n",
       "      <td>1778.0</td>\n",
       "    </tr>\n",
       "    <tr>\n",
       "      <th>118</th>\n",
       "      <td>gogol-dead-souls</td>\n",
       "      <td>Dead Souls</td>\n",
       "      <td>Gogol, Nikolai</td>\n",
       "      <td>1842.0</td>\n",
       "    </tr>\n",
       "    <tr>\n",
       "      <th>150</th>\n",
       "      <td>dickens-david-copperfield</td>\n",
       "      <td>David Copperfield</td>\n",
       "      <td>Dickens, Charles</td>\n",
       "      <td>1850.0</td>\n",
       "    </tr>\n",
       "    <tr>\n",
       "      <th>266</th>\n",
       "      <td>dostoyevsky-possessed</td>\n",
       "      <td>The Possessed</td>\n",
       "      <td>Dostoyevsky, Fyodor</td>\n",
       "      <td>1872.0</td>\n",
       "    </tr>\n",
       "    <tr>\n",
       "      <th>276</th>\n",
       "      <td>green-short-history-english</td>\n",
       "      <td>A Short History of the English People</td>\n",
       "      <td>Green, John Richard</td>\n",
       "      <td>1874.0</td>\n",
       "    </tr>\n",
       "    <tr>\n",
       "      <th>300</th>\n",
       "      <td>dowden-shakespeare</td>\n",
       "      <td>Shakespeare</td>\n",
       "      <td>Dowden, Edward</td>\n",
       "      <td>1877.0</td>\n",
       "    </tr>\n",
       "    <tr>\n",
       "      <th>340</th>\n",
       "      <td>stevenson-virginibus-puerisque-papers</td>\n",
       "      <td>Virginibus Puerisque and Other Papers</td>\n",
       "      <td>Stevenson, Robert Louis</td>\n",
       "      <td>1881.0</td>\n",
       "    </tr>\n",
       "  </tbody>\n",
       "</table>\n",
       "</div>"
      ],
      "text/plain": [
       "                                        id  \\\n",
       "37     smollett-adventures-roderick-random   \n",
       "39              fielding-history-tom-jones   \n",
       "41    smollett-adventures-peregrine-pickle   \n",
       "55            burney-evelina-history-young   \n",
       "118                       gogol-dead-souls   \n",
       "150              dickens-david-copperfield   \n",
       "266                  dostoyevsky-possessed   \n",
       "276            green-short-history-english   \n",
       "300                     dowden-shakespeare   \n",
       "340  stevenson-virginibus-puerisque-papers   \n",
       "\n",
       "                                                 title  \\\n",
       "37                   The Adventures of Roderick Random   \n",
       "39               The History of Tom Jones, a Foundling   \n",
       "41                  The Adventures of Peregrine Pickle   \n",
       "55   Evelina: Or, the History of a Young Lady's Ent...   \n",
       "118                                         Dead Souls   \n",
       "150                                  David Copperfield   \n",
       "266                                      The Possessed   \n",
       "276              A Short History of the English People   \n",
       "300                                        Shakespeare   \n",
       "340              Virginibus Puerisque and Other Papers   \n",
       "\n",
       "                      author    year  \n",
       "37          Smollett, Tobias  1748.0  \n",
       "39           Fielding, Henry  1749.0  \n",
       "41          Smollett, Tobias  1751.0  \n",
       "55             Burney, Fanny  1778.0  \n",
       "118           Gogol, Nikolai  1842.0  \n",
       "150         Dickens, Charles  1850.0  \n",
       "266      Dostoyevsky, Fyodor  1872.0  \n",
       "276      Green, John Richard  1874.0  \n",
       "300           Dowden, Edward  1877.0  \n",
       "340  Stevenson, Robert Louis  1881.0  "
      ]
     },
     "execution_count": 62,
     "metadata": {},
     "output_type": "execute_result"
    }
   ],
   "source": [
    "recommended_books = books_df[books_df.id.isin(combined_items)]\n",
    "assert len(recommended_books) == 98\n",
    "\n",
    "# filter to columns needed for interactive chart\n",
    "recommended_books = recommended_books[[\"id\", \"title\", \"author\", \"year\"]]\n",
    "recommended_books.head(10)"
   ]
  },
  {
   "cell_type": "code",
   "execution_count": 66,
   "metadata": {},
   "outputs": [
    {
     "data": {
      "text/html": [
       "<div>\n",
       "<style scoped>\n",
       "    .dataframe tbody tr th:only-of-type {\n",
       "        vertical-align: middle;\n",
       "    }\n",
       "\n",
       "    .dataframe tbody tr th {\n",
       "        vertical-align: top;\n",
       "    }\n",
       "\n",
       "    .dataframe thead th {\n",
       "        text-align: right;\n",
       "    }\n",
       "</style>\n",
       "<table border=\"1\" class=\"dataframe\">\n",
       "  <thead>\n",
       "    <tr style=\"text-align: right;\">\n",
       "      <th></th>\n",
       "      <th>id</th>\n",
       "      <th>title</th>\n",
       "      <th>author</th>\n",
       "      <th>year</th>\n",
       "    </tr>\n",
       "  </thead>\n",
       "  <tbody>\n",
       "    <tr>\n",
       "      <th>1620</th>\n",
       "      <td>pound-instigations-ezra-pound</td>\n",
       "      <td>Instigations of Ezra Pound: Together with an E...</td>\n",
       "      <td>Ezra Pound and Ernest Fenollosa</td>\n",
       "      <td>1920.0</td>\n",
       "    </tr>\n",
       "  </tbody>\n",
       "</table>\n",
       "</div>"
      ],
      "text/plain": [
       "                                 id  \\\n",
       "1620  pound-instigations-ezra-pound   \n",
       "\n",
       "                                                  title  \\\n",
       "1620  Instigations of Ezra Pound: Together with an E...   \n",
       "\n",
       "                               author    year  \n",
       "1620  Ezra Pound and Ernest Fenollosa  1920.0  "
      ]
     },
     "execution_count": 66,
     "metadata": {},
     "output_type": "execute_result"
    }
   ],
   "source": [
    "# known title that is problematic for display\n",
    "recommended_books[recommended_books.title.str.contains(\"Instigations of Ezra Pound\")]"
   ]
  },
  {
   "cell_type": "code",
   "execution_count": 64,
   "metadata": {},
   "outputs": [
    {
     "data": {
      "text/html": [
       "<div>\n",
       "<style scoped>\n",
       "    .dataframe tbody tr th:only-of-type {\n",
       "        vertical-align: middle;\n",
       "    }\n",
       "\n",
       "    .dataframe tbody tr th {\n",
       "        vertical-align: top;\n",
       "    }\n",
       "\n",
       "    .dataframe thead th {\n",
       "        text-align: right;\n",
       "    }\n",
       "</style>\n",
       "<table border=\"1\" class=\"dataframe\">\n",
       "  <thead>\n",
       "    <tr style=\"text-align: right;\">\n",
       "      <th></th>\n",
       "      <th>id</th>\n",
       "      <th>title</th>\n",
       "      <th>author</th>\n",
       "      <th>year</th>\n",
       "    </tr>\n",
       "  </thead>\n",
       "  <tbody>\n",
       "    <tr>\n",
       "      <th>37</th>\n",
       "      <td>smollett-adventures-roderick-random</td>\n",
       "      <td>The Adventures of Roderick Random</td>\n",
       "      <td>Tobias Smollett</td>\n",
       "      <td>1748.0</td>\n",
       "    </tr>\n",
       "    <tr>\n",
       "      <th>39</th>\n",
       "      <td>fielding-history-tom-jones</td>\n",
       "      <td>The History of Tom Jones, a Foundling</td>\n",
       "      <td>Henry Fielding</td>\n",
       "      <td>1749.0</td>\n",
       "    </tr>\n",
       "    <tr>\n",
       "      <th>41</th>\n",
       "      <td>smollett-adventures-peregrine-pickle</td>\n",
       "      <td>The Adventures of Peregrine Pickle</td>\n",
       "      <td>Tobias Smollett</td>\n",
       "      <td>1751.0</td>\n",
       "    </tr>\n",
       "    <tr>\n",
       "      <th>55</th>\n",
       "      <td>burney-evelina-history-young</td>\n",
       "      <td>Evelina: Or, the History of a Young Lady's Ent...</td>\n",
       "      <td>Fanny Burney</td>\n",
       "      <td>1778.0</td>\n",
       "    </tr>\n",
       "    <tr>\n",
       "      <th>118</th>\n",
       "      <td>gogol-dead-souls</td>\n",
       "      <td>Dead Souls</td>\n",
       "      <td>Nikolai Gogol</td>\n",
       "      <td>1842.0</td>\n",
       "    </tr>\n",
       "    <tr>\n",
       "      <th>150</th>\n",
       "      <td>dickens-david-copperfield</td>\n",
       "      <td>David Copperfield</td>\n",
       "      <td>Charles Dickens</td>\n",
       "      <td>1850.0</td>\n",
       "    </tr>\n",
       "    <tr>\n",
       "      <th>266</th>\n",
       "      <td>dostoyevsky-possessed</td>\n",
       "      <td>The Possessed</td>\n",
       "      <td>Fyodor Dostoyevsky</td>\n",
       "      <td>1872.0</td>\n",
       "    </tr>\n",
       "    <tr>\n",
       "      <th>276</th>\n",
       "      <td>green-short-history-english</td>\n",
       "      <td>A Short History of the English People</td>\n",
       "      <td>John Richard Green</td>\n",
       "      <td>1874.0</td>\n",
       "    </tr>\n",
       "    <tr>\n",
       "      <th>300</th>\n",
       "      <td>dowden-shakespeare</td>\n",
       "      <td>Shakespeare</td>\n",
       "      <td>Edward Dowden</td>\n",
       "      <td>1877.0</td>\n",
       "    </tr>\n",
       "    <tr>\n",
       "      <th>340</th>\n",
       "      <td>stevenson-virginibus-puerisque-papers</td>\n",
       "      <td>Virginibus Puerisque and Other Papers</td>\n",
       "      <td>Robert Louis Stevenson</td>\n",
       "      <td>1881.0</td>\n",
       "    </tr>\n",
       "  </tbody>\n",
       "</table>\n",
       "</div>"
      ],
      "text/plain": [
       "                                        id  \\\n",
       "37     smollett-adventures-roderick-random   \n",
       "39              fielding-history-tom-jones   \n",
       "41    smollett-adventures-peregrine-pickle   \n",
       "55            burney-evelina-history-young   \n",
       "118                       gogol-dead-souls   \n",
       "150              dickens-david-copperfield   \n",
       "266                  dostoyevsky-possessed   \n",
       "276            green-short-history-english   \n",
       "300                     dowden-shakespeare   \n",
       "340  stevenson-virginibus-puerisque-papers   \n",
       "\n",
       "                                                 title  \\\n",
       "37                   The Adventures of Roderick Random   \n",
       "39               The History of Tom Jones, a Foundling   \n",
       "41                  The Adventures of Peregrine Pickle   \n",
       "55   Evelina: Or, the History of a Young Lady's Ent...   \n",
       "118                                         Dead Souls   \n",
       "150                                  David Copperfield   \n",
       "266                                      The Possessed   \n",
       "276              A Short History of the English People   \n",
       "300                                        Shakespeare   \n",
       "340              Virginibus Puerisque and Other Papers   \n",
       "\n",
       "                     author    year  \n",
       "37          Tobias Smollett  1748.0  \n",
       "39           Henry Fielding  1749.0  \n",
       "41          Tobias Smollett  1751.0  \n",
       "55             Fanny Burney  1778.0  \n",
       "118           Nikolai Gogol  1842.0  \n",
       "150         Charles Dickens  1850.0  \n",
       "266      Fyodor Dostoyevsky  1872.0  \n",
       "276      John Richard Green  1874.0  \n",
       "300           Edward Dowden  1877.0  \n",
       "340  Robert Louis Stevenson  1881.0  "
      ]
     },
     "execution_count": 64,
     "metadata": {},
     "output_type": "execute_result"
    }
   ],
   "source": [
    "# author is lastname, first; reorder for display\n",
    "\n",
    "def reverse_name(lastname_first):\n",
    "    name_parts = lastname_first.split(\", \", 1)\n",
    "    name_parts.reverse()\n",
    "    return \" \".join(name_parts)\n",
    "    \n",
    "def author_names(names):\n",
    "    names = names.split(';')\n",
    "    return \" and \".join([reverse_name(n) for n in names])\n",
    "\n",
    "recommended_books[\"author\"] = recommended_books.author.apply(author_names)\n",
    "recommended_books.head(10)"
   ]
  },
  {
   "cell_type": "code",
   "execution_count": 65,
   "metadata": {},
   "outputs": [
    {
     "data": {
      "text/html": [
       "<div>\n",
       "<style scoped>\n",
       "    .dataframe tbody tr th:only-of-type {\n",
       "        vertical-align: middle;\n",
       "    }\n",
       "\n",
       "    .dataframe tbody tr th {\n",
       "        vertical-align: top;\n",
       "    }\n",
       "\n",
       "    .dataframe thead th {\n",
       "        text-align: right;\n",
       "    }\n",
       "</style>\n",
       "<table border=\"1\" class=\"dataframe\">\n",
       "  <thead>\n",
       "    <tr style=\"text-align: right;\">\n",
       "      <th></th>\n",
       "      <th>id</th>\n",
       "      <th>title</th>\n",
       "      <th>author</th>\n",
       "      <th>year</th>\n",
       "    </tr>\n",
       "  </thead>\n",
       "  <tbody>\n",
       "    <tr>\n",
       "      <th>1620</th>\n",
       "      <td>pound-instigations-ezra-pound</td>\n",
       "      <td>Instigations of Ezra Pound: Together with an E...</td>\n",
       "      <td>Ezra Pound and Ernest Fenollosa</td>\n",
       "      <td>1920.0</td>\n",
       "    </tr>\n",
       "  </tbody>\n",
       "</table>\n",
       "</div>"
      ],
      "text/plain": [
       "                                 id  \\\n",
       "1620  pound-instigations-ezra-pound   \n",
       "\n",
       "                                                  title  \\\n",
       "1620  Instigations of Ezra Pound: Together with an E...   \n",
       "\n",
       "                               author    year  \n",
       "1620  Ezra Pound and Ernest Fenollosa  1920.0  "
      ]
     },
     "execution_count": 65,
     "metadata": {},
     "output_type": "execute_result"
    }
   ],
   "source": [
    "recommended_books[recommended_books.title.str.contains(\"Instigations of Ezra Pound\")]"
   ]
  },
  {
   "cell_type": "code",
   "execution_count": 73,
   "metadata": {},
   "outputs": [
    {
     "data": {
      "text/html": [
       "<div>\n",
       "<style scoped>\n",
       "    .dataframe tbody tr th:only-of-type {\n",
       "        vertical-align: middle;\n",
       "    }\n",
       "\n",
       "    .dataframe tbody tr th {\n",
       "        vertical-align: top;\n",
       "    }\n",
       "\n",
       "    .dataframe thead th {\n",
       "        text-align: right;\n",
       "    }\n",
       "</style>\n",
       "<table border=\"1\" class=\"dataframe\">\n",
       "  <thead>\n",
       "    <tr style=\"text-align: right;\">\n",
       "      <th></th>\n",
       "      <th>id</th>\n",
       "      <th>title</th>\n",
       "      <th>author</th>\n",
       "      <th>year</th>\n",
       "    </tr>\n",
       "  </thead>\n",
       "  <tbody>\n",
       "    <tr>\n",
       "      <th>1620</th>\n",
       "      <td>pound-instigations-ezra-pound</td>\n",
       "      <td>Instigations of Ezra Pound</td>\n",
       "      <td>Ezra Pound and Ernest Fenollosa</td>\n",
       "      <td>1920.0</td>\n",
       "    </tr>\n",
       "  </tbody>\n",
       "</table>\n",
       "</div>"
      ],
      "text/plain": [
       "                                 id                       title  \\\n",
       "1620  pound-instigations-ezra-pound  Instigations of Ezra Pound   \n",
       "\n",
       "                               author    year  \n",
       "1620  Ezra Pound and Ernest Fenollosa  1920.0  "
      ]
     },
     "execution_count": 73,
     "metadata": {},
     "output_type": "execute_result"
    }
   ],
   "source": [
    "# shorten this title\n",
    "instigations_index = recommended_books.index[recommended_books.title.str.contains(\"Instigations of Ezra Pound\")]\n",
    "recommended_books.loc[instigations_index, \"title\"] = \"Instigations of Ezra Pound\"\n",
    "recommended_books[recommended_books.title.str.contains(\"Instigations of Ezra Pound\")]"
   ]
  },
  {
   "cell_type": "code",
   "execution_count": 74,
   "metadata": {},
   "outputs": [],
   "source": [
    "# export for use in interactive figure\n",
    "recommended_books.to_csv('../figures/interactive/titles.csv', index=False)"
   ]
  }
 ],
 "metadata": {
  "colab": {
   "collapsed_sections": [],
   "name": "lenskit_model_scores_stability.ipynb",
   "provenance": []
  },
  "kernelspec": {
   "display_name": "Python 3 (ipykernel)",
   "language": "python",
   "name": "python3"
  },
  "language_info": {
   "codemirror_mode": {
    "name": "ipython",
    "version": 3
   },
   "file_extension": ".py",
   "mimetype": "text/x-python",
   "name": "python",
   "nbconvert_exporter": "python",
   "pygments_lexer": "ipython3",
   "version": "3.9.13"
  },
  "toc": {
   "base_numbering": 1,
   "nav_menu": {},
   "number_sections": true,
   "sideBar": true,
   "skip_h1_title": false,
   "title_cell": "Table of Contents",
   "title_sidebar": "Contents",
   "toc_cell": false,
   "toc_position": {},
   "toc_section_display": true,
   "toc_window_display": false
  }
 },
 "nbformat": 4,
 "nbformat_minor": 4
}
