{
  "nbformat": 4,
  "nbformat_minor": 0,
  "metadata": {
    "colab": {
      "name": "Sco_missing_books.ipynb",
      "provenance": [],
      "collapsed_sections": [],
      "authorship_tag": "ABX9TyNAyH7d2g5dhrHT9JcLdR42"
    },
    "kernelspec": {
      "name": "python3",
      "display_name": "Python 3"
    },
    "language_info": {
      "name": "python"
    }
  },
  "cells": [
    {
      "cell_type": "code",
      "execution_count": null,
      "metadata": {
        "id": "YUBiHX4IWfd-"
      },
      "outputs": [],
      "source": [
        "# use v1.2 datasets; load from our repo for convenience\n",
        "csv_urls = {\n",
        "    'members': 'https://raw.githubusercontent.com/ZoeLeBlanc/unknown_borrowers/main/dataset_generator/source_data/SCoData_members_v1.2_2022-01.csv',\n",
        "    'books': 'https://raw.githubusercontent.com/ZoeLeBlanc/unknown_borrowers/main/dataset_generator/source_data/SCoData_books_v1.2_2022-01.csv',\n",
        "    'events': 'https://raw.githubusercontent.com/ZoeLeBlanc/unknown_borrowers/main/dataset_generator/source_data/SCoData_events_v1.2_2022-01.csv',\n",
        "    # project-specific data\n",
        "    'partial_borrowers': 'https://github.com/ZoeLeBlanc/unknown_borrowers/raw/main/dataset_generator/data/partial_borrowers_collapsed.csv',\n",
        "    'borrow_overrides': 'https://raw.githubusercontent.com/ZoeLeBlanc/unknown_borrowers/main/dataset_generator/data/long_borrow_overrides.csv'\n",
        "}"
      ]
    },
    {
      "cell_type": "code",
      "source": [
        "import pandas as pd\n",
        "\n",
        "# load books\n",
        "books_df = pd.read_csv(csv_urls['books'])"
      ],
      "metadata": {
        "id": "x3Uq6kJ1Wgix"
      },
      "execution_count": null,
      "outputs": []
    },
    {
      "cell_type": "code",
      "source": [
        "total_books = books_df.shape[0]\n",
        "total_books"
      ],
      "metadata": {
        "colab": {
          "base_uri": "https://localhost:8080/"
        },
        "id": "ihCBva7oWjUo",
        "outputId": "4b3b7e2e-894e-4fdf-d2f9-7beafaf92bc5"
      },
      "execution_count": null,
      "outputs": [
        {
          "output_type": "execute_result",
          "data": {
            "text/plain": [
              "6020"
            ]
          },
          "metadata": {},
          "execution_count": 4
        }
      ]
    },
    {
      "cell_type": "code",
      "source": [
        "borrowed_books = books_df[books_df.borrow_count != 0]\n",
        "total_borrowed_books = borrowed_books.shape[0]\n",
        "total_borrowed_books"
      ],
      "metadata": {
        "colab": {
          "base_uri": "https://localhost:8080/"
        },
        "id": "7MQ0160IanaP",
        "outputId": "9fec4d3b-0bb6-4880-8eb4-1b07a282779c"
      },
      "execution_count": null,
      "outputs": [
        {
          "output_type": "execute_result",
          "data": {
            "text/plain": [
              "5683"
            ]
          },
          "metadata": {},
          "execution_count": 5
        }
      ]
    },
    {
      "cell_type": "code",
      "source": [
        "uncertain_books = books_df[books_df.uncertain].shape[0]\n",
        "uncertain_books"
      ],
      "metadata": {
        "colab": {
          "base_uri": "https://localhost:8080/"
        },
        "id": "B0b_3lgVWkZL",
        "outputId": "0da51fc7-b2c3-4a72-e2c9-3243007ec1f7"
      },
      "execution_count": null,
      "outputs": [
        {
          "output_type": "execute_result",
          "data": {
            "text/plain": [
              "475"
            ]
          },
          "metadata": {},
          "execution_count": 6
        }
      ]
    },
    {
      "cell_type": "code",
      "source": [
        "total_borrowed_books - uncertain_books"
      ],
      "metadata": {
        "colab": {
          "base_uri": "https://localhost:8080/"
        },
        "id": "N2oqcT7MWn5U",
        "outputId": "54e942e5-2837-41ca-b0b2-f54877858ddf"
      },
      "execution_count": null,
      "outputs": [
        {
          "output_type": "execute_result",
          "data": {
            "text/plain": [
              "5208"
            ]
          },
          "metadata": {},
          "execution_count": 7
        }
      ]
    },
    {
      "cell_type": "code",
      "source": [
        "books_df"
      ],
      "metadata": {
        "colab": {
          "base_uri": "https://localhost:8080/",
          "height": 852
        },
        "id": "yHIeU3JjWw2i",
        "outputId": "64678e4e-15ad-44eb-b789-38fc9be4969b"
      },
      "execution_count": null,
      "outputs": [
        {
          "output_type": "execute_result",
          "data": {
            "text/html": [
              "\n",
              "  <div id=\"df-ea1a2197-ffbb-4788-b2c8-66f039a2d430\">\n",
              "    <div class=\"colab-df-container\">\n",
              "      <div>\n",
              "<style scoped>\n",
              "    .dataframe tbody tr th:only-of-type {\n",
              "        vertical-align: middle;\n",
              "    }\n",
              "\n",
              "    .dataframe tbody tr th {\n",
              "        vertical-align: top;\n",
              "    }\n",
              "\n",
              "    .dataframe thead th {\n",
              "        text-align: right;\n",
              "    }\n",
              "</style>\n",
              "<table border=\"1\" class=\"dataframe\">\n",
              "  <thead>\n",
              "    <tr style=\"text-align: right;\">\n",
              "      <th></th>\n",
              "      <th>uri</th>\n",
              "      <th>title</th>\n",
              "      <th>author</th>\n",
              "      <th>editor</th>\n",
              "      <th>translator</th>\n",
              "      <th>introduction</th>\n",
              "      <th>illustrator</th>\n",
              "      <th>photographer</th>\n",
              "      <th>year</th>\n",
              "      <th>format</th>\n",
              "      <th>uncertain</th>\n",
              "      <th>ebook_url</th>\n",
              "      <th>volumes_issues</th>\n",
              "      <th>notes</th>\n",
              "      <th>event_count</th>\n",
              "      <th>borrow_count</th>\n",
              "      <th>purchase_count</th>\n",
              "      <th>circulation_years</th>\n",
              "      <th>updated</th>\n",
              "    </tr>\n",
              "  </thead>\n",
              "  <tbody>\n",
              "    <tr>\n",
              "      <th>0</th>\n",
              "      <td>https://shakespeareandco.princeton.edu/books/m...</td>\n",
              "      <td>Le Morte d'Arthur</td>\n",
              "      <td>Malory, Thomas</td>\n",
              "      <td>NaN</td>\n",
              "      <td>NaN</td>\n",
              "      <td>NaN</td>\n",
              "      <td>NaN</td>\n",
              "      <td>NaN</td>\n",
              "      <td>1485.0</td>\n",
              "      <td>Book</td>\n",
              "      <td>False</td>\n",
              "      <td>https://archive.org/details/mortedarthur02malo</td>\n",
              "      <td>NaN</td>\n",
              "      <td>NaN</td>\n",
              "      <td>7</td>\n",
              "      <td>7</td>\n",
              "      <td>0</td>\n",
              "      <td>1930;1932;1937;1938;1939</td>\n",
              "      <td>2021-11-14T13:57:51.282365+00:00</td>\n",
              "    </tr>\n",
              "    <tr>\n",
              "      <th>1</th>\n",
              "      <td>https://shakespeareandco.princeton.edu/books/m...</td>\n",
              "      <td>Utopia</td>\n",
              "      <td>More, Thomas</td>\n",
              "      <td>NaN</td>\n",
              "      <td>NaN</td>\n",
              "      <td>NaN</td>\n",
              "      <td>NaN</td>\n",
              "      <td>NaN</td>\n",
              "      <td>1516.0</td>\n",
              "      <td>Book</td>\n",
              "      <td>False</td>\n",
              "      <td>https://archive.org/details/utopiamo00more</td>\n",
              "      <td>NaN</td>\n",
              "      <td>NaN</td>\n",
              "      <td>2</td>\n",
              "      <td>2</td>\n",
              "      <td>0</td>\n",
              "      <td>1930;1950;1951</td>\n",
              "      <td>2021-10-31T17:47:49.103296+00:00</td>\n",
              "    </tr>\n",
              "    <tr>\n",
              "      <th>2</th>\n",
              "      <td>https://shakespeareandco.princeton.edu/books/n...</td>\n",
              "      <td>Gorboduc</td>\n",
              "      <td>Norton, Thomas</td>\n",
              "      <td>NaN</td>\n",
              "      <td>NaN</td>\n",
              "      <td>NaN</td>\n",
              "      <td>NaN</td>\n",
              "      <td>NaN</td>\n",
              "      <td>1561.0</td>\n",
              "      <td>Book</td>\n",
              "      <td>False</td>\n",
              "      <td>NaN</td>\n",
              "      <td>NaN</td>\n",
              "      <td>NaN</td>\n",
              "      <td>1</td>\n",
              "      <td>1</td>\n",
              "      <td>0</td>\n",
              "      <td>1950</td>\n",
              "      <td>2020-06-29T03:49:47+00:00</td>\n",
              "    </tr>\n",
              "    <tr>\n",
              "      <th>3</th>\n",
              "      <td>https://shakespeareandco.princeton.edu/books/l...</td>\n",
              "      <td>Euphues: The Anatomy of Wit</td>\n",
              "      <td>Lyly, John</td>\n",
              "      <td>NaN</td>\n",
              "      <td>NaN</td>\n",
              "      <td>NaN</td>\n",
              "      <td>NaN</td>\n",
              "      <td>NaN</td>\n",
              "      <td>1578.0</td>\n",
              "      <td>Book</td>\n",
              "      <td>False</td>\n",
              "      <td>https://archive.org/details/cu31924013122084</td>\n",
              "      <td>NaN</td>\n",
              "      <td>NaN</td>\n",
              "      <td>1</td>\n",
              "      <td>1</td>\n",
              "      <td>0</td>\n",
              "      <td>1941</td>\n",
              "      <td>2021-06-05T15:37:07+00:00</td>\n",
              "    </tr>\n",
              "    <tr>\n",
              "      <th>4</th>\n",
              "      <td>https://shakespeareandco.princeton.edu/books/s...</td>\n",
              "      <td>The Shepheard's Calendar</td>\n",
              "      <td>Spenser, Edmund</td>\n",
              "      <td>NaN</td>\n",
              "      <td>NaN</td>\n",
              "      <td>NaN</td>\n",
              "      <td>NaN</td>\n",
              "      <td>NaN</td>\n",
              "      <td>1579.0</td>\n",
              "      <td>Book</td>\n",
              "      <td>False</td>\n",
              "      <td>https://archive.org/details/shepheardscalend00...</td>\n",
              "      <td>NaN</td>\n",
              "      <td>NaN</td>\n",
              "      <td>1</td>\n",
              "      <td>1</td>\n",
              "      <td>0</td>\n",
              "      <td>1941</td>\n",
              "      <td>2021-11-06T12:26:04.482734+00:00</td>\n",
              "    </tr>\n",
              "    <tr>\n",
              "      <th>...</th>\n",
              "      <td>...</td>\n",
              "      <td>...</td>\n",
              "      <td>...</td>\n",
              "      <td>...</td>\n",
              "      <td>...</td>\n",
              "      <td>...</td>\n",
              "      <td>...</td>\n",
              "      <td>...</td>\n",
              "      <td>...</td>\n",
              "      <td>...</td>\n",
              "      <td>...</td>\n",
              "      <td>...</td>\n",
              "      <td>...</td>\n",
              "      <td>...</td>\n",
              "      <td>...</td>\n",
              "      <td>...</td>\n",
              "      <td>...</td>\n",
              "      <td>...</td>\n",
              "      <td>...</td>\n",
              "    </tr>\n",
              "    <tr>\n",
              "      <th>6015</th>\n",
              "      <td>https://shakespeareandco.princeton.edu/books/b...</td>\n",
              "      <td>Wuthering Heights and Agnes Grey</td>\n",
              "      <td>Brontë, Emily;Brontë, Anne</td>\n",
              "      <td>NaN</td>\n",
              "      <td>NaN</td>\n",
              "      <td>NaN</td>\n",
              "      <td>NaN</td>\n",
              "      <td>NaN</td>\n",
              "      <td>NaN</td>\n",
              "      <td>Book</td>\n",
              "      <td>False</td>\n",
              "      <td>https://archive.org/details/wutheringheight04b...</td>\n",
              "      <td>NaN</td>\n",
              "      <td>NaN</td>\n",
              "      <td>3</td>\n",
              "      <td>3</td>\n",
              "      <td>0</td>\n",
              "      <td>1937;1938;1939</td>\n",
              "      <td>2020-06-02T21:01:35+00:00</td>\n",
              "    </tr>\n",
              "    <tr>\n",
              "      <th>6016</th>\n",
              "      <td>https://shakespeareandco.princeton.edu/books/c...</td>\n",
              "      <td>Yale Review</td>\n",
              "      <td>NaN</td>\n",
              "      <td>Cross, Wilbur L.</td>\n",
              "      <td>NaN</td>\n",
              "      <td>NaN</td>\n",
              "      <td>NaN</td>\n",
              "      <td>NaN</td>\n",
              "      <td>NaN</td>\n",
              "      <td>Periodical</td>\n",
              "      <td>False</td>\n",
              "      <td>NaN</td>\n",
              "      <td>NaN</td>\n",
              "      <td>NaN</td>\n",
              "      <td>5</td>\n",
              "      <td>5</td>\n",
              "      <td>0</td>\n",
              "      <td>1936;1933;1934;1935</td>\n",
              "      <td>2020-06-11T12:07:01+00:00</td>\n",
              "    </tr>\n",
              "    <tr>\n",
              "      <th>6017</th>\n",
              "      <td>https://shakespeareandco.princeton.edu/books/y...</td>\n",
              "      <td>Yeats</td>\n",
              "      <td>NaN</td>\n",
              "      <td>NaN</td>\n",
              "      <td>NaN</td>\n",
              "      <td>NaN</td>\n",
              "      <td>NaN</td>\n",
              "      <td>NaN</td>\n",
              "      <td>NaN</td>\n",
              "      <td>NaN</td>\n",
              "      <td>True</td>\n",
              "      <td>NaN</td>\n",
              "      <td>NaN</td>\n",
              "      <td>Unidentified. By or about W. B. Yeats.</td>\n",
              "      <td>1</td>\n",
              "      <td>1</td>\n",
              "      <td>0</td>\n",
              "      <td>1920</td>\n",
              "      <td>2021-11-15T22:52:17.216749+00:00</td>\n",
              "    </tr>\n",
              "    <tr>\n",
              "      <th>6018</th>\n",
              "      <td>https://shakespeareandco.princeton.edu/books/y...</td>\n",
              "      <td>Yeats: Various Articles By &amp; On</td>\n",
              "      <td>NaN</td>\n",
              "      <td>NaN</td>\n",
              "      <td>NaN</td>\n",
              "      <td>NaN</td>\n",
              "      <td>NaN</td>\n",
              "      <td>NaN</td>\n",
              "      <td>NaN</td>\n",
              "      <td>NaN</td>\n",
              "      <td>True</td>\n",
              "      <td>NaN</td>\n",
              "      <td>NaN</td>\n",
              "      <td>Unidentified.</td>\n",
              "      <td>1</td>\n",
              "      <td>1</td>\n",
              "      <td>0</td>\n",
              "      <td>1939</td>\n",
              "      <td>2021-11-17T13:22:00.439805+00:00</td>\n",
              "    </tr>\n",
              "    <tr>\n",
              "      <th>6019</th>\n",
              "      <td>https://shakespeareandco.princeton.edu/books/z...</td>\n",
              "      <td>Zola</td>\n",
              "      <td>NaN</td>\n",
              "      <td>NaN</td>\n",
              "      <td>NaN</td>\n",
              "      <td>NaN</td>\n",
              "      <td>NaN</td>\n",
              "      <td>NaN</td>\n",
              "      <td>NaN</td>\n",
              "      <td>NaN</td>\n",
              "      <td>True</td>\n",
              "      <td>NaN</td>\n",
              "      <td>NaN</td>\n",
              "      <td>Unidentified. By or about Émile Zola.</td>\n",
              "      <td>1</td>\n",
              "      <td>1</td>\n",
              "      <td>0</td>\n",
              "      <td>1930</td>\n",
              "      <td>2020-07-07T04:31:02+00:00</td>\n",
              "    </tr>\n",
              "  </tbody>\n",
              "</table>\n",
              "<p>6020 rows × 19 columns</p>\n",
              "</div>\n",
              "      <button class=\"colab-df-convert\" onclick=\"convertToInteractive('df-ea1a2197-ffbb-4788-b2c8-66f039a2d430')\"\n",
              "              title=\"Convert this dataframe to an interactive table.\"\n",
              "              style=\"display:none;\">\n",
              "        \n",
              "  <svg xmlns=\"http://www.w3.org/2000/svg\" height=\"24px\"viewBox=\"0 0 24 24\"\n",
              "       width=\"24px\">\n",
              "    <path d=\"M0 0h24v24H0V0z\" fill=\"none\"/>\n",
              "    <path d=\"M18.56 5.44l.94 2.06.94-2.06 2.06-.94-2.06-.94-.94-2.06-.94 2.06-2.06.94zm-11 1L8.5 8.5l.94-2.06 2.06-.94-2.06-.94L8.5 2.5l-.94 2.06-2.06.94zm10 10l.94 2.06.94-2.06 2.06-.94-2.06-.94-.94-2.06-.94 2.06-2.06.94z\"/><path d=\"M17.41 7.96l-1.37-1.37c-.4-.4-.92-.59-1.43-.59-.52 0-1.04.2-1.43.59L10.3 9.45l-7.72 7.72c-.78.78-.78 2.05 0 2.83L4 21.41c.39.39.9.59 1.41.59.51 0 1.02-.2 1.41-.59l7.78-7.78 2.81-2.81c.8-.78.8-2.07 0-2.86zM5.41 20L4 18.59l7.72-7.72 1.47 1.35L5.41 20z\"/>\n",
              "  </svg>\n",
              "      </button>\n",
              "      \n",
              "  <style>\n",
              "    .colab-df-container {\n",
              "      display:flex;\n",
              "      flex-wrap:wrap;\n",
              "      gap: 12px;\n",
              "    }\n",
              "\n",
              "    .colab-df-convert {\n",
              "      background-color: #E8F0FE;\n",
              "      border: none;\n",
              "      border-radius: 50%;\n",
              "      cursor: pointer;\n",
              "      display: none;\n",
              "      fill: #1967D2;\n",
              "      height: 32px;\n",
              "      padding: 0 0 0 0;\n",
              "      width: 32px;\n",
              "    }\n",
              "\n",
              "    .colab-df-convert:hover {\n",
              "      background-color: #E2EBFA;\n",
              "      box-shadow: 0px 1px 2px rgba(60, 64, 67, 0.3), 0px 1px 3px 1px rgba(60, 64, 67, 0.15);\n",
              "      fill: #174EA6;\n",
              "    }\n",
              "\n",
              "    [theme=dark] .colab-df-convert {\n",
              "      background-color: #3B4455;\n",
              "      fill: #D2E3FC;\n",
              "    }\n",
              "\n",
              "    [theme=dark] .colab-df-convert:hover {\n",
              "      background-color: #434B5C;\n",
              "      box-shadow: 0px 1px 3px 1px rgba(0, 0, 0, 0.15);\n",
              "      filter: drop-shadow(0px 1px 2px rgba(0, 0, 0, 0.3));\n",
              "      fill: #FFFFFF;\n",
              "    }\n",
              "  </style>\n",
              "\n",
              "      <script>\n",
              "        const buttonEl =\n",
              "          document.querySelector('#df-ea1a2197-ffbb-4788-b2c8-66f039a2d430 button.colab-df-convert');\n",
              "        buttonEl.style.display =\n",
              "          google.colab.kernel.accessAllowed ? 'block' : 'none';\n",
              "\n",
              "        async function convertToInteractive(key) {\n",
              "          const element = document.querySelector('#df-ea1a2197-ffbb-4788-b2c8-66f039a2d430');\n",
              "          const dataTable =\n",
              "            await google.colab.kernel.invokeFunction('convertToInteractive',\n",
              "                                                     [key], {});\n",
              "          if (!dataTable) return;\n",
              "\n",
              "          const docLinkHtml = 'Like what you see? Visit the ' +\n",
              "            '<a target=\"_blank\" href=https://colab.research.google.com/notebooks/data_table.ipynb>data table notebook</a>'\n",
              "            + ' to learn more about interactive tables.';\n",
              "          element.innerHTML = '';\n",
              "          dataTable['output_type'] = 'display_data';\n",
              "          await google.colab.output.renderOutput(dataTable, element);\n",
              "          const docLink = document.createElement('div');\n",
              "          docLink.innerHTML = docLinkHtml;\n",
              "          element.appendChild(docLink);\n",
              "        }\n",
              "      </script>\n",
              "    </div>\n",
              "  </div>\n",
              "  "
            ],
            "text/plain": [
              "                                                    uri  ...                           updated\n",
              "0     https://shakespeareandco.princeton.edu/books/m...  ...  2021-11-14T13:57:51.282365+00:00\n",
              "1     https://shakespeareandco.princeton.edu/books/m...  ...  2021-10-31T17:47:49.103296+00:00\n",
              "2     https://shakespeareandco.princeton.edu/books/n...  ...         2020-06-29T03:49:47+00:00\n",
              "3     https://shakespeareandco.princeton.edu/books/l...  ...         2021-06-05T15:37:07+00:00\n",
              "4     https://shakespeareandco.princeton.edu/books/s...  ...  2021-11-06T12:26:04.482734+00:00\n",
              "...                                                 ...  ...                               ...\n",
              "6015  https://shakespeareandco.princeton.edu/books/b...  ...         2020-06-02T21:01:35+00:00\n",
              "6016  https://shakespeareandco.princeton.edu/books/c...  ...         2020-06-11T12:07:01+00:00\n",
              "6017  https://shakespeareandco.princeton.edu/books/y...  ...  2021-11-15T22:52:17.216749+00:00\n",
              "6018  https://shakespeareandco.princeton.edu/books/y...  ...  2021-11-17T13:22:00.439805+00:00\n",
              "6019  https://shakespeareandco.princeton.edu/books/z...  ...         2020-07-07T04:31:02+00:00\n",
              "\n",
              "[6020 rows x 19 columns]"
            ]
          },
          "metadata": {},
          "execution_count": 8
        }
      ]
    },
    {
      "cell_type": "code",
      "source": [
        "# sort by most borrowed; drop unborrowed titles\n",
        "most_borrowed_books_df = borrowed_books.sort_values('borrow_count', ascending=False).reindex()\n",
        "most_borrowed_books_df[['title', 'borrow_count']].head()"
      ],
      "metadata": {
        "colab": {
          "base_uri": "https://localhost:8080/",
          "height": 206
        },
        "id": "01bvvTX4W0C9",
        "outputId": "744528e1-b2fa-469d-cde8-bc7146c4f723"
      },
      "execution_count": null,
      "outputs": [
        {
          "output_type": "execute_result",
          "data": {
            "text/html": [
              "\n",
              "  <div id=\"df-59b2d857-e36a-4d97-9d8d-3ac1b71a797e\">\n",
              "    <div class=\"colab-df-container\">\n",
              "      <div>\n",
              "<style scoped>\n",
              "    .dataframe tbody tr th:only-of-type {\n",
              "        vertical-align: middle;\n",
              "    }\n",
              "\n",
              "    .dataframe tbody tr th {\n",
              "        vertical-align: top;\n",
              "    }\n",
              "\n",
              "    .dataframe thead th {\n",
              "        text-align: right;\n",
              "    }\n",
              "</style>\n",
              "<table border=\"1\" class=\"dataframe\">\n",
              "  <thead>\n",
              "    <tr style=\"text-align: right;\">\n",
              "      <th></th>\n",
              "      <th>title</th>\n",
              "      <th>borrow_count</th>\n",
              "    </tr>\n",
              "  </thead>\n",
              "  <tbody>\n",
              "    <tr>\n",
              "      <th>5905</th>\n",
              "      <td>The New Statesman and Nation</td>\n",
              "      <td>115</td>\n",
              "    </tr>\n",
              "    <tr>\n",
              "      <th>5955</th>\n",
              "      <td>Time and Tide</td>\n",
              "      <td>109</td>\n",
              "    </tr>\n",
              "    <tr>\n",
              "      <th>5906</th>\n",
              "      <td>The New Yorker</td>\n",
              "      <td>72</td>\n",
              "    </tr>\n",
              "    <tr>\n",
              "      <th>1305</th>\n",
              "      <td>A Portrait of the Artist as a Young Man</td>\n",
              "      <td>56</td>\n",
              "    </tr>\n",
              "    <tr>\n",
              "      <th>1200</th>\n",
              "      <td>Dubliners</td>\n",
              "      <td>47</td>\n",
              "    </tr>\n",
              "  </tbody>\n",
              "</table>\n",
              "</div>\n",
              "      <button class=\"colab-df-convert\" onclick=\"convertToInteractive('df-59b2d857-e36a-4d97-9d8d-3ac1b71a797e')\"\n",
              "              title=\"Convert this dataframe to an interactive table.\"\n",
              "              style=\"display:none;\">\n",
              "        \n",
              "  <svg xmlns=\"http://www.w3.org/2000/svg\" height=\"24px\"viewBox=\"0 0 24 24\"\n",
              "       width=\"24px\">\n",
              "    <path d=\"M0 0h24v24H0V0z\" fill=\"none\"/>\n",
              "    <path d=\"M18.56 5.44l.94 2.06.94-2.06 2.06-.94-2.06-.94-.94-2.06-.94 2.06-2.06.94zm-11 1L8.5 8.5l.94-2.06 2.06-.94-2.06-.94L8.5 2.5l-.94 2.06-2.06.94zm10 10l.94 2.06.94-2.06 2.06-.94-2.06-.94-.94-2.06-.94 2.06-2.06.94z\"/><path d=\"M17.41 7.96l-1.37-1.37c-.4-.4-.92-.59-1.43-.59-.52 0-1.04.2-1.43.59L10.3 9.45l-7.72 7.72c-.78.78-.78 2.05 0 2.83L4 21.41c.39.39.9.59 1.41.59.51 0 1.02-.2 1.41-.59l7.78-7.78 2.81-2.81c.8-.78.8-2.07 0-2.86zM5.41 20L4 18.59l7.72-7.72 1.47 1.35L5.41 20z\"/>\n",
              "  </svg>\n",
              "      </button>\n",
              "      \n",
              "  <style>\n",
              "    .colab-df-container {\n",
              "      display:flex;\n",
              "      flex-wrap:wrap;\n",
              "      gap: 12px;\n",
              "    }\n",
              "\n",
              "    .colab-df-convert {\n",
              "      background-color: #E8F0FE;\n",
              "      border: none;\n",
              "      border-radius: 50%;\n",
              "      cursor: pointer;\n",
              "      display: none;\n",
              "      fill: #1967D2;\n",
              "      height: 32px;\n",
              "      padding: 0 0 0 0;\n",
              "      width: 32px;\n",
              "    }\n",
              "\n",
              "    .colab-df-convert:hover {\n",
              "      background-color: #E2EBFA;\n",
              "      box-shadow: 0px 1px 2px rgba(60, 64, 67, 0.3), 0px 1px 3px 1px rgba(60, 64, 67, 0.15);\n",
              "      fill: #174EA6;\n",
              "    }\n",
              "\n",
              "    [theme=dark] .colab-df-convert {\n",
              "      background-color: #3B4455;\n",
              "      fill: #D2E3FC;\n",
              "    }\n",
              "\n",
              "    [theme=dark] .colab-df-convert:hover {\n",
              "      background-color: #434B5C;\n",
              "      box-shadow: 0px 1px 3px 1px rgba(0, 0, 0, 0.15);\n",
              "      filter: drop-shadow(0px 1px 2px rgba(0, 0, 0, 0.3));\n",
              "      fill: #FFFFFF;\n",
              "    }\n",
              "  </style>\n",
              "\n",
              "      <script>\n",
              "        const buttonEl =\n",
              "          document.querySelector('#df-59b2d857-e36a-4d97-9d8d-3ac1b71a797e button.colab-df-convert');\n",
              "        buttonEl.style.display =\n",
              "          google.colab.kernel.accessAllowed ? 'block' : 'none';\n",
              "\n",
              "        async function convertToInteractive(key) {\n",
              "          const element = document.querySelector('#df-59b2d857-e36a-4d97-9d8d-3ac1b71a797e');\n",
              "          const dataTable =\n",
              "            await google.colab.kernel.invokeFunction('convertToInteractive',\n",
              "                                                     [key], {});\n",
              "          if (!dataTable) return;\n",
              "\n",
              "          const docLinkHtml = 'Like what you see? Visit the ' +\n",
              "            '<a target=\"_blank\" href=https://colab.research.google.com/notebooks/data_table.ipynb>data table notebook</a>'\n",
              "            + ' to learn more about interactive tables.';\n",
              "          element.innerHTML = '';\n",
              "          dataTable['output_type'] = 'display_data';\n",
              "          await google.colab.output.renderOutput(dataTable, element);\n",
              "          const docLink = document.createElement('div');\n",
              "          docLink.innerHTML = docLinkHtml;\n",
              "          element.appendChild(docLink);\n",
              "        }\n",
              "      </script>\n",
              "    </div>\n",
              "  </div>\n",
              "  "
            ],
            "text/plain": [
              "                                        title  borrow_count\n",
              "5905             The New Statesman and Nation           115\n",
              "5955                            Time and Tide           109\n",
              "5906                           The New Yorker            72\n",
              "1305  A Portrait of the Artist as a Young Man            56\n",
              "1200                                Dubliners            47"
            ]
          },
          "metadata": {},
          "execution_count": 9
        }
      ]
    },
    {
      "cell_type": "code",
      "source": [
        "most_borrowed_books_df[['title', 'borrow_count']].tail()"
      ],
      "metadata": {
        "colab": {
          "base_uri": "https://localhost:8080/",
          "height": 206
        },
        "id": "6ZQk0Jetfbqp",
        "outputId": "68f8c74f-a048-4157-a26d-83b2ea64e456"
      },
      "execution_count": null,
      "outputs": [
        {
          "output_type": "execute_result",
          "data": {
            "text/html": [
              "\n",
              "  <div id=\"df-d3166fc4-7f81-4e98-b2cb-ce030ad87324\">\n",
              "    <div class=\"colab-df-container\">\n",
              "      <div>\n",
              "<style scoped>\n",
              "    .dataframe tbody tr th:only-of-type {\n",
              "        vertical-align: middle;\n",
              "    }\n",
              "\n",
              "    .dataframe tbody tr th {\n",
              "        vertical-align: top;\n",
              "    }\n",
              "\n",
              "    .dataframe thead th {\n",
              "        text-align: right;\n",
              "    }\n",
              "</style>\n",
              "<table border=\"1\" class=\"dataframe\">\n",
              "  <thead>\n",
              "    <tr style=\"text-align: right;\">\n",
              "      <th></th>\n",
              "      <th>title</th>\n",
              "      <th>borrow_count</th>\n",
              "    </tr>\n",
              "  </thead>\n",
              "  <tbody>\n",
              "    <tr>\n",
              "      <th>1430</th>\n",
              "      <td>Ardours and Endurances</td>\n",
              "      <td>1</td>\n",
              "    </tr>\n",
              "    <tr>\n",
              "      <th>3859</th>\n",
              "      <td>Satan's Circus and Other Stories</td>\n",
              "      <td>1</td>\n",
              "    </tr>\n",
              "    <tr>\n",
              "      <th>1428</th>\n",
              "      <td>Adolphe</td>\n",
              "      <td>1</td>\n",
              "    </tr>\n",
              "    <tr>\n",
              "      <th>3861</th>\n",
              "      <td>Save Me the Waltz</td>\n",
              "      <td>1</td>\n",
              "    </tr>\n",
              "    <tr>\n",
              "      <th>6019</th>\n",
              "      <td>Zola</td>\n",
              "      <td>1</td>\n",
              "    </tr>\n",
              "  </tbody>\n",
              "</table>\n",
              "</div>\n",
              "      <button class=\"colab-df-convert\" onclick=\"convertToInteractive('df-d3166fc4-7f81-4e98-b2cb-ce030ad87324')\"\n",
              "              title=\"Convert this dataframe to an interactive table.\"\n",
              "              style=\"display:none;\">\n",
              "        \n",
              "  <svg xmlns=\"http://www.w3.org/2000/svg\" height=\"24px\"viewBox=\"0 0 24 24\"\n",
              "       width=\"24px\">\n",
              "    <path d=\"M0 0h24v24H0V0z\" fill=\"none\"/>\n",
              "    <path d=\"M18.56 5.44l.94 2.06.94-2.06 2.06-.94-2.06-.94-.94-2.06-.94 2.06-2.06.94zm-11 1L8.5 8.5l.94-2.06 2.06-.94-2.06-.94L8.5 2.5l-.94 2.06-2.06.94zm10 10l.94 2.06.94-2.06 2.06-.94-2.06-.94-.94-2.06-.94 2.06-2.06.94z\"/><path d=\"M17.41 7.96l-1.37-1.37c-.4-.4-.92-.59-1.43-.59-.52 0-1.04.2-1.43.59L10.3 9.45l-7.72 7.72c-.78.78-.78 2.05 0 2.83L4 21.41c.39.39.9.59 1.41.59.51 0 1.02-.2 1.41-.59l7.78-7.78 2.81-2.81c.8-.78.8-2.07 0-2.86zM5.41 20L4 18.59l7.72-7.72 1.47 1.35L5.41 20z\"/>\n",
              "  </svg>\n",
              "      </button>\n",
              "      \n",
              "  <style>\n",
              "    .colab-df-container {\n",
              "      display:flex;\n",
              "      flex-wrap:wrap;\n",
              "      gap: 12px;\n",
              "    }\n",
              "\n",
              "    .colab-df-convert {\n",
              "      background-color: #E8F0FE;\n",
              "      border: none;\n",
              "      border-radius: 50%;\n",
              "      cursor: pointer;\n",
              "      display: none;\n",
              "      fill: #1967D2;\n",
              "      height: 32px;\n",
              "      padding: 0 0 0 0;\n",
              "      width: 32px;\n",
              "    }\n",
              "\n",
              "    .colab-df-convert:hover {\n",
              "      background-color: #E2EBFA;\n",
              "      box-shadow: 0px 1px 2px rgba(60, 64, 67, 0.3), 0px 1px 3px 1px rgba(60, 64, 67, 0.15);\n",
              "      fill: #174EA6;\n",
              "    }\n",
              "\n",
              "    [theme=dark] .colab-df-convert {\n",
              "      background-color: #3B4455;\n",
              "      fill: #D2E3FC;\n",
              "    }\n",
              "\n",
              "    [theme=dark] .colab-df-convert:hover {\n",
              "      background-color: #434B5C;\n",
              "      box-shadow: 0px 1px 3px 1px rgba(0, 0, 0, 0.15);\n",
              "      filter: drop-shadow(0px 1px 2px rgba(0, 0, 0, 0.3));\n",
              "      fill: #FFFFFF;\n",
              "    }\n",
              "  </style>\n",
              "\n",
              "      <script>\n",
              "        const buttonEl =\n",
              "          document.querySelector('#df-d3166fc4-7f81-4e98-b2cb-ce030ad87324 button.colab-df-convert');\n",
              "        buttonEl.style.display =\n",
              "          google.colab.kernel.accessAllowed ? 'block' : 'none';\n",
              "\n",
              "        async function convertToInteractive(key) {\n",
              "          const element = document.querySelector('#df-d3166fc4-7f81-4e98-b2cb-ce030ad87324');\n",
              "          const dataTable =\n",
              "            await google.colab.kernel.invokeFunction('convertToInteractive',\n",
              "                                                     [key], {});\n",
              "          if (!dataTable) return;\n",
              "\n",
              "          const docLinkHtml = 'Like what you see? Visit the ' +\n",
              "            '<a target=\"_blank\" href=https://colab.research.google.com/notebooks/data_table.ipynb>data table notebook</a>'\n",
              "            + ' to learn more about interactive tables.';\n",
              "          element.innerHTML = '';\n",
              "          dataTable['output_type'] = 'display_data';\n",
              "          await google.colab.output.renderOutput(dataTable, element);\n",
              "          const docLink = document.createElement('div');\n",
              "          docLink.innerHTML = docLinkHtml;\n",
              "          element.appendChild(docLink);\n",
              "        }\n",
              "      </script>\n",
              "    </div>\n",
              "  </div>\n",
              "  "
            ],
            "text/plain": [
              "                                 title  borrow_count\n",
              "1430            Ardours and Endurances             1\n",
              "3859  Satan's Circus and Other Stories             1\n",
              "1428                           Adolphe             1\n",
              "3861                 Save Me the Waltz             1\n",
              "6019                              Zola             1"
            ]
          },
          "metadata": {},
          "execution_count": 10
        }
      ]
    },
    {
      "cell_type": "code",
      "source": [
        "most_borrowed_books_df.borrow_count.plot.density(figsize=(8, 6),\n",
        "                               fontsize=14,\n",
        "                               xlim=(0, 115),\n",
        "                               linewidth=2, rot=0)"
      ],
      "metadata": {
        "colab": {
          "base_uri": "https://localhost:8080/",
          "height": 396
        },
        "id": "LoFzO4DdY4SV",
        "outputId": "f66b7ede-e9bd-4ca7-a387-0f5a95d266ba"
      },
      "execution_count": null,
      "outputs": [
        {
          "output_type": "execute_result",
          "data": {
            "text/plain": [
              "<matplotlib.axes._subplots.AxesSubplot at 0x7f5893c93310>"
            ]
          },
          "metadata": {},
          "execution_count": 11
        },
        {
          "output_type": "display_data",
          "data": {
            "image/png": "[encoded data removed]",
            "text/plain": [
              "<Figure size 576x432 with 1 Axes>"
            ]
          },
          "metadata": {
            "needs_background": "light"
          }
        }
      ]
    },
    {
      "cell_type": "code",
      "source": [
        "# what if we plot on a log scale?\n",
        "most_borrowed_books_df.borrow_count.plot.density(figsize=(8, 6),\n",
        "                               fontsize=14,\n",
        "                               xlim=(0, 115),\n",
        "                               linewidth=2, logx=True)"
      ],
      "metadata": {
        "colab": {
          "base_uri": "https://localhost:8080/",
          "height": 457
        },
        "id": "QXPQGN5Mdw_w",
        "outputId": "a6b6a8dd-cca4-40e2-b835-f5f1caa1ef79"
      },
      "execution_count": null,
      "outputs": [
        {
          "output_type": "stream",
          "name": "stderr",
          "text": [
            "/usr/local/lib/python3.7/dist-packages/pandas/plotting/_matplotlib/core.py:518: UserWarning: Attempted to set non-positive left xlim on a log-scaled axis.\n",
            "Invalid limit will be ignored.\n",
            "  ax.set_xlim(self.xlim)\n"
          ]
        },
        {
          "output_type": "execute_result",
          "data": {
            "text/plain": [
              "<matplotlib.axes._subplots.AxesSubplot at 0x7f587d7df610>"
            ]
          },
          "metadata": {},
          "execution_count": 12
        },
        {
          "output_type": "display_data",
          "data": {
            "image/png": "[encoded data removed]",
            "text/plain": [
              "<Figure size 576x432 with 1 Axes>"
            ]
          },
          "metadata": {
            "needs_background": "light"
          }
        }
      ]
    },
    {
      "cell_type": "code",
      "source": [
        "most_borrowed_books_df.borrow_count.plot.hist(bins=70, figsize=(8, 6))"
      ],
      "metadata": {
        "colab": {
          "base_uri": "https://localhost:8080/",
          "height": 392
        },
        "id": "rI3agTeLZuPa",
        "outputId": "57918752-112d-4ff4-ddf9-7d2a3cdc3ad6"
      },
      "execution_count": null,
      "outputs": [
        {
          "output_type": "execute_result",
          "data": {
            "text/plain": [
              "<matplotlib.axes._subplots.AxesSubplot at 0x7f587d0b1050>"
            ]
          },
          "metadata": {},
          "execution_count": 13
        },
        {
          "output_type": "display_data",
          "data": {
            "image/png": "[encoded data removed]",
            "text/plain": [
              "<Figure size 576x432 with 1 Axes>"
            ]
          },
          "metadata": {
            "needs_background": "light"
          }
        }
      ]
    },
    {
      "cell_type": "code",
      "source": [
        "most_borrowed_books_df.borrow_count.plot.density()"
      ],
      "metadata": {
        "colab": {
          "base_uri": "https://localhost:8080/",
          "height": 283
        },
        "id": "65N9UtLkcHHa",
        "outputId": "3d5314bf-db5e-4280-9f1a-18461afc0860"
      },
      "execution_count": null,
      "outputs": [
        {
          "output_type": "execute_result",
          "data": {
            "text/plain": [
              "<matplotlib.axes._subplots.AxesSubplot at 0x7f587d017090>"
            ]
          },
          "metadata": {},
          "execution_count": 14
        },
        {
          "output_type": "display_data",
          "data": {
            "image/png": "[encoded data removed]",
            "text/plain": [
              "<Figure size 432x288 with 1 Axes>"
            ]
          },
          "metadata": {
            "needs_background": "light"
          }
        }
      ]
    },
    {
      "cell_type": "code",
      "source": [
        "most_borrowed_books_df['i'] = most_borrowed_books_df.index"
      ],
      "metadata": {
        "id": "HEjVVL0ZfEoh"
      },
      "execution_count": null,
      "outputs": []
    },
    {
      "cell_type": "code",
      "source": [
        "most_borrowed_books_df.plot.scatter(y='borrow_count', x='i')"
      ],
      "metadata": {
        "colab": {
          "base_uri": "https://localhost:8080/",
          "height": 300
        },
        "id": "gdZa6CkbcT0N",
        "outputId": "ff901fd7-726f-4c6c-c874-4594bef421fe"
      },
      "execution_count": null,
      "outputs": [
        {
          "output_type": "execute_result",
          "data": {
            "text/plain": [
              "<matplotlib.axes._subplots.AxesSubplot at 0x7f587cfe0990>"
            ]
          },
          "metadata": {},
          "execution_count": 16
        },
        {
          "output_type": "display_data",
          "data": {
            "image/png": "[encoded data removed]",
            "text/plain": [
              "<Figure size 432x288 with 1 Axes>"
            ]
          },
          "metadata": {
            "needs_background": "light"
          }
        }
      ]
    },
    {
      "cell_type": "code",
      "source": [
        "\n",
        "\n",
        "most_borrowed_books_df.plot.bar(y='borrow_count', linewidth=0, figsize=(8, 6), legend=None)"
      ],
      "metadata": {
        "colab": {
          "base_uri": "https://localhost:8080/",
          "height": 410
        },
        "id": "I-31tyakfOIt",
        "outputId": "a6d0a7be-67aa-4f4c-83ac-0cceb3f350d1"
      },
      "execution_count": null,
      "outputs": [
        {
          "output_type": "execute_result",
          "data": {
            "text/plain": [
              "<matplotlib.axes._subplots.AxesSubplot at 0x7f587cf69dd0>"
            ]
          },
          "metadata": {},
          "execution_count": 17
        },
        {
          "output_type": "display_data",
          "data": {
            "image/png": "[encoded data removed]",
            "text/plain": [
              "<Figure size 576x432 with 1 Axes>"
            ]
          },
          "metadata": {
            "needs_background": "light"
          }
        }
      ]
    },
    {
      "cell_type": "code",
      "source": [
        "!pip install powerlaw"
      ],
      "metadata": {
        "colab": {
          "base_uri": "https://localhost:8080/"
        },
        "id": "J2mzXAxMjS4Q",
        "outputId": "26fdc1f6-8d3c-45af-ad6d-1cd0aead17d9"
      },
      "execution_count": null,
      "outputs": [
        {
          "output_type": "stream",
          "name": "stdout",
          "text": [
            "Collecting powerlaw\n",
            "  Downloading powerlaw-1.5-py3-none-any.whl (24 kB)\n",
            "Requirement already satisfied: scipy in /usr/local/lib/python3.7/dist-packages (from powerlaw) (1.4.1)\n",
            "Requirement already satisfied: numpy in /usr/local/lib/python3.7/dist-packages (from powerlaw) (1.21.5)\n",
            "Requirement already satisfied: matplotlib in /usr/local/lib/python3.7/dist-packages (from powerlaw) (3.2.2)\n",
            "Requirement already satisfied: mpmath in /usr/local/lib/python3.7/dist-packages (from powerlaw) (1.2.1)\n",
            "Requirement already satisfied: pyparsing!=2.0.4,!=2.1.2,!=2.1.6,>=2.0.1 in /usr/local/lib/python3.7/dist-packages (from matplotlib->powerlaw) (3.0.7)\n",
            "Requirement already satisfied: kiwisolver>=1.0.1 in /usr/local/lib/python3.7/dist-packages (from matplotlib->powerlaw) (1.3.2)\n",
            "Requirement already satisfied: cycler>=0.10 in /usr/local/lib/python3.7/dist-packages (from matplotlib->powerlaw) (0.11.0)\n",
            "Requirement already satisfied: python-dateutil>=2.1 in /usr/local/lib/python3.7/dist-packages (from matplotlib->powerlaw) (2.8.2)\n",
            "Requirement already satisfied: six>=1.5 in /usr/local/lib/python3.7/dist-packages (from python-dateutil>=2.1->matplotlib->powerlaw) (1.15.0)\n",
            "Installing collected packages: powerlaw\n",
            "Successfully installed powerlaw-1.5\n"
          ]
        }
      ]
    },
    {
      "cell_type": "code",
      "source": [
        "import powerlaw\n",
        "print(powerlaw.__version__)\n",
        "\n"
      ],
      "metadata": {
        "colab": {
          "base_uri": "https://localhost:8080/"
        },
        "id": "qL5BoMymk9dG",
        "outputId": "d59781cd-5b6b-46ee-86c0-3aaf9c86c14c"
      },
      "execution_count": null,
      "outputs": [
        {
          "output_type": "stream",
          "name": "stdout",
          "text": [
            "1.5\n"
          ]
        }
      ]
    },
    {
      "cell_type": "code",
      "source": [
        "data = most_borrowed_books_df.borrow_count\n",
        "data"
      ],
      "metadata": {
        "colab": {
          "base_uri": "https://localhost:8080/"
        },
        "id": "pte8EquBlRY9",
        "outputId": "1aa868df-b97b-4044-c07e-7ed81228452b"
      },
      "execution_count": null,
      "outputs": [
        {
          "output_type": "execute_result",
          "data": {
            "text/plain": [
              "5905    115\n",
              "5955    109\n",
              "5906     72\n",
              "1305     56\n",
              "1200     47\n",
              "       ... \n",
              "1430      1\n",
              "3859      1\n",
              "1428      1\n",
              "3861      1\n",
              "6019      1\n",
              "Name: borrow_count, Length: 5683, dtype: int64"
            ]
          },
          "metadata": {},
          "execution_count": 20
        }
      ]
    },
    {
      "cell_type": "code",
      "source": [
        "fit = powerlaw.Fit(data)\n",
        "fit.power_law.alpha\n",
        "fit.power_law.sigma\n",
        "fit.distribution_compare('power_law', 'exponential')"
      ],
      "metadata": {
        "colab": {
          "base_uri": "https://localhost:8080/"
        },
        "id": "Tvwe-BxhlC1S",
        "outputId": "589682db-b283-4ff3-f481-5d7a502f88cb"
      },
      "execution_count": null,
      "outputs": [
        {
          "output_type": "stream",
          "name": "stdout",
          "text": [
            "Calculating best minimal value for power law fit\n",
            "xmin progress: 00%\rxmin progress: 02%\rxmin progress: 04%\rxmin progress: 07%\rxmin progress: 09%\rxmin progress: 12%\rxmin progress: 14%\rxmin progress: 17%\rxmin progress: 19%\rxmin progress: 21%\rxmin progress: 24%\rxmin progress: 26%\rxmin progress: 29%\rxmin progress: 31%\rxmin progress: 34%\rxmin progress: 36%\rxmin progress: 39%\rxmin progress: 41%\rxmin progress: 43%\rxmin progress: 46%\rxmin progress: 48%\rxmin progress: 51%\rxmin progress: 53%\rxmin progress: 56%\rxmin progress: 58%\rxmin progress: 60%\rxmin progress: 63%\rxmin progress: 65%\rxmin progress: 68%\rxmin progress: 70%\rxmin progress: 73%\rxmin progress: 75%\rxmin progress: 78%\rxmin progress: 80%\rxmin progress: 82%\rxmin progress: 85%\rxmin progress: 87%\rxmin progress: 90%\rxmin progress: 92%\rxmin progress: 95%\rxmin progress: 97%\r"
          ]
        },
        {
          "output_type": "execute_result",
          "data": {
            "text/plain": [
              "(10.546177991210914, 0.026240956503554343)"
            ]
          },
          "metadata": {},
          "execution_count": 21
        }
      ]
    },
    {
      "cell_type": "code",
      "source": [
        "figPDF = powerlaw.plot_pdf(data, color='b')\n",
        "powerlaw.plot_pdf(data, linear_bins=True, color='r', ax=figPDF)\n",
        "####\n",
        "figPDF.set_ylabel(\"p(X)\")\n",
        "figPDF.set_xlabel(r\"Book popularity (borrow count)\")\n",
        "# figname = 'FigPDF'\n",
        "# savefig(figname+'.eps', bbox_inches='tight')\n",
        "figPDF"
      ],
      "metadata": {
        "colab": {
          "base_uri": "https://localhost:8080/",
          "height": 301
        },
        "id": "i_CnyT_-lTAI",
        "outputId": "510cf0d3-87b7-4332-89f8-0998e9f57fb5"
      },
      "execution_count": null,
      "outputs": [
        {
          "output_type": "execute_result",
          "data": {
            "text/plain": [
              "<matplotlib.axes._subplots.AxesSubplot at 0x7f586695ce10>"
            ]
          },
          "metadata": {},
          "execution_count": 56
        },
        {
          "output_type": "display_data",
          "data": {
            "image/png": "[encoded data removed]",
            "text/plain": [
              "<Figure size 432x288 with 1 Axes>"
            ]
          },
          "metadata": {
            "needs_background": "light"
          }
        }
      ]
    },
    {
      "cell_type": "code",
      "source": [
        "\n",
        "fit = powerlaw.Fit(data, discrete=True)\n",
        "####\n",
        "fit.distribution_compare('power_law', 'lognormal')\n",
        "fig = fit.plot_ccdf(linewidth=3, label='Empirical Data')\n",
        "fit.power_law.plot_ccdf(ax=fig, color='r', linestyle='--', label='Power law fit')\n",
        "fit.lognormal.plot_ccdf(ax=fig, color='g', linestyle='--', label='Lognormal fit')\n",
        "####\n",
        "fig.set_ylabel(u\"p(X≥x)\")\n",
        "fig.set_xlabel(\"Book popularity (borrow count)\")\n",
        "handles, labels = fig.get_legend_handles_labels()\n",
        "fig.legend(handles, labels, loc=3)"
      ],
      "metadata": {
        "colab": {
          "base_uri": "https://localhost:8080/",
          "height": 320
        },
        "id": "bIOrGhIvljmW",
        "outputId": "48e087c6-3b8c-4c46-e193-a3f7a14c3617"
      },
      "execution_count": null,
      "outputs": [
        {
          "output_type": "stream",
          "name": "stdout",
          "text": [
            "Calculating best minimal value for power law fit\n",
            "xmin progress: 00%\rxmin progress: 02%\rxmin progress: 04%\rxmin progress: 07%\rxmin progress: 09%\rxmin progress: 12%\rxmin progress: 14%\rxmin progress: 17%\rxmin progress: 19%\rxmin progress: 21%\rxmin progress: 24%\rxmin progress: 26%\rxmin progress: 29%\rxmin progress: 31%\rxmin progress: 34%\rxmin progress: 36%\rxmin progress: 39%\rxmin progress: 41%\rxmin progress: 43%\rxmin progress: 46%\rxmin progress: 48%\rxmin progress: 51%\rxmin progress: 53%\rxmin progress: 56%\rxmin progress: 58%\rxmin progress: 60%\rxmin progress: 63%\rxmin progress: 65%\rxmin progress: 68%\rxmin progress: 70%\rxmin progress: 73%\rxmin progress: 75%\rxmin progress: 78%\rxmin progress: 80%\rxmin progress: 82%\rxmin progress: 85%\rxmin progress: 87%\rxmin progress: 90%\rxmin progress: 92%\rxmin progress: 95%\rxmin progress: 97%\r"
          ]
        },
        {
          "output_type": "execute_result",
          "data": {
            "text/plain": [
              "<matplotlib.legend.Legend at 0x7f586e7edb90>"
            ]
          },
          "metadata": {},
          "execution_count": 55
        },
        {
          "output_type": "display_data",
          "data": {
            "image/png": "[encoded data removed]",
            "text/plain": [
              "<Figure size 432x288 with 1 Axes>"
            ]
          },
          "metadata": {
            "needs_background": "light"
          }
        }
      ]
    },
    {
      "cell_type": "code",
      "source": [
        "#FigCCDFmax = powerlaw.plot_ccdf(data, linewidth=3)\n",
        "fit = powerlaw.Fit(data, discrete=True, xmax=None)\n",
        "FigCCDFmax = fit.plot_ccdf(color='b', label=r\"Empirical, no $x_{max}$\")\n",
        "fit.power_law.plot_ccdf(color='b', linestyle='--', ax=FigCCDFmax, label=r\"Fit, no $x_{max}$\")\n",
        "fit = powerlaw.Fit(data, discrete=True, xmax=1000)\n",
        "fit.plot_ccdf(color='r', label=r\"Empirical, $x_{max}=1000$\")\n",
        "fit.power_law.plot_ccdf(color='r', linestyle='--', ax=FigCCDFmax, label=r\"Fit, $x_{max}=1000$\")\n",
        "#x, y = powerlaw.ccdf(data, xmax=max(data))\n",
        "#fig1.plot(x,y)\n",
        "####\n",
        "#FigCCDFmax.set_ylabel(r\"$p(X\\geq x)$\")\n",
        "FigCCDFmax.set_ylabel(u\"p(X≥x)\")\n",
        "FigCCDFmax.set_xlabel(r\"Books borrowed\")\n",
        "handles, labels = FigCCDFmax.get_legend_handles_labels()\n",
        "leg = FigCCDFmax.legend(handles, labels, loc=3)\n",
        "leg.draw_frame(False)"
      ],
      "metadata": {
        "colab": {
          "base_uri": "https://localhost:8080/",
          "height": 394
        },
        "id": "Pr2sZGtkl0mH",
        "outputId": "64cb05a8-1c6e-4878-fb66-08b0bf93f44a"
      },
      "execution_count": null,
      "outputs": [
        {
          "output_type": "stream",
          "name": "stdout",
          "text": [
            "Calculating best minimal value for power law fit\n",
            "Calculating best minimal value for power law fit\n"
          ]
        },
        {
          "output_type": "stream",
          "name": "stderr",
          "text": [
            "/usr/local/lib/python3.7/dist-packages/powerlaw.py:1195: RuntimeWarning: divide by zero encountered in double_scalars\n",
            "  C = 1.0/C\n",
            "/usr/local/lib/python3.7/dist-packages/scipy/optimize/optimize.py:597: RuntimeWarning: invalid value encountered in subtract\n",
            "  numpy.max(numpy.abs(fsim[0] - fsim[1:])) <= fatol):\n"
          ]
        },
        {
          "output_type": "display_data",
          "data": {
            "image/png": "[encoded data removed]",
            "text/plain": [
              "<Figure size 432x288 with 1 Axes>"
            ]
          },
          "metadata": {
            "needs_background": "light"
          }
        }
      ]
    },
    {
      "cell_type": "code",
      "source": [
        "# scaling range\n",
        "fit = powerlaw.Fit(data)\n",
        "fit.xmin\n",
        "fit.fixed_xmin\n",
        "fit.alpha\n",
        "fit.D\n",
        "fit = powerlaw.Fit(data, xmin=1.0)\n",
        "fit.xmin\n",
        "fit.fixed_xmin\n",
        "fit.alpha\n",
        "fit.D"
      ],
      "metadata": {
        "colab": {
          "base_uri": "https://localhost:8080/"
        },
        "id": "up0cxv8rmC5a",
        "outputId": "fe64f038-19f8-4814-ff69-5090a8655be8"
      },
      "execution_count": null,
      "outputs": [
        {
          "output_type": "stream",
          "name": "stdout",
          "text": [
            "Calculating best minimal value for power law fit\n",
            "xmin progress: 00%\rxmin progress: 02%\rxmin progress: 04%\rxmin progress: 07%\rxmin progress: 09%\rxmin progress: 12%\rxmin progress: 14%\rxmin progress: 17%\rxmin progress: 19%\rxmin progress: 21%\rxmin progress: 24%\rxmin progress: 26%\rxmin progress: 29%\rxmin progress: 31%\rxmin progress: 34%\rxmin progress: 36%\rxmin progress: 39%\rxmin progress: 41%\rxmin progress: 43%\rxmin progress: 46%\rxmin progress: 48%\rxmin progress: 51%\rxmin progress: 53%\rxmin progress: 56%\rxmin progress: 58%\rxmin progress: 60%\rxmin progress: 63%\rxmin progress: 65%\rxmin progress: 68%\rxmin progress: 70%\rxmin progress: 73%\rxmin progress: 75%\rxmin progress: 78%\rxmin progress: 80%\rxmin progress: 82%\rxmin progress: 85%\rxmin progress: 87%\rxmin progress: 90%\rxmin progress: 92%\rxmin progress: 95%\rxmin progress: 97%\r"
          ]
        },
        {
          "output_type": "execute_result",
          "data": {
            "text/plain": [
              "0.18166288277396397"
            ]
          },
          "metadata": {},
          "execution_count": 25
        }
      ]
    },
    {
      "cell_type": "code",
      "source": [
        "fit.power_law.alpha"
      ],
      "metadata": {
        "colab": {
          "base_uri": "https://localhost:8080/"
        },
        "id": "PcxAJPjomUuI",
        "outputId": "2d569e8b-3624-43f8-84d5-6c3e5ecfdeda"
      },
      "execution_count": null,
      "outputs": [
        {
          "output_type": "execute_result",
          "data": {
            "text/plain": [
              "2.1173007615879422"
            ]
          },
          "metadata": {},
          "execution_count": 26
        }
      ]
    },
    {
      "cell_type": "code",
      "source": [
        "fit.power_law.sigma"
      ],
      "metadata": {
        "id": "TtRaH92IoIik",
        "outputId": "f006da3b-ec23-44c9-d443-418d2f398bac",
        "colab": {
          "base_uri": "https://localhost:8080/"
        }
      },
      "execution_count": null,
      "outputs": [
        {
          "output_type": "execute_result",
          "data": {
            "text/plain": [
              "0.014821128299463332"
            ]
          },
          "metadata": {},
          "execution_count": 27
        }
      ]
    },
    {
      "cell_type": "markdown",
      "source": [
        "## books by unique borrowers"
      ],
      "metadata": {
        "id": "SfpeyI6RZqwr"
      }
    },
    {
      "cell_type": "code",
      "source": [
        "# these numbers were based on pure borrow count; what if we look at number of borrowrs instead?\n",
        "\n",
        "# load events\n",
        "events_df = pd.read_csv(csv_urls['events'])"
      ],
      "metadata": {
        "id": "AR-n1G0GoJmm",
        "colab": {
          "base_uri": "https://localhost:8080/"
        },
        "outputId": "ee0f267d-b712-45f4-e395-a75463381303"
      },
      "execution_count": null,
      "outputs": [
        {
          "output_type": "stream",
          "name": "stderr",
          "text": [
            "/usr/local/lib/python3.7/dist-packages/IPython/core/interactiveshell.py:2882: DtypeWarning: Columns (20) have mixed types.Specify dtype option on import or set low_memory=False.\n",
            "  exec(code_obj, self.user_global_ns, self.user_ns)\n"
          ]
        }
      ]
    },
    {
      "cell_type": "code",
      "source": [
        "# get all the borrows\n",
        "borrows = events_df[events_df.event_type == 'Borrow']\n",
        "borrows.shape[0]"
      ],
      "metadata": {
        "colab": {
          "base_uri": "https://localhost:8080/"
        },
        "id": "FKvYKWJhWcrm",
        "outputId": "69b7dfee-6c46-4143-9b7e-5768bdf88250"
      },
      "execution_count": null,
      "outputs": [
        {
          "output_type": "execute_result",
          "data": {
            "text/plain": [
              "21059"
            ]
          },
          "metadata": {},
          "execution_count": 31
        }
      ]
    },
    {
      "cell_type": "code",
      "source": [
        "borrows['item_id'] = borrows.item_uri.apply(lambda x: x.split('/')[-2])\n",
        "borrows.head()"
      ],
      "metadata": {
        "colab": {
          "base_uri": "https://localhost:8080/",
          "height": 589
        },
        "id": "h_x5oSV7XaPg",
        "outputId": "b735b03b-e2ea-44f0-9bc7-835c62fcce3e"
      },
      "execution_count": null,
      "outputs": [
        {
          "output_type": "stream",
          "name": "stderr",
          "text": [
            "/usr/local/lib/python3.7/dist-packages/ipykernel_launcher.py:1: SettingWithCopyWarning: \n",
            "A value is trying to be set on a copy of a slice from a DataFrame.\n",
            "Try using .loc[row_indexer,col_indexer] = value instead\n",
            "\n",
            "See the caveats in the documentation: https://pandas.pydata.org/pandas-docs/stable/user_guide/indexing.html#returning-a-view-versus-a-copy\n",
            "  \"\"\"Entry point for launching an IPython kernel.\n"
          ]
        },
        {
          "output_type": "execute_result",
          "data": {
            "text/html": [
              "\n",
              "  <div id=\"df-93321420-a0a6-4186-a970-8f25fb0176af\">\n",
              "    <div class=\"colab-df-container\">\n",
              "      <div>\n",
              "<style scoped>\n",
              "    .dataframe tbody tr th:only-of-type {\n",
              "        vertical-align: middle;\n",
              "    }\n",
              "\n",
              "    .dataframe tbody tr th {\n",
              "        vertical-align: top;\n",
              "    }\n",
              "\n",
              "    .dataframe thead th {\n",
              "        text-align: right;\n",
              "    }\n",
              "</style>\n",
              "<table border=\"1\" class=\"dataframe\">\n",
              "  <thead>\n",
              "    <tr style=\"text-align: right;\">\n",
              "      <th></th>\n",
              "      <th>event_type</th>\n",
              "      <th>start_date</th>\n",
              "      <th>end_date</th>\n",
              "      <th>member_uris</th>\n",
              "      <th>member_names</th>\n",
              "      <th>member_sort_names</th>\n",
              "      <th>subscription_price_paid</th>\n",
              "      <th>subscription_deposit</th>\n",
              "      <th>subscription_duration</th>\n",
              "      <th>subscription_duration_days</th>\n",
              "      <th>subscription_volumes</th>\n",
              "      <th>subscription_category</th>\n",
              "      <th>subscription_purchase_date</th>\n",
              "      <th>reimbursement_refund</th>\n",
              "      <th>borrow_status</th>\n",
              "      <th>borrow_duration_days</th>\n",
              "      <th>purchase_price</th>\n",
              "      <th>currency</th>\n",
              "      <th>item_uri</th>\n",
              "      <th>item_title</th>\n",
              "      <th>item_volume</th>\n",
              "      <th>item_authors</th>\n",
              "      <th>item_year</th>\n",
              "      <th>item_notes</th>\n",
              "      <th>source_type</th>\n",
              "      <th>source_citation</th>\n",
              "      <th>source_manifest</th>\n",
              "      <th>source_image</th>\n",
              "      <th>item_id</th>\n",
              "    </tr>\n",
              "  </thead>\n",
              "  <tbody>\n",
              "    <tr>\n",
              "      <th>2</th>\n",
              "      <td>Borrow</td>\n",
              "      <td>1922</td>\n",
              "      <td>1922-08-23</td>\n",
              "      <td>https://shakespeareandco.princeton.edu/members...</td>\n",
              "      <td>Mr. Rhys</td>\n",
              "      <td>Rhys, Mr.</td>\n",
              "      <td>NaN</td>\n",
              "      <td>NaN</td>\n",
              "      <td>NaN</td>\n",
              "      <td>NaN</td>\n",
              "      <td>NaN</td>\n",
              "      <td>NaN</td>\n",
              "      <td>NaN</td>\n",
              "      <td>NaN</td>\n",
              "      <td>Returned</td>\n",
              "      <td>NaN</td>\n",
              "      <td>NaN</td>\n",
              "      <td>NaN</td>\n",
              "      <td>https://shakespeareandco.princeton.edu/books/c...</td>\n",
              "      <td>Typhoon</td>\n",
              "      <td>NaN</td>\n",
              "      <td>Conrad, Joseph</td>\n",
              "      <td>1902.0</td>\n",
              "      <td>NaN</td>\n",
              "      <td>Lending Library Card</td>\n",
              "      <td>Sylvia Beach, Rhys Lending Library Card, Box 4...</td>\n",
              "      <td>https://figgy.princeton.edu/concern/scanned_re...</td>\n",
              "      <td>https://iiif.princeton.edu/loris/figgy_prod/67...</td>\n",
              "      <td>conrad-typhoon</td>\n",
              "    </tr>\n",
              "    <tr>\n",
              "      <th>8</th>\n",
              "      <td>Borrow</td>\n",
              "      <td>1923</td>\n",
              "      <td>1923-11-07</td>\n",
              "      <td>https://shakespeareandco.princeton.edu/members...</td>\n",
              "      <td>Eyre de Lanux / Mrs. Pierre de Lanux</td>\n",
              "      <td>de Lanux, Eyre</td>\n",
              "      <td>NaN</td>\n",
              "      <td>NaN</td>\n",
              "      <td>NaN</td>\n",
              "      <td>NaN</td>\n",
              "      <td>NaN</td>\n",
              "      <td>NaN</td>\n",
              "      <td>NaN</td>\n",
              "      <td>NaN</td>\n",
              "      <td>Returned</td>\n",
              "      <td>NaN</td>\n",
              "      <td>NaN</td>\n",
              "      <td>NaN</td>\n",
              "      <td>https://shakespeareandco.princeton.edu/books/w...</td>\n",
              "      <td>Night and Day</td>\n",
              "      <td>NaN</td>\n",
              "      <td>Woolf, Virginia</td>\n",
              "      <td>1919.0</td>\n",
              "      <td>NaN</td>\n",
              "      <td>Lending Library Card</td>\n",
              "      <td>Sylvia Beach, Eyre de Lanux Lending Library Ca...</td>\n",
              "      <td>https://figgy.princeton.edu/concern/scanned_re...</td>\n",
              "      <td>https://iiif.princeton.edu/loris/figgy_prod/c5...</td>\n",
              "      <td>woolf-night-day</td>\n",
              "    </tr>\n",
              "    <tr>\n",
              "      <th>12</th>\n",
              "      <td>Borrow</td>\n",
              "      <td>1924</td>\n",
              "      <td>1924-10-22</td>\n",
              "      <td>https://shakespeareandco.princeton.edu/members...</td>\n",
              "      <td>Simone Téry</td>\n",
              "      <td>Téry, Simone</td>\n",
              "      <td>NaN</td>\n",
              "      <td>NaN</td>\n",
              "      <td>NaN</td>\n",
              "      <td>NaN</td>\n",
              "      <td>NaN</td>\n",
              "      <td>NaN</td>\n",
              "      <td>NaN</td>\n",
              "      <td>NaN</td>\n",
              "      <td>Returned</td>\n",
              "      <td>NaN</td>\n",
              "      <td>NaN</td>\n",
              "      <td>NaN</td>\n",
              "      <td>https://shakespeareandco.princeton.edu/books/j...</td>\n",
              "      <td>James Joyce</td>\n",
              "      <td>NaN</td>\n",
              "      <td>NaN</td>\n",
              "      <td>NaN</td>\n",
              "      <td>Unidentified. By or about Joyce.</td>\n",
              "      <td>Lending Library Card</td>\n",
              "      <td>Sylvia Beach, Mlle Simone Tery Lending Library...</td>\n",
              "      <td>https://figgy.princeton.edu/concern/scanned_re...</td>\n",
              "      <td>https://iiif.princeton.edu/loris/figgy_prod/c2...</td>\n",
              "      <td>james-joyce</td>\n",
              "    </tr>\n",
              "    <tr>\n",
              "      <th>13</th>\n",
              "      <td>Borrow</td>\n",
              "      <td>1924</td>\n",
              "      <td>1924-10-22</td>\n",
              "      <td>https://shakespeareandco.princeton.edu/members...</td>\n",
              "      <td>Simone Téry</td>\n",
              "      <td>Téry, Simone</td>\n",
              "      <td>NaN</td>\n",
              "      <td>NaN</td>\n",
              "      <td>NaN</td>\n",
              "      <td>NaN</td>\n",
              "      <td>NaN</td>\n",
              "      <td>NaN</td>\n",
              "      <td>NaN</td>\n",
              "      <td>NaN</td>\n",
              "      <td>Returned</td>\n",
              "      <td>NaN</td>\n",
              "      <td>NaN</td>\n",
              "      <td>NaN</td>\n",
              "      <td>https://shakespeareandco.princeton.edu/books/f...</td>\n",
              "      <td>A Portrait of George Moore in a Study of His Work</td>\n",
              "      <td>NaN</td>\n",
              "      <td>Freeman, John</td>\n",
              "      <td>1922.0</td>\n",
              "      <td>NaN</td>\n",
              "      <td>Lending Library Card</td>\n",
              "      <td>Sylvia Beach, Mlle Simone Tery Lending Library...</td>\n",
              "      <td>https://figgy.princeton.edu/concern/scanned_re...</td>\n",
              "      <td>https://iiif.princeton.edu/loris/figgy_prod/c2...</td>\n",
              "      <td>freeman-portrait-george-moore</td>\n",
              "    </tr>\n",
              "    <tr>\n",
              "      <th>22</th>\n",
              "      <td>Borrow</td>\n",
              "      <td>1926</td>\n",
              "      <td>1926-01-14</td>\n",
              "      <td>https://shakespeareandco.princeton.edu/members...</td>\n",
              "      <td>Ada (Hitchcock) MacLeish;Archibald MacLeish</td>\n",
              "      <td>MacLeish, Ada;MacLeish, Archibald</td>\n",
              "      <td>NaN</td>\n",
              "      <td>NaN</td>\n",
              "      <td>NaN</td>\n",
              "      <td>NaN</td>\n",
              "      <td>NaN</td>\n",
              "      <td>NaN</td>\n",
              "      <td>NaN</td>\n",
              "      <td>NaN</td>\n",
              "      <td>Returned</td>\n",
              "      <td>NaN</td>\n",
              "      <td>NaN</td>\n",
              "      <td>NaN</td>\n",
              "      <td>https://shakespeareandco.princeton.edu/books/s...</td>\n",
              "      <td>Tents of Israel</td>\n",
              "      <td>NaN</td>\n",
              "      <td>Stern, G. B.</td>\n",
              "      <td>1924.0</td>\n",
              "      <td>NaN</td>\n",
              "      <td>Lending Library Card</td>\n",
              "      <td>Sylvia Beach, Ada and Archibald MacLeish Lendi...</td>\n",
              "      <td>https://figgy.princeton.edu/concern/scanned_re...</td>\n",
              "      <td>https://iiif.princeton.edu/loris/figgy_prod/22...</td>\n",
              "      <td>stern-tents-israel</td>\n",
              "    </tr>\n",
              "  </tbody>\n",
              "</table>\n",
              "</div>\n",
              "      <button class=\"colab-df-convert\" onclick=\"convertToInteractive('df-93321420-a0a6-4186-a970-8f25fb0176af')\"\n",
              "              title=\"Convert this dataframe to an interactive table.\"\n",
              "              style=\"display:none;\">\n",
              "        \n",
              "  <svg xmlns=\"http://www.w3.org/2000/svg\" height=\"24px\"viewBox=\"0 0 24 24\"\n",
              "       width=\"24px\">\n",
              "    <path d=\"M0 0h24v24H0V0z\" fill=\"none\"/>\n",
              "    <path d=\"M18.56 5.44l.94 2.06.94-2.06 2.06-.94-2.06-.94-.94-2.06-.94 2.06-2.06.94zm-11 1L8.5 8.5l.94-2.06 2.06-.94-2.06-.94L8.5 2.5l-.94 2.06-2.06.94zm10 10l.94 2.06.94-2.06 2.06-.94-2.06-.94-.94-2.06-.94 2.06-2.06.94z\"/><path d=\"M17.41 7.96l-1.37-1.37c-.4-.4-.92-.59-1.43-.59-.52 0-1.04.2-1.43.59L10.3 9.45l-7.72 7.72c-.78.78-.78 2.05 0 2.83L4 21.41c.39.39.9.59 1.41.59.51 0 1.02-.2 1.41-.59l7.78-7.78 2.81-2.81c.8-.78.8-2.07 0-2.86zM5.41 20L4 18.59l7.72-7.72 1.47 1.35L5.41 20z\"/>\n",
              "  </svg>\n",
              "      </button>\n",
              "      \n",
              "  <style>\n",
              "    .colab-df-container {\n",
              "      display:flex;\n",
              "      flex-wrap:wrap;\n",
              "      gap: 12px;\n",
              "    }\n",
              "\n",
              "    .colab-df-convert {\n",
              "      background-color: #E8F0FE;\n",
              "      border: none;\n",
              "      border-radius: 50%;\n",
              "      cursor: pointer;\n",
              "      display: none;\n",
              "      fill: #1967D2;\n",
              "      height: 32px;\n",
              "      padding: 0 0 0 0;\n",
              "      width: 32px;\n",
              "    }\n",
              "\n",
              "    .colab-df-convert:hover {\n",
              "      background-color: #E2EBFA;\n",
              "      box-shadow: 0px 1px 2px rgba(60, 64, 67, 0.3), 0px 1px 3px 1px rgba(60, 64, 67, 0.15);\n",
              "      fill: #174EA6;\n",
              "    }\n",
              "\n",
              "    [theme=dark] .colab-df-convert {\n",
              "      background-color: #3B4455;\n",
              "      fill: #D2E3FC;\n",
              "    }\n",
              "\n",
              "    [theme=dark] .colab-df-convert:hover {\n",
              "      background-color: #434B5C;\n",
              "      box-shadow: 0px 1px 3px 1px rgba(0, 0, 0, 0.15);\n",
              "      filter: drop-shadow(0px 1px 2px rgba(0, 0, 0, 0.3));\n",
              "      fill: #FFFFFF;\n",
              "    }\n",
              "  </style>\n",
              "\n",
              "      <script>\n",
              "        const buttonEl =\n",
              "          document.querySelector('#df-93321420-a0a6-4186-a970-8f25fb0176af button.colab-df-convert');\n",
              "        buttonEl.style.display =\n",
              "          google.colab.kernel.accessAllowed ? 'block' : 'none';\n",
              "\n",
              "        async function convertToInteractive(key) {\n",
              "          const element = document.querySelector('#df-93321420-a0a6-4186-a970-8f25fb0176af');\n",
              "          const dataTable =\n",
              "            await google.colab.kernel.invokeFunction('convertToInteractive',\n",
              "                                                     [key], {});\n",
              "          if (!dataTable) return;\n",
              "\n",
              "          const docLinkHtml = 'Like what you see? Visit the ' +\n",
              "            '<a target=\"_blank\" href=https://colab.research.google.com/notebooks/data_table.ipynb>data table notebook</a>'\n",
              "            + ' to learn more about interactive tables.';\n",
              "          element.innerHTML = '';\n",
              "          dataTable['output_type'] = 'display_data';\n",
              "          await google.colab.output.renderOutput(dataTable, element);\n",
              "          const docLink = document.createElement('div');\n",
              "          docLink.innerHTML = docLinkHtml;\n",
              "          element.appendChild(docLink);\n",
              "        }\n",
              "      </script>\n",
              "    </div>\n",
              "  </div>\n",
              "  "
            ],
            "text/plain": [
              "   event_type  ...                        item_id\n",
              "2      Borrow  ...                 conrad-typhoon\n",
              "8      Borrow  ...                woolf-night-day\n",
              "12     Borrow  ...                    james-joyce\n",
              "13     Borrow  ...  freeman-portrait-george-moore\n",
              "22     Borrow  ...             stern-tents-israel\n",
              "\n",
              "[5 rows x 29 columns]"
            ]
          },
          "metadata": {},
          "execution_count": 45
        }
      ]
    },
    {
      "cell_type": "code",
      "source": [
        "# get unique book/person combination\n",
        "uniq_borrows = borrows[['member_uris', 'item_id']].drop_duplicates()\n",
        "uniq_borrows.shape[0]"
      ],
      "metadata": {
        "colab": {
          "base_uri": "https://localhost:8080/"
        },
        "id": "zgSiCprNWgaA",
        "outputId": "43912032-0e7e-48ad-f454-a67fcc1b0ff0"
      },
      "execution_count": null,
      "outputs": [
        {
          "output_type": "execute_result",
          "data": {
            "text/plain": [
              "19315"
            ]
          },
          "metadata": {},
          "execution_count": 46
        }
      ]
    },
    {
      "cell_type": "code",
      "source": [
        "uniq_borrow_book_counts = uniq_borrows.groupby('item_id').count().reset_index().rename(columns={'member_uris': 'borrower_count'}).sort_values('borrower_count', ascending=False)\n",
        "uniq_borrow_book_counts"
      ],
      "metadata": {
        "colab": {
          "base_uri": "https://localhost:8080/",
          "height": 424
        },
        "id": "RXayCEy1WtY4",
        "outputId": "47ebad13-cdac-4836-8e9b-c4d08a9673fd"
      },
      "execution_count": null,
      "outputs": [
        {
          "output_type": "execute_result",
          "data": {
            "text/html": [
              "\n",
              "  <div id=\"df-78f807bc-ccc7-4a61-a1ee-b257efd60d52\">\n",
              "    <div class=\"colab-df-container\">\n",
              "      <div>\n",
              "<style scoped>\n",
              "    .dataframe tbody tr th:only-of-type {\n",
              "        vertical-align: middle;\n",
              "    }\n",
              "\n",
              "    .dataframe tbody tr th {\n",
              "        vertical-align: top;\n",
              "    }\n",
              "\n",
              "    .dataframe thead th {\n",
              "        text-align: right;\n",
              "    }\n",
              "</style>\n",
              "<table border=\"1\" class=\"dataframe\">\n",
              "  <thead>\n",
              "    <tr style=\"text-align: right;\">\n",
              "      <th></th>\n",
              "      <th>item_id</th>\n",
              "      <th>borrower_count</th>\n",
              "    </tr>\n",
              "  </thead>\n",
              "  <tbody>\n",
              "    <tr>\n",
              "      <th>2717</th>\n",
              "      <td>joyce-portrait-artist-young</td>\n",
              "      <td>50</td>\n",
              "    </tr>\n",
              "    <tr>\n",
              "      <th>2710</th>\n",
              "      <td>joyce-dubliners</td>\n",
              "      <td>45</td>\n",
              "    </tr>\n",
              "    <tr>\n",
              "      <th>4209</th>\n",
              "      <td>richardson-pointed-roofs</td>\n",
              "      <td>40</td>\n",
              "    </tr>\n",
              "    <tr>\n",
              "      <th>3294</th>\n",
              "      <td>mansfield-garden-party-stories</td>\n",
              "      <td>34</td>\n",
              "    </tr>\n",
              "    <tr>\n",
              "      <th>2570</th>\n",
              "      <td>isherwood-mr-norris-changes</td>\n",
              "      <td>33</td>\n",
              "    </tr>\n",
              "    <tr>\n",
              "      <th>...</th>\n",
              "      <td>...</td>\n",
              "      <td>...</td>\n",
              "    </tr>\n",
              "    <tr>\n",
              "      <th>2780</th>\n",
              "      <td>keyserling-america-set-free</td>\n",
              "      <td>1</td>\n",
              "    </tr>\n",
              "    <tr>\n",
              "      <th>2786</th>\n",
              "      <td>king-hall-diary-young-lady</td>\n",
              "      <td>1</td>\n",
              "    </tr>\n",
              "    <tr>\n",
              "      <th>2789</th>\n",
              "      <td>king-translator-dante-life</td>\n",
              "      <td>1</td>\n",
              "    </tr>\n",
              "    <tr>\n",
              "      <th>2793</th>\n",
              "      <td>kipling</td>\n",
              "      <td>1</td>\n",
              "    </tr>\n",
              "    <tr>\n",
              "      <th>2841</th>\n",
              "      <td>kyd-spanish-tragedy</td>\n",
              "      <td>1</td>\n",
              "    </tr>\n",
              "  </tbody>\n",
              "</table>\n",
              "<p>5683 rows × 2 columns</p>\n",
              "</div>\n",
              "      <button class=\"colab-df-convert\" onclick=\"convertToInteractive('df-78f807bc-ccc7-4a61-a1ee-b257efd60d52')\"\n",
              "              title=\"Convert this dataframe to an interactive table.\"\n",
              "              style=\"display:none;\">\n",
              "        \n",
              "  <svg xmlns=\"http://www.w3.org/2000/svg\" height=\"24px\"viewBox=\"0 0 24 24\"\n",
              "       width=\"24px\">\n",
              "    <path d=\"M0 0h24v24H0V0z\" fill=\"none\"/>\n",
              "    <path d=\"M18.56 5.44l.94 2.06.94-2.06 2.06-.94-2.06-.94-.94-2.06-.94 2.06-2.06.94zm-11 1L8.5 8.5l.94-2.06 2.06-.94-2.06-.94L8.5 2.5l-.94 2.06-2.06.94zm10 10l.94 2.06.94-2.06 2.06-.94-2.06-.94-.94-2.06-.94 2.06-2.06.94z\"/><path d=\"M17.41 7.96l-1.37-1.37c-.4-.4-.92-.59-1.43-.59-.52 0-1.04.2-1.43.59L10.3 9.45l-7.72 7.72c-.78.78-.78 2.05 0 2.83L4 21.41c.39.39.9.59 1.41.59.51 0 1.02-.2 1.41-.59l7.78-7.78 2.81-2.81c.8-.78.8-2.07 0-2.86zM5.41 20L4 18.59l7.72-7.72 1.47 1.35L5.41 20z\"/>\n",
              "  </svg>\n",
              "      </button>\n",
              "      \n",
              "  <style>\n",
              "    .colab-df-container {\n",
              "      display:flex;\n",
              "      flex-wrap:wrap;\n",
              "      gap: 12px;\n",
              "    }\n",
              "\n",
              "    .colab-df-convert {\n",
              "      background-color: #E8F0FE;\n",
              "      border: none;\n",
              "      border-radius: 50%;\n",
              "      cursor: pointer;\n",
              "      display: none;\n",
              "      fill: #1967D2;\n",
              "      height: 32px;\n",
              "      padding: 0 0 0 0;\n",
              "      width: 32px;\n",
              "    }\n",
              "\n",
              "    .colab-df-convert:hover {\n",
              "      background-color: #E2EBFA;\n",
              "      box-shadow: 0px 1px 2px rgba(60, 64, 67, 0.3), 0px 1px 3px 1px rgba(60, 64, 67, 0.15);\n",
              "      fill: #174EA6;\n",
              "    }\n",
              "\n",
              "    [theme=dark] .colab-df-convert {\n",
              "      background-color: #3B4455;\n",
              "      fill: #D2E3FC;\n",
              "    }\n",
              "\n",
              "    [theme=dark] .colab-df-convert:hover {\n",
              "      background-color: #434B5C;\n",
              "      box-shadow: 0px 1px 3px 1px rgba(0, 0, 0, 0.15);\n",
              "      filter: drop-shadow(0px 1px 2px rgba(0, 0, 0, 0.3));\n",
              "      fill: #FFFFFF;\n",
              "    }\n",
              "  </style>\n",
              "\n",
              "      <script>\n",
              "        const buttonEl =\n",
              "          document.querySelector('#df-78f807bc-ccc7-4a61-a1ee-b257efd60d52 button.colab-df-convert');\n",
              "        buttonEl.style.display =\n",
              "          google.colab.kernel.accessAllowed ? 'block' : 'none';\n",
              "\n",
              "        async function convertToInteractive(key) {\n",
              "          const element = document.querySelector('#df-78f807bc-ccc7-4a61-a1ee-b257efd60d52');\n",
              "          const dataTable =\n",
              "            await google.colab.kernel.invokeFunction('convertToInteractive',\n",
              "                                                     [key], {});\n",
              "          if (!dataTable) return;\n",
              "\n",
              "          const docLinkHtml = 'Like what you see? Visit the ' +\n",
              "            '<a target=\"_blank\" href=https://colab.research.google.com/notebooks/data_table.ipynb>data table notebook</a>'\n",
              "            + ' to learn more about interactive tables.';\n",
              "          element.innerHTML = '';\n",
              "          dataTable['output_type'] = 'display_data';\n",
              "          await google.colab.output.renderOutput(dataTable, element);\n",
              "          const docLink = document.createElement('div');\n",
              "          docLink.innerHTML = docLinkHtml;\n",
              "          element.appendChild(docLink);\n",
              "        }\n",
              "      </script>\n",
              "    </div>\n",
              "  </div>\n",
              "  "
            ],
            "text/plain": [
              "                             item_id  borrower_count\n",
              "2717     joyce-portrait-artist-young              50\n",
              "2710                 joyce-dubliners              45\n",
              "4209        richardson-pointed-roofs              40\n",
              "3294  mansfield-garden-party-stories              34\n",
              "2570     isherwood-mr-norris-changes              33\n",
              "...                              ...             ...\n",
              "2780     keyserling-america-set-free               1\n",
              "2786      king-hall-diary-young-lady               1\n",
              "2789      king-translator-dante-life               1\n",
              "2793                         kipling               1\n",
              "2841             kyd-spanish-tragedy               1\n",
              "\n",
              "[5683 rows x 2 columns]"
            ]
          },
          "metadata": {},
          "execution_count": 47
        }
      ]
    },
    {
      "cell_type": "code",
      "source": [
        "uniq_borrow_book_counts.plot.bar(y='borrower_count', linewidth=0, figsize=(8, 6), legend=None)"
      ],
      "metadata": {
        "colab": {
          "base_uri": "https://localhost:8080/",
          "height": 408
        },
        "id": "Whc1Ice1W7Hu",
        "outputId": "0c464b61-3a44-46eb-8326-2760b868e975"
      },
      "execution_count": null,
      "outputs": [
        {
          "output_type": "execute_result",
          "data": {
            "text/plain": [
              "<matplotlib.axes._subplots.AxesSubplot at 0x7f586f293350>"
            ]
          },
          "metadata": {},
          "execution_count": 49
        },
        {
          "output_type": "display_data",
          "data": {
            "image/png": "[encoded data removed]",
            "text/plain": [
              "<Figure size 576x432 with 1 Axes>"
            ]
          },
          "metadata": {
            "needs_background": "light"
          }
        }
      ]
    },
    {
      "cell_type": "code",
      "source": [
        "uniq_borrow_book_counts.borrower_count.plot.density(figsize=(8, 6),\n",
        "                               fontsize=14,\n",
        "                               xlim=(0, 115),\n",
        "                               linewidth=2, rot=0)"
      ],
      "metadata": {
        "colab": {
          "base_uri": "https://localhost:8080/",
          "height": 396
        },
        "id": "hXu3o6ptZuem",
        "outputId": "685b1218-fa5f-4920-c0e0-bfa57b07b351"
      },
      "execution_count": null,
      "outputs": [
        {
          "output_type": "execute_result",
          "data": {
            "text/plain": [
              "<matplotlib.axes._subplots.AxesSubplot at 0x7f5865f39710>"
            ]
          },
          "metadata": {},
          "execution_count": 62
        },
        {
          "output_type": "display_data",
          "data": {
            "image/png": "[encoded data removed]",
            "text/plain": [
              "<Figure size 576x432 with 1 Axes>"
            ]
          },
          "metadata": {
            "needs_background": "light"
          }
        }
      ]
    },
    {
      "cell_type": "code",
      "source": [
        "# what if we plot on a log scale?\n",
        "uniq_borrow_book_counts.borrower_count.plot.density(figsize=(8, 6),\n",
        "                               fontsize=14,\n",
        "                               xlim=(0, 115),\n",
        "                               linewidth=2, logx=True)"
      ],
      "metadata": {
        "colab": {
          "base_uri": "https://localhost:8080/",
          "height": 457
        },
        "id": "GunMt28QeymT",
        "outputId": "e396a298-6753-4828-bc0e-61163474141e"
      },
      "execution_count": null,
      "outputs": [
        {
          "output_type": "stream",
          "name": "stderr",
          "text": [
            "/usr/local/lib/python3.7/dist-packages/pandas/plotting/_matplotlib/core.py:518: UserWarning: Attempted to set non-positive left xlim on a log-scaled axis.\n",
            "Invalid limit will be ignored.\n",
            "  ax.set_xlim(self.xlim)\n"
          ]
        },
        {
          "output_type": "execute_result",
          "data": {
            "text/plain": [
              "<matplotlib.axes._subplots.AxesSubplot at 0x7f5865e1c850>"
            ]
          },
          "metadata": {},
          "execution_count": 74
        },
        {
          "output_type": "display_data",
          "data": {
            "image/png": "[encoded data removed]",
            "text/plain": [
              "<Figure size 576x432 with 1 Axes>"
            ]
          },
          "metadata": {
            "needs_background": "light"
          }
        }
      ]
    },
    {
      "cell_type": "code",
      "source": [
        "# get the counts to fit with power law\n",
        "data2 = uniq_borrow_book_counts.borrower_count\n",
        "data2"
      ],
      "metadata": {
        "colab": {
          "base_uri": "https://localhost:8080/"
        },
        "id": "5-R8wL-KXxph",
        "outputId": "bfe26382-cfe4-42bb-cb20-7a9b46999bdb"
      },
      "execution_count": null,
      "outputs": [
        {
          "output_type": "execute_result",
          "data": {
            "text/plain": [
              "2717    50\n",
              "2710    45\n",
              "4209    40\n",
              "3294    34\n",
              "2570    33\n",
              "        ..\n",
              "2780     1\n",
              "2786     1\n",
              "2789     1\n",
              "2793     1\n",
              "2841     1\n",
              "Name: borrower_count, Length: 5683, dtype: int64"
            ]
          },
          "metadata": {},
          "execution_count": 50
        }
      ]
    },
    {
      "cell_type": "code",
      "source": [
        "fit2 = powerlaw.Fit(data2)\n",
        "fit2.power_law.alpha\n",
        "fit2.power_law.sigma\n",
        "fit2.distribution_compare('power_law', 'exponential')"
      ],
      "metadata": {
        "colab": {
          "base_uri": "https://localhost:8080/"
        },
        "id": "IqM8T1YjXlnz",
        "outputId": "001f866c-9057-4257-af84-531e71a5bbab"
      },
      "execution_count": null,
      "outputs": [
        {
          "output_type": "stream",
          "name": "stdout",
          "text": [
            "Calculating best minimal value for power law fit\n",
            "xmin progress: 00%\rxmin progress: 02%\rxmin progress: 05%\rxmin progress: 08%\rxmin progress: 11%\rxmin progress: 14%\rxmin progress: 17%\rxmin progress: 20%\rxmin progress: 23%\rxmin progress: 26%\rxmin progress: 29%\rxmin progress: 32%\rxmin progress: 35%\rxmin progress: 38%\rxmin progress: 41%\rxmin progress: 44%\rxmin progress: 47%\rxmin progress: 50%\rxmin progress: 52%\rxmin progress: 55%\rxmin progress: 58%\rxmin progress: 61%\rxmin progress: 64%\rxmin progress: 67%\rxmin progress: 70%\rxmin progress: 73%\rxmin progress: 76%\rxmin progress: 79%\rxmin progress: 82%\rxmin progress: 85%\rxmin progress: 88%\rxmin progress: 91%\rxmin progress: 94%\rxmin progress: 97%\r"
          ]
        },
        {
          "output_type": "execute_result",
          "data": {
            "text/plain": [
              "(1.5540902530614389, 0.121180870962726)"
            ]
          },
          "metadata": {},
          "execution_count": 51
        }
      ]
    },
    {
      "cell_type": "code",
      "source": [
        "\n",
        "fit2 = powerlaw.Fit(data2, discrete=True)\n",
        "####\n",
        "fit2.distribution_compare('power_law', 'lognormal')\n",
        "fig2 = fit2.plot_ccdf(linewidth=3, label='Empirical Data')\n",
        "fit2.power_law.plot_ccdf(ax=fig2, color='r', linestyle='--', label='Power law fit')\n",
        "fit2.lognormal.plot_ccdf(ax=fig2, color='g', linestyle='--', label='Lognormal fit')\n",
        "####\n",
        "fig2.set_ylabel(u\"p(X≥x)\")\n",
        "fig2.set_xlabel(\"Book popularity (unique borrowers)\")\n",
        "handles, labels = fig2.get_legend_handles_labels()\n",
        "fig2.legend(handles, labels, loc=3)"
      ],
      "metadata": {
        "colab": {
          "base_uri": "https://localhost:8080/",
          "height": 319
        },
        "id": "X5E0NGwpX_jM",
        "outputId": "4d09eeab-446a-4cff-cc89-b7dbe23d7e2b"
      },
      "execution_count": null,
      "outputs": [
        {
          "output_type": "stream",
          "name": "stdout",
          "text": [
            "Calculating best minimal value for power law fit\n",
            "xmin progress: 00%\rxmin progress: 02%\rxmin progress: 05%\rxmin progress: 08%\rxmin progress: 11%\rxmin progress: 14%\rxmin progress: 17%\rxmin progress: 20%\rxmin progress: 23%\rxmin progress: 26%\rxmin progress: 29%\rxmin progress: 32%\rxmin progress: 35%\rxmin progress: 38%\rxmin progress: 41%\rxmin progress: 44%\rxmin progress: 47%\rxmin progress: 50%\rxmin progress: 52%\rxmin progress: 55%\rxmin progress: 58%\rxmin progress: 61%\rxmin progress: 64%\rxmin progress: 67%\rxmin progress: 70%\rxmin progress: 73%\rxmin progress: 76%\rxmin progress: 79%\rxmin progress: 82%\rxmin progress: 85%\rxmin progress: 88%\rxmin progress: 91%\rxmin progress: 94%\rxmin progress: 97%\r"
          ]
        },
        {
          "output_type": "execute_result",
          "data": {
            "text/plain": [
              "<matplotlib.legend.Legend at 0x7f586646e0d0>"
            ]
          },
          "metadata": {},
          "execution_count": 59
        },
        {
          "output_type": "display_data",
          "data": {
            "image/png": "[encoded data removed]",
            "text/plain": [
              "<Figure size 432x288 with 1 Axes>"
            ]
          },
          "metadata": {
            "needs_background": "light"
          }
        }
      ]
    },
    {
      "cell_type": "code",
      "source": [
        "figPDF = powerlaw.plot_pdf(data2, color='b')\n",
        "powerlaw.plot_pdf(data2, linear_bins=True, color='r', ax=figPDF)\n",
        "####\n",
        "figPDF.set_ylabel(\"p(X)\")\n",
        "figPDF.set_xlabel(r\"Book popularity (unique borrowers)\")\n",
        "# figname = 'FigPDF'\n",
        "# savefig(figname+'.eps', bbox_inches='tight')\n",
        "figPDF"
      ],
      "metadata": {
        "colab": {
          "base_uri": "https://localhost:8080/",
          "height": 301
        },
        "id": "vwr2wbmvYGJJ",
        "outputId": "adfbfcde-81b5-4fae-8859-05066bb3b911"
      },
      "execution_count": null,
      "outputs": [
        {
          "output_type": "execute_result",
          "data": {
            "text/plain": [
              "<matplotlib.axes._subplots.AxesSubplot at 0x7f5867e27d90>"
            ]
          },
          "metadata": {},
          "execution_count": 54
        },
        {
          "output_type": "display_data",
          "data": {
            "image/png": "[encoded data removed]",
            "text/plain": [
              "<Figure size 432x288 with 1 Axes>"
            ]
          },
          "metadata": {
            "needs_background": "light"
          }
        }
      ]
    },
    {
      "cell_type": "code",
      "source": [
        "#FigCCDFmax = powerlaw.plot_ccdf(data, linewidth=3)\n",
        "fit2 = powerlaw.Fit(data2, discrete=True, xmax=None)\n",
        "FigCCDFmax = fit2.plot_ccdf(color='b', label=r\"Empirical, no $x_{max}$\")\n",
        "fit2.power_law.plot_ccdf(color='b', linestyle='--', ax=FigCCDFmax, label=r\"Fit, no $x_{max}$\")\n",
        "fit2 = powerlaw.Fit(data2, discrete=True, xmax=1000)\n",
        "fit2.plot_ccdf(color='r', label=r\"Empirical, $x_{max}=1000$\")\n",
        "fit2.power_law.plot_ccdf(color='r', linestyle='--', ax=FigCCDFmax, label=r\"Fit, $x_{max}=1000$\")\n",
        "#x, y = powerlaw.ccdf(data, xmax=max(data))\n",
        "#fig1.plot(x,y)\n",
        "####\n",
        "#FigCCDFmax.set_ylabel(r\"$p(X\\geq x)$\")\n",
        "FigCCDFmax.set_ylabel(u\"p(X≥x)\")\n",
        "FigCCDFmax.set_xlabel(r\"Book popularity (unique borrowers)\")\n",
        "handles, labels = FigCCDFmax.get_legend_handles_labels()\n",
        "leg = FigCCDFmax.legend(handles, labels, loc=3)\n",
        "leg.draw_frame(False)"
      ],
      "metadata": {
        "colab": {
          "base_uri": "https://localhost:8080/",
          "height": 393
        },
        "id": "mk7VWc1PYPww",
        "outputId": "15477113-caf2-4d70-ffda-aeef7f5f54d8"
      },
      "execution_count": null,
      "outputs": [
        {
          "output_type": "stream",
          "name": "stdout",
          "text": [
            "Calculating best minimal value for power law fit\n",
            "Calculating best minimal value for power law fit\n"
          ]
        },
        {
          "output_type": "stream",
          "name": "stderr",
          "text": [
            "/usr/local/lib/python3.7/dist-packages/powerlaw.py:1195: RuntimeWarning: divide by zero encountered in double_scalars\n",
            "  C = 1.0/C\n",
            "/usr/local/lib/python3.7/dist-packages/scipy/optimize/optimize.py:597: RuntimeWarning: invalid value encountered in subtract\n",
            "  numpy.max(numpy.abs(fsim[0] - fsim[1:])) <= fatol):\n"
          ]
        },
        {
          "output_type": "display_data",
          "data": {
            "image/png": "[encoded data removed]",
            "text/plain": [
              "<Figure size 432x288 with 1 Axes>"
            ]
          },
          "metadata": {
            "needs_background": "light"
          }
        }
      ]
    },
    {
      "cell_type": "markdown",
      "source": [
        "## beach's tally\n",
        "\n",
        "> Based on a handwritten tally in the Beach papers, we know that there were 4,600 books in February 1931. "
      ],
      "metadata": {
        "id": "Q3_FmHaUgMM3"
      }
    },
    {
      "cell_type": "code",
      "source": [
        "from datetime import date\n",
        "\n",
        "# parse start date so we can compare\n",
        "borrows['start_date_dt'] = pd.to_datetime(borrows['start_date'], errors='coerce')\n",
        "\n",
        "# get all borrows up to february 28 1931\n",
        "pretally_borrows = borrows[borrows.start_date_dt <= pd.to_datetime(date(1931, 2, 28))]\n",
        "\n",
        "# how many unique books?\n",
        "len(pretally_borrows.item_id.unique())"
      ],
      "metadata": {
        "colab": {
          "base_uri": "https://localhost:8080/"
        },
        "id": "yCgnGHwcgObq",
        "outputId": "b9995ebf-1450-49ac-949d-9512bf83a1e1"
      },
      "execution_count": null,
      "outputs": [
        {
          "output_type": "stream",
          "name": "stderr",
          "text": [
            "/usr/local/lib/python3.7/dist-packages/ipykernel_launcher.py:4: SettingWithCopyWarning: \n",
            "A value is trying to be set on a copy of a slice from a DataFrame.\n",
            "Try using .loc[row_indexer,col_indexer] = value instead\n",
            "\n",
            "See the caveats in the documentation: https://pandas.pydata.org/pandas-docs/stable/user_guide/indexing.html#returning-a-view-versus-a-copy\n",
            "  after removing the cwd from sys.path.\n"
          ]
        },
        {
          "output_type": "execute_result",
          "data": {
            "text/plain": [
              "2874"
            ]
          },
          "metadata": {},
          "execution_count": 92
        }
      ]
    },
    {
      "cell_type": "code",
      "source": [
        "pretally_borrows.borrow_status.value_counts()"
      ],
      "metadata": {
        "colab": {
          "base_uri": "https://localhost:8080/"
        },
        "id": "BPpJVX3ngN_h",
        "outputId": "03f25816-ce8e-4efd-deac-f191ced426e8"
      },
      "execution_count": null,
      "outputs": [
        {
          "output_type": "execute_result",
          "data": {
            "text/plain": [
              "Returned    6426\n",
              "Unknown      190\n",
              "Name: borrow_status, dtype: int64"
            ]
          },
          "metadata": {},
          "execution_count": 93
        }
      ]
    },
    {
      "cell_type": "code",
      "source": [
        "# what about only the books that were returned?\n",
        "len(pretally_borrows[pretally_borrows.borrow_status == 'Returned'].item_id.unique())"
      ],
      "metadata": {
        "colab": {
          "base_uri": "https://localhost:8080/"
        },
        "id": "PlaWafNyhP5A",
        "outputId": "0dc7372d-fcbc-4bb3-e8ea-2e6b5fb3e625"
      },
      "execution_count": null,
      "outputs": [
        {
          "output_type": "execute_result",
          "data": {
            "text/plain": [
              "2809"
            ]
          },
          "metadata": {},
          "execution_count": 94
        }
      ]
    },
    {
      "cell_type": "code",
      "source": [
        "# oh, but how do we group books so we get the *last* status?\n",
        "# a book could have been returned multiple times before it is lost or bought\n",
        "\n",
        "sorted_pretally_borrows = pretally_borrows.sort_values('start_date_dt', ascending=True)\n",
        "sorted_pretally_borrows[['start_date', 'item_id', 'borrow_status']]\n"
      ],
      "metadata": {
        "colab": {
          "base_uri": "https://localhost:8080/",
          "height": 424
        },
        "id": "hglAAo9_heDD",
        "outputId": "39eb52ed-75b3-4d3a-ddb4-27908d2b990c"
      },
      "execution_count": null,
      "outputs": [
        {
          "output_type": "execute_result",
          "data": {
            "text/html": [
              "\n",
              "  <div id=\"df-3be21f91-5656-4ce0-8c7a-ffc86cbca77c\">\n",
              "    <div class=\"colab-df-container\">\n",
              "      <div>\n",
              "<style scoped>\n",
              "    .dataframe tbody tr th:only-of-type {\n",
              "        vertical-align: middle;\n",
              "    }\n",
              "\n",
              "    .dataframe tbody tr th {\n",
              "        vertical-align: top;\n",
              "    }\n",
              "\n",
              "    .dataframe thead th {\n",
              "        text-align: right;\n",
              "    }\n",
              "</style>\n",
              "<table border=\"1\" class=\"dataframe\">\n",
              "  <thead>\n",
              "    <tr style=\"text-align: right;\">\n",
              "      <th></th>\n",
              "      <th>start_date</th>\n",
              "      <th>item_id</th>\n",
              "      <th>borrow_status</th>\n",
              "    </tr>\n",
              "  </thead>\n",
              "  <tbody>\n",
              "    <tr>\n",
              "      <th>674</th>\n",
              "      <td>1919-11-18</td>\n",
              "      <td>wilde-profundis</td>\n",
              "      <td>Returned</td>\n",
              "    </tr>\n",
              "    <tr>\n",
              "      <th>675</th>\n",
              "      <td>1919-11-18</td>\n",
              "      <td>hardy-trumpet-major</td>\n",
              "      <td>Returned</td>\n",
              "    </tr>\n",
              "    <tr>\n",
              "      <th>673</th>\n",
              "      <td>1919-11-18</td>\n",
              "      <td>meredith-diana-crossways</td>\n",
              "      <td>Returned</td>\n",
              "    </tr>\n",
              "    <tr>\n",
              "      <th>678</th>\n",
              "      <td>1919-11-19</td>\n",
              "      <td>james-roderick-hudson</td>\n",
              "      <td>Returned</td>\n",
              "    </tr>\n",
              "    <tr>\n",
              "      <th>680</th>\n",
              "      <td>1919-11-19</td>\n",
              "      <td>hazlitt-characters-shakespeares-plays</td>\n",
              "      <td>Returned</td>\n",
              "    </tr>\n",
              "    <tr>\n",
              "      <th>...</th>\n",
              "      <td>...</td>\n",
              "      <td>...</td>\n",
              "      <td>...</td>\n",
              "    </tr>\n",
              "    <tr>\n",
              "      <th>11927</th>\n",
              "      <td>1931-02-28</td>\n",
              "      <td>bronte-wuthering-heights</td>\n",
              "      <td>Returned</td>\n",
              "    </tr>\n",
              "    <tr>\n",
              "      <th>11928</th>\n",
              "      <td>1931-02-28</td>\n",
              "      <td>peck-shelley-life-work</td>\n",
              "      <td>Returned</td>\n",
              "    </tr>\n",
              "    <tr>\n",
              "      <th>11929</th>\n",
              "      <td>1931-02-28</td>\n",
              "      <td>swift-choice-works-dean</td>\n",
              "      <td>Returned</td>\n",
              "    </tr>\n",
              "    <tr>\n",
              "      <th>11930</th>\n",
              "      <td>1931-02-28</td>\n",
              "      <td>galsworthy-forsyte-saga</td>\n",
              "      <td>Returned</td>\n",
              "    </tr>\n",
              "    <tr>\n",
              "      <th>11931</th>\n",
              "      <td>1931-02-28</td>\n",
              "      <td>webb-precious-bane-novel</td>\n",
              "      <td>Returned</td>\n",
              "    </tr>\n",
              "  </tbody>\n",
              "</table>\n",
              "<p>6616 rows × 3 columns</p>\n",
              "</div>\n",
              "      <button class=\"colab-df-convert\" onclick=\"convertToInteractive('df-3be21f91-5656-4ce0-8c7a-ffc86cbca77c')\"\n",
              "              title=\"Convert this dataframe to an interactive table.\"\n",
              "              style=\"display:none;\">\n",
              "        \n",
              "  <svg xmlns=\"http://www.w3.org/2000/svg\" height=\"24px\"viewBox=\"0 0 24 24\"\n",
              "       width=\"24px\">\n",
              "    <path d=\"M0 0h24v24H0V0z\" fill=\"none\"/>\n",
              "    <path d=\"M18.56 5.44l.94 2.06.94-2.06 2.06-.94-2.06-.94-.94-2.06-.94 2.06-2.06.94zm-11 1L8.5 8.5l.94-2.06 2.06-.94-2.06-.94L8.5 2.5l-.94 2.06-2.06.94zm10 10l.94 2.06.94-2.06 2.06-.94-2.06-.94-.94-2.06-.94 2.06-2.06.94z\"/><path d=\"M17.41 7.96l-1.37-1.37c-.4-.4-.92-.59-1.43-.59-.52 0-1.04.2-1.43.59L10.3 9.45l-7.72 7.72c-.78.78-.78 2.05 0 2.83L4 21.41c.39.39.9.59 1.41.59.51 0 1.02-.2 1.41-.59l7.78-7.78 2.81-2.81c.8-.78.8-2.07 0-2.86zM5.41 20L4 18.59l7.72-7.72 1.47 1.35L5.41 20z\"/>\n",
              "  </svg>\n",
              "      </button>\n",
              "      \n",
              "  <style>\n",
              "    .colab-df-container {\n",
              "      display:flex;\n",
              "      flex-wrap:wrap;\n",
              "      gap: 12px;\n",
              "    }\n",
              "\n",
              "    .colab-df-convert {\n",
              "      background-color: #E8F0FE;\n",
              "      border: none;\n",
              "      border-radius: 50%;\n",
              "      cursor: pointer;\n",
              "      display: none;\n",
              "      fill: #1967D2;\n",
              "      height: 32px;\n",
              "      padding: 0 0 0 0;\n",
              "      width: 32px;\n",
              "    }\n",
              "\n",
              "    .colab-df-convert:hover {\n",
              "      background-color: #E2EBFA;\n",
              "      box-shadow: 0px 1px 2px rgba(60, 64, 67, 0.3), 0px 1px 3px 1px rgba(60, 64, 67, 0.15);\n",
              "      fill: #174EA6;\n",
              "    }\n",
              "\n",
              "    [theme=dark] .colab-df-convert {\n",
              "      background-color: #3B4455;\n",
              "      fill: #D2E3FC;\n",
              "    }\n",
              "\n",
              "    [theme=dark] .colab-df-convert:hover {\n",
              "      background-color: #434B5C;\n",
              "      box-shadow: 0px 1px 3px 1px rgba(0, 0, 0, 0.15);\n",
              "      filter: drop-shadow(0px 1px 2px rgba(0, 0, 0, 0.3));\n",
              "      fill: #FFFFFF;\n",
              "    }\n",
              "  </style>\n",
              "\n",
              "      <script>\n",
              "        const buttonEl =\n",
              "          document.querySelector('#df-3be21f91-5656-4ce0-8c7a-ffc86cbca77c button.colab-df-convert');\n",
              "        buttonEl.style.display =\n",
              "          google.colab.kernel.accessAllowed ? 'block' : 'none';\n",
              "\n",
              "        async function convertToInteractive(key) {\n",
              "          const element = document.querySelector('#df-3be21f91-5656-4ce0-8c7a-ffc86cbca77c');\n",
              "          const dataTable =\n",
              "            await google.colab.kernel.invokeFunction('convertToInteractive',\n",
              "                                                     [key], {});\n",
              "          if (!dataTable) return;\n",
              "\n",
              "          const docLinkHtml = 'Like what you see? Visit the ' +\n",
              "            '<a target=\"_blank\" href=https://colab.research.google.com/notebooks/data_table.ipynb>data table notebook</a>'\n",
              "            + ' to learn more about interactive tables.';\n",
              "          element.innerHTML = '';\n",
              "          dataTable['output_type'] = 'display_data';\n",
              "          await google.colab.output.renderOutput(dataTable, element);\n",
              "          const docLink = document.createElement('div');\n",
              "          docLink.innerHTML = docLinkHtml;\n",
              "          element.appendChild(docLink);\n",
              "        }\n",
              "      </script>\n",
              "    </div>\n",
              "  </div>\n",
              "  "
            ],
            "text/plain": [
              "       start_date                                item_id borrow_status\n",
              "674    1919-11-18                        wilde-profundis      Returned\n",
              "675    1919-11-18                    hardy-trumpet-major      Returned\n",
              "673    1919-11-18               meredith-diana-crossways      Returned\n",
              "678    1919-11-19                  james-roderick-hudson      Returned\n",
              "680    1919-11-19  hazlitt-characters-shakespeares-plays      Returned\n",
              "...           ...                                    ...           ...\n",
              "11927  1931-02-28               bronte-wuthering-heights      Returned\n",
              "11928  1931-02-28                 peck-shelley-life-work      Returned\n",
              "11929  1931-02-28                swift-choice-works-dean      Returned\n",
              "11930  1931-02-28                galsworthy-forsyte-saga      Returned\n",
              "11931  1931-02-28               webb-precious-bane-novel      Returned\n",
              "\n",
              "[6616 rows x 3 columns]"
            ]
          },
          "metadata": {},
          "execution_count": 95
        }
      ]
    },
    {
      "cell_type": "code",
      "source": [
        "# drop duplicates based only on item id; keep the last entry\n",
        "pretally_borrow_laststatus = sorted_pretally_borrows.drop_duplicates(subset=['item_id'], keep='last')\n",
        "pretally_borrow_laststatus[['start_date', 'item_id', 'borrow_status']]"
      ],
      "metadata": {
        "colab": {
          "base_uri": "https://localhost:8080/",
          "height": 424
        },
        "id": "4FlUOmMPh4AN",
        "outputId": "500b5084-d22b-4b33-ca77-caee70d020e3"
      },
      "execution_count": null,
      "outputs": [
        {
          "output_type": "execute_result",
          "data": {
            "text/html": [
              "\n",
              "  <div id=\"df-1ec8f3e7-9239-42d6-b37b-b9f5b11a5c70\">\n",
              "    <div class=\"colab-df-container\">\n",
              "      <div>\n",
              "<style scoped>\n",
              "    .dataframe tbody tr th:only-of-type {\n",
              "        vertical-align: middle;\n",
              "    }\n",
              "\n",
              "    .dataframe tbody tr th {\n",
              "        vertical-align: top;\n",
              "    }\n",
              "\n",
              "    .dataframe thead th {\n",
              "        text-align: right;\n",
              "    }\n",
              "</style>\n",
              "<table border=\"1\" class=\"dataframe\">\n",
              "  <thead>\n",
              "    <tr style=\"text-align: right;\">\n",
              "      <th></th>\n",
              "      <th>start_date</th>\n",
              "      <th>item_id</th>\n",
              "      <th>borrow_status</th>\n",
              "    </tr>\n",
              "  </thead>\n",
              "  <tbody>\n",
              "    <tr>\n",
              "      <th>686</th>\n",
              "      <td>1919-11-24</td>\n",
              "      <td>butler-pigs-pigs</td>\n",
              "      <td>Returned</td>\n",
              "    </tr>\n",
              "    <tr>\n",
              "      <th>701</th>\n",
              "      <td>1919-12-01</td>\n",
              "      <td>arens-playboy-portfolio-art</td>\n",
              "      <td>Unknown</td>\n",
              "    </tr>\n",
              "    <tr>\n",
              "      <th>705</th>\n",
              "      <td>1919-12-02</td>\n",
              "      <td>webster-white-devil</td>\n",
              "      <td>Returned</td>\n",
              "    </tr>\n",
              "    <tr>\n",
              "      <th>706</th>\n",
              "      <td>1919-12-02</td>\n",
              "      <td>unclear-ile</td>\n",
              "      <td>Returned</td>\n",
              "    </tr>\n",
              "    <tr>\n",
              "      <th>713</th>\n",
              "      <td>1919-12-04</td>\n",
              "      <td>harte-idyls-foothills-prose</td>\n",
              "      <td>Returned</td>\n",
              "    </tr>\n",
              "    <tr>\n",
              "      <th>...</th>\n",
              "      <td>...</td>\n",
              "      <td>...</td>\n",
              "      <td>...</td>\n",
              "    </tr>\n",
              "    <tr>\n",
              "      <th>11927</th>\n",
              "      <td>1931-02-28</td>\n",
              "      <td>bronte-wuthering-heights</td>\n",
              "      <td>Returned</td>\n",
              "    </tr>\n",
              "    <tr>\n",
              "      <th>11928</th>\n",
              "      <td>1931-02-28</td>\n",
              "      <td>peck-shelley-life-work</td>\n",
              "      <td>Returned</td>\n",
              "    </tr>\n",
              "    <tr>\n",
              "      <th>11929</th>\n",
              "      <td>1931-02-28</td>\n",
              "      <td>swift-choice-works-dean</td>\n",
              "      <td>Returned</td>\n",
              "    </tr>\n",
              "    <tr>\n",
              "      <th>11930</th>\n",
              "      <td>1931-02-28</td>\n",
              "      <td>galsworthy-forsyte-saga</td>\n",
              "      <td>Returned</td>\n",
              "    </tr>\n",
              "    <tr>\n",
              "      <th>11931</th>\n",
              "      <td>1931-02-28</td>\n",
              "      <td>webb-precious-bane-novel</td>\n",
              "      <td>Returned</td>\n",
              "    </tr>\n",
              "  </tbody>\n",
              "</table>\n",
              "<p>2874 rows × 3 columns</p>\n",
              "</div>\n",
              "      <button class=\"colab-df-convert\" onclick=\"convertToInteractive('df-1ec8f3e7-9239-42d6-b37b-b9f5b11a5c70')\"\n",
              "              title=\"Convert this dataframe to an interactive table.\"\n",
              "              style=\"display:none;\">\n",
              "        \n",
              "  <svg xmlns=\"http://www.w3.org/2000/svg\" height=\"24px\"viewBox=\"0 0 24 24\"\n",
              "       width=\"24px\">\n",
              "    <path d=\"M0 0h24v24H0V0z\" fill=\"none\"/>\n",
              "    <path d=\"M18.56 5.44l.94 2.06.94-2.06 2.06-.94-2.06-.94-.94-2.06-.94 2.06-2.06.94zm-11 1L8.5 8.5l.94-2.06 2.06-.94-2.06-.94L8.5 2.5l-.94 2.06-2.06.94zm10 10l.94 2.06.94-2.06 2.06-.94-2.06-.94-.94-2.06-.94 2.06-2.06.94z\"/><path d=\"M17.41 7.96l-1.37-1.37c-.4-.4-.92-.59-1.43-.59-.52 0-1.04.2-1.43.59L10.3 9.45l-7.72 7.72c-.78.78-.78 2.05 0 2.83L4 21.41c.39.39.9.59 1.41.59.51 0 1.02-.2 1.41-.59l7.78-7.78 2.81-2.81c.8-.78.8-2.07 0-2.86zM5.41 20L4 18.59l7.72-7.72 1.47 1.35L5.41 20z\"/>\n",
              "  </svg>\n",
              "      </button>\n",
              "      \n",
              "  <style>\n",
              "    .colab-df-container {\n",
              "      display:flex;\n",
              "      flex-wrap:wrap;\n",
              "      gap: 12px;\n",
              "    }\n",
              "\n",
              "    .colab-df-convert {\n",
              "      background-color: #E8F0FE;\n",
              "      border: none;\n",
              "      border-radius: 50%;\n",
              "      cursor: pointer;\n",
              "      display: none;\n",
              "      fill: #1967D2;\n",
              "      height: 32px;\n",
              "      padding: 0 0 0 0;\n",
              "      width: 32px;\n",
              "    }\n",
              "\n",
              "    .colab-df-convert:hover {\n",
              "      background-color: #E2EBFA;\n",
              "      box-shadow: 0px 1px 2px rgba(60, 64, 67, 0.3), 0px 1px 3px 1px rgba(60, 64, 67, 0.15);\n",
              "      fill: #174EA6;\n",
              "    }\n",
              "\n",
              "    [theme=dark] .colab-df-convert {\n",
              "      background-color: #3B4455;\n",
              "      fill: #D2E3FC;\n",
              "    }\n",
              "\n",
              "    [theme=dark] .colab-df-convert:hover {\n",
              "      background-color: #434B5C;\n",
              "      box-shadow: 0px 1px 3px 1px rgba(0, 0, 0, 0.15);\n",
              "      filter: drop-shadow(0px 1px 2px rgba(0, 0, 0, 0.3));\n",
              "      fill: #FFFFFF;\n",
              "    }\n",
              "  </style>\n",
              "\n",
              "      <script>\n",
              "        const buttonEl =\n",
              "          document.querySelector('#df-1ec8f3e7-9239-42d6-b37b-b9f5b11a5c70 button.colab-df-convert');\n",
              "        buttonEl.style.display =\n",
              "          google.colab.kernel.accessAllowed ? 'block' : 'none';\n",
              "\n",
              "        async function convertToInteractive(key) {\n",
              "          const element = document.querySelector('#df-1ec8f3e7-9239-42d6-b37b-b9f5b11a5c70');\n",
              "          const dataTable =\n",
              "            await google.colab.kernel.invokeFunction('convertToInteractive',\n",
              "                                                     [key], {});\n",
              "          if (!dataTable) return;\n",
              "\n",
              "          const docLinkHtml = 'Like what you see? Visit the ' +\n",
              "            '<a target=\"_blank\" href=https://colab.research.google.com/notebooks/data_table.ipynb>data table notebook</a>'\n",
              "            + ' to learn more about interactive tables.';\n",
              "          element.innerHTML = '';\n",
              "          dataTable['output_type'] = 'display_data';\n",
              "          await google.colab.output.renderOutput(dataTable, element);\n",
              "          const docLink = document.createElement('div');\n",
              "          docLink.innerHTML = docLinkHtml;\n",
              "          element.appendChild(docLink);\n",
              "        }\n",
              "      </script>\n",
              "    </div>\n",
              "  </div>\n",
              "  "
            ],
            "text/plain": [
              "       start_date                      item_id borrow_status\n",
              "686    1919-11-24             butler-pigs-pigs      Returned\n",
              "701    1919-12-01  arens-playboy-portfolio-art       Unknown\n",
              "705    1919-12-02          webster-white-devil      Returned\n",
              "706    1919-12-02                  unclear-ile      Returned\n",
              "713    1919-12-04  harte-idyls-foothills-prose      Returned\n",
              "...           ...                          ...           ...\n",
              "11927  1931-02-28     bronte-wuthering-heights      Returned\n",
              "11928  1931-02-28       peck-shelley-life-work      Returned\n",
              "11929  1931-02-28      swift-choice-works-dean      Returned\n",
              "11930  1931-02-28      galsworthy-forsyte-saga      Returned\n",
              "11931  1931-02-28     webb-precious-bane-novel      Returned\n",
              "\n",
              "[2874 rows x 3 columns]"
            ]
          },
          "metadata": {},
          "execution_count": 97
        }
      ]
    },
    {
      "cell_type": "code",
      "source": [
        "pretally_borrow_laststatus.borrow_status.value_counts()"
      ],
      "metadata": {
        "colab": {
          "base_uri": "https://localhost:8080/"
        },
        "id": "hSw5M54MjNwU",
        "outputId": "474ee069-509e-45b7-bdbc-6eff1e724db7"
      },
      "execution_count": null,
      "outputs": [
        {
          "output_type": "execute_result",
          "data": {
            "text/plain": [
              "Returned    2765\n",
              "Unknown      109\n",
              "Name: borrow_status, dtype: int64"
            ]
          },
          "metadata": {},
          "execution_count": 98
        }
      ]
    },
    {
      "cell_type": "code",
      "source": [
        "pretally_borrow_laststatus[pretally_borrow_laststatus.borrow_status == 'Returned'][['start_date', 'item_id', 'borrow_status']]"
      ],
      "metadata": {
        "colab": {
          "base_uri": "https://localhost:8080/",
          "height": 424
        },
        "id": "gsFW5wCFjTVU",
        "outputId": "b05b21e8-9ae6-4dfa-f8bc-941c5bb8e2fe"
      },
      "execution_count": null,
      "outputs": [
        {
          "output_type": "execute_result",
          "data": {
            "text/html": [
              "\n",
              "  <div id=\"df-b506e5b0-477f-434f-8188-ff295bf86e64\">\n",
              "    <div class=\"colab-df-container\">\n",
              "      <div>\n",
              "<style scoped>\n",
              "    .dataframe tbody tr th:only-of-type {\n",
              "        vertical-align: middle;\n",
              "    }\n",
              "\n",
              "    .dataframe tbody tr th {\n",
              "        vertical-align: top;\n",
              "    }\n",
              "\n",
              "    .dataframe thead th {\n",
              "        text-align: right;\n",
              "    }\n",
              "</style>\n",
              "<table border=\"1\" class=\"dataframe\">\n",
              "  <thead>\n",
              "    <tr style=\"text-align: right;\">\n",
              "      <th></th>\n",
              "      <th>start_date</th>\n",
              "      <th>item_id</th>\n",
              "      <th>borrow_status</th>\n",
              "    </tr>\n",
              "  </thead>\n",
              "  <tbody>\n",
              "    <tr>\n",
              "      <th>686</th>\n",
              "      <td>1919-11-24</td>\n",
              "      <td>butler-pigs-pigs</td>\n",
              "      <td>Returned</td>\n",
              "    </tr>\n",
              "    <tr>\n",
              "      <th>705</th>\n",
              "      <td>1919-12-02</td>\n",
              "      <td>webster-white-devil</td>\n",
              "      <td>Returned</td>\n",
              "    </tr>\n",
              "    <tr>\n",
              "      <th>706</th>\n",
              "      <td>1919-12-02</td>\n",
              "      <td>unclear-ile</td>\n",
              "      <td>Returned</td>\n",
              "    </tr>\n",
              "    <tr>\n",
              "      <th>713</th>\n",
              "      <td>1919-12-04</td>\n",
              "      <td>harte-idyls-foothills-prose</td>\n",
              "      <td>Returned</td>\n",
              "    </tr>\n",
              "    <tr>\n",
              "      <th>714</th>\n",
              "      <td>1919-12-04</td>\n",
              "      <td>thompson-shelley</td>\n",
              "      <td>Returned</td>\n",
              "    </tr>\n",
              "    <tr>\n",
              "      <th>...</th>\n",
              "      <td>...</td>\n",
              "      <td>...</td>\n",
              "      <td>...</td>\n",
              "    </tr>\n",
              "    <tr>\n",
              "      <th>11927</th>\n",
              "      <td>1931-02-28</td>\n",
              "      <td>bronte-wuthering-heights</td>\n",
              "      <td>Returned</td>\n",
              "    </tr>\n",
              "    <tr>\n",
              "      <th>11928</th>\n",
              "      <td>1931-02-28</td>\n",
              "      <td>peck-shelley-life-work</td>\n",
              "      <td>Returned</td>\n",
              "    </tr>\n",
              "    <tr>\n",
              "      <th>11929</th>\n",
              "      <td>1931-02-28</td>\n",
              "      <td>swift-choice-works-dean</td>\n",
              "      <td>Returned</td>\n",
              "    </tr>\n",
              "    <tr>\n",
              "      <th>11930</th>\n",
              "      <td>1931-02-28</td>\n",
              "      <td>galsworthy-forsyte-saga</td>\n",
              "      <td>Returned</td>\n",
              "    </tr>\n",
              "    <tr>\n",
              "      <th>11931</th>\n",
              "      <td>1931-02-28</td>\n",
              "      <td>webb-precious-bane-novel</td>\n",
              "      <td>Returned</td>\n",
              "    </tr>\n",
              "  </tbody>\n",
              "</table>\n",
              "<p>2765 rows × 3 columns</p>\n",
              "</div>\n",
              "      <button class=\"colab-df-convert\" onclick=\"convertToInteractive('df-b506e5b0-477f-434f-8188-ff295bf86e64')\"\n",
              "              title=\"Convert this dataframe to an interactive table.\"\n",
              "              style=\"display:none;\">\n",
              "        \n",
              "  <svg xmlns=\"http://www.w3.org/2000/svg\" height=\"24px\"viewBox=\"0 0 24 24\"\n",
              "       width=\"24px\">\n",
              "    <path d=\"M0 0h24v24H0V0z\" fill=\"none\"/>\n",
              "    <path d=\"M18.56 5.44l.94 2.06.94-2.06 2.06-.94-2.06-.94-.94-2.06-.94 2.06-2.06.94zm-11 1L8.5 8.5l.94-2.06 2.06-.94-2.06-.94L8.5 2.5l-.94 2.06-2.06.94zm10 10l.94 2.06.94-2.06 2.06-.94-2.06-.94-.94-2.06-.94 2.06-2.06.94z\"/><path d=\"M17.41 7.96l-1.37-1.37c-.4-.4-.92-.59-1.43-.59-.52 0-1.04.2-1.43.59L10.3 9.45l-7.72 7.72c-.78.78-.78 2.05 0 2.83L4 21.41c.39.39.9.59 1.41.59.51 0 1.02-.2 1.41-.59l7.78-7.78 2.81-2.81c.8-.78.8-2.07 0-2.86zM5.41 20L4 18.59l7.72-7.72 1.47 1.35L5.41 20z\"/>\n",
              "  </svg>\n",
              "      </button>\n",
              "      \n",
              "  <style>\n",
              "    .colab-df-container {\n",
              "      display:flex;\n",
              "      flex-wrap:wrap;\n",
              "      gap: 12px;\n",
              "    }\n",
              "\n",
              "    .colab-df-convert {\n",
              "      background-color: #E8F0FE;\n",
              "      border: none;\n",
              "      border-radius: 50%;\n",
              "      cursor: pointer;\n",
              "      display: none;\n",
              "      fill: #1967D2;\n",
              "      height: 32px;\n",
              "      padding: 0 0 0 0;\n",
              "      width: 32px;\n",
              "    }\n",
              "\n",
              "    .colab-df-convert:hover {\n",
              "      background-color: #E2EBFA;\n",
              "      box-shadow: 0px 1px 2px rgba(60, 64, 67, 0.3), 0px 1px 3px 1px rgba(60, 64, 67, 0.15);\n",
              "      fill: #174EA6;\n",
              "    }\n",
              "\n",
              "    [theme=dark] .colab-df-convert {\n",
              "      background-color: #3B4455;\n",
              "      fill: #D2E3FC;\n",
              "    }\n",
              "\n",
              "    [theme=dark] .colab-df-convert:hover {\n",
              "      background-color: #434B5C;\n",
              "      box-shadow: 0px 1px 3px 1px rgba(0, 0, 0, 0.15);\n",
              "      filter: drop-shadow(0px 1px 2px rgba(0, 0, 0, 0.3));\n",
              "      fill: #FFFFFF;\n",
              "    }\n",
              "  </style>\n",
              "\n",
              "      <script>\n",
              "        const buttonEl =\n",
              "          document.querySelector('#df-b506e5b0-477f-434f-8188-ff295bf86e64 button.colab-df-convert');\n",
              "        buttonEl.style.display =\n",
              "          google.colab.kernel.accessAllowed ? 'block' : 'none';\n",
              "\n",
              "        async function convertToInteractive(key) {\n",
              "          const element = document.querySelector('#df-b506e5b0-477f-434f-8188-ff295bf86e64');\n",
              "          const dataTable =\n",
              "            await google.colab.kernel.invokeFunction('convertToInteractive',\n",
              "                                                     [key], {});\n",
              "          if (!dataTable) return;\n",
              "\n",
              "          const docLinkHtml = 'Like what you see? Visit the ' +\n",
              "            '<a target=\"_blank\" href=https://colab.research.google.com/notebooks/data_table.ipynb>data table notebook</a>'\n",
              "            + ' to learn more about interactive tables.';\n",
              "          element.innerHTML = '';\n",
              "          dataTable['output_type'] = 'display_data';\n",
              "          await google.colab.output.renderOutput(dataTable, element);\n",
              "          const docLink = document.createElement('div');\n",
              "          docLink.innerHTML = docLinkHtml;\n",
              "          element.appendChild(docLink);\n",
              "        }\n",
              "      </script>\n",
              "    </div>\n",
              "  </div>\n",
              "  "
            ],
            "text/plain": [
              "       start_date                      item_id borrow_status\n",
              "686    1919-11-24             butler-pigs-pigs      Returned\n",
              "705    1919-12-02          webster-white-devil      Returned\n",
              "706    1919-12-02                  unclear-ile      Returned\n",
              "713    1919-12-04  harte-idyls-foothills-prose      Returned\n",
              "714    1919-12-04             thompson-shelley      Returned\n",
              "...           ...                          ...           ...\n",
              "11927  1931-02-28     bronte-wuthering-heights      Returned\n",
              "11928  1931-02-28       peck-shelley-life-work      Returned\n",
              "11929  1931-02-28      swift-choice-works-dean      Returned\n",
              "11930  1931-02-28      galsworthy-forsyte-saga      Returned\n",
              "11931  1931-02-28     webb-precious-bane-novel      Returned\n",
              "\n",
              "[2765 rows x 3 columns]"
            ]
          },
          "metadata": {},
          "execution_count": 100
        }
      ]
    },
    {
      "cell_type": "code",
      "source": [
        "# double check\n",
        "len(pretally_borrow_laststatus[pretally_borrow_laststatus.borrow_status == 'Returned'].item_id.unique())"
      ],
      "metadata": {
        "colab": {
          "base_uri": "https://localhost:8080/"
        },
        "id": "PN4-35ORjeXL",
        "outputId": "19e3b1b5-bfb2-4f27-a1c4-011aa110d353"
      },
      "execution_count": null,
      "outputs": [
        {
          "output_type": "execute_result",
          "data": {
            "text/plain": [
              "2765"
            ]
          },
          "metadata": {},
          "execution_count": 101
        }
      ]
    },
    {
      "cell_type": "code",
      "source": [
        "2765 / 4600"
      ],
      "metadata": {
        "colab": {
          "base_uri": "https://localhost:8080/"
        },
        "id": "Zht_LslWjvs4",
        "outputId": "2256a2de-1637-409a-d286-15132a737e6b"
      },
      "execution_count": null,
      "outputs": [
        {
          "output_type": "execute_result",
          "data": {
            "text/plain": [
              "0.6010869565217392"
            ]
          },
          "metadata": {},
          "execution_count": 102
        }
      ]
    }
  ]
}