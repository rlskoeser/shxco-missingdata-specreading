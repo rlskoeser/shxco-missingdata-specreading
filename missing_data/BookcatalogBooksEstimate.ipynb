{
 "cells": [
  {
   "cell_type": "markdown",
   "metadata": {},
   "source": [
    "# Use Catalog of Book Acquisitions from 1933-1940 to check missing book estimate\n",
    "\n",
    "The Sylvia Beach archives include a catalog of book acquisitions from 1933-1940.\n",
    "\n",
    "This notebook uses a spreadsheet of book data from that catalog compiled by Robert Chiossi under the guidance of Joshua Kotin to check missing book estimates."
   ]
  },
  {
   "cell_type": "code",
   "execution_count": 21,
   "metadata": {
    "id": "1bv-WV15ua83"
   },
   "outputs": [],
   "source": [
    "import pandas as pd\n",
    "\n",
    "# add project root to path so we can import utility methods\n",
    "import sys\n",
    "sys.path.append('..')\n",
    "\n",
    "from utils.missing_data_processing import get_preprocessed_data, short_id, DATA_DIR\n"
   ]
  },
  {
   "cell_type": "code",
   "execution_count": 9,
   "metadata": {
    "id": "OLbHL3NtujXA"
   },
   "outputs": [],
   "source": [
    "# load books and events dataset\n",
    "data = get_preprocessed_data(\"books\", \"events\") \n",
    "books_df = data[\"books\"]\n",
    "events_df = data[\"events\"]"
   ]
  },
  {
   "cell_type": "markdown",
   "metadata": {},
   "source": [
    "Summary information about book and borrowing information\n",
    "\n",
    "- How many books were borrowed at least once?\n",
    "- How many books are 'uncertain'?\n",
    "- How many borrow events?\n",
    "- How many borrow events, excluding uncertain titles?\n",
    "\n",
    "*Note:* books that could not be positively identified by the Project team were flagged as `uncertain`; we exclude these from our analysis."
   ]
  },
  {
   "cell_type": "code",
   "execution_count": 152,
   "metadata": {
    "colab": {
     "base_uri": "https://localhost:8080/"
    },
    "id": "34p7or7QumDy",
    "outputId": "20221e84-8f7a-4739-9a44-425689ef8ed1"
   },
   "outputs": [
    {
     "name": "stdout",
     "output_type": "stream",
     "text": [
      "5,683 books borrowed at least once\n",
      "475 uncertain books\n",
      "21,059 borrow events\n",
      "20,316 borrow events for books that are not uncertain (i.e., identified titles)\n",
      "\n"
     ]
    }
   ],
   "source": [
    "\n",
    "borrowed_books = books_df[books_df.borrow_count != 0]\n",
    "total_borrowed_books = borrowed_books.shape[0]\n",
    "total_borrowed_books\n",
    "\n",
    "uncertain_books_df = books_df[books_df.uncertain]\n",
    "total_uncertain_books = uncertain_books_df.shape[0]\n",
    "\n",
    "# get all the borrow eventss\n",
    "borrows = events_df[events_df.event_type == 'Borrow']\n",
    "\n",
    "# exclude borrow events for uncertain titles\n",
    "certain_borrows = borrows[~borrows.item_id.isin(uncertain_books_df.id)]\n",
    "certain_borrows.shape[0]\n",
    "\n",
    "print(f\"\"\"{total_borrowed_books:,} books borrowed at least once\n",
    "{total_uncertain_books:,} uncertain books\n",
    "{borrows.shape[0]:,} borrow events\n",
    "{certain_borrows.shape[0]:,} borrow events for books that are not uncertain (i.e., identified titles)\n",
    "\"\"\")"
   ]
  },
  {
   "cell_type": "markdown",
   "metadata": {},
   "source": [
    "## Load acquisitions catalog data\n",
    "\n",
    "We use a subset of fields from the working Project spreadsheet: author, title, publication date, item uri, and acquisition date."
   ]
  },
  {
   "cell_type": "code",
   "execution_count": 23,
   "metadata": {
    "colab": {
     "base_uri": "https://localhost:8080/"
    },
    "id": "--ggYgmTvUBj",
    "outputId": "8c1af054-dacb-42e0-db64-d6963f4ea5b8"
   },
   "outputs": [
    {
     "data": {
      "text/html": [
       "<div>\n",
       "<style scoped>\n",
       "    .dataframe tbody tr th:only-of-type {\n",
       "        vertical-align: middle;\n",
       "    }\n",
       "\n",
       "    .dataframe tbody tr th {\n",
       "        vertical-align: top;\n",
       "    }\n",
       "\n",
       "    .dataframe thead th {\n",
       "        text-align: right;\n",
       "    }\n",
       "</style>\n",
       "<table border=\"1\" class=\"dataframe\">\n",
       "  <thead>\n",
       "    <tr style=\"text-align: right;\">\n",
       "      <th></th>\n",
       "      <th>author</th>\n",
       "      <th>title</th>\n",
       "      <th>pub_date</th>\n",
       "      <th>item_uri</th>\n",
       "      <th>acq_date</th>\n",
       "      <th>item_id</th>\n",
       "      <th>acq_date_dt</th>\n",
       "    </tr>\n",
       "  </thead>\n",
       "  <tbody>\n",
       "    <tr>\n",
       "      <th>0</th>\n",
       "      <td>Morley, Christopher</td>\n",
       "      <td>Being Human: A Story</td>\n",
       "      <td>1932</td>\n",
       "      <td>https://shakespeareandco.princeton.edu/books/m...</td>\n",
       "      <td>1933-03</td>\n",
       "      <td>morley-human</td>\n",
       "      <td>1933-03-01</td>\n",
       "    </tr>\n",
       "    <tr>\n",
       "      <th>1</th>\n",
       "      <td>Hurst, Fannie</td>\n",
       "      <td>Imitation of Life: A Novel</td>\n",
       "      <td>1933</td>\n",
       "      <td>https://shakespeareandco.princeton.edu/books/h...</td>\n",
       "      <td>1933-03</td>\n",
       "      <td>hurst-imitation-life</td>\n",
       "      <td>1933-03-01</td>\n",
       "    </tr>\n",
       "    <tr>\n",
       "      <th>2</th>\n",
       "      <td>Aldington, Richard</td>\n",
       "      <td>All Men Are Enemies: A Romance</td>\n",
       "      <td>1933</td>\n",
       "      <td>https://shakespeareandco.princeton.edu/books/a...</td>\n",
       "      <td>1933-03</td>\n",
       "      <td>aldington-men-enemies</td>\n",
       "      <td>1933-03-01</td>\n",
       "    </tr>\n",
       "    <tr>\n",
       "      <th>3</th>\n",
       "      <td>Anthony, Katharine</td>\n",
       "      <td>Marie Antoinette</td>\n",
       "      <td>1933</td>\n",
       "      <td>NaN</td>\n",
       "      <td>1933-03</td>\n",
       "      <td>None</td>\n",
       "      <td>1933-03-01</td>\n",
       "    </tr>\n",
       "    <tr>\n",
       "      <th>4</th>\n",
       "      <td>Jackson, J. Hampden</td>\n",
       "      <td>Europe sInce the War: A Sketch of Political De...</td>\n",
       "      <td>1933</td>\n",
       "      <td>https://shakespeareandco.princeton.edu/books/j...</td>\n",
       "      <td>1933-03</td>\n",
       "      <td>jackson-europe-since-war</td>\n",
       "      <td>1933-03-01</td>\n",
       "    </tr>\n",
       "  </tbody>\n",
       "</table>\n",
       "</div>"
      ],
      "text/plain": [
       "                author                                              title  \\\n",
       "0  Morley, Christopher                               Being Human: A Story   \n",
       "1        Hurst, Fannie                         Imitation of Life: A Novel   \n",
       "2   Aldington, Richard                     All Men Are Enemies: A Romance   \n",
       "3   Anthony, Katharine                                   Marie Antoinette   \n",
       "4  Jackson, J. Hampden  Europe sInce the War: A Sketch of Political De...   \n",
       "\n",
       "  pub_date                                           item_uri acq_date  \\\n",
       "0     1932  https://shakespeareandco.princeton.edu/books/m...  1933-03   \n",
       "1     1933  https://shakespeareandco.princeton.edu/books/h...  1933-03   \n",
       "2     1933  https://shakespeareandco.princeton.edu/books/a...  1933-03   \n",
       "3     1933                                                NaN  1933-03   \n",
       "4     1933  https://shakespeareandco.princeton.edu/books/j...  1933-03   \n",
       "\n",
       "                    item_id acq_date_dt  \n",
       "0              morley-human  1933-03-01  \n",
       "1      hurst-imitation-life  1933-03-01  \n",
       "2     aldington-men-enemies  1933-03-01  \n",
       "3                      None  1933-03-01  \n",
       "4  jackson-europe-since-war  1933-03-01  "
      ]
     },
     "execution_count": 23,
     "metadata": {},
     "output_type": "execute_result"
    }
   ],
   "source": [
    "catalog_df = pd.read_csv(DATA_DIR / \"beach_lendinglibrary_catalog.csv\")\n",
    "# add short-form item id\n",
    "catalog_df['item_id'] = catalog_df.item_uri.apply(short_id)\n",
    "# parse acquisition date, which are mostly month precision\n",
    "catalog_df['acq_date_dt'] = pd.to_datetime(catalog_df.acq_date, errors='coerce')\n",
    "catalog_df.head()"
   ]
  },
  {
   "cell_type": "markdown",
   "metadata": {},
   "source": [
    "### Trends in Beach's acquisitions"
   ]
  },
  {
   "cell_type": "code",
   "execution_count": 25,
   "metadata": {
    "colab": {
     "base_uri": "https://localhost:8080/",
     "height": 424
    },
    "id": "DfrzZpRJxFSC",
    "outputId": "3b8f419e-c6c8-4f4d-aea1-ea2d15acc4df"
   },
   "outputs": [
    {
     "data": {
      "text/html": [
       "<div>\n",
       "<style scoped>\n",
       "    .dataframe tbody tr th:only-of-type {\n",
       "        vertical-align: middle;\n",
       "    }\n",
       "\n",
       "    .dataframe tbody tr th {\n",
       "        vertical-align: top;\n",
       "    }\n",
       "\n",
       "    .dataframe thead th {\n",
       "        text-align: right;\n",
       "    }\n",
       "</style>\n",
       "<table border=\"1\" class=\"dataframe\">\n",
       "  <thead>\n",
       "    <tr style=\"text-align: right;\">\n",
       "      <th></th>\n",
       "      <th>acq_date_dt</th>\n",
       "      <th>total</th>\n",
       "    </tr>\n",
       "  </thead>\n",
       "  <tbody>\n",
       "    <tr>\n",
       "      <th>0</th>\n",
       "      <td>1933-03-31</td>\n",
       "      <td>27</td>\n",
       "    </tr>\n",
       "    <tr>\n",
       "      <th>1</th>\n",
       "      <td>1933-04-30</td>\n",
       "      <td>12</td>\n",
       "    </tr>\n",
       "    <tr>\n",
       "      <th>2</th>\n",
       "      <td>1933-05-31</td>\n",
       "      <td>16</td>\n",
       "    </tr>\n",
       "    <tr>\n",
       "      <th>3</th>\n",
       "      <td>1933-06-30</td>\n",
       "      <td>10</td>\n",
       "    </tr>\n",
       "    <tr>\n",
       "      <th>4</th>\n",
       "      <td>1933-07-31</td>\n",
       "      <td>10</td>\n",
       "    </tr>\n",
       "    <tr>\n",
       "      <th>5</th>\n",
       "      <td>1933-08-31</td>\n",
       "      <td>0</td>\n",
       "    </tr>\n",
       "    <tr>\n",
       "      <th>6</th>\n",
       "      <td>1933-09-30</td>\n",
       "      <td>28</td>\n",
       "    </tr>\n",
       "    <tr>\n",
       "      <th>7</th>\n",
       "      <td>1933-10-31</td>\n",
       "      <td>16</td>\n",
       "    </tr>\n",
       "    <tr>\n",
       "      <th>8</th>\n",
       "      <td>1933-11-30</td>\n",
       "      <td>26</td>\n",
       "    </tr>\n",
       "    <tr>\n",
       "      <th>9</th>\n",
       "      <td>1933-12-31</td>\n",
       "      <td>11</td>\n",
       "    </tr>\n",
       "  </tbody>\n",
       "</table>\n",
       "</div>"
      ],
      "text/plain": [
       "  acq_date_dt  total\n",
       "0  1933-03-31     27\n",
       "1  1933-04-30     12\n",
       "2  1933-05-31     16\n",
       "3  1933-06-30     10\n",
       "4  1933-07-31     10\n",
       "5  1933-08-31      0\n",
       "6  1933-09-30     28\n",
       "7  1933-10-31     16\n",
       "8  1933-11-30     26\n",
       "9  1933-12-31     11"
      ]
     },
     "execution_count": 25,
     "metadata": {},
     "output_type": "execute_result"
    }
   ],
   "source": [
    "# how many acquisitions per month?\n",
    "acq_weekly_count = catalog_df.groupby([pd.Grouper(key='acq_date_dt', freq='M')])['title'].count().reset_index()\n",
    "acq_weekly_count.rename(columns={'title': 'total'}, inplace=True)\n",
    "acq_weekly_count.head(10)"
   ]
  },
  {
   "cell_type": "code",
   "execution_count": 26,
   "metadata": {
    "colab": {
     "base_uri": "https://localhost:8080/",
     "height": 299
    },
    "id": "2cE6SgtHxa_4",
    "outputId": "a5980fb7-e88a-4987-81af-b33d96282c3a"
   },
   "outputs": [
    {
     "data": {
      "text/plain": [
       "<Axes: xlabel='acq_date_dt'>"
      ]
     },
     "execution_count": 26,
     "metadata": {},
     "output_type": "execute_result"
    },
    {
     "data": {
      "image/png": "[encoded data removed]",
      "text/plain": [
       "<Figure size 640x480 with 1 Axes>"
      ]
     },
     "metadata": {},
     "output_type": "display_data"
    }
   ],
   "source": [
    "acq_weekly_count.plot.line(y='total', x='acq_date_dt')"
   ]
  },
  {
   "cell_type": "code",
   "execution_count": 27,
   "metadata": {
    "colab": {
     "base_uri": "https://localhost:8080/"
    },
    "id": "IRZ7E7-Ax2XB",
    "outputId": "2b044561-169d-43cf-d4a6-2877ad380809"
   },
   "outputs": [
    {
     "data": {
      "text/plain": [
       "count    87.000000\n",
       "mean     12.091954\n",
       "std       9.931899\n",
       "min       0.000000\n",
       "25%       3.000000\n",
       "50%      10.000000\n",
       "75%      17.000000\n",
       "max      47.000000\n",
       "Name: total, dtype: float64"
      ]
     },
     "execution_count": 27,
     "metadata": {},
     "output_type": "execute_result"
    }
   ],
   "source": [
    "acq_weekly_count.total.describe()"
   ]
  },
  {
   "cell_type": "markdown",
   "metadata": {
    "id": "qkNGjUYVx694"
   },
   "source": [
    "On average, Beach acquired 12 books per month. Theare are some months with zero acquisitions; others with as many as 47."
   ]
  },
  {
   "cell_type": "code",
   "execution_count": 48,
   "metadata": {
    "colab": {
     "base_uri": "https://localhost:8080/",
     "height": 237
    },
    "id": "nJi9Uklex59h",
    "outputId": "24565608-179e-4b36-9ad1-30cf7b8ad8f6"
   },
   "outputs": [
    {
     "data": {
      "text/html": [
       "<div>\n",
       "<style scoped>\n",
       "    .dataframe tbody tr th:only-of-type {\n",
       "        vertical-align: middle;\n",
       "    }\n",
       "\n",
       "    .dataframe tbody tr th {\n",
       "        vertical-align: top;\n",
       "    }\n",
       "\n",
       "    .dataframe thead th {\n",
       "        text-align: right;\n",
       "    }\n",
       "</style>\n",
       "<table border=\"1\" class=\"dataframe\">\n",
       "  <thead>\n",
       "    <tr style=\"text-align: right;\">\n",
       "      <th></th>\n",
       "      <th>acq_date_dt</th>\n",
       "      <th>total</th>\n",
       "    </tr>\n",
       "  </thead>\n",
       "  <tbody>\n",
       "    <tr>\n",
       "      <th>5</th>\n",
       "      <td>1933-08-31</td>\n",
       "      <td>0</td>\n",
       "    </tr>\n",
       "    <tr>\n",
       "      <th>63</th>\n",
       "      <td>1938-06-30</td>\n",
       "      <td>0</td>\n",
       "    </tr>\n",
       "    <tr>\n",
       "      <th>65</th>\n",
       "      <td>1938-08-31</td>\n",
       "      <td>0</td>\n",
       "    </tr>\n",
       "    <tr>\n",
       "      <th>68</th>\n",
       "      <td>1938-11-30</td>\n",
       "      <td>0</td>\n",
       "    </tr>\n",
       "    <tr>\n",
       "      <th>77</th>\n",
       "      <td>1939-08-31</td>\n",
       "      <td>0</td>\n",
       "    </tr>\n",
       "    <tr>\n",
       "      <th>78</th>\n",
       "      <td>1939-09-30</td>\n",
       "      <td>0</td>\n",
       "    </tr>\n",
       "  </tbody>\n",
       "</table>\n",
       "</div>"
      ],
      "text/plain": [
       "   acq_date_dt  total\n",
       "5   1933-08-31      0\n",
       "63  1938-06-30      0\n",
       "65  1938-08-31      0\n",
       "68  1938-11-30      0\n",
       "77  1939-08-31      0\n",
       "78  1939-09-30      0"
      ]
     },
     "execution_count": 48,
     "metadata": {},
     "output_type": "execute_result"
    }
   ],
   "source": [
    "# which months had zero purchases?\n",
    "acq_weekly_count[acq_weekly_count.total == 0]"
   ]
  },
  {
   "cell_type": "code",
   "execution_count": 49,
   "metadata": {
    "colab": {
     "base_uri": "https://localhost:8080/",
     "height": 363
    },
    "id": "bPiQJNZXyFs8",
    "outputId": "2e5d6ea8-83af-4e37-b917-2f1439555bb3"
   },
   "outputs": [
    {
     "data": {
      "text/html": [
       "<div>\n",
       "<style scoped>\n",
       "    .dataframe tbody tr th:only-of-type {\n",
       "        vertical-align: middle;\n",
       "    }\n",
       "\n",
       "    .dataframe tbody tr th {\n",
       "        vertical-align: top;\n",
       "    }\n",
       "\n",
       "    .dataframe thead th {\n",
       "        text-align: right;\n",
       "    }\n",
       "</style>\n",
       "<table border=\"1\" class=\"dataframe\">\n",
       "  <thead>\n",
       "    <tr style=\"text-align: right;\">\n",
       "      <th></th>\n",
       "      <th>acq_date_dt</th>\n",
       "      <th>total</th>\n",
       "    </tr>\n",
       "  </thead>\n",
       "  <tbody>\n",
       "    <tr>\n",
       "      <th>55</th>\n",
       "      <td>1937-10-31</td>\n",
       "      <td>47</td>\n",
       "    </tr>\n",
       "    <tr>\n",
       "      <th>44</th>\n",
       "      <td>1936-11-30</td>\n",
       "      <td>41</td>\n",
       "    </tr>\n",
       "    <tr>\n",
       "      <th>67</th>\n",
       "      <td>1938-10-31</td>\n",
       "      <td>38</td>\n",
       "    </tr>\n",
       "    <tr>\n",
       "      <th>48</th>\n",
       "      <td>1937-03-31</td>\n",
       "      <td>35</td>\n",
       "    </tr>\n",
       "    <tr>\n",
       "      <th>47</th>\n",
       "      <td>1937-02-28</td>\n",
       "      <td>31</td>\n",
       "    </tr>\n",
       "  </tbody>\n",
       "</table>\n",
       "</div>"
      ],
      "text/plain": [
       "   acq_date_dt  total\n",
       "55  1937-10-31     47\n",
       "44  1936-11-30     41\n",
       "67  1938-10-31     38\n",
       "48  1937-03-31     35\n",
       "47  1937-02-28     31"
      ]
     },
     "execution_count": 49,
     "metadata": {},
     "output_type": "execute_result"
    }
   ],
   "source": [
    "# which months had the most purchases?\n",
    "acq_weekly_count.sort_values('total', ascending=False).head(5)"
   ]
  },
  {
   "cell_type": "markdown",
   "metadata": {},
   "source": [
    "### How does the acquisition data compare to the book data?\n",
    "\n",
    "Titles in the catalog without an item uri could not be linked to existing book data, thus are previously unknown titles."
   ]
  },
  {
   "cell_type": "code",
   "execution_count": 57,
   "metadata": {
    "colab": {
     "base_uri": "https://localhost:8080/"
    },
    "id": "6wGPrqOOycFH",
    "outputId": "63c7cc42-de73-487f-9259-818f4fadc161"
   },
   "outputs": [
    {
     "name": "stdout",
     "output_type": "stream",
     "text": [
      "Catalog covers 1933-03-01 to 1940-05-01\n",
      "1,055 total books in the catalog\n",
      "106 books in the catalog not in Project book data\n",
      "10.05% percent of books previously unknown\n",
      "\n"
     ]
    }
   ],
   "source": [
    "# what dates does the catalog cover?\n",
    "catalog_start_date = catalog_df.acq_date_dt.min()\n",
    "catalog_end_date = catalog_df.acq_date_dt.max()\n",
    "\n",
    "# how does the catalog compare to the library overall? \n",
    "catalog_total_books = catalog_df.shape[0]\n",
    "catalog_total_books\n",
    "\n",
    "# books without item uris were previously unknown\n",
    "unknown_books = catalog_df[catalog_df.item_id.isna()]\n",
    "total_unknown_books = unknown_books.shape[0]\n",
    "\n",
    "# what percent of these books were previously unknown?\n",
    "percent_unknown = total_unknown_books / catalog_total_books * 100\n",
    "\n",
    "\n",
    "print(f\"\"\"Catalog covers {catalog_start_date.date()} to {catalog_end_date.date()}\n",
    "{catalog_total_books:,} total books in the catalog\n",
    "{total_unknown_books:,} books in the catalog not in Project book data\n",
    "{percent_unknown:.2f}% percent of books previously unknown\n",
    "\"\"\")"
   ]
  },
  {
   "cell_type": "markdown",
   "metadata": {},
   "source": [
    "### Analyze borrowing activity for the dates covered by the catalog"
   ]
  },
  {
   "cell_type": "code",
   "execution_count": 61,
   "metadata": {
    "colab": {
     "base_uri": "https://localhost:8080/"
    },
    "id": "Jx92eJFEuykG",
    "outputId": "20dc5d66-94e7-4a9d-fa20-e228f7deb29c"
   },
   "outputs": [
    {
     "data": {
      "text/plain": [
       "24"
      ]
     },
     "execution_count": 61,
     "metadata": {},
     "output_type": "execute_result"
    }
   ],
   "source": [
    "# filter borrowing activity to this time period and check the books\n",
    "\n",
    "# parse start date so we can compare\n",
    "borrows['start_date_dt'] = pd.to_datetime(borrows['start_date'], errors='coerce')\n",
    "\n",
    "# get all borrows after 1933-03-01 and before 1940-05-01\n",
    "catalog_dates_borrows = borrows[borrows.start_date_dt >= catalog_start_date][borrows.start_date_dt <= catalog_end_date]\n",
    "\n",
    "# how many unique books in this time?\n",
    "len(catalog_dates_borrows.item_id.unique())"
   ]
  },
  {
   "cell_type": "code",
   "execution_count": 63,
   "metadata": {
    "colab": {
     "base_uri": "https://localhost:8080/",
     "height": 424
    },
    "id": "WsJ-qcM_3ZRt",
    "outputId": "45d1cb71-bb8e-454c-8ced-ca26263c2740"
   },
   "outputs": [
    {
     "data": {
      "text/html": [
       "<div>\n",
       "<style scoped>\n",
       "    .dataframe tbody tr th:only-of-type {\n",
       "        vertical-align: middle;\n",
       "    }\n",
       "\n",
       "    .dataframe tbody tr th {\n",
       "        vertical-align: top;\n",
       "    }\n",
       "\n",
       "    .dataframe thead th {\n",
       "        text-align: right;\n",
       "    }\n",
       "</style>\n",
       "<table border=\"1\" class=\"dataframe\">\n",
       "  <thead>\n",
       "    <tr style=\"text-align: right;\">\n",
       "      <th></th>\n",
       "      <th>author</th>\n",
       "      <th>title</th>\n",
       "      <th>pub_date</th>\n",
       "      <th>item_uri</th>\n",
       "      <th>acq_date</th>\n",
       "      <th>item_id</th>\n",
       "      <th>acq_date_dt</th>\n",
       "    </tr>\n",
       "  </thead>\n",
       "  <tbody>\n",
       "    <tr>\n",
       "      <th>0</th>\n",
       "      <td>Morley, Christopher</td>\n",
       "      <td>Being Human: A Story</td>\n",
       "      <td>1932</td>\n",
       "      <td>https://shakespeareandco.princeton.edu/books/m...</td>\n",
       "      <td>1933-03</td>\n",
       "      <td>morley-human</td>\n",
       "      <td>1933-03-01</td>\n",
       "    </tr>\n",
       "    <tr>\n",
       "      <th>1</th>\n",
       "      <td>Hurst, Fannie</td>\n",
       "      <td>Imitation of Life: A Novel</td>\n",
       "      <td>1933</td>\n",
       "      <td>https://shakespeareandco.princeton.edu/books/h...</td>\n",
       "      <td>1933-03</td>\n",
       "      <td>hurst-imitation-life</td>\n",
       "      <td>1933-03-01</td>\n",
       "    </tr>\n",
       "    <tr>\n",
       "      <th>2</th>\n",
       "      <td>Aldington, Richard</td>\n",
       "      <td>All Men Are Enemies: A Romance</td>\n",
       "      <td>1933</td>\n",
       "      <td>https://shakespeareandco.princeton.edu/books/a...</td>\n",
       "      <td>1933-03</td>\n",
       "      <td>aldington-men-enemies</td>\n",
       "      <td>1933-03-01</td>\n",
       "    </tr>\n",
       "    <tr>\n",
       "      <th>3</th>\n",
       "      <td>Anthony, Katharine</td>\n",
       "      <td>Marie Antoinette</td>\n",
       "      <td>1933</td>\n",
       "      <td>NaN</td>\n",
       "      <td>1933-03</td>\n",
       "      <td>None</td>\n",
       "      <td>1933-03-01</td>\n",
       "    </tr>\n",
       "    <tr>\n",
       "      <th>4</th>\n",
       "      <td>Jackson, J. Hampden</td>\n",
       "      <td>Europe sInce the War: A Sketch of Political De...</td>\n",
       "      <td>1933</td>\n",
       "      <td>https://shakespeareandco.princeton.edu/books/j...</td>\n",
       "      <td>1933-03</td>\n",
       "      <td>jackson-europe-since-war</td>\n",
       "      <td>1933-03-01</td>\n",
       "    </tr>\n",
       "  </tbody>\n",
       "</table>\n",
       "</div>"
      ],
      "text/plain": [
       "                author                                              title  \\\n",
       "0  Morley, Christopher                               Being Human: A Story   \n",
       "1        Hurst, Fannie                         Imitation of Life: A Novel   \n",
       "2   Aldington, Richard                     All Men Are Enemies: A Romance   \n",
       "3   Anthony, Katharine                                   Marie Antoinette   \n",
       "4  Jackson, J. Hampden  Europe sInce the War: A Sketch of Political De...   \n",
       "\n",
       "  pub_date                                           item_uri acq_date  \\\n",
       "0     1932  https://shakespeareandco.princeton.edu/books/m...  1933-03   \n",
       "1     1933  https://shakespeareandco.princeton.edu/books/h...  1933-03   \n",
       "2     1933  https://shakespeareandco.princeton.edu/books/a...  1933-03   \n",
       "3     1933                                                NaN  1933-03   \n",
       "4     1933  https://shakespeareandco.princeton.edu/books/j...  1933-03   \n",
       "\n",
       "                    item_id acq_date_dt  \n",
       "0              morley-human  1933-03-01  \n",
       "1      hurst-imitation-life  1933-03-01  \n",
       "2     aldington-men-enemies  1933-03-01  \n",
       "3                      None  1933-03-01  \n",
       "4  jackson-europe-since-war  1933-03-01  "
      ]
     },
     "execution_count": 63,
     "metadata": {},
     "output_type": "execute_result"
    }
   ],
   "source": [
    "# are any of the books with ids not in this borrow data?\n",
    "catalog_df[~catalog_df.item_id.isin(catalog_dates_borrows.item_id.unique())].head()"
   ]
  },
  {
   "cell_type": "code",
   "execution_count": 90,
   "metadata": {
    "colab": {
     "base_uri": "https://localhost:8080/"
    },
    "id": "1ZNTE1uL36W2",
    "outputId": "f81af43e-34c7-414e-f260-c0b227a1b28d"
   },
   "outputs": [
    {
     "data": {
      "text/plain": [
       "5149"
      ]
     },
     "execution_count": 90,
     "metadata": {},
     "output_type": "execute_result"
    }
   ],
   "source": [
    "# what is the first borrow for each book in the catalog?\n",
    "# create a subset of borrowing activity for catalog books only\n",
    "catalog_borrows = borrows[borrows.item_id.isin(catalog_df.item_id)]\n",
    "catalog_borrows.shape[0]"
   ]
  },
  {
   "cell_type": "code",
   "execution_count": 95,
   "metadata": {
    "colab": {
     "base_uri": "https://localhost:8080/",
     "height": 424
    },
    "id": "YJE-HAdr4moX",
    "outputId": "debd82f2-e986-4f31-d8ce-a2c73b835dc7"
   },
   "outputs": [
    {
     "data": {
      "text/html": [
       "<div>\n",
       "<style scoped>\n",
       "    .dataframe tbody tr th:only-of-type {\n",
       "        vertical-align: middle;\n",
       "    }\n",
       "\n",
       "    .dataframe tbody tr th {\n",
       "        vertical-align: top;\n",
       "    }\n",
       "\n",
       "    .dataframe thead th {\n",
       "        text-align: right;\n",
       "    }\n",
       "</style>\n",
       "<table border=\"1\" class=\"dataframe\">\n",
       "  <thead>\n",
       "    <tr style=\"text-align: right;\">\n",
       "      <th></th>\n",
       "      <th>item_id</th>\n",
       "      <th>start_date</th>\n",
       "    </tr>\n",
       "  </thead>\n",
       "  <tbody>\n",
       "    <tr>\n",
       "      <th>0</th>\n",
       "      <td>a-e-living-torch</td>\n",
       "      <td>1937-11-23</td>\n",
       "    </tr>\n",
       "    <tr>\n",
       "      <th>1</th>\n",
       "      <td>a-e-song-fountains</td>\n",
       "      <td>1934-01-22</td>\n",
       "    </tr>\n",
       "    <tr>\n",
       "      <th>2</th>\n",
       "      <td>abbe-around-world-eleven</td>\n",
       "      <td>1937-01-26</td>\n",
       "    </tr>\n",
       "    <tr>\n",
       "      <th>3</th>\n",
       "      <td>adamic-cradle-life-story</td>\n",
       "      <td>1937-04-14</td>\n",
       "    </tr>\n",
       "    <tr>\n",
       "      <th>4</th>\n",
       "      <td>adams-march-democracy-history</td>\n",
       "      <td>1933-05-11</td>\n",
       "    </tr>\n",
       "  </tbody>\n",
       "</table>\n",
       "</div>"
      ],
      "text/plain": [
       "                         item_id start_date\n",
       "0               a-e-living-torch 1937-11-23\n",
       "1             a-e-song-fountains 1934-01-22\n",
       "2       abbe-around-world-eleven 1937-01-26\n",
       "3       adamic-cradle-life-story 1937-04-14\n",
       "4  adams-march-democracy-history 1933-05-11"
      ]
     },
     "execution_count": 95,
     "metadata": {},
     "output_type": "execute_result"
    }
   ],
   "source": [
    "# get the first borrow for each catalog book\n",
    "# - convert start date to string so we can group\n",
    "catalog_borrows['start_date_str'] = catalog_borrows.start_date.apply(lambda x: str(x))\n",
    "catalog_first_borrows = catalog_borrows.groupby('item_id')['start_date_str'].min().reset_index()\n",
    "# convert back to date time\n",
    "catalog_first_borrows['start_date'] = pd.to_datetime(catalog_first_borrows[\"start_date_str\"], format=\"ISO8601\", errors='coerce')\n",
    "# drop string column\n",
    "catalog_first_borrows = catalog_first_borrows[['item_id', 'start_date']]\n",
    "catalog_first_borrows.head()"
   ]
  },
  {
   "cell_type": "code",
   "execution_count": 97,
   "metadata": {
    "colab": {
     "base_uri": "https://localhost:8080/",
     "height": 641
    },
    "id": "jFj0T68C4B6e",
    "outputId": "59f7582d-9449-43a9-a3d8-ed5f82f76214"
   },
   "outputs": [
    {
     "data": {
      "text/html": [
       "<div>\n",
       "<style scoped>\n",
       "    .dataframe tbody tr th:only-of-type {\n",
       "        vertical-align: middle;\n",
       "    }\n",
       "\n",
       "    .dataframe tbody tr th {\n",
       "        vertical-align: top;\n",
       "    }\n",
       "\n",
       "    .dataframe thead th {\n",
       "        text-align: right;\n",
       "    }\n",
       "</style>\n",
       "<table border=\"1\" class=\"dataframe\">\n",
       "  <thead>\n",
       "    <tr style=\"text-align: right;\">\n",
       "      <th></th>\n",
       "      <th>author</th>\n",
       "      <th>title</th>\n",
       "      <th>pub_date</th>\n",
       "      <th>item_uri</th>\n",
       "      <th>acq_date</th>\n",
       "      <th>item_id</th>\n",
       "      <th>acq_date_dt</th>\n",
       "      <th>first_borrow</th>\n",
       "    </tr>\n",
       "  </thead>\n",
       "  <tbody>\n",
       "    <tr>\n",
       "      <th>0</th>\n",
       "      <td>Morley, Christopher</td>\n",
       "      <td>Being Human: A Story</td>\n",
       "      <td>1932</td>\n",
       "      <td>https://shakespeareandco.princeton.edu/books/m...</td>\n",
       "      <td>1933-03</td>\n",
       "      <td>morley-human</td>\n",
       "      <td>1933-03-01</td>\n",
       "      <td>1934-04-01</td>\n",
       "    </tr>\n",
       "    <tr>\n",
       "      <th>1</th>\n",
       "      <td>Hurst, Fannie</td>\n",
       "      <td>Imitation of Life: A Novel</td>\n",
       "      <td>1933</td>\n",
       "      <td>https://shakespeareandco.princeton.edu/books/h...</td>\n",
       "      <td>1933-03</td>\n",
       "      <td>hurst-imitation-life</td>\n",
       "      <td>1933-03-01</td>\n",
       "      <td>1933-09-25</td>\n",
       "    </tr>\n",
       "    <tr>\n",
       "      <th>2</th>\n",
       "      <td>Aldington, Richard</td>\n",
       "      <td>All Men Are Enemies: A Romance</td>\n",
       "      <td>1933</td>\n",
       "      <td>https://shakespeareandco.princeton.edu/books/a...</td>\n",
       "      <td>1933-03</td>\n",
       "      <td>aldington-men-enemies</td>\n",
       "      <td>1933-03-01</td>\n",
       "      <td>1933-04-01</td>\n",
       "    </tr>\n",
       "    <tr>\n",
       "      <th>3</th>\n",
       "      <td>Jackson, J. Hampden</td>\n",
       "      <td>Europe sInce the War: A Sketch of Political De...</td>\n",
       "      <td>1933</td>\n",
       "      <td>https://shakespeareandco.princeton.edu/books/j...</td>\n",
       "      <td>1933-03</td>\n",
       "      <td>jackson-europe-since-war</td>\n",
       "      <td>1933-03-01</td>\n",
       "      <td>1933-05-29</td>\n",
       "    </tr>\n",
       "    <tr>\n",
       "      <th>4</th>\n",
       "      <td>Sugimoto, Etsu Inaqaki</td>\n",
       "      <td>A Daughter of the Samurai: How a Daughter of F...</td>\n",
       "      <td>1925</td>\n",
       "      <td>https://shakespeareandco.princeton.edu/books/s...</td>\n",
       "      <td>1933-03</td>\n",
       "      <td>sugimoto-daughter-samurai</td>\n",
       "      <td>1933-03-01</td>\n",
       "      <td>1933-03-07</td>\n",
       "    </tr>\n",
       "  </tbody>\n",
       "</table>\n",
       "</div>"
      ],
      "text/plain": [
       "                   author                                              title  \\\n",
       "0     Morley, Christopher                               Being Human: A Story   \n",
       "1           Hurst, Fannie                         Imitation of Life: A Novel   \n",
       "2      Aldington, Richard                     All Men Are Enemies: A Romance   \n",
       "3     Jackson, J. Hampden  Europe sInce the War: A Sketch of Political De...   \n",
       "4  Sugimoto, Etsu Inaqaki  A Daughter of the Samurai: How a Daughter of F...   \n",
       "\n",
       "  pub_date                                           item_uri acq_date  \\\n",
       "0     1932  https://shakespeareandco.princeton.edu/books/m...  1933-03   \n",
       "1     1933  https://shakespeareandco.princeton.edu/books/h...  1933-03   \n",
       "2     1933  https://shakespeareandco.princeton.edu/books/a...  1933-03   \n",
       "3     1933  https://shakespeareandco.princeton.edu/books/j...  1933-03   \n",
       "4     1925  https://shakespeareandco.princeton.edu/books/s...  1933-03   \n",
       "\n",
       "                     item_id acq_date_dt first_borrow  \n",
       "0               morley-human  1933-03-01   1934-04-01  \n",
       "1       hurst-imitation-life  1933-03-01   1933-09-25  \n",
       "2      aldington-men-enemies  1933-03-01   1933-04-01  \n",
       "3   jackson-europe-since-war  1933-03-01   1933-05-29  \n",
       "4  sugimoto-daughter-samurai  1933-03-01   1933-03-07  "
      ]
     },
     "execution_count": 97,
     "metadata": {},
     "output_type": "execute_result"
    }
   ],
   "source": [
    "# merge catalog information with catalog first borrows\n",
    "catalog_borrowing = pd.merge(catalog_df, catalog_first_borrows.rename(columns={'start_date': 'first_borrow'}))\n",
    "catalog_borrowing.head()"
   ]
  },
  {
   "cell_type": "code",
   "execution_count": 102,
   "metadata": {
    "colab": {
     "base_uri": "https://localhost:8080/",
     "height": 112
    },
    "id": "_6yKDqtR5NBo",
    "outputId": "c532611e-b11c-4c61-8519-b01272cc4cb2"
   },
   "outputs": [
    {
     "data": {
      "text/html": [
       "<div>\n",
       "<style scoped>\n",
       "    .dataframe tbody tr th:only-of-type {\n",
       "        vertical-align: middle;\n",
       "    }\n",
       "\n",
       "    .dataframe tbody tr th {\n",
       "        vertical-align: top;\n",
       "    }\n",
       "\n",
       "    .dataframe thead th {\n",
       "        text-align: right;\n",
       "    }\n",
       "</style>\n",
       "<table border=\"1\" class=\"dataframe\">\n",
       "  <thead>\n",
       "    <tr style=\"text-align: right;\">\n",
       "      <th></th>\n",
       "      <th>author</th>\n",
       "      <th>title</th>\n",
       "      <th>pub_date</th>\n",
       "      <th>acq_date</th>\n",
       "      <th>first_borrow</th>\n",
       "    </tr>\n",
       "  </thead>\n",
       "  <tbody>\n",
       "    <tr>\n",
       "      <th>8</th>\n",
       "      <td>Sitwell, Satcheverell</td>\n",
       "      <td>Mozart</td>\n",
       "      <td>1932</td>\n",
       "      <td>1933-03</td>\n",
       "      <td>1932-05-28</td>\n",
       "    </tr>\n",
       "    <tr>\n",
       "      <th>32</th>\n",
       "      <td>Bennett, Arnold</td>\n",
       "      <td>The Journals of Arnold Bennett, Vol. 3. (1921-...</td>\n",
       "      <td>1932</td>\n",
       "      <td>1933-05</td>\n",
       "      <td>1932-07-20</td>\n",
       "    </tr>\n",
       "    <tr>\n",
       "      <th>44</th>\n",
       "      <td>Oppenheim, E. Phillips</td>\n",
       "      <td>Murder at Monte Carlo</td>\n",
       "      <td>1933</td>\n",
       "      <td>1933-06</td>\n",
       "      <td>1933-02-19</td>\n",
       "    </tr>\n",
       "    <tr>\n",
       "      <th>45</th>\n",
       "      <td>Terry, Ellen</td>\n",
       "      <td>Ellen Terry's Memoirs</td>\n",
       "      <td>1932</td>\n",
       "      <td>1933-06</td>\n",
       "      <td>1933-02-05</td>\n",
       "    </tr>\n",
       "    <tr>\n",
       "      <th>67</th>\n",
       "      <td>Asquith, Margot</td>\n",
       "      <td>More Memories</td>\n",
       "      <td>1933</td>\n",
       "      <td>1933-09</td>\n",
       "      <td>1933-02-05</td>\n",
       "    </tr>\n",
       "    <tr>\n",
       "      <th>78</th>\n",
       "      <td>Stein, Gertrude</td>\n",
       "      <td>The Autobiography of Alice B. Toklas</td>\n",
       "      <td>1933</td>\n",
       "      <td>1933-09</td>\n",
       "      <td>1933-01-15</td>\n",
       "    </tr>\n",
       "    <tr>\n",
       "      <th>83</th>\n",
       "      <td>Macdonell, A.G.</td>\n",
       "      <td>The Shapkespeare Murders</td>\n",
       "      <td>1933</td>\n",
       "      <td>1933-10</td>\n",
       "      <td>1933-02-05</td>\n",
       "    </tr>\n",
       "    <tr>\n",
       "      <th>91</th>\n",
       "      <td>Mantz, Ruth Elvish and John Middleton Murry</td>\n",
       "      <td>The Life of Katherine Mansfield</td>\n",
       "      <td>1933</td>\n",
       "      <td>1933-10</td>\n",
       "      <td>1933-01-30</td>\n",
       "    </tr>\n",
       "    <tr>\n",
       "      <th>104</th>\n",
       "      <td>Whitehead, Alfred North</td>\n",
       "      <td>Adventures of Ideas</td>\n",
       "      <td>1933</td>\n",
       "      <td>1933-11</td>\n",
       "      <td>1933-01-22</td>\n",
       "    </tr>\n",
       "    <tr>\n",
       "      <th>125</th>\n",
       "      <td>Patrick, Q</td>\n",
       "      <td>S. S. Murder</td>\n",
       "      <td>1933</td>\n",
       "      <td>1933-12</td>\n",
       "      <td>1933-02-14</td>\n",
       "    </tr>\n",
       "    <tr>\n",
       "      <th>134</th>\n",
       "      <td>Nijinsky, Romola de Pulszky</td>\n",
       "      <td>Nijinsky</td>\n",
       "      <td>1934</td>\n",
       "      <td>1934-01</td>\n",
       "      <td>1933-02-10</td>\n",
       "    </tr>\n",
       "    <tr>\n",
       "      <th>783</th>\n",
       "      <td>NaN</td>\n",
       "      <td>Samuel Taylor Coleridge</td>\n",
       "      <td>?</td>\n",
       "      <td>1938-10</td>\n",
       "      <td>1922-01-25</td>\n",
       "    </tr>\n",
       "    <tr>\n",
       "      <th>902</th>\n",
       "      <td>Gorman, Herbert Sherman</td>\n",
       "      <td>James Joyce: His First Forty Years</td>\n",
       "      <td>1924</td>\n",
       "      <td>1940-4</td>\n",
       "      <td>1924-04-05</td>\n",
       "    </tr>\n",
       "  </tbody>\n",
       "</table>\n",
       "</div>"
      ],
      "text/plain": [
       "                                          author  \\\n",
       "8                          Sitwell, Satcheverell   \n",
       "32                               Bennett, Arnold   \n",
       "44                        Oppenheim, E. Phillips   \n",
       "45                                 Terry, Ellen    \n",
       "67                               Asquith, Margot   \n",
       "78                               Stein, Gertrude   \n",
       "83                               Macdonell, A.G.   \n",
       "91   Mantz, Ruth Elvish and John Middleton Murry   \n",
       "104                      Whitehead, Alfred North   \n",
       "125                                   Patrick, Q   \n",
       "134                  Nijinsky, Romola de Pulszky   \n",
       "783                                          NaN   \n",
       "902                      Gorman, Herbert Sherman   \n",
       "\n",
       "                                                 title pub_date acq_date  \\\n",
       "8                                               Mozart     1932  1933-03   \n",
       "32   The Journals of Arnold Bennett, Vol. 3. (1921-...     1932  1933-05   \n",
       "44                               Murder at Monte Carlo     1933  1933-06   \n",
       "45                               Ellen Terry's Memoirs     1932  1933-06   \n",
       "67                                       More Memories     1933  1933-09   \n",
       "78                The Autobiography of Alice B. Toklas     1933  1933-09   \n",
       "83                            The Shapkespeare Murders     1933  1933-10   \n",
       "91                     The Life of Katherine Mansfield     1933  1933-10   \n",
       "104                                Adventures of Ideas     1933  1933-11   \n",
       "125                                       S. S. Murder     1933  1933-12   \n",
       "134                                           Nijinsky     1934  1934-01   \n",
       "783                            Samuel Taylor Coleridge        ?  1938-10   \n",
       "902                 James Joyce: His First Forty Years     1924   1940-4   \n",
       "\n",
       "    first_borrow  \n",
       "8     1932-05-28  \n",
       "32    1932-07-20  \n",
       "44    1933-02-19  \n",
       "45    1933-02-05  \n",
       "67    1933-02-05  \n",
       "78    1933-01-15  \n",
       "83    1933-02-05  \n",
       "91    1933-01-30  \n",
       "104   1933-01-22  \n",
       "125   1933-02-14  \n",
       "134   1933-02-10  \n",
       "783   1922-01-25  \n",
       "902   1924-04-05  "
      ]
     },
     "execution_count": 102,
     "metadata": {},
     "output_type": "execute_result"
    }
   ],
   "source": [
    "# which titles were borrowed before this catalog?\n",
    "catalog_borrowing[catalog_borrowing.first_borrow < catalog_start_date][['author', 'title', 'pub_date', 'acq_date', 'first_borrow']]"
   ]
  },
  {
   "cell_type": "code",
   "execution_count": 104,
   "metadata": {
    "colab": {
     "base_uri": "https://localhost:8080/",
     "height": 1000
    },
    "id": "1LMtyIPP5W-D",
    "outputId": "d4b9bff1-124a-4c53-cf92-22dff5139310"
   },
   "outputs": [
    {
     "data": {
      "text/html": [
       "<div>\n",
       "<style scoped>\n",
       "    .dataframe tbody tr th:only-of-type {\n",
       "        vertical-align: middle;\n",
       "    }\n",
       "\n",
       "    .dataframe tbody tr th {\n",
       "        vertical-align: top;\n",
       "    }\n",
       "\n",
       "    .dataframe thead th {\n",
       "        text-align: right;\n",
       "    }\n",
       "</style>\n",
       "<table border=\"1\" class=\"dataframe\">\n",
       "  <thead>\n",
       "    <tr style=\"text-align: right;\">\n",
       "      <th></th>\n",
       "      <th>start_date</th>\n",
       "      <th>end_date</th>\n",
       "      <th>member_names</th>\n",
       "      <th>item_title</th>\n",
       "      <th>year</th>\n",
       "    </tr>\n",
       "  </thead>\n",
       "  <tbody>\n",
       "    <tr>\n",
       "      <th>2</th>\n",
       "      <td>1922</td>\n",
       "      <td>1922-08-23</td>\n",
       "      <td>Mr. Rhys</td>\n",
       "      <td>Typhoon</td>\n",
       "      <td>1922.0</td>\n",
       "    </tr>\n",
       "    <tr>\n",
       "      <th>8</th>\n",
       "      <td>1923</td>\n",
       "      <td>1923-11-07</td>\n",
       "      <td>Eyre de Lanux / Mrs. Pierre de Lanux</td>\n",
       "      <td>Night and Day</td>\n",
       "      <td>1923.0</td>\n",
       "    </tr>\n",
       "    <tr>\n",
       "      <th>12</th>\n",
       "      <td>1924</td>\n",
       "      <td>1924-10-22</td>\n",
       "      <td>Simone Téry</td>\n",
       "      <td>James Joyce</td>\n",
       "      <td>1924.0</td>\n",
       "    </tr>\n",
       "    <tr>\n",
       "      <th>13</th>\n",
       "      <td>1924</td>\n",
       "      <td>1924-10-22</td>\n",
       "      <td>Simone Téry</td>\n",
       "      <td>A Portrait of George Moore in a Study of His Work</td>\n",
       "      <td>1924.0</td>\n",
       "    </tr>\n",
       "    <tr>\n",
       "      <th>22</th>\n",
       "      <td>1926</td>\n",
       "      <td>1926-01-14</td>\n",
       "      <td>Ada (Hitchcock) MacLeish;Archibald MacLeish</td>\n",
       "      <td>Tents of Israel</td>\n",
       "      <td>1926.0</td>\n",
       "    </tr>\n",
       "  </tbody>\n",
       "</table>\n",
       "</div>"
      ],
      "text/plain": [
       "   start_date    end_date                                 member_names  \\\n",
       "2        1922  1922-08-23                                     Mr. Rhys   \n",
       "8        1923  1923-11-07         Eyre de Lanux / Mrs. Pierre de Lanux   \n",
       "12       1924  1924-10-22                                  Simone Téry   \n",
       "13       1924  1924-10-22                                  Simone Téry   \n",
       "22       1926  1926-01-14  Ada (Hitchcock) MacLeish;Archibald MacLeish   \n",
       "\n",
       "                                           item_title    year  \n",
       "2                                             Typhoon  1922.0  \n",
       "8                                       Night and Day  1923.0  \n",
       "12                                        James Joyce  1924.0  \n",
       "13  A Portrait of George Moore in a Study of His Work  1924.0  \n",
       "22                                    Tents of Israel  1926.0  "
      ]
     },
     "execution_count": 104,
     "metadata": {},
     "output_type": "execute_result"
    }
   ],
   "source": [
    "# to estimate properly, really need to know % of borrowing activity for early period / late period and compare ...\n",
    "\n",
    "# filter to all borrowing during this time period\n",
    "borrows['year'] = borrows.start_date_dt.apply(lambda x: x.year if pd.notna(x) else None)\n",
    "borrows[['start_date', 'end_date', 'member_names', 'item_title', 'year']].head()"
   ]
  },
  {
   "cell_type": "code",
   "execution_count": 72,
   "metadata": {
    "colab": {
     "base_uri": "https://localhost:8080/",
     "height": 206
    },
    "id": "vQz01gk6Uvg5",
    "outputId": "9c68e6d6-f925-4786-8796-79b63910a655"
   },
   "outputs": [
    {
     "data": {
      "text/html": [
       "<div>\n",
       "<style scoped>\n",
       "    .dataframe tbody tr th:only-of-type {\n",
       "        vertical-align: middle;\n",
       "    }\n",
       "\n",
       "    .dataframe tbody tr th {\n",
       "        vertical-align: top;\n",
       "    }\n",
       "\n",
       "    .dataframe thead th {\n",
       "        text-align: right;\n",
       "    }\n",
       "</style>\n",
       "<table border=\"1\" class=\"dataframe\">\n",
       "  <thead>\n",
       "    <tr style=\"text-align: right;\">\n",
       "      <th></th>\n",
       "      <th>start_date</th>\n",
       "      <th>end_date</th>\n",
       "      <th>date</th>\n",
       "    </tr>\n",
       "  </thead>\n",
       "  <tbody>\n",
       "    <tr>\n",
       "      <th>2</th>\n",
       "      <td>1922</td>\n",
       "      <td>1922-08-23</td>\n",
       "      <td>1922-08-23</td>\n",
       "    </tr>\n",
       "    <tr>\n",
       "      <th>8</th>\n",
       "      <td>1923</td>\n",
       "      <td>1923-11-07</td>\n",
       "      <td>1923-11-07</td>\n",
       "    </tr>\n",
       "    <tr>\n",
       "      <th>12</th>\n",
       "      <td>1924</td>\n",
       "      <td>1924-10-22</td>\n",
       "      <td>1924-10-22</td>\n",
       "    </tr>\n",
       "    <tr>\n",
       "      <th>13</th>\n",
       "      <td>1924</td>\n",
       "      <td>1924-10-22</td>\n",
       "      <td>1924-10-22</td>\n",
       "    </tr>\n",
       "    <tr>\n",
       "      <th>22</th>\n",
       "      <td>1926</td>\n",
       "      <td>1926-01-14</td>\n",
       "      <td>1926-01-14</td>\n",
       "    </tr>\n",
       "  </tbody>\n",
       "</table>\n",
       "</div>"
      ],
      "text/plain": [
       "   start_date    end_date        date\n",
       "2        1922  1922-08-23  1922-08-23\n",
       "8        1923  1923-11-07  1923-11-07\n",
       "12       1924  1924-10-22  1924-10-22\n",
       "13       1924  1924-10-22  1924-10-22\n",
       "22       1926  1926-01-14  1926-01-14"
      ]
     },
     "execution_count": 72,
     "metadata": {},
     "output_type": "execute_result"
    }
   ],
   "source": [
    "def get_best_date(row):\n",
    "  # dates are strings; return the longest\n",
    "  start_date_len = len(row.start_date) if pd.notna(row.start_date) else 0\n",
    "  end_date_len = len(row.end_date) if pd.notna(row.end_date) else 0\n",
    "\n",
    "  if start_date_len > end_date_len:\n",
    "    return row.start_date\n",
    "  else:\n",
    "    return row.end_date\n",
    "\n",
    "# get either start or end date, whichever we find first\n",
    "\n",
    "all_borrows = borrows.copy()\n",
    "all_borrows['date'] = all_borrows.apply(get_best_date, axis=1)\n",
    "all_borrows[['start_date', 'end_date', 'date']].head()"
   ]
  },
  {
   "cell_type": "code",
   "execution_count": 105,
   "metadata": {
    "id": "jP6QxLX8VUu0"
   },
   "outputs": [],
   "source": [
    "all_borrows['date_dt'] = pd.to_datetime(all_borrows.date, errors='coerce')"
   ]
  },
  {
   "cell_type": "code",
   "execution_count": 106,
   "metadata": {
    "colab": {
     "base_uri": "https://localhost:8080/"
    },
    "id": "V5rn1qW6UT0r",
    "outputId": "ec585c66-4af7-43a5-a08a-65ffe8cb6023"
   },
   "outputs": [
    {
     "data": {
      "text/plain": [
       "10747"
      ]
     },
     "execution_count": 106,
     "metadata": {},
     "output_type": "execute_result"
    }
   ],
   "source": [
    "catalog_dates_borrows = all_borrows[all_borrows.date_dt >= catalog_start_date][all_borrows.date_dt <= catalog_end_date]\n",
    "catalog_dates_borrows.shape[0]"
   ]
  },
  {
   "cell_type": "code",
   "execution_count": 112,
   "metadata": {
    "colab": {
     "base_uri": "https://localhost:8080/",
     "height": 513
    },
    "id": "_M33jh3DVoxe",
    "outputId": "0d8274f9-55d1-4445-f2e5-c5ac0ecc25af"
   },
   "outputs": [
    {
     "data": {
      "text/html": [
       "<div>\n",
       "<style scoped>\n",
       "    .dataframe tbody tr th:only-of-type {\n",
       "        vertical-align: middle;\n",
       "    }\n",
       "\n",
       "    .dataframe tbody tr th {\n",
       "        vertical-align: top;\n",
       "    }\n",
       "\n",
       "    .dataframe thead th {\n",
       "        text-align: right;\n",
       "    }\n",
       "</style>\n",
       "<table border=\"1\" class=\"dataframe\">\n",
       "  <thead>\n",
       "    <tr style=\"text-align: right;\">\n",
       "      <th></th>\n",
       "      <th>date</th>\n",
       "      <th>member_names</th>\n",
       "      <th>item_title</th>\n",
       "    </tr>\n",
       "  </thead>\n",
       "  <tbody>\n",
       "    <tr>\n",
       "      <th>13662</th>\n",
       "      <td>1933-03-01</td>\n",
       "      <td>Donald Culver</td>\n",
       "      <td>The Adventures of Tom Sawyer</td>\n",
       "    </tr>\n",
       "    <tr>\n",
       "      <th>13659</th>\n",
       "      <td>1933-03-01</td>\n",
       "      <td>Aline Prot</td>\n",
       "      <td>The Gods Arrive</td>\n",
       "    </tr>\n",
       "    <tr>\n",
       "      <th>13646</th>\n",
       "      <td>1933-03-01</td>\n",
       "      <td>Donald Culver</td>\n",
       "      <td>Conquistador</td>\n",
       "    </tr>\n",
       "    <tr>\n",
       "      <th>13671</th>\n",
       "      <td>1933-03-03</td>\n",
       "      <td>Countess de Vogué</td>\n",
       "      <td>Invitation to the Waltz</td>\n",
       "    </tr>\n",
       "    <tr>\n",
       "      <th>13665</th>\n",
       "      <td>1933-03-03</td>\n",
       "      <td>Thérèse Tony-Mayer</td>\n",
       "      <td>Light in August</td>\n",
       "    </tr>\n",
       "  </tbody>\n",
       "</table>\n",
       "</div>"
      ],
      "text/plain": [
       "             date        member_names                    item_title\n",
       "13662  1933-03-01       Donald Culver  The Adventures of Tom Sawyer\n",
       "13659  1933-03-01          Aline Prot               The Gods Arrive\n",
       "13646  1933-03-01       Donald Culver                  Conquistador\n",
       "13671  1933-03-03   Countess de Vogué       Invitation to the Waltz\n",
       "13665  1933-03-03  Thérèse Tony-Mayer               Light in August"
      ]
     },
     "execution_count": 112,
     "metadata": {},
     "output_type": "execute_result"
    }
   ],
   "source": [
    "catalog_dates_borrows.sort_values('date_dt')[['date', 'member_names', 'item_title']].head()"
   ]
  },
  {
   "cell_type": "code",
   "execution_count": 143,
   "metadata": {
    "colab": {
     "base_uri": "https://localhost:8080/"
    },
    "id": "auRyHTFyU1TZ",
    "outputId": "cbfe3ede-1b65-46e3-9d37-473c4dc74dc7"
   },
   "outputs": [
    {
     "name": "stdout",
     "output_type": "stream",
     "text": [
      "Borrowing activity for dates covered by the catalog:\n",
      "10,747 total borrows\n",
      "3,362 unique titles\n",
      "307 borrows for uncertain titles\n",
      "190 unique uncertain titles\n",
      "\n"
     ]
    }
   ],
   "source": [
    "# how many total borrow events for these dates?\n",
    "\n",
    "catalog_dates_total_borrows = catalog_dates_borrows.shape[0]\n",
    "catalog_dates_total_items = len(catalog_dates_borrows.item_id.unique())\n",
    "\n",
    "# how many events with uncertain titles?\n",
    "uncertain_catalog_dates_borrows = catalog_dates_borrows[catalog_dates_borrows.item_id.isin(uncertain_books_df.id)]\n",
    "\n",
    "print(f\"\"\"Borrowing activity for dates covered by the catalog:\n",
    "{catalog_dates_total_borrows:,} total borrows\n",
    "{catalog_dates_total_items:,} unique titles\n",
    "{uncertain_catalog_dates_borrows.shape[0]:,} borrows for uncertain titles\n",
    "{len(uncertain_catalog_dates_borrows.item_id.unique()):,} unique uncertain titles\n",
    "\"\"\")"
   ]
  },
  {
   "cell_type": "code",
   "execution_count": 147,
   "metadata": {
    "colab": {
     "base_uri": "https://localhost:8080/"
    },
    "id": "C0JoG3mrWMy3",
    "outputId": "9bc38633-e946-4a90-dcfc-fea19adabc49"
   },
   "outputs": [
    {
     "name": "stdout",
     "output_type": "stream",
     "text": [
      "Borrowing activity for dates covered by the catalog:\n",
      "10,440 total borrows for identified titles\n",
      "3,172 unique identified titles\n",
      "\n"
     ]
    }
   ],
   "source": [
    "# there are enough uncertain titles that we should filter them out\n",
    "certain_catalog_dates_borrows = catalog_dates_borrows[~catalog_dates_borrows.item_id.isin(uncertain_books_df.id)]\n",
    "certain_catalog_dates_total_borrows = certain_catalog_dates_borrows.shape[0]\n",
    "certain_catalog_dates_total_items = len(certain_catalog_dates_borrows.item_id.unique())\n",
    "\n",
    "print(f\"\"\"Borrowing activity for dates covered by the catalog:\n",
    "{certain_catalog_dates_borrows.shape[0]:,} total borrows for identified titles\n",
    "{len(certain_catalog_dates_borrows.item_id.unique()):,} unique identified titles\n",
    "\"\"\")"
   ]
  },
  {
   "cell_type": "code",
   "execution_count": 120,
   "metadata": {
    "colab": {
     "base_uri": "https://localhost:8080/",
     "height": 444
    },
    "id": "YxJYEF_6WXLs",
    "outputId": "0c5ce1d0-4bb8-4d91-98d1-4d17b08d9fcf"
   },
   "outputs": [
    {
     "data": {
      "text/html": [
       "<div>\n",
       "<style scoped>\n",
       "    .dataframe tbody tr th:only-of-type {\n",
       "        vertical-align: middle;\n",
       "    }\n",
       "\n",
       "    .dataframe tbody tr th {\n",
       "        vertical-align: top;\n",
       "    }\n",
       "\n",
       "    .dataframe thead th {\n",
       "        text-align: right;\n",
       "    }\n",
       "</style>\n",
       "<table border=\"1\" class=\"dataframe\">\n",
       "  <thead>\n",
       "    <tr style=\"text-align: right;\">\n",
       "      <th></th>\n",
       "      <th>date</th>\n",
       "      <th>member_names</th>\n",
       "      <th>item_title</th>\n",
       "    </tr>\n",
       "  </thead>\n",
       "  <tbody>\n",
       "    <tr>\n",
       "      <th>149</th>\n",
       "      <td>1937-06-01</td>\n",
       "      <td>Fernand Colens</td>\n",
       "      <td>The Friendly Tree</td>\n",
       "    </tr>\n",
       "    <tr>\n",
       "      <th>150</th>\n",
       "      <td>1937-12-08</td>\n",
       "      <td>Fanny Rirachowsky</td>\n",
       "      <td>Poems</td>\n",
       "    </tr>\n",
       "    <tr>\n",
       "      <th>156</th>\n",
       "      <td>1938-06-23</td>\n",
       "      <td>Thérèse Bertrand-Fontaine</td>\n",
       "      <td>To Wake the Dead</td>\n",
       "    </tr>\n",
       "    <tr>\n",
       "      <th>168</th>\n",
       "      <td>1938-06-25</td>\n",
       "      <td>Thérèse Bertrand-Fontaine</td>\n",
       "      <td>Enchanter's Nightshade</td>\n",
       "    </tr>\n",
       "    <tr>\n",
       "      <th>171</th>\n",
       "      <td>1938-05-16</td>\n",
       "      <td>Vincens</td>\n",
       "      <td>The Secret War: The War for Oil</td>\n",
       "    </tr>\n",
       "  </tbody>\n",
       "</table>\n",
       "</div>"
      ],
      "text/plain": [
       "           date               member_names                       item_title\n",
       "149  1937-06-01             Fernand Colens                The Friendly Tree\n",
       "150  1937-12-08          Fanny Rirachowsky                            Poems\n",
       "156  1938-06-23  Thérèse Bertrand-Fontaine                 To Wake the Dead\n",
       "168  1938-06-25  Thérèse Bertrand-Fontaine           Enchanter's Nightshade\n",
       "171  1938-05-16                    Vincens  The Secret War: The War for Oil"
      ]
     },
     "execution_count": 120,
     "metadata": {},
     "output_type": "execute_result"
    }
   ],
   "source": [
    "# what percent of those titles are included in the catalog?\n",
    "# limit to borrow events for items in the catalog\n",
    "certain_catalog_dates_catalog_borrows = certain_catalog_dates_borrows[certain_catalog_dates_borrows.item_id.isin(catalog_df.item_id)]\n",
    "certain_catalog_dates_catalog_borrows[['date', 'member_names', 'item_title']].head()"
   ]
  },
  {
   "cell_type": "code",
   "execution_count": 142,
   "metadata": {
    "colab": {
     "base_uri": "https://localhost:8080/"
    },
    "id": "IbFvKaXdWuII",
    "outputId": "b4cef3dc-8319-4244-e7ef-32785f310256"
   },
   "outputs": [
    {
     "name": "stdout",
     "output_type": "stream",
     "text": [
      "Borrowing activity for dates covered by the catalog AND titles included in the catalog:\n",
      "4,316 total borrows \n",
      "881 unique identified titles\n",
      "\n"
     ]
    }
   ],
   "source": [
    "# how many events, how many titles? (for identified items)\n",
    "catalog_dates_catalog_total_borrows = certain_catalog_dates_catalog_borrows.shape[0]\n",
    "catalog_dates_catalog_total_items = len(certain_catalog_dates_catalog_borrows.item_id.unique())\n",
    "\n",
    "print(f\"\"\"Borrowing activity for dates covered by the catalog AND titles included in the catalog:\n",
    "{catalog_dates_catalog_total_borrows:,} total borrows \n",
    "{catalog_dates_catalog_total_items:,} unique identified titles\n",
    "\"\"\")"
   ]
  },
  {
   "cell_type": "code",
   "execution_count": 150,
   "metadata": {
    "id": "JS6tj7gSW4ch"
   },
   "outputs": [
    {
     "name": "stdout",
     "output_type": "stream",
     "text": [
      "Borrowing activity for identifed titles during dates covered by the catalog AND titles included in the catalog:\n",
      "4,316 total borrows \n",
      "3,172 unique identified titles\n",
      "41.3% of borrowing activity from catalog titles\n",
      "27.8% of books from catalog titles\n",
      "\n"
     ]
    }
   ],
   "source": [
    "# what percent of the circulation is that?\n",
    "# catalog_dates_total_borrows = catalog_dates_borrows.shape[0]\n",
    "# just work with the certain ones, for simplicity\n",
    "catalog_dates_catalog_total_borrows = certain_catalog_dates_catalog_borrows.shape[0]\n",
    "catalog_dates_catalog_total_items = len(certain_catalog_dates_catalog_borrows.item_id.unique())\n",
    "\n",
    "# catalog books account for what % of borrowing activity during this time?\n",
    "percent_borrowing_activity = catalog_dates_catalog_total_borrows / certain_catalog_dates_total_borrows\n",
    "\n",
    "# what % of books in circulation?\n",
    "percent_books = catalog_dates_catalog_total_items / catalog_dates_total_items\n",
    "\n",
    "print(f\"\"\"Borrowing activity for identifed titles during dates covered by the catalog AND titles included in the catalog:\n",
    "{certain_catalog_dates_catalog_borrows.shape[0]:,} total borrows \n",
    "{catalog_dates_total_items:,} unique identified titles\n",
    "{percent_borrowing_activity*100:.1f}% of borrowing activity from catalog titles\n",
    "{percent_books*100:.1f}% of books from catalog titles\n",
    "\"\"\")"
   ]
  }
 ],
 "metadata": {
  "colab": {
   "authorship_tag": "ABX9TyOhGOFRd8NRLMMfKHUVlJK8",
   "include_colab_link": true,
   "provenance": [],
   "toc_visible": true
  },
  "kernelspec": {
   "display_name": "Python 3 (ipykernel)",
   "language": "python",
   "name": "python3"
  },
  "language_info": {
   "codemirror_mode": {
    "name": "ipython",
    "version": 3
   },
   "file_extension": ".py",
   "mimetype": "text/x-python",
   "name": "python",
   "nbconvert_exporter": "python",
   "pygments_lexer": "ipython3",
   "version": "3.9.13"
  }
 },
 "nbformat": 4,
 "nbformat_minor": 4
}
