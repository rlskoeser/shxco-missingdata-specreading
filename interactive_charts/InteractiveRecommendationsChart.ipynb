{
 "cells": [
  {
   "cell_type": "markdown",
   "metadata": {
    "id": "I1x1AE35cOtj"
   },
   "source": [
    "# Interactive Charts for Publication"
   ]
  },
  {
   "cell_type": "markdown",
   "metadata": {
    "id": "EjZT_ntacTdr"
   },
   "source": [
    "## Load libraries and data"
   ]
  },
  {
   "cell_type": "code",
   "execution_count": 1,
   "metadata": {},
   "outputs": [
    {
     "name": "stdout",
     "output_type": "stream",
     "text": [
      "Lenskit is already installed.\n"
     ]
    }
   ],
   "source": [
    "# This code checks if the lenskit library is installed and installs it if it is not.\n",
    "try:\n",
    "    import lenskit\n",
    "    print(\"Lenskit is already installed.\")\n",
    "except ImportError:\n",
    "    print(\"Lenskit is not installed. Installing...\")\n",
    "    import subprocess\n",
    "    subprocess.check_call([\"pip\", \"install\", \"lenskit\"])"
   ]
  },
  {
   "cell_type": "code",
   "execution_count": 2,
   "metadata": {
    "id": "Xo656ZZAGfei"
   },
   "outputs": [],
   "source": [
    "# Standard library imports\n",
    "import os\n",
    "import sys\n",
    "from typing import List\n",
    "\n",
    "# Third party imports\n",
    "import altair as alt  # For data visualization\n",
    "import numpy as np  # For numerical operations\n",
    "import pandas as pd  # For data manipulation\n",
    "import scipy\n",
    "from scipy.stats import zscore  # For statistical computations\n",
    "from sklearn.preprocessing import MinMaxScaler  # For data preprocessing\n",
    "from tqdm.notebook import tqdm  # For progress bars\n",
    "from textwrap import wrap\n",
    "\n",
    "# LensKit imports\n",
    "from lenskit import Recommender, topn, util, batch, crossfold as xf  # For recommendation systems\n",
    "from lenskit.algorithms import als, basic  # For recommendation algorithms\n",
    "\n",
    "# Local application/library specific imports\n",
    "sys.path.append(\"..\")\n",
    "from utils.missing_data_processing import *  # For handling missing data"
   ]
  },
  {
   "cell_type": "code",
   "execution_count": 3,
   "metadata": {},
   "outputs": [],
   "source": [
    "# Load the initial data into four DataFrames: events_df, members_df, books_df, and borrow_overrides_df.\n",
    "events_df, members_df, books_df, borrow_overrides_df  = load_initial_data()\n",
    "\n",
    "# Process the events data to clean it and prepare it for analysis.\n",
    "events_df = preprocess_events_data(events_df)\n",
    "\n",
    "# Extract the item ID from the URI in the books DataFrame.\n",
    "# The item ID is the second to last part of the URI.\n",
    "books_df[\"item_id\"] = books_df.uri.apply(\n",
    "    lambda x: x.split(\"/\")[-2] if pd.notna(x) else None\n",
    ")\n",
    "\n",
    "# Create a lookup table for item titles\n",
    "title_lookup = {row.item_id: row.title for row in books_df.itertuples()}\n",
    "\n",
    "# Generate short IDs for the members in the members DataFrame.\n",
    "# The ID is the second to last part of the URI.\n",
    "members_df[\"id\"] = members_df.uri.apply(\n",
    "    lambda x: x.split(\"/\")[-2]\n",
    ")\n",
    "\n",
    "# Get all member-book interactions from the events DataFrame.\n",
    "# Only include rows where the item URI is not null.\n",
    "interactions_df = events_df[(events_df.item_uri.notna()) & (events_df.item_id.isin(books_df[books_df.author.notna()].item_id))].copy()\n",
    "\n",
    "# Restrict the interactions to borrow events only.\n",
    "interactions_df = interactions_df[interactions_df.event_type == 'Borrow'].copy()\n",
    "\n",
    "# Reduce the interactions DataFrame to the minimum user/item interaction fields and drop duplicate rows.\n",
    "unique_interactions_df = interactions_df[\n",
    "    [\"member_id\", \"item_id\"]\n",
    "].drop_duplicates(subset=[\"member_id\", \"item_id\"])\n",
    "\n",
    "# Rename the columns to the names expected by LensKit.\n",
    "# The DataFrame is renamed to 'ratings' for use with the tutorial.\n",
    "ratings = unique_interactions_df.rename(columns={'member_id': 'user', 'item_id': 'item'})\n",
    "\n",
    "# The example assumes a rating. Use a 1/0 rating and set all to 1 to confirm interaction.\n",
    "ratings['rating'] = 1\n",
    "\n",
    "dated_events_df = events_df.copy()\n",
    "dated_events_df['start_date_dt'] = pd.to_datetime(dated_events_df['start_date'], errors='coerce')\n",
    "dated_events_df['end_date_dt'] = pd.to_datetime(dated_events_df['end_date'], errors='coerce')"
   ]
  },
  {
   "cell_type": "markdown",
   "metadata": {},
   "source": [
    "## Popular Titles"
   ]
  },
  {
   "cell_type": "code",
   "execution_count": 12,
   "metadata": {},
   "outputs": [],
   "source": [
    "popularity_results = pd.read_csv(\"../speculative_reading/data/lenskit_results/popularity_results_without_periodicals.csv\")"
   ]
  },
  {
   "cell_type": "markdown",
   "metadata": {
    "id": "DwEwSsFdjD7r"
   },
   "source": [
    "## Lenskit Recommendations"
   ]
  },
  {
   "cell_type": "code",
   "execution_count": 7,
   "metadata": {
    "id": "_Z3-aAZHdr4p"
   },
   "outputs": [],
   "source": [
    "full_lenskit_model = pd.read_csv(f'../speculative_reading/data/lenskit_results/full_predictions_model100_without_periodicals.csv')\n",
    "aggregated_lenskit_model = pd.read_csv(f'../speculative_reading/data/lenskit_results/aggregated_full_predictions_model100_without_periodicals.csv')\n",
    "sampled_lenskit_model = pd.read_csv(f'../speculative_reading/data/lenskit_results/sampled_predictions_model100_without_periodicals.csv')\n",
    "aggregated_sampled_lenskit_model = pd.read_csv(f'../speculative_reading/data/lenskit_results/aggregated_sampled_predictions_model100_without_periodicals.csv')\n",
    "full_lenskit_model['member_period'] = full_lenskit_model.member_id + ': ' + full_lenskit_model.subscription_start.astype(str) + '/' + full_lenskit_model.subscription_end.astype(str)\n",
    "aggregated_lenskit_model['member_period'] = aggregated_lenskit_model.member_id + ': ' + aggregated_lenskit_model.subscription_start.astype(str) + '/' + aggregated_lenskit_model.subscription_end.astype(str)\n",
    "sampled_lenskit_model['member_period'] = sampled_lenskit_model.member_id + ': ' + sampled_lenskit_model.subscription_start.astype(str) + '/' + sampled_lenskit_model.subscription_end.astype(str)\n",
    "aggregated_sampled_lenskit_model['member_period'] = aggregated_sampled_lenskit_model.member_id + ': ' + aggregated_sampled_lenskit_model.subscription_start.astype(str) + '/' + aggregated_sampled_lenskit_model.subscription_end.astype(str)"
   ]
  },
  {
   "cell_type": "code",
   "execution_count": 11,
   "metadata": {
    "id": "D7ACefq438yi"
   },
   "outputs": [
    {
     "data": {
      "application/vnd.jupyter.widget-view+json": {
       "model_id": "3592a10c2d1940639a5a159af6a37ea8",
       "version_major": 2,
       "version_minor": 0
      },
      "text/plain": [
       "Formatting Titles:   0%|          | 0/175700 [00:00<?, ?it/s]"
      ]
     },
     "metadata": {},
     "output_type": "display_data"
    }
   ],
   "source": [
    "def get_formatted_titles(row):\n",
    "\n",
    "  item = books_df[books_df.item_id == row.item_id]\n",
    "  if item.author.isna().any() == False:\n",
    "    author = ' '.join(item.author.str.split(',').values[0][::-1])\n",
    "    author = ' by' + author\n",
    "  else: \n",
    "    author = '(Periodical)'\n",
    "  title = item.title.values[0]\n",
    "  return title + author\n",
    "\n",
    "tqdm.pandas(desc=\"Formatting Titles\")\n",
    "if 'formatted_title' not in full_lenskit_model.columns:\n",
    "  full_lenskit_model['formatted_title'] = full_lenskit_model.progress_apply(get_formatted_titles, axis=1)\n",
    "\n",
    "if 'formatted_title' not in aggregated_lenskit_model.columns:\n",
    "  aggregated_lenskit_model['formatted_title'] = aggregated_lenskit_model.progress_apply(get_formatted_titles, axis=1)\n",
    "\n",
    "if 'formatted_title' not in sampled_lenskit_model.columns:\n",
    "  sampled_lenskit_model['formatted_title'] = sampled_lenskit_model.progress_apply(get_formatted_titles, axis=1)\n",
    "\n",
    "if 'formatted_title' not in aggregated_sampled_lenskit_model.columns:\n",
    "  aggregated_sampled_lenskit_model['formatted_title'] = aggregated_sampled_lenskit_model.progress_apply(get_formatted_titles, axis=1)\n"
   ]
  },
  {
   "cell_type": "code",
   "execution_count": 13,
   "metadata": {},
   "outputs": [
    {
     "data": {
      "application/vnd.jupyter.widget-view+json": {
       "model_id": "233b05701c3049a1a24b571ae6135249",
       "version_major": 2,
       "version_minor": 0
      },
      "text/plain": [
       "Wrapping Titles:   0%|          | 0/175700 [00:00<?, ?it/s]"
      ]
     },
     "metadata": {},
     "output_type": "display_data"
    },
    {
     "data": {
      "application/vnd.jupyter.widget-view+json": {
       "model_id": "f2d0c9c1259b42eebea57fe0b33d5e82",
       "version_major": 2,
       "version_minor": 0
      },
      "text/plain": [
       "Wrapping Titles:   0%|          | 0/1757 [00:00<?, ?it/s]"
      ]
     },
     "metadata": {},
     "output_type": "display_data"
    },
    {
     "data": {
      "application/vnd.jupyter.widget-view+json": {
       "model_id": "a24f497538a949e4a23c95887ee31551",
       "version_major": 2,
       "version_minor": 0
      },
      "text/plain": [
       "Wrapping Titles:   0%|          | 0/6300 [00:00<?, ?it/s]"
      ]
     },
     "metadata": {},
     "output_type": "display_data"
    },
    {
     "data": {
      "application/vnd.jupyter.widget-view+json": {
       "model_id": "9b2a53f25a244cf1b5321fdd91a5248e",
       "version_major": 2,
       "version_minor": 0
      },
      "text/plain": [
       "Wrapping Titles:   0%|          | 0/72 [00:00<?, ?it/s]"
      ]
     },
     "metadata": {},
     "output_type": "display_data"
    }
   ],
   "source": [
    "tqdm.pandas(desc=\"Wrapping Titles\")\n",
    "\n",
    "if 'formatted_wrapped_title' not in full_lenskit_model.columns:\n",
    "  full_lenskit_model['formatted_wrapped_title'] = full_lenskit_model.formatted_title.progress_apply(wrap, args=[50])\n",
    "\n",
    "if 'formatted_wrapped_title' not in aggregated_lenskit_model.columns:\n",
    "  aggregated_lenskit_model['formatted_wrapped_title'] = aggregated_lenskit_model.formatted_title.progress_apply(wrap, args=[50])\n",
    "\n",
    "if 'formatted_wrapped_title' not in sampled_lenskit_model.columns:\n",
    "  sampled_lenskit_model['formatted_wrapped_title'] = sampled_lenskit_model.formatted_title.progress_apply(wrap, args=[50])\n",
    "\n",
    "if 'formatted_wrapped_title' not in aggregated_sampled_lenskit_model.columns:\n",
    "  aggregated_sampled_lenskit_model['formatted_wrapped_title'] = aggregated_sampled_lenskit_model.formatted_title.progress_apply(wrap, args=[50])\n"
   ]
  },
  {
   "cell_type": "markdown",
   "metadata": {},
   "source": [
    "## Collaborative Filtering"
   ]
  },
  {
   "cell_type": "markdown",
   "metadata": {},
   "source": [
    "There's a number of permutations available with collaborative filtering:\n",
    "\n",
    "- Keep all data including periodicals\n",
    "- Exclude periodicals\n",
    "- Limit to circulation period when making predictions"
   ]
  },
  {
   "cell_type": "code",
   "execution_count": 22,
   "metadata": {},
   "outputs": [
    {
     "data": {
      "application/vnd.jupyter.widget-view+json": {
       "model_id": "844b6763ca084d4aa7982a0ded6e7347",
       "version_major": 2,
       "version_minor": 0
      },
      "text/plain": [
       "Formatting Titles:   0%|          | 0/2838 [00:00<?, ?it/s]"
      ]
     },
     "metadata": {},
     "output_type": "display_data"
    },
    {
     "data": {
      "application/vnd.jupyter.widget-view+json": {
       "model_id": "5a9af742b62e4c818679b35a70da205c",
       "version_major": 2,
       "version_minor": 0
      },
      "text/plain": [
       "Formatting Titles:   0%|          | 0/946 [00:00<?, ?it/s]"
      ]
     },
     "metadata": {},
     "output_type": "display_data"
    },
    {
     "data": {
      "application/vnd.jupyter.widget-view+json": {
       "model_id": "4c9ac50278cd4e6a82c5ec221044ee93",
       "version_major": 2,
       "version_minor": 0
      },
      "text/plain": [
       "Formatting Titles:   0%|          | 0/180 [00:00<?, ?it/s]"
      ]
     },
     "metadata": {},
     "output_type": "display_data"
    },
    {
     "data": {
      "application/vnd.jupyter.widget-view+json": {
       "model_id": "6c41b9fcfa0e4d24a29c67e06d45123e",
       "version_major": 2,
       "version_minor": 0
      },
      "text/plain": [
       "Formatting Titles:   0%|          | 0/60 [00:00<?, ?it/s]"
      ]
     },
     "metadata": {},
     "output_type": "display_data"
    }
   ],
   "source": [
    "full_collaborative_filtering_model = pd.read_csv(\"../speculative_reading/data/collaborative_filtering_results/full_predictions_without_periodicals_circulation_limited.csv\")\n",
    "full_collaborative_filtering_model = full_collaborative_filtering_model.rename(columns={'item_uri': 'item_id'})\n",
    "aggregated_full_collaborative_filtering_model = pd.read_csv(\"../speculative_reading/data/collaborative_filtering_results/aggregated_full_predictions_without_periodicals_circulation_limited.csv\")\n",
    "aggregated_full_collaborative_filtering_model = aggregated_full_collaborative_filtering_model.rename(columns={'item_uri': 'item_id'})\n",
    "\n",
    "sampled_collaborative_filtering_model = pd.read_csv(\"../speculative_reading/data/collaborative_filtering_results/top200_predictions_without_periodicals_circulation_limited.csv\")\n",
    "sampled_collaborative_filtering_model = sampled_collaborative_filtering_model.rename(columns={'item_uri': 'item_id'})\n",
    "\n",
    "aggregated_sampled_collaborative_filtering_model = pd.read_csv(\"../speculative_reading/data/collaborative_filtering_results/aggregated_top200_predictions_without_periodicals_circulation_limited.csv\")\n",
    "aggregated_sampled_collaborative_filtering_model = aggregated_sampled_collaborative_filtering_model.rename(columns={'item_uri': 'item_id'})\n",
    "\n",
    "tqdm.pandas(desc=\"Formatting Titles\")\n",
    "\n",
    "if 'formatted_title' not in full_collaborative_filtering_model.columns:\n",
    "  full_collaborative_filtering_model['formatted_title'] = full_collaborative_filtering_model.progress_apply(get_formatted_titles, axis=1)\n",
    "\n",
    "if 'formatted_title' not in aggregated_full_collaborative_filtering_model.columns:\n",
    "  aggregated_full_collaborative_filtering_model['formatted_title'] = aggregated_full_collaborative_filtering_model.progress_apply(get_formatted_titles, axis=1)\n",
    "\n",
    "if 'formatted_title' not in sampled_collaborative_filtering_model.columns:\n",
    "  sampled_collaborative_filtering_model['formatted_title'] = sampled_collaborative_filtering_model.progress_apply(get_formatted_titles, axis=1)\n",
    "\n",
    "if 'formatted_title' not in aggregated_sampled_collaborative_filtering_model.columns:\n",
    "  aggregated_sampled_collaborative_filtering_model['formatted_title'] = aggregated_sampled_collaborative_filtering_model.progress_apply(get_formatted_titles, axis=1)\n"
   ]
  },
  {
   "cell_type": "code",
   "execution_count": 23,
   "metadata": {},
   "outputs": [
    {
     "data": {
      "application/vnd.jupyter.widget-view+json": {
       "model_id": "ae51ab108c064a769de44fa8e0ca17a6",
       "version_major": 2,
       "version_minor": 0
      },
      "text/plain": [
       "Wrapping Titles:   0%|          | 0/2838 [00:00<?, ?it/s]"
      ]
     },
     "metadata": {},
     "output_type": "display_data"
    },
    {
     "data": {
      "application/vnd.jupyter.widget-view+json": {
       "model_id": "59becd8ecfd24d838202bbfe2917d057",
       "version_major": 2,
       "version_minor": 0
      },
      "text/plain": [
       "Wrapping Titles:   0%|          | 0/180 [00:00<?, ?it/s]"
      ]
     },
     "metadata": {},
     "output_type": "display_data"
    },
    {
     "data": {
      "application/vnd.jupyter.widget-view+json": {
       "model_id": "a2cf97dfbb4e4fdb90793a4927dd8b22",
       "version_major": 2,
       "version_minor": 0
      },
      "text/plain": [
       "Wrapping Titles:   0%|          | 0/946 [00:00<?, ?it/s]"
      ]
     },
     "metadata": {},
     "output_type": "display_data"
    },
    {
     "data": {
      "application/vnd.jupyter.widget-view+json": {
       "model_id": "b792a7edd0874563bf2a599f302991bf",
       "version_major": 2,
       "version_minor": 0
      },
      "text/plain": [
       "Wrapping Titles:   0%|          | 0/60 [00:00<?, ?it/s]"
      ]
     },
     "metadata": {},
     "output_type": "display_data"
    }
   ],
   "source": [
    "full_collaborative_filtering_model = full_collaborative_filtering_model[['item_id', 'formatted_title', 'member_id', 'period', 'subscription_start', 'subscription_end', 'metric', 'score']]\n",
    "sampled_collaborative_filtering_model = sampled_collaborative_filtering_model[['item_id', 'formatted_title', 'member_id', 'period', 'subscription_start', 'subscription_end', 'metric', 'score']]\n",
    "\n",
    "full_collaborative_filtering_model.loc[full_collaborative_filtering_model.formatted_title.str.contains('Instigations of Ezra Pound'), 'formatted_title'] = 'Instigations of Ezra Pound: Together with an Essay on the Chinese Written Character by Ezra Pound and Ernest Fenollosa'\n",
    "\n",
    "tqdm.pandas(desc=\"Wrapping Titles\")\n",
    "if 'formatted_wrapped_title' not in full_collaborative_filtering_model.columns:\n",
    "  full_collaborative_filtering_model['formatted_wrapped_title'] = full_collaborative_filtering_model.formatted_title.progress_apply(wrap, args=[50])\n",
    "\n",
    "if 'formatted_wrapped_title' not in sampled_collaborative_filtering_model.columns:\n",
    "  sampled_collaborative_filtering_model['formatted_wrapped_title'] = sampled_collaborative_filtering_model.formatted_title.progress_apply(wrap, args=[50])\n",
    "\n",
    "if 'formatted_wrapped_title' not in aggregated_full_collaborative_filtering_model.columns:\n",
    "  aggregated_full_collaborative_filtering_model['formatted_wrapped_title'] = aggregated_full_collaborative_filtering_model.formatted_title.progress_apply(wrap, args=[50])\n",
    "\n",
    "if 'formatted_wrapped_title' not in aggregated_sampled_collaborative_filtering_model.columns:\n",
    "  aggregated_sampled_collaborative_filtering_model['formatted_wrapped_title'] = aggregated_sampled_collaborative_filtering_model.formatted_title.progress_apply(wrap, args=[50])\n",
    "\n",
    "full_collaborative_filtering_model.loc[full_collaborative_filtering_model.metric == 'cosine', 'metric'] = 'Cosine Distance'\n",
    "full_collaborative_filtering_model.loc[full_collaborative_filtering_model.metric == 'pearson', 'metric'] = 'Pearson Correlation Coefficient'\n",
    "full_collaborative_filtering_model.loc[full_collaborative_filtering_model.metric == 'euclidean', 'metric'] = 'Euclidean Distance'\n",
    "\n",
    "sampled_collaborative_filtering_model.loc[sampled_collaborative_filtering_model.metric == 'cosine', 'metric'] = 'Cosine Distance'\n",
    "sampled_collaborative_filtering_model.loc[sampled_collaborative_filtering_model.metric == 'pearson', 'metric'] = 'Pearson Correlation Coefficient'\n",
    "sampled_collaborative_filtering_model.loc[sampled_collaborative_filtering_model.metric == 'euclidean', 'metric'] = 'Euclidean Distance'\n"
   ]
  },
  {
   "cell_type": "code",
   "execution_count": 34,
   "metadata": {},
   "outputs": [
    {
     "data": {
      "text/html": [
       "\n",
       "<div id=\"altair-viz-a6ba44f06680421eb28761b0697710ca\"></div>\n",
       "<script type=\"text/javascript\">\n",
       "  var VEGA_DEBUG = (typeof VEGA_DEBUG == \"undefined\") ? {} : VEGA_DEBUG;\n",
       "  (function(spec, embedOpt){\n",
       "    let outputDiv = document.currentScript.previousElementSibling;\n",
       "    if (outputDiv.id !== \"altair-viz-a6ba44f06680421eb28761b0697710ca\") {\n",
       "      outputDiv = document.getElementById(\"altair-viz-a6ba44f06680421eb28761b0697710ca\");\n",
       "    }\n",
       "    const paths = {\n",
       "      \"vega\": \"https://cdn.jsdelivr.net/npm/vega@5?noext\",\n",
       "      \"vega-lib\": \"https://cdn.jsdelivr.net/npm/vega-lib?noext\",\n",
       "      \"vega-lite\": \"https://cdn.jsdelivr.net/npm/vega-lite@5.6.1?noext\",\n",
       "      \"vega-embed\": \"https://cdn.jsdelivr.net/npm/vega-embed@6?noext\",\n",
       "    };\n",
       "\n",
       "    function maybeLoadScript(lib, version) {\n",
       "      var key = `${lib.replace(\"-\", \"\")}_version`;\n",
       "      return (VEGA_DEBUG[key] == version) ?\n",
       "        Promise.resolve(paths[lib]) :\n",
       "        new Promise(function(resolve, reject) {\n",
       "          var s = document.createElement('script');\n",
       "          document.getElementsByTagName(\"head\")[0].appendChild(s);\n",
       "          s.async = true;\n",
       "          s.onload = () => {\n",
       "            VEGA_DEBUG[key] = version;\n",
       "            return resolve(paths[lib]);\n",
       "          };\n",
       "          s.onerror = () => reject(`Error loading script: ${paths[lib]}`);\n",
       "          s.src = paths[lib];\n",
       "        });\n",
       "    }\n",
       "\n",
       "    function showError(err) {\n",
       "      outputDiv.innerHTML = `<div class=\"error\" style=\"color:red;\">${err}</div>`;\n",
       "      throw err;\n",
       "    }\n",
       "\n",
       "    function displayChart(vegaEmbed) {\n",
       "      vegaEmbed(outputDiv, spec, embedOpt)\n",
       "        .catch(err => showError(`Javascript Error: ${err.message}<br>This usually means there's a typo in your chart specification. See the javascript console for the full traceback.`));\n",
       "    }\n",
       "\n",
       "    if(typeof define === \"function\" && define.amd) {\n",
       "      requirejs.config({paths});\n",
       "      require([\"vega-embed\"], displayChart, err => showError(`Error loading script: ${err.message}`));\n",
       "    } else {\n",
       "      maybeLoadScript(\"vega\", \"5\")\n",
       "        .then(() => maybeLoadScript(\"vega-lite\", \"5.6.1\"))\n",
       "        .then(() => maybeLoadScript(\"vega-embed\", \"6\"))\n",
       "        .catch(showError)\n",
       "        .then(() => displayChart(vegaEmbed));\n",
       "    }\n",
       "  })({\"config\": {\"view\": {\"continuousWidth\": 300, \"continuousHeight\": 300}, \"axisY\": {\"labelLimit\": 1000, \"titleAlign\": \"left\", \"titleAngle\": 0, \"titleX\": 100, \"titleY\": -10}}, \"data\": {\"name\": \"data-9a12d6137848992ddb54bb4bb8e20433\"}, \"mark\": {\"type\": \"point\", \"filled\": true, \"opacity\": 0.8, \"thickness\": 3}, \"encoding\": {\"color\": {\"field\": \"period\", \"legend\": {\"title\": [\"Subscription Period\"]}, \"type\": \"nominal\"}, \"opacity\": {\"condition\": {\"test\": {\"and\": [{\"param\": \"param_26\"}, {\"param\": \"param_27\"}]}, \"value\": 1}, \"value\": 0.2}, \"shape\": {\"field\": \"metric\", \"legend\": {\"title\": \"Method for Collaborative Filtering\"}, \"type\": \"nominal\"}, \"tooltip\": [{\"field\": \"formatted_title\", \"type\": \"nominal\"}, {\"field\": \"score\", \"type\": \"quantitative\"}, {\"field\": \"period\", \"type\": \"nominal\"}, {\"field\": \"metric\", \"type\": \"nominal\"}], \"x\": {\"field\": \"score\", \"type\": \"quantitative\"}, \"y\": {\"axis\": {\"labelFontSize\": 9, \"labelLimit\": 1000, \"labelPadding\": 0, \"title\": \"\", \"titleAlign\": \"left\", \"titleAngle\": 0, \"titleFontSize\": 9, \"titlePadding\": 0, \"titleX\": 100, \"titleY\": -10}, \"field\": \"formatted_title\", \"sort\": \"-x\", \"type\": \"nominal\"}}, \"params\": [{\"name\": \"param_28\", \"bind\": {\"input\": \"search\", \"placeholder\": \"Search title\", \"name\": \"Search \"}, \"value\": \"\"}, {\"name\": \"param_26\", \"select\": {\"type\": \"point\", \"fields\": [\"period\"]}, \"bind\": \"legend\"}, {\"name\": \"param_27\", \"select\": {\"type\": \"point\", \"fields\": [\"metric\"]}, \"bind\": \"legend\"}], \"title\": \"Top Predictions by Collaborative Filtering Memory-Based Methods\", \"transform\": [{\"filter\": \"test(regexp(param_28,'i'),datum.formatted_title)\"}], \"width\": 300, \"$schema\": \"https://vega.github.io/schema/vega-lite/v5.6.1.json\", \"datasets\": {\"data-9a12d6137848992ddb54bb4bb8e20433\": [{\"item_id\": \"thompson-francis-thompsons-works\", \"formatted_title\": \"Works of Francis Thompson by Francis Thompson\", \"member_id\": \"hemingway-ernest\", \"period\": \"1924-03-28/1925-03-28\", \"subscription_start\": \"1924-03-28\", \"subscription_end\": \"1925-03-28\", \"metric\": \"Euclidean Distance\", \"score\": 1.0, \"formatted_wrapped_title\": [\"Works of Francis Thompson by Francis Thompson\"]}, {\"item_id\": \"thompson-francis-thompsons-works\", \"formatted_title\": \"Works of Francis Thompson by Francis Thompson\", \"member_id\": \"hemingway-ernest\", \"period\": \"1924-03-28/1925-03-28\", \"subscription_start\": \"1924-03-28\", \"subscription_end\": \"1925-03-28\", \"metric\": \"Pearson Correlation Coefficient\", \"score\": 1.0, \"formatted_wrapped_title\": [\"Works of Francis Thompson by Francis Thompson\"]}, {\"item_id\": \"thompson-francis-thompsons-works\", \"formatted_title\": \"Works of Francis Thompson by Francis Thompson\", \"member_id\": \"hemingway-ernest\", \"period\": \"1924-03-28/1925-03-28\", \"subscription_start\": \"1924-03-28\", \"subscription_end\": \"1925-03-28\", \"metric\": \"Cosine Distance\", \"score\": 1.0, \"formatted_wrapped_title\": [\"Works of Francis Thompson by Francis Thompson\"]}, {\"item_id\": \"moore-confessions-young-man\", \"formatted_title\": \"The Confessions of a Young Man by George Moore\", \"member_id\": \"hemingway-ernest\", \"period\": \"1924-03-28/1925-03-28\", \"subscription_start\": \"1924-03-28\", \"subscription_end\": \"1925-03-28\", \"metric\": \"Pearson Correlation Coefficient\", \"score\": 0.9079449684843304, \"formatted_wrapped_title\": [\"The Confessions of a Young Man by George Moore\"]}, {\"item_id\": \"george-strangers-wedding-comedy\", \"formatted_title\": \"The Strangers' Wedding; or, The Comedy of a Romantic by Walter Lionel George\", \"member_id\": \"hemingway-ernest\", \"period\": \"1921-12-28/1922-11-08\", \"subscription_start\": \"1921-12-28\", \"subscription_end\": \"1922-11-08\", \"metric\": \"Pearson Correlation Coefficient\", \"score\": 0.8290779032912787, \"formatted_wrapped_title\": [\"The Strangers' Wedding; or, The Comedy of a\", \"Romantic by Walter Lionel George\"]}, {\"item_id\": \"pound-instigations-ezra-pound\", \"formatted_title\": \"Instigations of Ezra Pound: Together with an Essay on the Chinese Written Character, by Ernest Fenollosa by Ernest  Ezra;Fenollosa Pound\", \"member_id\": \"hemingway-ernest\", \"period\": \"1921-12-28/1922-11-08\", \"subscription_start\": \"1921-12-28\", \"subscription_end\": \"1922-11-08\", \"metric\": \"Pearson Correlation Coefficient\", \"score\": 0.660401281016878, \"formatted_wrapped_title\": [\"Instigations of Ezra Pound: Together with an Essay\", \"on the Chinese Written Character, by Ernest\", \"Fenollosa by Ernest  Ezra;Fenollosa Pound\"]}, {\"item_id\": \"norris-shanghaied\", \"formatted_title\": \"Shanghaied by Frank Norris\", \"member_id\": \"hemingway-ernest\", \"period\": \"1921-12-28/1922-11-08\", \"subscription_start\": \"1921-12-28\", \"subscription_end\": \"1922-11-08\", \"metric\": \"Pearson Correlation Coefficient\", \"score\": 0.6099089884049043, \"formatted_wrapped_title\": [\"Shanghaied by Frank Norris\"]}, {\"item_id\": \"machen-shining-pyramid\", \"formatted_title\": \"The Shining Pyramid by Arthur Machen\", \"member_id\": \"hemingway-ernest\", \"period\": \"1924-03-28/1925-03-28\", \"subscription_start\": \"1924-03-28\", \"subscription_end\": \"1925-03-28\", \"metric\": \"Pearson Correlation Coefficient\", \"score\": 0.5482183827863352, \"formatted_wrapped_title\": [\"The Shining Pyramid by Arthur Machen\"]}, {\"item_id\": \"trollope-last-chronicle-barset\", \"formatted_title\": \"The Last Chronicle of Barset by Anthony Trollope\", \"member_id\": \"hemingway-ernest\", \"period\": \"1924-03-28/1925-03-28\", \"subscription_start\": \"1924-03-28\", \"subscription_end\": \"1925-03-28\", \"metric\": \"Pearson Correlation Coefficient\", \"score\": 0.5156243503278009, \"formatted_wrapped_title\": [\"The Last Chronicle of Barset by Anthony Trollope\"]}, {\"item_id\": \"moore-avowals\", \"formatted_title\": \"Avowals by George Moore\", \"member_id\": \"hemingway-ernest\", \"period\": \"1924-03-28/1925-03-28\", \"subscription_start\": \"1924-03-28\", \"subscription_end\": \"1925-03-28\", \"metric\": \"Pearson Correlation Coefficient\", \"score\": 0.512655834008162, \"formatted_wrapped_title\": [\"Avowals by George Moore\"]}, {\"item_id\": \"carritt-theory-beauty\", \"formatted_title\": \"The Theory of Beauty by E. F. Carritt\", \"member_id\": \"hemingway-ernest\", \"period\": \"1924-03-28/1925-03-28\", \"subscription_start\": \"1924-03-28\", \"subscription_end\": \"1925-03-28\", \"metric\": \"Euclidean Distance\", \"score\": 0.5, \"formatted_wrapped_title\": [\"The Theory of Beauty by E. F. Carritt\"]}, {\"item_id\": \"carritt-theory-beauty\", \"formatted_title\": \"The Theory of Beauty by E. F. Carritt\", \"member_id\": \"hemingway-ernest\", \"period\": \"1924-03-28/1925-03-28\", \"subscription_start\": \"1924-03-28\", \"subscription_end\": \"1925-03-28\", \"metric\": \"Pearson Correlation Coefficient\", \"score\": 0.5, \"formatted_wrapped_title\": [\"The Theory of Beauty by E. F. Carritt\"]}, {\"item_id\": \"carritt-theory-beauty\", \"formatted_title\": \"The Theory of Beauty by E. F. Carritt\", \"member_id\": \"hemingway-ernest\", \"period\": \"1924-03-28/1925-03-28\", \"subscription_start\": \"1924-03-28\", \"subscription_end\": \"1925-03-28\", \"metric\": \"Cosine Distance\", \"score\": 0.5, \"formatted_wrapped_title\": [\"The Theory of Beauty by E. F. Carritt\"]}, {\"item_id\": \"cather-one\", \"formatted_title\": \"One of Ours by Willa Cather\", \"member_id\": \"hemingway-ernest\", \"period\": \"1924-03-28/1925-03-28\", \"subscription_start\": \"1924-03-28\", \"subscription_end\": \"1925-03-28\", \"metric\": \"Pearson Correlation Coefficient\", \"score\": 0.453650718538317, \"formatted_wrapped_title\": [\"One of Ours by Willa Cather\"]}, {\"item_id\": \"macaulay-potterism\", \"formatted_title\": \"Potterism by Rose Macaulay\", \"member_id\": \"hemingway-ernest\", \"period\": \"1921-12-28/1922-11-08\", \"subscription_start\": \"1921-12-28\", \"subscription_end\": \"1922-11-08\", \"metric\": \"Pearson Correlation Coefficient\", \"score\": 0.417489710695389, \"formatted_wrapped_title\": [\"Potterism by Rose Macaulay\"]}, {\"item_id\": \"trollope-last-chronicle-barset\", \"formatted_title\": \"The Last Chronicle of Barset by Anthony Trollope\", \"member_id\": \"hemingway-ernest\", \"period\": \"1924-03-28/1925-03-28\", \"subscription_start\": \"1924-03-28\", \"subscription_end\": \"1925-03-28\", \"metric\": \"Cosine Distance\", \"score\": 0.4137071434413624, \"formatted_wrapped_title\": [\"The Last Chronicle of Barset by Anthony Trollope\"]}, {\"item_id\": \"moore-avowals\", \"formatted_title\": \"Avowals by George Moore\", \"member_id\": \"hemingway-ernest\", \"period\": \"1924-03-28/1925-03-28\", \"subscription_start\": \"1924-03-28\", \"subscription_end\": \"1925-03-28\", \"metric\": \"Cosine Distance\", \"score\": 0.4135541305777965, \"formatted_wrapped_title\": [\"Avowals by George Moore\"]}, {\"item_id\": \"george-stiff-lip-novel\", \"formatted_title\": \"The Stiff Lip: A Novel by Walter Lionel George\", \"member_id\": \"hemingway-ernest\", \"period\": \"1921-12-28/1922-11-08\", \"subscription_start\": \"1921-12-28\", \"subscription_end\": \"1922-11-08\", \"metric\": \"Pearson Correlation Coefficient\", \"score\": 0.3761303699927038, \"formatted_wrapped_title\": [\"The Stiff Lip: A Novel by Walter Lionel George\"]}, {\"item_id\": \"trollope-small-house-allington\", \"formatted_title\": \"The Small House at Allington by Anthony Trollope\", \"member_id\": \"hemingway-ernest\", \"period\": \"1924-03-28/1925-03-28\", \"subscription_start\": \"1924-03-28\", \"subscription_end\": \"1925-03-28\", \"metric\": \"Pearson Correlation Coefficient\", \"score\": 0.3680737861776262, \"formatted_wrapped_title\": [\"The Small House at Allington by Anthony Trollope\"]}, {\"item_id\": \"galsworthy-country-house\", \"formatted_title\": \"The Country House by John Galsworthy\", \"member_id\": \"hemingway-ernest\", \"period\": \"1921-12-28/1922-11-08\", \"subscription_start\": \"1921-12-28\", \"subscription_end\": \"1922-11-08\", \"metric\": \"Pearson Correlation Coefficient\", \"score\": 0.3579271711338316, \"formatted_wrapped_title\": [\"The Country House by John Galsworthy\"]}, {\"item_id\": \"mackenzie-vanity-girl\", \"formatted_title\": \"The Vanity Girl by Compton Mackenzie\", \"member_id\": \"hemingway-ernest\", \"period\": \"1924-03-28/1925-03-28\", \"subscription_start\": \"1924-03-28\", \"subscription_end\": \"1925-03-28\", \"metric\": \"Pearson Correlation Coefficient\", \"score\": 0.3574425247265009, \"formatted_wrapped_title\": [\"The Vanity Girl by Compton Mackenzie\"]}, {\"item_id\": \"mackenzie-poor-relations\", \"formatted_title\": \"Poor Relations by Compton Mackenzie\", \"member_id\": \"hemingway-ernest\", \"period\": \"1924-03-28/1925-03-28\", \"subscription_start\": \"1924-03-28\", \"subscription_end\": \"1925-03-28\", \"metric\": \"Pearson Correlation Coefficient\", \"score\": 0.3574425247265009, \"formatted_wrapped_title\": [\"Poor Relations by Compton Mackenzie\"]}, {\"item_id\": \"crane-maggie-girl-streets\", \"formatted_title\": \"Maggie: A Girl of the Streets by Stephen Crane\", \"member_id\": \"hemingway-ernest\", \"period\": \"1924-03-28/1925-03-28\", \"subscription_start\": \"1924-03-28\", \"subscription_end\": \"1925-03-28\", \"metric\": \"Pearson Correlation Coefficient\", \"score\": 0.349741023641585, \"formatted_wrapped_title\": [\"Maggie: A Girl of the Streets by Stephen Crane\"]}, {\"item_id\": \"rhys-rabindranath-tagore-biographical\", \"formatted_title\": \"Rabindranath Tagore: A Biographical Study by Ernest Rhys\", \"member_id\": \"hemingway-ernest\", \"period\": \"1921-12-28/1922-11-08\", \"subscription_start\": \"1921-12-28\", \"subscription_end\": \"1922-11-08\", \"metric\": \"Pearson Correlation Coefficient\", \"score\": 0.3427297212971295, \"formatted_wrapped_title\": [\"Rabindranath Tagore: A Biographical Study by\", \"Ernest Rhys\"]}, {\"item_id\": \"robinson-collected-poems\", \"formatted_title\": \"Collected Poems by Edwin Arlington Robinson\", \"member_id\": \"hemingway-ernest\", \"period\": \"1924-03-28/1925-03-28\", \"subscription_start\": \"1924-03-28\", \"subscription_end\": \"1925-03-28\", \"metric\": \"Pearson Correlation Coefficient\", \"score\": 0.3407975627838889, \"formatted_wrapped_title\": [\"Collected Poems by Edwin Arlington Robinson\"]}, {\"item_id\": \"tagore-gitanjali\", \"formatted_title\": \"Gitanjali by Rabindranath Tagore\", \"member_id\": \"hemingway-ernest\", \"period\": \"1921-12-28/1922-11-08\", \"subscription_start\": \"1921-12-28\", \"subscription_end\": \"1922-11-08\", \"metric\": \"Pearson Correlation Coefficient\", \"score\": 0.3376698213846898, \"formatted_wrapped_title\": [\"Gitanjali by Rabindranath Tagore\"]}, {\"item_id\": \"cather-one\", \"formatted_title\": \"One of Ours by Willa Cather\", \"member_id\": \"hemingway-ernest\", \"period\": \"1924-03-28/1925-03-28\", \"subscription_start\": \"1924-03-28\", \"subscription_end\": \"1925-03-28\", \"metric\": \"Cosine Distance\", \"score\": 0.3338436883406839, \"formatted_wrapped_title\": [\"One of Ours by Willa Cather\"]}, {\"item_id\": \"thoreau-essays-writings-henry\", \"formatted_title\": \"Essays and Other Writings of Henry Thoreau by Henry David Thoreau\", \"member_id\": \"hemingway-ernest\", \"period\": \"1924-03-28/1925-03-28\", \"subscription_start\": \"1924-03-28\", \"subscription_end\": \"1925-03-28\", \"metric\": \"Euclidean Distance\", \"score\": 0.3333333333333333, \"formatted_wrapped_title\": [\"Essays and Other Writings of Henry Thoreau by\", \"Henry David Thoreau\"]}, {\"item_id\": \"smollett-adventures-roderick-random\", \"formatted_title\": \"The Adventures of Roderick Random by Tobias Smollett\", \"member_id\": \"hemingway-ernest\", \"period\": \"1924-03-28/1925-03-28\", \"subscription_start\": \"1924-03-28\", \"subscription_end\": \"1925-03-28\", \"metric\": \"Euclidean Distance\", \"score\": 0.3333333333333333, \"formatted_wrapped_title\": [\"The Adventures of Roderick Random by Tobias\", \"Smollett\"]}, {\"item_id\": \"white-gold\", \"formatted_title\": \"Gold by Stewart Edward White\", \"member_id\": \"hemingway-ernest\", \"period\": \"1924-03-28/1925-03-28\", \"subscription_start\": \"1924-03-28\", \"subscription_end\": \"1925-03-28\", \"metric\": \"Euclidean Distance\", \"score\": 0.3333333333333333, \"formatted_wrapped_title\": [\"Gold by Stewart Edward White\"]}, {\"item_id\": \"anderson-story-tellers-story\", \"formatted_title\": \"A Story Teller's Story by Sherwood Anderson\", \"member_id\": \"hemingway-ernest\", \"period\": \"1924-03-28/1925-03-28\", \"subscription_start\": \"1924-03-28\", \"subscription_end\": \"1925-03-28\", \"metric\": \"Euclidean Distance\", \"score\": 0.3333333333333333, \"formatted_wrapped_title\": [\"A Story Teller's Story by Sherwood Anderson\"]}, {\"item_id\": \"snaith-van-roon\", \"formatted_title\": \"The Van Roon by J. C. Snaith\", \"member_id\": \"hemingway-ernest\", \"period\": \"1924-03-28/1925-03-28\", \"subscription_start\": \"1924-03-28\", \"subscription_end\": \"1925-03-28\", \"metric\": \"Euclidean Distance\", \"score\": 0.3333333333333333, \"formatted_wrapped_title\": [\"The Van Roon by J. C. Snaith\"]}, {\"item_id\": \"thoreau-essays-writings-henry\", \"formatted_title\": \"Essays and Other Writings of Henry Thoreau by Henry David Thoreau\", \"member_id\": \"hemingway-ernest\", \"period\": \"1924-03-28/1925-03-28\", \"subscription_start\": \"1924-03-28\", \"subscription_end\": \"1925-03-28\", \"metric\": \"Cosine Distance\", \"score\": 0.3333333333333333, \"formatted_wrapped_title\": [\"Essays and Other Writings of Henry Thoreau by\", \"Henry David Thoreau\"]}, {\"item_id\": \"wells-washington-hope-peace\", \"formatted_title\": \"Washington and the Hope of Peace by H. G. Wells\", \"member_id\": \"hemingway-ernest\", \"period\": \"1921-12-28/1922-11-08\", \"subscription_start\": \"1921-12-28\", \"subscription_end\": \"1922-11-08\", \"metric\": \"Euclidean Distance\", \"score\": 0.3333333333333333, \"formatted_wrapped_title\": [\"Washington and the Hope of Peace by H. G. Wells\"]}, {\"item_id\": \"swinnerton-casement\", \"formatted_title\": \"The Casement by Frank Swinnerton\", \"member_id\": \"hemingway-ernest\", \"period\": \"1924-03-28/1925-03-28\", \"subscription_start\": \"1924-03-28\", \"subscription_end\": \"1925-03-28\", \"metric\": \"Euclidean Distance\", \"score\": 0.3333333333333333, \"formatted_wrapped_title\": [\"The Casement by Frank Swinnerton\"]}, {\"item_id\": \"abercrombie-thomas-hardy-critical\", \"formatted_title\": \"Thomas Hardy: A Critical Study by Lascelles Abercrombie\", \"member_id\": \"hemingway-ernest\", \"period\": \"1921-12-28/1922-11-08\", \"subscription_start\": \"1921-12-28\", \"subscription_end\": \"1922-11-08\", \"metric\": \"Cosine Distance\", \"score\": 0.3333333333333333, \"formatted_wrapped_title\": [\"Thomas Hardy: A Critical Study by Lascelles\", \"Abercrombie\"]}, {\"item_id\": \"twain-mark-twains-autobiography\", \"formatted_title\": \"Mark Twain's Autobiography by Mark Twain\", \"member_id\": \"hemingway-ernest\", \"period\": \"1924-03-28/1925-03-28\", \"subscription_start\": \"1924-03-28\", \"subscription_end\": \"1925-03-28\", \"metric\": \"Euclidean Distance\", \"score\": 0.3333333333333333, \"formatted_wrapped_title\": [\"Mark Twain's Autobiography by Mark Twain\"]}, {\"item_id\": \"byron-lord-byrons-correspondence\", \"formatted_title\": \"Lord Byron's Correspondence by George Gordon Byron Byron\", \"member_id\": \"hemingway-ernest\", \"period\": \"1924-03-28/1925-03-28\", \"subscription_start\": \"1924-03-28\", \"subscription_end\": \"1925-03-28\", \"metric\": \"Pearson Correlation Coefficient\", \"score\": 0.3333333333333333, \"formatted_wrapped_title\": [\"Lord Byron's Correspondence by George Gordon Byron\", \"Byron\"]}, {\"item_id\": \"shakespeare-shakespeare\", \"formatted_title\": \"Shakespeare by William Shakespeare\", \"member_id\": \"hemingway-ernest\", \"period\": \"1921-12-28/1922-11-08\", \"subscription_start\": \"1921-12-28\", \"subscription_end\": \"1922-11-08\", \"metric\": \"Euclidean Distance\", \"score\": 0.3333333333333333, \"formatted_wrapped_title\": [\"Shakespeare by William Shakespeare\"]}, {\"item_id\": \"wright-life-walter-pater\", \"formatted_title\": \"The Life of Walter Pater by Thomas Wright\", \"member_id\": \"hemingway-ernest\", \"period\": \"1921-12-28/1922-11-08\", \"subscription_start\": \"1921-12-28\", \"subscription_end\": \"1922-11-08\", \"metric\": \"Pearson Correlation Coefficient\", \"score\": 0.3333333333333333, \"formatted_wrapped_title\": [\"The Life of Walter Pater by Thomas Wright\"]}, {\"item_id\": \"bell-since-cezanne\", \"formatted_title\": \"Since C\\u00e9zanne by Clive Bell\", \"member_id\": \"hemingway-ernest\", \"period\": \"1921-12-28/1922-11-08\", \"subscription_start\": \"1921-12-28\", \"subscription_end\": \"1922-11-08\", \"metric\": \"Pearson Correlation Coefficient\", \"score\": 0.3333333333333333, \"formatted_wrapped_title\": [\"Since C\\u00e9zanne by Clive Bell\"]}, {\"item_id\": \"galsworthy-villa-rubein\", \"formatted_title\": \"Villa Rubein by John Galsworthy\", \"member_id\": \"hemingway-ernest\", \"period\": \"1924-03-28/1925-03-28\", \"subscription_start\": \"1924-03-28\", \"subscription_end\": \"1925-03-28\", \"metric\": \"Euclidean Distance\", \"score\": 0.3333333333333333, \"formatted_wrapped_title\": [\"Villa Rubein by John Galsworthy\"]}, {\"item_id\": \"abercrombie-thomas-hardy-critical\", \"formatted_title\": \"Thomas Hardy: A Critical Study by Lascelles Abercrombie\", \"member_id\": \"hemingway-ernest\", \"period\": \"1921-12-28/1922-11-08\", \"subscription_start\": \"1921-12-28\", \"subscription_end\": \"1922-11-08\", \"metric\": \"Pearson Correlation Coefficient\", \"score\": 0.3333333333333333, \"formatted_wrapped_title\": [\"Thomas Hardy: A Critical Study by Lascelles\", \"Abercrombie\"]}, {\"item_id\": \"jameson-clash\", \"formatted_title\": \"The Clash by Storm Jameson\", \"member_id\": \"hemingway-ernest\", \"period\": \"1921-12-28/1922-11-08\", \"subscription_start\": \"1921-12-28\", \"subscription_end\": \"1922-11-08\", \"metric\": \"Euclidean Distance\", \"score\": 0.3333333333333333, \"formatted_wrapped_title\": [\"The Clash by Storm Jameson\"]}, {\"item_id\": \"jones-samuel-butler\", \"formatted_title\": \"Samuel Butler by Henry Festing Jones\", \"member_id\": \"hemingway-ernest\", \"period\": \"1921-12-28/1922-11-08\", \"subscription_start\": \"1921-12-28\", \"subscription_end\": \"1922-11-08\", \"metric\": \"Euclidean Distance\", \"score\": 0.3333333333333333, \"formatted_wrapped_title\": [\"Samuel Butler by Henry Festing Jones\"]}, {\"item_id\": \"wright-life-walter-pater\", \"formatted_title\": \"The Life of Walter Pater by Thomas Wright\", \"member_id\": \"hemingway-ernest\", \"period\": \"1921-12-28/1922-11-08\", \"subscription_start\": \"1921-12-28\", \"subscription_end\": \"1922-11-08\", \"metric\": \"Cosine Distance\", \"score\": 0.3333333333333333, \"formatted_wrapped_title\": [\"The Life of Walter Pater by Thomas Wright\"]}, {\"item_id\": \"anderson-story-tellers-story\", \"formatted_title\": \"A Story Teller's Story by Sherwood Anderson\", \"member_id\": \"hemingway-ernest\", \"period\": \"1924-03-28/1925-03-28\", \"subscription_start\": \"1924-03-28\", \"subscription_end\": \"1925-03-28\", \"metric\": \"Pearson Correlation Coefficient\", \"score\": 0.3333333333333333, \"formatted_wrapped_title\": [\"A Story Teller's Story by Sherwood Anderson\"]}, {\"item_id\": \"white-gold\", \"formatted_title\": \"Gold by Stewart Edward White\", \"member_id\": \"hemingway-ernest\", \"period\": \"1924-03-28/1925-03-28\", \"subscription_start\": \"1924-03-28\", \"subscription_end\": \"1925-03-28\", \"metric\": \"Cosine Distance\", \"score\": 0.3333333333333333, \"formatted_wrapped_title\": [\"Gold by Stewart Edward White\"]}, {\"item_id\": \"swinnerton-casement\", \"formatted_title\": \"The Casement by Frank Swinnerton\", \"member_id\": \"hemingway-ernest\", \"period\": \"1924-03-28/1925-03-28\", \"subscription_start\": \"1924-03-28\", \"subscription_end\": \"1925-03-28\", \"metric\": \"Pearson Correlation Coefficient\", \"score\": 0.3333333333333333, \"formatted_wrapped_title\": [\"The Casement by Frank Swinnerton\"]}, {\"item_id\": \"thoreau-essays-writings-henry\", \"formatted_title\": \"Essays and Other Writings of Henry Thoreau by Henry David Thoreau\", \"member_id\": \"hemingway-ernest\", \"period\": \"1924-03-28/1925-03-28\", \"subscription_start\": \"1924-03-28\", \"subscription_end\": \"1925-03-28\", \"metric\": \"Pearson Correlation Coefficient\", \"score\": 0.3333333333333333, \"formatted_wrapped_title\": [\"Essays and Other Writings of Henry Thoreau by\", \"Henry David Thoreau\"]}, {\"item_id\": \"austen-lady-susan\", \"formatted_title\": \"Lady Susan by Jane Austen\", \"member_id\": \"hemingway-ernest\", \"period\": \"1924-03-28/1925-03-28\", \"subscription_start\": \"1924-03-28\", \"subscription_end\": \"1925-03-28\", \"metric\": \"Pearson Correlation Coefficient\", \"score\": 0.3333333333333333, \"formatted_wrapped_title\": [\"Lady Susan by Jane Austen\"]}, {\"item_id\": \"jameson-clash\", \"formatted_title\": \"The Clash by Storm Jameson\", \"member_id\": \"hemingway-ernest\", \"period\": \"1921-12-28/1922-11-08\", \"subscription_start\": \"1921-12-28\", \"subscription_end\": \"1922-11-08\", \"metric\": \"Cosine Distance\", \"score\": 0.3333333333333333, \"formatted_wrapped_title\": [\"The Clash by Storm Jameson\"]}, {\"item_id\": \"ingram-true-chatterton-new\", \"formatted_title\": \"The True Chatterton: A New Study from Original Documents by John Henry Ingram\", \"member_id\": \"hemingway-ernest\", \"period\": \"1924-03-28/1925-03-28\", \"subscription_start\": \"1924-03-28\", \"subscription_end\": \"1925-03-28\", \"metric\": \"Cosine Distance\", \"score\": 0.3333333333333333, \"formatted_wrapped_title\": [\"The True Chatterton: A New Study from Original\", \"Documents by John Henry Ingram\"]}, {\"item_id\": \"wells-washington-hope-peace\", \"formatted_title\": \"Washington and the Hope of Peace by H. G. Wells\", \"member_id\": \"hemingway-ernest\", \"period\": \"1921-12-28/1922-11-08\", \"subscription_start\": \"1921-12-28\", \"subscription_end\": \"1922-11-08\", \"metric\": \"Cosine Distance\", \"score\": 0.3333333333333333, \"formatted_wrapped_title\": [\"Washington and the Hope of Peace by H. G. Wells\"]}, {\"item_id\": \"snaith-van-roon\", \"formatted_title\": \"The Van Roon by J. C. Snaith\", \"member_id\": \"hemingway-ernest\", \"period\": \"1924-03-28/1925-03-28\", \"subscription_start\": \"1924-03-28\", \"subscription_end\": \"1925-03-28\", \"metric\": \"Pearson Correlation Coefficient\", \"score\": 0.3333333333333333, \"formatted_wrapped_title\": [\"The Van Roon by J. C. Snaith\"]}, {\"item_id\": \"smollett-adventures-roderick-random\", \"formatted_title\": \"The Adventures of Roderick Random by Tobias Smollett\", \"member_id\": \"hemingway-ernest\", \"period\": \"1924-03-28/1925-03-28\", \"subscription_start\": \"1924-03-28\", \"subscription_end\": \"1925-03-28\", \"metric\": \"Pearson Correlation Coefficient\", \"score\": 0.3333333333333333, \"formatted_wrapped_title\": [\"The Adventures of Roderick Random by Tobias\", \"Smollett\"]}, {\"item_id\": \"austen-lady-susan\", \"formatted_title\": \"Lady Susan by Jane Austen\", \"member_id\": \"hemingway-ernest\", \"period\": \"1924-03-28/1925-03-28\", \"subscription_start\": \"1924-03-28\", \"subscription_end\": \"1925-03-28\", \"metric\": \"Euclidean Distance\", \"score\": 0.3333333333333333, \"formatted_wrapped_title\": [\"Lady Susan by Jane Austen\"]}, {\"item_id\": \"dostoyevsky-eternal-husband-stories\", \"formatted_title\": \"The Eternal Husband and Other Stories by Fyodor Dostoyevsky\", \"member_id\": \"hemingway-ernest\", \"period\": \"1924-03-28/1925-03-28\", \"subscription_start\": \"1924-03-28\", \"subscription_end\": \"1925-03-28\", \"metric\": \"Pearson Correlation Coefficient\", \"score\": 0.3333333333333333, \"formatted_wrapped_title\": [\"The Eternal Husband and Other Stories by Fyodor\", \"Dostoyevsky\"]}, {\"item_id\": \"george-bed-roses\", \"formatted_title\": \"A Bed of Roses by Walter Lionel George\", \"member_id\": \"hemingway-ernest\", \"period\": \"1924-03-28/1925-03-28\", \"subscription_start\": \"1924-03-28\", \"subscription_end\": \"1925-03-28\", \"metric\": \"Euclidean Distance\", \"score\": 0.3333333333333333, \"formatted_wrapped_title\": [\"A Bed of Roses by Walter Lionel George\"]}, {\"item_id\": \"twain-mark-twains-autobiography\", \"formatted_title\": \"Mark Twain's Autobiography by Mark Twain\", \"member_id\": \"hemingway-ernest\", \"period\": \"1924-03-28/1925-03-28\", \"subscription_start\": \"1924-03-28\", \"subscription_end\": \"1925-03-28\", \"metric\": \"Cosine Distance\", \"score\": 0.3333333333333333, \"formatted_wrapped_title\": [\"Mark Twain's Autobiography by Mark Twain\"]}, {\"item_id\": \"jones-samuel-butler\", \"formatted_title\": \"Samuel Butler by Henry Festing Jones\", \"member_id\": \"hemingway-ernest\", \"period\": \"1921-12-28/1922-11-08\", \"subscription_start\": \"1921-12-28\", \"subscription_end\": \"1922-11-08\", \"metric\": \"Cosine Distance\", \"score\": 0.3333333333333333, \"formatted_wrapped_title\": [\"Samuel Butler by Henry Festing Jones\"]}, {\"item_id\": \"twain-mark-twains-autobiography\", \"formatted_title\": \"Mark Twain's Autobiography by Mark Twain\", \"member_id\": \"hemingway-ernest\", \"period\": \"1924-03-28/1925-03-28\", \"subscription_start\": \"1924-03-28\", \"subscription_end\": \"1925-03-28\", \"metric\": \"Pearson Correlation Coefficient\", \"score\": 0.3333333333333333, \"formatted_wrapped_title\": [\"Mark Twain's Autobiography by Mark Twain\"]}, {\"item_id\": \"ingram-true-chatterton-new\", \"formatted_title\": \"The True Chatterton: A New Study from Original Documents by John Henry Ingram\", \"member_id\": \"hemingway-ernest\", \"period\": \"1924-03-28/1925-03-28\", \"subscription_start\": \"1924-03-28\", \"subscription_end\": \"1925-03-28\", \"metric\": \"Euclidean Distance\", \"score\": 0.3333333333333333, \"formatted_wrapped_title\": [\"The True Chatterton: A New Study from Original\", \"Documents by John Henry Ingram\"]}, {\"item_id\": \"george-bed-roses\", \"formatted_title\": \"A Bed of Roses by Walter Lionel George\", \"member_id\": \"hemingway-ernest\", \"period\": \"1924-03-28/1925-03-28\", \"subscription_start\": \"1924-03-28\", \"subscription_end\": \"1925-03-28\", \"metric\": \"Pearson Correlation Coefficient\", \"score\": 0.3333333333333333, \"formatted_wrapped_title\": [\"A Bed of Roses by Walter Lionel George\"]}, {\"item_id\": \"white-gold\", \"formatted_title\": \"Gold by Stewart Edward White\", \"member_id\": \"hemingway-ernest\", \"period\": \"1924-03-28/1925-03-28\", \"subscription_start\": \"1924-03-28\", \"subscription_end\": \"1925-03-28\", \"metric\": \"Pearson Correlation Coefficient\", \"score\": 0.3333333333333333, \"formatted_wrapped_title\": [\"Gold by Stewart Edward White\"]}, {\"item_id\": \"byron-lord-byrons-correspondence\", \"formatted_title\": \"Lord Byron's Correspondence by George Gordon Byron Byron\", \"member_id\": \"hemingway-ernest\", \"period\": \"1924-03-28/1925-03-28\", \"subscription_start\": \"1924-03-28\", \"subscription_end\": \"1925-03-28\", \"metric\": \"Cosine Distance\", \"score\": 0.3333333333333333, \"formatted_wrapped_title\": [\"Lord Byron's Correspondence by George Gordon Byron\", \"Byron\"]}, {\"item_id\": \"swinnerton-casement\", \"formatted_title\": \"The Casement by Frank Swinnerton\", \"member_id\": \"hemingway-ernest\", \"period\": \"1924-03-28/1925-03-28\", \"subscription_start\": \"1924-03-28\", \"subscription_end\": \"1925-03-28\", \"metric\": \"Cosine Distance\", \"score\": 0.3333333333333333, \"formatted_wrapped_title\": [\"The Casement by Frank Swinnerton\"]}, {\"item_id\": \"bell-since-cezanne\", \"formatted_title\": \"Since C\\u00e9zanne by Clive Bell\", \"member_id\": \"hemingway-ernest\", \"period\": \"1921-12-28/1922-11-08\", \"subscription_start\": \"1921-12-28\", \"subscription_end\": \"1922-11-08\", \"metric\": \"Euclidean Distance\", \"score\": 0.3333333333333333, \"formatted_wrapped_title\": [\"Since C\\u00e9zanne by Clive Bell\"]}, {\"item_id\": \"wright-life-walter-pater\", \"formatted_title\": \"The Life of Walter Pater by Thomas Wright\", \"member_id\": \"hemingway-ernest\", \"period\": \"1921-12-28/1922-11-08\", \"subscription_start\": \"1921-12-28\", \"subscription_end\": \"1922-11-08\", \"metric\": \"Euclidean Distance\", \"score\": 0.3333333333333333, \"formatted_wrapped_title\": [\"The Life of Walter Pater by Thomas Wright\"]}, {\"item_id\": \"smollett-adventures-roderick-random\", \"formatted_title\": \"The Adventures of Roderick Random by Tobias Smollett\", \"member_id\": \"hemingway-ernest\", \"period\": \"1924-03-28/1925-03-28\", \"subscription_start\": \"1924-03-28\", \"subscription_end\": \"1925-03-28\", \"metric\": \"Cosine Distance\", \"score\": 0.3333333333333333, \"formatted_wrapped_title\": [\"The Adventures of Roderick Random by Tobias\", \"Smollett\"]}, {\"item_id\": \"snaith-van-roon\", \"formatted_title\": \"The Van Roon by J. C. Snaith\", \"member_id\": \"hemingway-ernest\", \"period\": \"1924-03-28/1925-03-28\", \"subscription_start\": \"1924-03-28\", \"subscription_end\": \"1925-03-28\", \"metric\": \"Cosine Distance\", \"score\": 0.3333333333333333, \"formatted_wrapped_title\": [\"The Van Roon by J. C. Snaith\"]}, {\"item_id\": \"dostoyevsky-eternal-husband-stories\", \"formatted_title\": \"The Eternal Husband and Other Stories by Fyodor Dostoyevsky\", \"member_id\": \"hemingway-ernest\", \"period\": \"1924-03-28/1925-03-28\", \"subscription_start\": \"1924-03-28\", \"subscription_end\": \"1925-03-28\", \"metric\": \"Euclidean Distance\", \"score\": 0.3333333333333333, \"formatted_wrapped_title\": [\"The Eternal Husband and Other Stories by Fyodor\", \"Dostoyevsky\"]}, {\"item_id\": \"cather-one\", \"formatted_title\": \"One of Ours by Willa Cather\", \"member_id\": \"hemingway-ernest\", \"period\": \"1924-03-28/1925-03-28\", \"subscription_start\": \"1924-03-28\", \"subscription_end\": \"1925-03-28\", \"metric\": \"Euclidean Distance\", \"score\": 0.3333333333333333, \"formatted_wrapped_title\": [\"One of Ours by Willa Cather\"]}, {\"item_id\": \"byron-lord-byrons-correspondence\", \"formatted_title\": \"Lord Byron's Correspondence by George Gordon Byron Byron\", \"member_id\": \"hemingway-ernest\", \"period\": \"1924-03-28/1925-03-28\", \"subscription_start\": \"1924-03-28\", \"subscription_end\": \"1925-03-28\", \"metric\": \"Euclidean Distance\", \"score\": 0.3333333333333333, \"formatted_wrapped_title\": [\"Lord Byron's Correspondence by George Gordon Byron\", \"Byron\"]}, {\"item_id\": \"dane-wandering-stars\", \"formatted_title\": \"Wandering Stars by Clemence Dane\", \"member_id\": \"hemingway-ernest\", \"period\": \"1924-03-28/1925-03-28\", \"subscription_start\": \"1924-03-28\", \"subscription_end\": \"1925-03-28\", \"metric\": \"Euclidean Distance\", \"score\": 0.3333333333333333, \"formatted_wrapped_title\": [\"Wandering Stars by Clemence Dane\"]}, {\"item_id\": \"corkery-threshold-quiet\", \"formatted_title\": \"The Threshold of Quiet by Daniel Corkery\", \"member_id\": \"hemingway-ernest\", \"period\": \"1924-03-28/1925-03-28\", \"subscription_start\": \"1924-03-28\", \"subscription_end\": \"1925-03-28\", \"metric\": \"Cosine Distance\", \"score\": 0.3333333333333333, \"formatted_wrapped_title\": [\"The Threshold of Quiet by Daniel Corkery\"]}, {\"item_id\": \"corkery-threshold-quiet\", \"formatted_title\": \"The Threshold of Quiet by Daniel Corkery\", \"member_id\": \"hemingway-ernest\", \"period\": \"1924-03-28/1925-03-28\", \"subscription_start\": \"1924-03-28\", \"subscription_end\": \"1925-03-28\", \"metric\": \"Euclidean Distance\", \"score\": 0.3333333333333333, \"formatted_wrapped_title\": [\"The Threshold of Quiet by Daniel Corkery\"]}, {\"item_id\": \"wells-washington-hope-peace\", \"formatted_title\": \"Washington and the Hope of Peace by H. G. Wells\", \"member_id\": \"hemingway-ernest\", \"period\": \"1921-12-28/1922-11-08\", \"subscription_start\": \"1921-12-28\", \"subscription_end\": \"1922-11-08\", \"metric\": \"Pearson Correlation Coefficient\", \"score\": 0.3333333333333333, \"formatted_wrapped_title\": [\"Washington and the Hope of Peace by H. G. Wells\"]}, {\"item_id\": \"dane-wandering-stars\", \"formatted_title\": \"Wandering Stars by Clemence Dane\", \"member_id\": \"hemingway-ernest\", \"period\": \"1924-03-28/1925-03-28\", \"subscription_start\": \"1924-03-28\", \"subscription_end\": \"1925-03-28\", \"metric\": \"Cosine Distance\", \"score\": 0.3333333333333333, \"formatted_wrapped_title\": [\"Wandering Stars by Clemence Dane\"]}, {\"item_id\": \"dostoyevsky-eternal-husband-stories\", \"formatted_title\": \"The Eternal Husband and Other Stories by Fyodor Dostoyevsky\", \"member_id\": \"hemingway-ernest\", \"period\": \"1924-03-28/1925-03-28\", \"subscription_start\": \"1924-03-28\", \"subscription_end\": \"1925-03-28\", \"metric\": \"Cosine Distance\", \"score\": 0.3333333333333333, \"formatted_wrapped_title\": [\"The Eternal Husband and Other Stories by Fyodor\", \"Dostoyevsky\"]}, {\"item_id\": \"dane-wandering-stars\", \"formatted_title\": \"Wandering Stars by Clemence Dane\", \"member_id\": \"hemingway-ernest\", \"period\": \"1924-03-28/1925-03-28\", \"subscription_start\": \"1924-03-28\", \"subscription_end\": \"1925-03-28\", \"metric\": \"Pearson Correlation Coefficient\", \"score\": 0.3333333333333333, \"formatted_wrapped_title\": [\"Wandering Stars by Clemence Dane\"]}, {\"item_id\": \"jones-samuel-butler\", \"formatted_title\": \"Samuel Butler by Henry Festing Jones\", \"member_id\": \"hemingway-ernest\", \"period\": \"1921-12-28/1922-11-08\", \"subscription_start\": \"1921-12-28\", \"subscription_end\": \"1922-11-08\", \"metric\": \"Pearson Correlation Coefficient\", \"score\": 0.3333333333333333, \"formatted_wrapped_title\": [\"Samuel Butler by Henry Festing Jones\"]}, {\"item_id\": \"abercrombie-thomas-hardy-critical\", \"formatted_title\": \"Thomas Hardy: A Critical Study by Lascelles Abercrombie\", \"member_id\": \"hemingway-ernest\", \"period\": \"1921-12-28/1922-11-08\", \"subscription_start\": \"1921-12-28\", \"subscription_end\": \"1922-11-08\", \"metric\": \"Euclidean Distance\", \"score\": 0.3333333333333333, \"formatted_wrapped_title\": [\"Thomas Hardy: A Critical Study by Lascelles\", \"Abercrombie\"]}, {\"item_id\": \"jameson-clash\", \"formatted_title\": \"The Clash by Storm Jameson\", \"member_id\": \"hemingway-ernest\", \"period\": \"1921-12-28/1922-11-08\", \"subscription_start\": \"1921-12-28\", \"subscription_end\": \"1922-11-08\", \"metric\": \"Pearson Correlation Coefficient\", \"score\": 0.3333333333333333, \"formatted_wrapped_title\": [\"The Clash by Storm Jameson\"]}, {\"item_id\": \"ingram-true-chatterton-new\", \"formatted_title\": \"The True Chatterton: A New Study from Original Documents by John Henry Ingram\", \"member_id\": \"hemingway-ernest\", \"period\": \"1924-03-28/1925-03-28\", \"subscription_start\": \"1924-03-28\", \"subscription_end\": \"1925-03-28\", \"metric\": \"Pearson Correlation Coefficient\", \"score\": 0.3333333333333333, \"formatted_wrapped_title\": [\"The True Chatterton: A New Study from Original\", \"Documents by John Henry Ingram\"]}, {\"item_id\": \"galsworthy-villa-rubein\", \"formatted_title\": \"Villa Rubein by John Galsworthy\", \"member_id\": \"hemingway-ernest\", \"period\": \"1924-03-28/1925-03-28\", \"subscription_start\": \"1924-03-28\", \"subscription_end\": \"1925-03-28\", \"metric\": \"Cosine Distance\", \"score\": 0.3333333333333333, \"formatted_wrapped_title\": [\"Villa Rubein by John Galsworthy\"]}, {\"item_id\": \"anderson-story-tellers-story\", \"formatted_title\": \"A Story Teller's Story by Sherwood Anderson\", \"member_id\": \"hemingway-ernest\", \"period\": \"1924-03-28/1925-03-28\", \"subscription_start\": \"1924-03-28\", \"subscription_end\": \"1925-03-28\", \"metric\": \"Cosine Distance\", \"score\": 0.3333333333333333, \"formatted_wrapped_title\": [\"A Story Teller's Story by Sherwood Anderson\"]}, {\"item_id\": \"austen-lady-susan\", \"formatted_title\": \"Lady Susan by Jane Austen\", \"member_id\": \"hemingway-ernest\", \"period\": \"1924-03-28/1925-03-28\", \"subscription_start\": \"1924-03-28\", \"subscription_end\": \"1925-03-28\", \"metric\": \"Cosine Distance\", \"score\": 0.3333333333333333, \"formatted_wrapped_title\": [\"Lady Susan by Jane Austen\"]}, {\"item_id\": \"george-bed-roses\", \"formatted_title\": \"A Bed of Roses by Walter Lionel George\", \"member_id\": \"hemingway-ernest\", \"period\": \"1924-03-28/1925-03-28\", \"subscription_start\": \"1924-03-28\", \"subscription_end\": \"1925-03-28\", \"metric\": \"Cosine Distance\", \"score\": 0.3333333333333333, \"formatted_wrapped_title\": [\"A Bed of Roses by Walter Lionel George\"]}, {\"item_id\": \"corkery-threshold-quiet\", \"formatted_title\": \"The Threshold of Quiet by Daniel Corkery\", \"member_id\": \"hemingway-ernest\", \"period\": \"1924-03-28/1925-03-28\", \"subscription_start\": \"1924-03-28\", \"subscription_end\": \"1925-03-28\", \"metric\": \"Pearson Correlation Coefficient\", \"score\": 0.3333333333333333, \"formatted_wrapped_title\": [\"The Threshold of Quiet by Daniel Corkery\"]}, {\"item_id\": \"galsworthy-villa-rubein\", \"formatted_title\": \"Villa Rubein by John Galsworthy\", \"member_id\": \"hemingway-ernest\", \"period\": \"1924-03-28/1925-03-28\", \"subscription_start\": \"1924-03-28\", \"subscription_end\": \"1925-03-28\", \"metric\": \"Pearson Correlation Coefficient\", \"score\": 0.3333333333333333, \"formatted_wrapped_title\": [\"Villa Rubein by John Galsworthy\"]}, {\"item_id\": \"bell-since-cezanne\", \"formatted_title\": \"Since C\\u00e9zanne by Clive Bell\", \"member_id\": \"hemingway-ernest\", \"period\": \"1921-12-28/1922-11-08\", \"subscription_start\": \"1921-12-28\", \"subscription_end\": \"1922-11-08\", \"metric\": \"Cosine Distance\", \"score\": 0.3333333333333333, \"formatted_wrapped_title\": [\"Since C\\u00e9zanne by Clive Bell\"]}, {\"item_id\": \"shakespeare-shakespeare\", \"formatted_title\": \"Shakespeare by William Shakespeare\", \"member_id\": \"hemingway-ernest\", \"period\": \"1921-12-28/1922-11-08\", \"subscription_start\": \"1921-12-28\", \"subscription_end\": \"1922-11-08\", \"metric\": \"Cosine Distance\", \"score\": 0.3331434351530415, \"formatted_wrapped_title\": [\"Shakespeare by William Shakespeare\"]}, {\"item_id\": \"machen-shining-pyramid\", \"formatted_title\": \"The Shining Pyramid by Arthur Machen\", \"member_id\": \"hemingway-ernest\", \"period\": \"1924-03-28/1925-03-28\", \"subscription_start\": \"1924-03-28\", \"subscription_end\": \"1925-03-28\", \"metric\": \"Cosine Distance\", \"score\": 0.331912728404756, \"formatted_wrapped_title\": [\"The Shining Pyramid by Arthur Machen\"]}, {\"item_id\": \"george-stiff-lip-novel\", \"formatted_title\": \"The Stiff Lip: A Novel by Walter Lionel George\", \"member_id\": \"hemingway-ernest\", \"period\": \"1921-12-28/1922-11-08\", \"subscription_start\": \"1921-12-28\", \"subscription_end\": \"1922-11-08\", \"metric\": \"Cosine Distance\", \"score\": 0.3311972050821316, \"formatted_wrapped_title\": [\"The Stiff Lip: A Novel by Walter Lionel George\"]}, {\"item_id\": \"wharton-age-innocence\", \"formatted_title\": \"The Age of Innocence by Edith Wharton\", \"member_id\": \"hemingway-ernest\", \"period\": \"1921-12-28/1922-11-08\", \"subscription_start\": \"1921-12-28\", \"subscription_end\": \"1922-11-08\", \"metric\": \"Pearson Correlation Coefficient\", \"score\": 0.3292504217033576, \"formatted_wrapped_title\": [\"The Age of Innocence by Edith Wharton\"]}, {\"item_id\": \"walpole-cathedral-novel\", \"formatted_title\": \"The Cathedral: A Novel by Hugh Walpole\", \"member_id\": \"hemingway-ernest\", \"period\": \"1924-03-28/1925-03-28\", \"subscription_start\": \"1924-03-28\", \"subscription_end\": \"1925-03-28\", \"metric\": \"Pearson Correlation Coefficient\", \"score\": 0.3273435470432413, \"formatted_wrapped_title\": [\"The Cathedral: A Novel by Hugh Walpole\"]}, {\"item_id\": \"dreiser-genius\", \"formatted_title\": \"The \\\"Genius\\\" by Theodore Dreiser\", \"member_id\": \"hemingway-ernest\", \"period\": \"1924-03-28/1925-03-28\", \"subscription_start\": \"1924-03-28\", \"subscription_end\": \"1925-03-28\", \"metric\": \"Pearson Correlation Coefficient\", \"score\": 0.3245276607099432, \"formatted_wrapped_title\": [\"The \\\"Genius\\\" by Theodore Dreiser\"]}, {\"item_id\": \"maugham-chinese-screen\", \"formatted_title\": \"On a Chinese Screen by W. Somerset Maugham\", \"member_id\": \"hemingway-ernest\", \"period\": \"1924-03-28/1925-03-28\", \"subscription_start\": \"1924-03-28\", \"subscription_end\": \"1925-03-28\", \"metric\": \"Pearson Correlation Coefficient\", \"score\": 0.3220144167963681, \"formatted_wrapped_title\": [\"On a Chinese Screen by W. Somerset Maugham\"]}, {\"item_id\": \"frank-rahab\", \"formatted_title\": \"Rahab by Waldo Frank\", \"member_id\": \"hemingway-ernest\", \"period\": \"1921-12-28/1922-11-08\", \"subscription_start\": \"1921-12-28\", \"subscription_end\": \"1922-11-08\", \"metric\": \"Pearson Correlation Coefficient\", \"score\": 0.3158410115105134, \"formatted_wrapped_title\": [\"Rahab by Waldo Frank\"]}, {\"item_id\": \"chesterton-heretics\", \"formatted_title\": \"Heretics by G. K. Chesterton\", \"member_id\": \"hemingway-ernest\", \"period\": \"1921-12-28/1922-11-08\", \"subscription_start\": \"1921-12-28\", \"subscription_end\": \"1922-11-08\", \"metric\": \"Pearson Correlation Coefficient\", \"score\": 0.3017436462659318, \"formatted_wrapped_title\": [\"Heretics by G. K. Chesterton\"]}, {\"item_id\": \"dreiser-genius\", \"formatted_title\": \"The \\\"Genius\\\" by Theodore Dreiser\", \"member_id\": \"hemingway-ernest\", \"period\": \"1924-03-28/1925-03-28\", \"subscription_start\": \"1924-03-28\", \"subscription_end\": \"1925-03-28\", \"metric\": \"Cosine Distance\", \"score\": 0.2904360434857139, \"formatted_wrapped_title\": [\"The \\\"Genius\\\" by Theodore Dreiser\"]}, {\"item_id\": \"foster-coquette-history-eliza\", \"formatted_title\": \"The Coquette; Or, the History of Eliza Wharton by Hannah Webster Foster\", \"member_id\": \"hemingway-ernest\", \"period\": \"1921-12-28/1922-11-08\", \"subscription_start\": \"1921-12-28\", \"subscription_end\": \"1922-11-08\", \"metric\": \"Pearson Correlation Coefficient\", \"score\": 0.2836163233616808, \"formatted_wrapped_title\": [\"The Coquette; Or, the History of Eliza Wharton by\", \"Hannah Webster Foster\"]}, {\"item_id\": \"moore-muslin\", \"formatted_title\": \"Muslin by George Moore\", \"member_id\": \"hemingway-ernest\", \"period\": \"1921-12-28/1922-11-08\", \"subscription_start\": \"1921-12-28\", \"subscription_end\": \"1922-11-08\", \"metric\": \"Pearson Correlation Coefficient\", \"score\": 0.2836163233616808, \"formatted_wrapped_title\": [\"Muslin by George Moore\"]}, {\"item_id\": \"pound-instigations-ezra-pound\", \"formatted_title\": \"Instigations of Ezra Pound: Together with an Essay on the Chinese Written Character, by Ernest Fenollosa by Ernest  Ezra;Fenollosa Pound\", \"member_id\": \"hemingway-ernest\", \"period\": \"1921-12-28/1922-11-08\", \"subscription_start\": \"1921-12-28\", \"subscription_end\": \"1922-11-08\", \"metric\": \"Cosine Distance\", \"score\": 0.2780892158183161, \"formatted_wrapped_title\": [\"Instigations of Ezra Pound: Together with an Essay\", \"on the Chinese Written Character, by Ernest\", \"Fenollosa by Ernest  Ezra;Fenollosa Pound\"]}, {\"item_id\": \"pound-instigations-ezra-pound\", \"formatted_title\": \"Instigations of Ezra Pound: Together with an Essay on the Chinese Written Character, by Ernest Fenollosa by Ernest  Ezra;Fenollosa Pound\", \"member_id\": \"hemingway-ernest\", \"period\": \"1921-12-28/1922-11-08\", \"subscription_start\": \"1921-12-28\", \"subscription_end\": \"1922-11-08\", \"metric\": \"Euclidean Distance\", \"score\": 0.2777777777777778, \"formatted_wrapped_title\": [\"Instigations of Ezra Pound: Together with an Essay\", \"on the Chinese Written Character, by Ernest\", \"Fenollosa by Ernest  Ezra;Fenollosa Pound\"]}, {\"item_id\": \"fielding-history-tom-jones\", \"formatted_title\": \"The History of Tom Jones, a Foundling by Henry Fielding\", \"member_id\": \"hemingway-ernest\", \"period\": \"1921-12-28/1922-11-08\", \"subscription_start\": \"1921-12-28\", \"subscription_end\": \"1922-11-08\", \"metric\": \"Euclidean Distance\", \"score\": 0.2777777777777778, \"formatted_wrapped_title\": [\"The History of Tom Jones, a Foundling by Henry\", \"Fielding\"]}, {\"item_id\": \"freud-totem-taboo\", \"formatted_title\": \"Totem and Taboo by Sigmund Freud\", \"member_id\": \"hemingway-ernest\", \"period\": \"1921-12-28/1922-11-08\", \"subscription_start\": \"1921-12-28\", \"subscription_end\": \"1922-11-08\", \"metric\": \"Euclidean Distance\", \"score\": 0.2777777777777778, \"formatted_wrapped_title\": [\"Totem and Taboo by Sigmund Freud\"]}, {\"item_id\": \"hardy-collected-poems-thomas\", \"formatted_title\": \"Collected Poems of Thomas Hardy by Thomas Hardy\", \"member_id\": \"hemingway-ernest\", \"period\": \"1921-12-28/1922-11-08\", \"subscription_start\": \"1921-12-28\", \"subscription_end\": \"1922-11-08\", \"metric\": \"Pearson Correlation Coefficient\", \"score\": 0.2772332452908898, \"formatted_wrapped_title\": [\"Collected Poems of Thomas Hardy by Thomas Hardy\"]}, {\"item_id\": \"george-strangers-wedding-comedy\", \"formatted_title\": \"The Strangers' Wedding; or, The Comedy of a Romantic by Walter Lionel George\", \"member_id\": \"hemingway-ernest\", \"period\": \"1921-12-28/1922-11-08\", \"subscription_start\": \"1921-12-28\", \"subscription_end\": \"1922-11-08\", \"metric\": \"Cosine Distance\", \"score\": 0.2769048507942283, \"formatted_wrapped_title\": [\"The Strangers' Wedding; or, The Comedy of a\", \"Romantic by Walter Lionel George\"]}, {\"item_id\": \"freud-totem-taboo\", \"formatted_title\": \"Totem and Taboo by Sigmund Freud\", \"member_id\": \"hemingway-ernest\", \"period\": \"1921-12-28/1922-11-08\", \"subscription_start\": \"1921-12-28\", \"subscription_end\": \"1922-11-08\", \"metric\": \"Cosine Distance\", \"score\": 0.2768344420275894, \"formatted_wrapped_title\": [\"Totem and Taboo by Sigmund Freud\"]}, {\"item_id\": \"trollope-small-house-allington\", \"formatted_title\": \"The Small House at Allington by Anthony Trollope\", \"member_id\": \"hemingway-ernest\", \"period\": \"1924-03-28/1925-03-28\", \"subscription_start\": \"1924-03-28\", \"subscription_end\": \"1925-03-28\", \"metric\": \"Cosine Distance\", \"score\": 0.2760891022265805, \"formatted_wrapped_title\": [\"The Small House at Allington by Anthony Trollope\"]}, {\"item_id\": \"dreiser-sister-carrie\", \"formatted_title\": \"Sister Carrie by Theodore Dreiser\", \"member_id\": \"hemingway-ernest\", \"period\": \"1921-12-28/1922-11-08\", \"subscription_start\": \"1921-12-28\", \"subscription_end\": \"1922-11-08\", \"metric\": \"Pearson Correlation Coefficient\", \"score\": 0.2677642067738113, \"formatted_wrapped_title\": [\"Sister Carrie by Theodore Dreiser\"]}, {\"item_id\": \"du-bois-darkwater\", \"formatted_title\": \"Darkwater: Voices from within the Veil by W. E. B. Du Bois\", \"member_id\": \"hemingway-ernest\", \"period\": \"1921-12-28/1922-11-08\", \"subscription_start\": \"1921-12-28\", \"subscription_end\": \"1922-11-08\", \"metric\": \"Pearson Correlation Coefficient\", \"score\": 0.2664686237462421, \"formatted_wrapped_title\": [\"Darkwater: Voices from within the Veil by W. E. B.\", \"Du Bois\"]}, {\"item_id\": \"mackenzie-rich-relatives\", \"formatted_title\": \"Rich Relatives by Compton Mackenzie\", \"member_id\": \"hemingway-ernest\", \"period\": \"1921-12-28/1922-11-08\", \"subscription_start\": \"1921-12-28\", \"subscription_end\": \"1922-11-08\", \"metric\": \"Pearson Correlation Coefficient\", \"score\": 0.2653993087293128, \"formatted_wrapped_title\": [\"Rich Relatives by Compton Mackenzie\"]}, {\"item_id\": \"fitzgerald-side-paradise\", \"formatted_title\": \"This Side of Paradise by F. Scott Fitzgerald\", \"member_id\": \"hemingway-ernest\", \"period\": \"1921-12-28/1922-11-08\", \"subscription_start\": \"1921-12-28\", \"subscription_end\": \"1922-11-08\", \"metric\": \"Pearson Correlation Coefficient\", \"score\": 0.2653990029135682, \"formatted_wrapped_title\": [\"This Side of Paradise by F. Scott Fitzgerald\"]}, {\"item_id\": \"blake-blakes-works\", \"formatted_title\": \"Willam Blake's Works by William Blake\", \"member_id\": \"hemingway-ernest\", \"period\": \"1921-12-28/1922-11-08\", \"subscription_start\": \"1921-12-28\", \"subscription_end\": \"1922-11-08\", \"metric\": \"Pearson Correlation Coefficient\", \"score\": 0.2639593234063654, \"formatted_wrapped_title\": [\"Willam Blake's Works by William Blake\"]}, {\"item_id\": \"meredith-egoist\", \"formatted_title\": \"The Egoist by George Meredith\", \"member_id\": \"hemingway-ernest\", \"period\": \"1921-12-28/1922-11-08\", \"subscription_start\": \"1921-12-28\", \"subscription_end\": \"1922-11-08\", \"metric\": \"Pearson Correlation Coefficient\", \"score\": 0.2586929029047877, \"formatted_wrapped_title\": [\"The Egoist by George Meredith\"]}, {\"item_id\": \"galsworthy-fraternity\", \"formatted_title\": \"Fraternity by John Galsworthy\", \"member_id\": \"hemingway-ernest\", \"period\": \"1921-12-28/1922-11-08\", \"subscription_start\": \"1921-12-28\", \"subscription_end\": \"1922-11-08\", \"metric\": \"Pearson Correlation Coefficient\", \"score\": 0.2557724671498218, \"formatted_wrapped_title\": [\"Fraternity by John Galsworthy\"]}, {\"item_id\": \"tagore-gitanjali\", \"formatted_title\": \"Gitanjali by Rabindranath Tagore\", \"member_id\": \"hemingway-ernest\", \"period\": \"1921-12-28/1922-11-08\", \"subscription_start\": \"1921-12-28\", \"subscription_end\": \"1922-11-08\", \"metric\": \"Cosine Distance\", \"score\": 0.2504259006467972, \"formatted_wrapped_title\": [\"Gitanjali by Rabindranath Tagore\"]}, {\"item_id\": \"rhys-rabindranath-tagore-biographical\", \"formatted_title\": \"Rabindranath Tagore: A Biographical Study by Ernest Rhys\", \"member_id\": \"hemingway-ernest\", \"period\": \"1921-12-28/1922-11-08\", \"subscription_start\": \"1921-12-28\", \"subscription_end\": \"1922-11-08\", \"metric\": \"Cosine Distance\", \"score\": 0.2502100997976892, \"formatted_wrapped_title\": [\"Rabindranath Tagore: A Biographical Study by\", \"Ernest Rhys\"]}, {\"item_id\": \"fitzgerald-side-paradise\", \"formatted_title\": \"This Side of Paradise by F. Scott Fitzgerald\", \"member_id\": \"hemingway-ernest\", \"period\": \"1921-12-28/1922-11-08\", \"subscription_start\": \"1921-12-28\", \"subscription_end\": \"1922-11-08\", \"metric\": \"Euclidean Distance\", \"score\": 0.25, \"formatted_wrapped_title\": [\"This Side of Paradise by F. Scott Fitzgerald\"]}, {\"item_id\": \"moore-avowals\", \"formatted_title\": \"Avowals by George Moore\", \"member_id\": \"hemingway-ernest\", \"period\": \"1924-03-28/1925-03-28\", \"subscription_start\": \"1924-03-28\", \"subscription_end\": \"1925-03-28\", \"metric\": \"Euclidean Distance\", \"score\": 0.25, \"formatted_wrapped_title\": [\"Avowals by George Moore\"]}, {\"item_id\": \"trollope-last-chronicle-barset\", \"formatted_title\": \"The Last Chronicle of Barset by Anthony Trollope\", \"member_id\": \"hemingway-ernest\", \"period\": \"1924-03-28/1925-03-28\", \"subscription_start\": \"1924-03-28\", \"subscription_end\": \"1925-03-28\", \"metric\": \"Euclidean Distance\", \"score\": 0.25, \"formatted_wrapped_title\": [\"The Last Chronicle of Barset by Anthony Trollope\"]}, {\"item_id\": \"du-bois-darkwater\", \"formatted_title\": \"Darkwater: Voices from within the Veil by W. E. B. Du Bois\", \"member_id\": \"hemingway-ernest\", \"period\": \"1921-12-28/1922-11-08\", \"subscription_start\": \"1921-12-28\", \"subscription_end\": \"1922-11-08\", \"metric\": \"Euclidean Distance\", \"score\": 0.25, \"formatted_wrapped_title\": [\"Darkwater: Voices from within the Veil by W. E. B.\", \"Du Bois\"]}, {\"item_id\": \"robinson-collected-poems\", \"formatted_title\": \"Collected Poems by Edwin Arlington Robinson\", \"member_id\": \"hemingway-ernest\", \"period\": \"1924-03-28/1925-03-28\", \"subscription_start\": \"1924-03-28\", \"subscription_end\": \"1925-03-28\", \"metric\": \"Euclidean Distance\", \"score\": 0.25, \"formatted_wrapped_title\": [\"Collected Poems by Edwin Arlington Robinson\"]}, {\"item_id\": \"rhys-rabindranath-tagore-biographical\", \"formatted_title\": \"Rabindranath Tagore: A Biographical Study by Ernest Rhys\", \"member_id\": \"hemingway-ernest\", \"period\": \"1921-12-28/1922-11-08\", \"subscription_start\": \"1921-12-28\", \"subscription_end\": \"1922-11-08\", \"metric\": \"Euclidean Distance\", \"score\": 0.25, \"formatted_wrapped_title\": [\"Rabindranath Tagore: A Biographical Study by\", \"Ernest Rhys\"]}, {\"item_id\": \"fitzgerald-side-paradise\", \"formatted_title\": \"This Side of Paradise by F. Scott Fitzgerald\", \"member_id\": \"hemingway-ernest\", \"period\": \"1921-12-28/1922-11-08\", \"subscription_start\": \"1921-12-28\", \"subscription_end\": \"1922-11-08\", \"metric\": \"Cosine Distance\", \"score\": 0.2499623126002904, \"formatted_wrapped_title\": [\"This Side of Paradise by F. Scott Fitzgerald\"]}, {\"item_id\": \"du-bois-darkwater\", \"formatted_title\": \"Darkwater: Voices from within the Veil by W. E. B. Du Bois\", \"member_id\": \"hemingway-ernest\", \"period\": \"1921-12-28/1922-11-08\", \"subscription_start\": \"1921-12-28\", \"subscription_end\": \"1922-11-08\", \"metric\": \"Cosine Distance\", \"score\": 0.2498951465610573, \"formatted_wrapped_title\": [\"Darkwater: Voices from within the Veil by W. E. B.\", \"Du Bois\"]}, {\"item_id\": \"robinson-collected-poems\", \"formatted_title\": \"Collected Poems by Edwin Arlington Robinson\", \"member_id\": \"hemingway-ernest\", \"period\": \"1924-03-28/1925-03-28\", \"subscription_start\": \"1924-03-28\", \"subscription_end\": \"1925-03-28\", \"metric\": \"Cosine Distance\", \"score\": 0.2496973857235438, \"formatted_wrapped_title\": [\"Collected Poems by Edwin Arlington Robinson\"]}, {\"item_id\": \"fielding-history-tom-jones\", \"formatted_title\": \"The History of Tom Jones, a Foundling by Henry Fielding\", \"member_id\": \"hemingway-ernest\", \"period\": \"1921-12-28/1922-11-08\", \"subscription_start\": \"1921-12-28\", \"subscription_end\": \"1922-11-08\", \"metric\": \"Cosine Distance\", \"score\": 0.249672286139659, \"formatted_wrapped_title\": [\"The History of Tom Jones, a Foundling by Henry\", \"Fielding\"]}, {\"item_id\": \"wharton-age-innocence\", \"formatted_title\": \"The Age of Innocence by Edith Wharton\", \"member_id\": \"hemingway-ernest\", \"period\": \"1921-12-28/1922-11-08\", \"subscription_start\": \"1921-12-28\", \"subscription_end\": \"1922-11-08\", \"metric\": \"Cosine Distance\", \"score\": 0.2494012893239484, \"formatted_wrapped_title\": [\"The Age of Innocence by Edith Wharton\"]}, {\"item_id\": \"mackenzie-poor-relations\", \"formatted_title\": \"Poor Relations by Compton Mackenzie\", \"member_id\": \"hemingway-ernest\", \"period\": \"1924-03-28/1925-03-28\", \"subscription_start\": \"1924-03-28\", \"subscription_end\": \"1925-03-28\", \"metric\": \"Cosine Distance\", \"score\": 0.2492896975357113, \"formatted_wrapped_title\": [\"Poor Relations by Compton Mackenzie\"]}, {\"item_id\": \"mackenzie-vanity-girl\", \"formatted_title\": \"The Vanity Girl by Compton Mackenzie\", \"member_id\": \"hemingway-ernest\", \"period\": \"1924-03-28/1925-03-28\", \"subscription_start\": \"1924-03-28\", \"subscription_end\": \"1925-03-28\", \"metric\": \"Cosine Distance\", \"score\": 0.2492896975357113, \"formatted_wrapped_title\": [\"The Vanity Girl by Compton Mackenzie\"]}, {\"item_id\": \"foster-coquette-history-eliza\", \"formatted_title\": \"The Coquette; Or, the History of Eliza Wharton by Hannah Webster Foster\", \"member_id\": \"hemingway-ernest\", \"period\": \"1921-12-28/1922-11-08\", \"subscription_start\": \"1921-12-28\", \"subscription_end\": \"1922-11-08\", \"metric\": \"Cosine Distance\", \"score\": 0.2492287223100198, \"formatted_wrapped_title\": [\"The Coquette; Or, the History of Eliza Wharton by\", \"Hannah Webster Foster\"]}, {\"item_id\": \"moore-muslin\", \"formatted_title\": \"Muslin by George Moore\", \"member_id\": \"hemingway-ernest\", \"period\": \"1921-12-28/1922-11-08\", \"subscription_start\": \"1921-12-28\", \"subscription_end\": \"1922-11-08\", \"metric\": \"Cosine Distance\", \"score\": 0.2492287223100198, \"formatted_wrapped_title\": [\"Muslin by George Moore\"]}, {\"item_id\": \"galsworthy-fraternity\", \"formatted_title\": \"Fraternity by John Galsworthy\", \"member_id\": \"hemingway-ernest\", \"period\": \"1921-12-28/1922-11-08\", \"subscription_start\": \"1921-12-28\", \"subscription_end\": \"1922-11-08\", \"metric\": \"Cosine Distance\", \"score\": 0.2489916135154018, \"formatted_wrapped_title\": [\"Fraternity by John Galsworthy\"]}, {\"item_id\": \"walpole-cathedral-novel\", \"formatted_title\": \"The Cathedral: A Novel by Hugh Walpole\", \"member_id\": \"hemingway-ernest\", \"period\": \"1924-03-28/1925-03-28\", \"subscription_start\": \"1924-03-28\", \"subscription_end\": \"1925-03-28\", \"metric\": \"Cosine Distance\", \"score\": 0.248643929819897, \"formatted_wrapped_title\": [\"The Cathedral: A Novel by Hugh Walpole\"]}, {\"item_id\": \"shakespeare-shakespeare\", \"formatted_title\": \"Shakespeare by William Shakespeare\", \"member_id\": \"hemingway-ernest\", \"period\": \"1921-12-28/1922-11-08\", \"subscription_start\": \"1921-12-28\", \"subscription_end\": \"1922-11-08\", \"metric\": \"Pearson Correlation Coefficient\", \"score\": 0.2437991377228807, \"formatted_wrapped_title\": [\"Shakespeare by William Shakespeare\"]}, {\"item_id\": \"dreiser-genius\", \"formatted_title\": \"The \\\"Genius\\\" by Theodore Dreiser\", \"member_id\": \"hemingway-ernest\", \"period\": \"1924-03-28/1925-03-28\", \"subscription_start\": \"1924-03-28\", \"subscription_end\": \"1925-03-28\", \"metric\": \"Euclidean Distance\", \"score\": 0.2395833333333333, \"formatted_wrapped_title\": [\"The \\\"Genius\\\" by Theodore Dreiser\"]}, {\"item_id\": \"maugham-chinese-screen\", \"formatted_title\": \"On a Chinese Screen by W. Somerset Maugham\", \"member_id\": \"hemingway-ernest\", \"period\": \"1924-03-28/1925-03-28\", \"subscription_start\": \"1924-03-28\", \"subscription_end\": \"1925-03-28\", \"metric\": \"Cosine Distance\", \"score\": 0.2336510576849413, \"formatted_wrapped_title\": [\"On a Chinese Screen by W. Somerset Maugham\"]}, {\"item_id\": \"chesterton-heretics\", \"formatted_title\": \"Heretics by G. K. Chesterton\", \"member_id\": \"hemingway-ernest\", \"period\": \"1921-12-28/1922-11-08\", \"subscription_start\": \"1921-12-28\", \"subscription_end\": \"1922-11-08\", \"metric\": \"Euclidean Distance\", \"score\": 0.2333333333333333, \"formatted_wrapped_title\": [\"Heretics by G. K. Chesterton\"]}, {\"item_id\": \"moore-confessions-young-man\", \"formatted_title\": \"The Confessions of a Young Man by George Moore\", \"member_id\": \"hemingway-ernest\", \"period\": \"1924-03-28/1925-03-28\", \"subscription_start\": \"1924-03-28\", \"subscription_end\": \"1925-03-28\", \"metric\": \"Cosine Distance\", \"score\": 0.2326136377636119, \"formatted_wrapped_title\": [\"The Confessions of a Young Man by George Moore\"]}, {\"item_id\": \"meredith-egoist\", \"formatted_title\": \"The Egoist by George Meredith\", \"member_id\": \"hemingway-ernest\", \"period\": \"1921-12-28/1922-11-08\", \"subscription_start\": \"1921-12-28\", \"subscription_end\": \"1922-11-08\", \"metric\": \"Euclidean Distance\", \"score\": 0.2307692307692307, \"formatted_wrapped_title\": [\"The Egoist by George Meredith\"]}, {\"item_id\": \"chesterton-heretics\", \"formatted_title\": \"Heretics by G. K. Chesterton\", \"member_id\": \"hemingway-ernest\", \"period\": \"1921-12-28/1922-11-08\", \"subscription_start\": \"1921-12-28\", \"subscription_end\": \"1922-11-08\", \"metric\": \"Cosine Distance\", \"score\": 0.2226289656123739, \"formatted_wrapped_title\": [\"Heretics by G. K. Chesterton\"]}, {\"item_id\": \"machen-shining-pyramid\", \"formatted_title\": \"The Shining Pyramid by Arthur Machen\", \"member_id\": \"hemingway-ernest\", \"period\": \"1924-03-28/1925-03-28\", \"subscription_start\": \"1924-03-28\", \"subscription_end\": \"1925-03-28\", \"metric\": \"Euclidean Distance\", \"score\": 0.2222222222222222, \"formatted_wrapped_title\": [\"The Shining Pyramid by Arthur Machen\"]}, {\"item_id\": \"george-stiff-lip-novel\", \"formatted_title\": \"The Stiff Lip: A Novel by Walter Lionel George\", \"member_id\": \"hemingway-ernest\", \"period\": \"1921-12-28/1922-11-08\", \"subscription_start\": \"1921-12-28\", \"subscription_end\": \"1922-11-08\", \"metric\": \"Euclidean Distance\", \"score\": 0.2222222222222222, \"formatted_wrapped_title\": [\"The Stiff Lip: A Novel by Walter Lionel George\"]}, {\"item_id\": \"tagore-gitanjali\", \"formatted_title\": \"Gitanjali by Rabindranath Tagore\", \"member_id\": \"hemingway-ernest\", \"period\": \"1921-12-28/1922-11-08\", \"subscription_start\": \"1921-12-28\", \"subscription_end\": \"1922-11-08\", \"metric\": \"Euclidean Distance\", \"score\": 0.2222222222222222, \"formatted_wrapped_title\": [\"Gitanjali by Rabindranath Tagore\"]}, {\"item_id\": \"hardy-collected-poems-thomas\", \"formatted_title\": \"Collected Poems of Thomas Hardy by Thomas Hardy\", \"member_id\": \"hemingway-ernest\", \"period\": \"1921-12-28/1922-11-08\", \"subscription_start\": \"1921-12-28\", \"subscription_end\": \"1922-11-08\", \"metric\": \"Euclidean Distance\", \"score\": 0.2222222222222222, \"formatted_wrapped_title\": [\"Collected Poems of Thomas Hardy by Thomas Hardy\"]}, {\"item_id\": \"wharton-age-innocence\", \"formatted_title\": \"The Age of Innocence by Edith Wharton\", \"member_id\": \"hemingway-ernest\", \"period\": \"1921-12-28/1922-11-08\", \"subscription_start\": \"1921-12-28\", \"subscription_end\": \"1922-11-08\", \"metric\": \"Euclidean Distance\", \"score\": 0.2222222222222222, \"formatted_wrapped_title\": [\"The Age of Innocence by Edith Wharton\"]}, {\"item_id\": \"maugham-chinese-screen\", \"formatted_title\": \"On a Chinese Screen by W. Somerset Maugham\", \"member_id\": \"hemingway-ernest\", \"period\": \"1924-03-28/1925-03-28\", \"subscription_start\": \"1924-03-28\", \"subscription_end\": \"1925-03-28\", \"metric\": \"Euclidean Distance\", \"score\": 0.2222222222222222, \"formatted_wrapped_title\": [\"On a Chinese Screen by W. Somerset Maugham\"]}, {\"item_id\": \"hardy-collected-poems-thomas\", \"formatted_title\": \"Collected Poems of Thomas Hardy by Thomas Hardy\", \"member_id\": \"hemingway-ernest\", \"period\": \"1921-12-28/1922-11-08\", \"subscription_start\": \"1921-12-28\", \"subscription_end\": \"1922-11-08\", \"metric\": \"Cosine Distance\", \"score\": 0.2221006785572072, \"formatted_wrapped_title\": [\"Collected Poems of Thomas Hardy by Thomas Hardy\"]}, {\"item_id\": \"galsworthy-country-house\", \"formatted_title\": \"The Country House by John Galsworthy\", \"member_id\": \"hemingway-ernest\", \"period\": \"1921-12-28/1922-11-08\", \"subscription_start\": \"1921-12-28\", \"subscription_end\": \"1922-11-08\", \"metric\": \"Cosine Distance\", \"score\": 0.2216867093673486, \"formatted_wrapped_title\": [\"The Country House by John Galsworthy\"]}, {\"item_id\": \"macaulay-potterism\", \"formatted_title\": \"Potterism by Rose Macaulay\", \"member_id\": \"hemingway-ernest\", \"period\": \"1921-12-28/1922-11-08\", \"subscription_start\": \"1921-12-28\", \"subscription_end\": \"1922-11-08\", \"metric\": \"Cosine Distance\", \"score\": 0.2215799787499485, \"formatted_wrapped_title\": [\"Potterism by Rose Macaulay\"]}, {\"item_id\": \"meredith-egoist\", \"formatted_title\": \"The Egoist by George Meredith\", \"member_id\": \"hemingway-ernest\", \"period\": \"1921-12-28/1922-11-08\", \"subscription_start\": \"1921-12-28\", \"subscription_end\": \"1922-11-08\", \"metric\": \"Cosine Distance\", \"score\": 0.2147163738974073, \"formatted_wrapped_title\": [\"The Egoist by George Meredith\"]}, {\"item_id\": \"dreiser-sister-carrie\", \"formatted_title\": \"Sister Carrie by Theodore Dreiser\", \"member_id\": \"hemingway-ernest\", \"period\": \"1921-12-28/1922-11-08\", \"subscription_start\": \"1921-12-28\", \"subscription_end\": \"1922-11-08\", \"metric\": \"Cosine Distance\", \"score\": 0.2112951983190518, \"formatted_wrapped_title\": [\"Sister Carrie by Theodore Dreiser\"]}, {\"item_id\": \"norris-shanghaied\", \"formatted_title\": \"Shanghaied by Frank Norris\", \"member_id\": \"hemingway-ernest\", \"period\": \"1921-12-28/1922-11-08\", \"subscription_start\": \"1921-12-28\", \"subscription_end\": \"1922-11-08\", \"metric\": \"Cosine Distance\", \"score\": 0.2089148681654207, \"formatted_wrapped_title\": [\"Shanghaied by Frank Norris\"]}, {\"item_id\": \"norris-shanghaied\", \"formatted_title\": \"Shanghaied by Frank Norris\", \"member_id\": \"hemingway-ernest\", \"period\": \"1921-12-28/1922-11-08\", \"subscription_start\": \"1921-12-28\", \"subscription_end\": \"1922-11-08\", \"metric\": \"Euclidean Distance\", \"score\": 0.2083333333333333, \"formatted_wrapped_title\": [\"Shanghaied by Frank Norris\"]}, {\"item_id\": \"mackenzie-rich-relatives\", \"formatted_title\": \"Rich Relatives by Compton Mackenzie\", \"member_id\": \"hemingway-ernest\", \"period\": \"1921-12-28/1922-11-08\", \"subscription_start\": \"1921-12-28\", \"subscription_end\": \"1922-11-08\", \"metric\": \"Cosine Distance\", \"score\": 0.2077399203942777, \"formatted_wrapped_title\": [\"Rich Relatives by Compton Mackenzie\"]}, {\"item_id\": \"george-strangers-wedding-comedy\", \"formatted_title\": \"The Strangers' Wedding; or, The Comedy of a Romantic by Walter Lionel George\", \"member_id\": \"hemingway-ernest\", \"period\": \"1921-12-28/1922-11-08\", \"subscription_start\": \"1921-12-28\", \"subscription_end\": \"1922-11-08\", \"metric\": \"Euclidean Distance\", \"score\": 0.2058823529411764, \"formatted_wrapped_title\": [\"The Strangers' Wedding; or, The Comedy of a\", \"Romantic by Walter Lionel George\"]}, {\"item_id\": \"frank-rahab\", \"formatted_title\": \"Rahab by Waldo Frank\", \"member_id\": \"hemingway-ernest\", \"period\": \"1921-12-28/1922-11-08\", \"subscription_start\": \"1921-12-28\", \"subscription_end\": \"1922-11-08\", \"metric\": \"Cosine Distance\", \"score\": 0.2039717966427855, \"formatted_wrapped_title\": [\"Rahab by Waldo Frank\"]}, {\"item_id\": \"blake-blakes-works\", \"formatted_title\": \"Willam Blake's Works by William Blake\", \"member_id\": \"hemingway-ernest\", \"period\": \"1921-12-28/1922-11-08\", \"subscription_start\": \"1921-12-28\", \"subscription_end\": \"1922-11-08\", \"metric\": \"Cosine Distance\", \"score\": 0.20381415861969, \"formatted_wrapped_title\": [\"Willam Blake's Works by William Blake\"]}, {\"item_id\": \"frank-rahab\", \"formatted_title\": \"Rahab by Waldo Frank\", \"member_id\": \"hemingway-ernest\", \"period\": \"1921-12-28/1922-11-08\", \"subscription_start\": \"1921-12-28\", \"subscription_end\": \"1922-11-08\", \"metric\": \"Euclidean Distance\", \"score\": 0.2037037037037037, \"formatted_wrapped_title\": [\"Rahab by Waldo Frank\"]}, {\"item_id\": \"trollope-small-house-allington\", \"formatted_title\": \"The Small House at Allington by Anthony Trollope\", \"member_id\": \"hemingway-ernest\", \"period\": \"1924-03-28/1925-03-28\", \"subscription_start\": \"1924-03-28\", \"subscription_end\": \"1925-03-28\", \"metric\": \"Euclidean Distance\", \"score\": 0.1969696969696969, \"formatted_wrapped_title\": [\"The Small House at Allington by Anthony Trollope\"]}, {\"item_id\": \"crane-maggie-girl-streets\", \"formatted_title\": \"Maggie: A Girl of the Streets by Stephen Crane\", \"member_id\": \"hemingway-ernest\", \"period\": \"1924-03-28/1925-03-28\", \"subscription_start\": \"1924-03-28\", \"subscription_end\": \"1925-03-28\", \"metric\": \"Cosine Distance\", \"score\": 0.1946426744335763, \"formatted_wrapped_title\": [\"Maggie: A Girl of the Streets by Stephen Crane\"]}, {\"item_id\": \"moore-muslin\", \"formatted_title\": \"Muslin by George Moore\", \"member_id\": \"hemingway-ernest\", \"period\": \"1921-12-28/1922-11-08\", \"subscription_start\": \"1921-12-28\", \"subscription_end\": \"1922-11-08\", \"metric\": \"Euclidean Distance\", \"score\": 0.1944444444444444, \"formatted_wrapped_title\": [\"Muslin by George Moore\"]}, {\"item_id\": \"mackenzie-vanity-girl\", \"formatted_title\": \"The Vanity Girl by Compton Mackenzie\", \"member_id\": \"hemingway-ernest\", \"period\": \"1924-03-28/1925-03-28\", \"subscription_start\": \"1924-03-28\", \"subscription_end\": \"1925-03-28\", \"metric\": \"Euclidean Distance\", \"score\": 0.1944444444444444, \"formatted_wrapped_title\": [\"The Vanity Girl by Compton Mackenzie\"]}, {\"item_id\": \"mackenzie-poor-relations\", \"formatted_title\": \"Poor Relations by Compton Mackenzie\", \"member_id\": \"hemingway-ernest\", \"period\": \"1924-03-28/1925-03-28\", \"subscription_start\": \"1924-03-28\", \"subscription_end\": \"1925-03-28\", \"metric\": \"Euclidean Distance\", \"score\": 0.1944444444444444, \"formatted_wrapped_title\": [\"Poor Relations by Compton Mackenzie\"]}, {\"item_id\": \"crane-maggie-girl-streets\", \"formatted_title\": \"Maggie: A Girl of the Streets by Stephen Crane\", \"member_id\": \"hemingway-ernest\", \"period\": \"1924-03-28/1925-03-28\", \"subscription_start\": \"1924-03-28\", \"subscription_end\": \"1925-03-28\", \"metric\": \"Euclidean Distance\", \"score\": 0.1944444444444444, \"formatted_wrapped_title\": [\"Maggie: A Girl of the Streets by Stephen Crane\"]}, {\"item_id\": \"foster-coquette-history-eliza\", \"formatted_title\": \"The Coquette; Or, the History of Eliza Wharton by Hannah Webster Foster\", \"member_id\": \"hemingway-ernest\", \"period\": \"1921-12-28/1922-11-08\", \"subscription_start\": \"1921-12-28\", \"subscription_end\": \"1922-11-08\", \"metric\": \"Euclidean Distance\", \"score\": 0.1944444444444444, \"formatted_wrapped_title\": [\"The Coquette; Or, the History of Eliza Wharton by\", \"Hannah Webster Foster\"]}, {\"item_id\": \"galsworthy-fraternity\", \"formatted_title\": \"Fraternity by John Galsworthy\", \"member_id\": \"hemingway-ernest\", \"period\": \"1921-12-28/1922-11-08\", \"subscription_start\": \"1921-12-28\", \"subscription_end\": \"1922-11-08\", \"metric\": \"Euclidean Distance\", \"score\": 0.1944444444444444, \"formatted_wrapped_title\": [\"Fraternity by John Galsworthy\"]}, {\"item_id\": \"blake-blakes-works\", \"formatted_title\": \"Willam Blake's Works by William Blake\", \"member_id\": \"hemingway-ernest\", \"period\": \"1921-12-28/1922-11-08\", \"subscription_start\": \"1921-12-28\", \"subscription_end\": \"1922-11-08\", \"metric\": \"Euclidean Distance\", \"score\": 0.1915422885572139, \"formatted_wrapped_title\": [\"Willam Blake's Works by William Blake\"]}, {\"item_id\": \"walpole-cathedral-novel\", \"formatted_title\": \"The Cathedral: A Novel by Hugh Walpole\", \"member_id\": \"hemingway-ernest\", \"period\": \"1924-03-28/1925-03-28\", \"subscription_start\": \"1924-03-28\", \"subscription_end\": \"1925-03-28\", \"metric\": \"Euclidean Distance\", \"score\": 0.191358024691358, \"formatted_wrapped_title\": [\"The Cathedral: A Novel by Hugh Walpole\"]}, {\"item_id\": \"moore-confessions-young-man\", \"formatted_title\": \"The Confessions of a Young Man by George Moore\", \"member_id\": \"hemingway-ernest\", \"period\": \"1924-03-28/1925-03-28\", \"subscription_start\": \"1924-03-28\", \"subscription_end\": \"1925-03-28\", \"metric\": \"Euclidean Distance\", \"score\": 0.1846846846846846, \"formatted_wrapped_title\": [\"The Confessions of a Young Man by George Moore\"]}, {\"item_id\": \"macaulay-potterism\", \"formatted_title\": \"Potterism by Rose Macaulay\", \"member_id\": \"hemingway-ernest\", \"period\": \"1921-12-28/1922-11-08\", \"subscription_start\": \"1921-12-28\", \"subscription_end\": \"1922-11-08\", \"metric\": \"Euclidean Distance\", \"score\": 0.1808510638297872, \"formatted_wrapped_title\": [\"Potterism by Rose Macaulay\"]}, {\"item_id\": \"galsworthy-country-house\", \"formatted_title\": \"The Country House by John Galsworthy\", \"member_id\": \"hemingway-ernest\", \"period\": \"1921-12-28/1922-11-08\", \"subscription_start\": \"1921-12-28\", \"subscription_end\": \"1922-11-08\", \"metric\": \"Euclidean Distance\", \"score\": 0.1808510638297872, \"formatted_wrapped_title\": [\"The Country House by John Galsworthy\"]}, {\"item_id\": \"mackenzie-rich-relatives\", \"formatted_title\": \"Rich Relatives by Compton Mackenzie\", \"member_id\": \"hemingway-ernest\", \"period\": \"1921-12-28/1922-11-08\", \"subscription_start\": \"1921-12-28\", \"subscription_end\": \"1922-11-08\", \"metric\": \"Euclidean Distance\", \"score\": 0.1770833333333333, \"formatted_wrapped_title\": [\"Rich Relatives by Compton Mackenzie\"]}, {\"item_id\": \"dreiser-sister-carrie\", \"formatted_title\": \"Sister Carrie by Theodore Dreiser\", \"member_id\": \"hemingway-ernest\", \"period\": \"1921-12-28/1922-11-08\", \"subscription_start\": \"1921-12-28\", \"subscription_end\": \"1922-11-08\", \"metric\": \"Euclidean Distance\", \"score\": 0.1764705882352941, \"formatted_wrapped_title\": [\"Sister Carrie by Theodore Dreiser\"]}, {\"item_id\": \"fielding-history-tom-jones\", \"formatted_title\": \"The History of Tom Jones, a Foundling by Henry Fielding\", \"member_id\": \"hemingway-ernest\", \"period\": \"1921-12-28/1922-11-08\", \"subscription_start\": \"1921-12-28\", \"subscription_end\": \"1922-11-08\", \"metric\": \"Pearson Correlation Coefficient\", \"score\": 0.1683653470404609, \"formatted_wrapped_title\": [\"The History of Tom Jones, a Foundling by Henry\", \"Fielding\"]}, {\"item_id\": \"freud-totem-taboo\", \"formatted_title\": \"Totem and Taboo by Sigmund Freud\", \"member_id\": \"hemingway-ernest\", \"period\": \"1921-12-28/1922-11-08\", \"subscription_start\": \"1921-12-28\", \"subscription_end\": \"1922-11-08\", \"metric\": \"Pearson Correlation Coefficient\", \"score\": 0.0, \"formatted_wrapped_title\": [\"Totem and Taboo by Sigmund Freud\"]}]}}, {\"mode\": \"vega-lite\"});\n",
       "</script>"
      ],
      "text/plain": [
       "alt.Chart(...)"
      ]
     },
     "execution_count": 34,
     "metadata": {},
     "output_type": "execute_result"
    }
   ],
   "source": [
    "# Create a selection for the scatter plot\n",
    "period_selection = alt.selection_point(fields=['period'], bind='legend')\n",
    "metric_selection = alt.selection_multi(fields=['metric'], bind='legend')\n",
    "\n",
    "# Create a search input selection\n",
    "search_box = alt.param(\n",
    "    value='',\n",
    "    bind=alt.binding(\n",
    "        input='search',\n",
    "        placeholder=\"Search title\",\n",
    "        name='Search ',\n",
    "    )\n",
    ")\n",
    "\n",
    "alt.Chart(sampled_collaborative_filtering_model).mark_point(opacity=0.8, filled=True, thickness=3).encode(\n",
    "    # The y-axis is the formatted chart title, sorted by the x-axis values\n",
    "    y=alt.Y('formatted_title', sort='-x', axis=alt.Axis(title='', labelFontSize=9, labelLimit=1000, labelPadding=0, titlePadding=0, titleFontSize=9, titleAngle=0, titleAlign='left', titleY=-10, titleX=100)),\n",
    "    # The x-axis is the score\n",
    "    x='score',\n",
    "    # The color represents the subscription period\n",
    "    color=alt.Color('period:N', legend=alt.Legend(title=[\"Subscription Period\"])),\n",
    "    opacity=alt.condition(period_selection & metric_selection, alt.value(1), alt.value(0.2)),\n",
    "    # The shape represents the method for collaborative filtering\n",
    "    shape=alt.Shape('metric:N', legend=alt.Legend(title='Method for Collaborative Filtering')),\n",
    "    tooltip=['formatted_title', 'score', 'period', 'metric'],\n",
    ").add_params(\n",
    "    search_box, period_selection, metric_selection\n",
    ").transform_filter(\n",
    "    alt.expr.test(alt.expr.regexp(search_box, 'i'), alt.datum.formatted_title)\n",
    "    ).properties(\n",
    "    # Set the width and height of the plot\n",
    "    width=300,\n",
    "    # height=1800,\n",
    "    # Set the title of the plot\n",
    "    title='Top Predictions by Collaborative Filtering Memory-Based Methods'\n",
    ")"
   ]
  },
  {
   "cell_type": "code",
   "execution_count": null,
   "metadata": {},
   "outputs": [],
   "source": []
  }
 ],
 "metadata": {
  "colab": {
   "collapsed_sections": [],
   "name": "lenskit_model_scores_stability.ipynb",
   "provenance": []
  },
  "kernelspec": {
   "display_name": "Python 3 (ipykernel)",
   "language": "python",
   "name": "python3"
  },
  "language_info": {
   "codemirror_mode": {
    "name": "ipython",
    "version": 3
   },
   "file_extension": ".py",
   "mimetype": "text/x-python",
   "name": "python",
   "nbconvert_exporter": "python",
   "pygments_lexer": "ipython3",
   "version": "3.9.18"
  },
  "toc": {
   "base_numbering": 1,
   "nav_menu": {},
   "number_sections": true,
   "sideBar": true,
   "skip_h1_title": false,
   "title_cell": "Table of Contents",
   "title_sidebar": "Contents",
   "toc_cell": false,
   "toc_position": {},
   "toc_section_display": true,
   "toc_window_display": false
  }
 },
 "nbformat": 4,
 "nbformat_minor": 1
}
