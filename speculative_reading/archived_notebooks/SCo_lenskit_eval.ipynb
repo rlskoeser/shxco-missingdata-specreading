{
  "cells": [
    {
      "cell_type": "markdown",
      "metadata": {
        "id": "UhZ4bM75-Wiq"
      },
      "source": [
        "# Evaluate LensKit recommender algorithms on S&co interactions data\n",
        "\n",
        "Notebook for nDCG evaluation with LensKit for Python; adapted from https://lkpy.lenskit.org/en/stable/GettingStarted.html"
      ]
    },
    {
      "cell_type": "markdown",
      "metadata": {
        "id": "BKl2xgna-Wir"
      },
      "source": [
        "## Setup\n",
        "\n",
        "We first need to install LensKit:"
      ]
    },
    {
      "cell_type": "code",
      "execution_count": null,
      "metadata": {
        "id": "yTEfW_2B-bsq"
      },
      "outputs": [],
      "source": [
        "%%capture\n",
        "%pip install lenskit"
      ]
    },
    {
      "cell_type": "markdown",
      "metadata": {
        "id": "kKkbPx9T-_5I"
      },
      "source": [
        "Now we can import LensKit utilities:"
      ]
    },
    {
      "cell_type": "code",
      "execution_count": 1,
      "metadata": {
        "id": "YmUzsYhc-Wir"
      },
      "outputs": [],
      "source": [
        "from lenskit.datasets import ML100K\n",
        "from lenskit import batch, topn, util\n",
        "from lenskit import crossfold as xf\n",
        "from lenskit.algorithms import Recommender, als, item_knn as knn, user_knn, basic, tf\n",
        "from lenskit import topn"
      ]
    },
    {
      "cell_type": "markdown",
      "metadata": {
        "id": "jptzht4c-Wiy"
      },
      "source": [
        "## Loading Data\n",
        "\n",
        "Now we need to load the data we want to use for the recommender.\n",
        "\n",
        "Load S&co datasets and pull out member/book borrowing interactions to use as our \"ratings\" dataset.\n"
      ]
    },
    {
      "cell_type": "code",
      "execution_count": null,
      "metadata": {
        "id": "67iMzkuB3--3"
      },
      "outputs": [],
      "source": [
        "import pandas as pd\n",
        "\n",
        "# get shxco datasets\n",
        "csv_urls = {\n",
        "    'members': 'https://dataspace.princeton.edu/bitstream/88435/dsp01b5644v608/2/SCoData_members_v1.1_2021-01.csv',\n",
        "    'books': 'https://dataspace.princeton.edu/bitstream/88435/dsp016d570067j/2/SCoData_books_v1.1_2021-01.csv',\n",
        "    'events': 'https://dataspace.princeton.edu/bitstream/88435/dsp012n49t475g/2/SCoData_events_v1.1_2021-01.csv'\n",
        "\n",
        "}\n",
        "\n",
        "# load members, books, events as csv\n",
        "members_df = pd.read_csv(csv_urls['members'])\n",
        "books_df = pd.read_csv(csv_urls['books'])\n",
        "events_df = pd.read_csv(csv_urls['events'])"
      ]
    },
    {
      "cell_type": "code",
      "execution_count": null,
      "metadata": {
        "colab": {
          "base_uri": "https://localhost:8080/",
          "height": 363
        },
        "id": "dV11a06p-Wiy",
        "outputId": "64479e33-63ef-4d91-eac9-04aba657c648"
      },
      "outputs": [
        {
          "data": {
            "text/html": [
              "<div>\n",
              "<style scoped>\n",
              "    .dataframe tbody tr th:only-of-type {\n",
              "        vertical-align: middle;\n",
              "    }\n",
              "\n",
              "    .dataframe tbody tr th {\n",
              "        vertical-align: top;\n",
              "    }\n",
              "\n",
              "    .dataframe thead th {\n",
              "        text-align: right;\n",
              "    }\n",
              "</style>\n",
              "<table border=\"1\" class=\"dataframe\">\n",
              "  <thead>\n",
              "    <tr style=\"text-align: right;\">\n",
              "      <th></th>\n",
              "      <th>user</th>\n",
              "      <th>item</th>\n",
              "      <th>timestamp</th>\n",
              "      <th>rating</th>\n",
              "    </tr>\n",
              "  </thead>\n",
              "  <tbody>\n",
              "    <tr>\n",
              "      <th>7359</th>\n",
              "      <td>joyce-james</td>\n",
              "      <td>smollett-expedition-humphry-clinker</td>\n",
              "      <td>NaT</td>\n",
              "      <td>1</td>\n",
              "    </tr>\n",
              "    <tr>\n",
              "      <th>7393</th>\n",
              "      <td>hommel</td>\n",
              "      <td>joyce-pomes-penyeach</td>\n",
              "      <td>NaT</td>\n",
              "      <td>1</td>\n",
              "    </tr>\n",
              "    <tr>\n",
              "      <th>7394</th>\n",
              "      <td>hommel</td>\n",
              "      <td>city-dreadful-night</td>\n",
              "      <td>NaT</td>\n",
              "      <td>1</td>\n",
              "    </tr>\n",
              "    <tr>\n",
              "      <th>7395</th>\n",
              "      <td>hommel</td>\n",
              "      <td>wilson-axels-castle-study</td>\n",
              "      <td>NaT</td>\n",
              "      <td>1</td>\n",
              "    </tr>\n",
              "    <tr>\n",
              "      <th>7396</th>\n",
              "      <td>hommel</td>\n",
              "      <td>cowley-exiles-return-narrative</td>\n",
              "      <td>NaT</td>\n",
              "      <td>1</td>\n",
              "    </tr>\n",
              "    <tr>\n",
              "      <th>7397</th>\n",
              "      <td>hommel</td>\n",
              "      <td>heine-heines-poems</td>\n",
              "      <td>NaT</td>\n",
              "      <td>1</td>\n",
              "    </tr>\n",
              "    <tr>\n",
              "      <th>7425</th>\n",
              "      <td>bernheim-antoinette</td>\n",
              "      <td>forster-passage-india</td>\n",
              "      <td>NaT</td>\n",
              "      <td>1</td>\n",
              "    </tr>\n",
              "    <tr>\n",
              "      <th>7444</th>\n",
              "      <td>rhys</td>\n",
              "      <td>conrad-typhoon</td>\n",
              "      <td>1922-01-01</td>\n",
              "      <td>1</td>\n",
              "    </tr>\n",
              "    <tr>\n",
              "      <th>7452</th>\n",
              "      <td>tery</td>\n",
              "      <td>james-joyce</td>\n",
              "      <td>1924-01-01</td>\n",
              "      <td>1</td>\n",
              "    </tr>\n",
              "    <tr>\n",
              "      <th>7453</th>\n",
              "      <td>tery</td>\n",
              "      <td>freeman-portrait-george-moore</td>\n",
              "      <td>1924-01-01</td>\n",
              "      <td>1</td>\n",
              "    </tr>\n",
              "  </tbody>\n",
              "</table>\n",
              "</div>"
            ],
            "text/plain": [
              "                     user  ... rating\n",
              "7359          joyce-james  ...      1\n",
              "7393               hommel  ...      1\n",
              "7394               hommel  ...      1\n",
              "7395               hommel  ...      1\n",
              "7396               hommel  ...      1\n",
              "7397               hommel  ...      1\n",
              "7425  bernheim-antoinette  ...      1\n",
              "7444                 rhys  ...      1\n",
              "7452                 tery  ...      1\n",
              "7453                 tery  ...      1\n",
              "\n",
              "[10 rows x 4 columns]"
            ]
          },
          "execution_count": 4,
          "metadata": {},
          "output_type": "execute_result"
        }
      ],
      "source": [
        "# split multiple members for shared accounts in events\n",
        "events_df[\n",
        "    [\"first_member_uri\", \"second_member_uri\"]\n",
        "] = events_df.member_uris.str.split(\";\", expand=True)\n",
        "\n",
        "# working with the first member for now...\n",
        "# generate short ids equivalent to those in member and book dataframes\n",
        "events_df[\"member_id\"] = events_df.first_member_uri.apply(\n",
        "    lambda x: x.split(\"/\")[-2]\n",
        ")\n",
        "events_df[\"item_id\"] = events_df.item_uri.apply(\n",
        "    lambda x: x.split(\"/\")[-2] if pd.notna(x) else None\n",
        ")\n",
        "\n",
        "# get all member-book interactions from events\n",
        "# shorten URIs for readability in output\n",
        "interactions_df = events_df[events_df.item_uri.notna()].copy()\n",
        "\n",
        "# restrict to borrow events only\n",
        "interactions_df = interactions_df[interactions_df.event_type == 'Borrow'].copy()\n",
        "\n",
        "# some algorithms can make use of timestamp; not sure which ones or if this format will work\n",
        "interactions_df['start_date_dt'] = pd.to_datetime(interactions_df['start_date'], errors='coerce')\n",
        "\n",
        "# reduce to minimum user/item interaction fields and drop dupes\n",
        "unique_interactions_df = interactions_df[\n",
        "    [\"member_id\", \"item_id\", \"start_date_dt\"]\n",
        "].drop_duplicates(subset=[\"member_id\", \"item_id\"])\n",
        "\n",
        "# rename to columns expected by lenskit; rename to ratings for use with tutorial\n",
        "ratings = unique_interactions_df.rename(columns={'member_id': 'user', 'item_id': 'item', 'start_date_dt': 'timestamp'})\n",
        "\n",
        "# example assumes rating; use 1/0 rating, set all to 1 to confirm interaction\n",
        "ratings['rating'] = 1\n",
        "\n",
        "ratings.head(10)"
      ]
    },
    {
      "cell_type": "markdown",
      "metadata": {
        "id": "TdJ5cPrQ-Wi0"
      },
      "source": [
        "## Defining Algorithms\n",
        "\n",
        "Let's define the algorithms we want to test:"
      ]
    },
    {
      "cell_type": "code",
      "execution_count": null,
      "metadata": {
        "colab": {
          "base_uri": "https://localhost:8080/"
        },
        "id": "BYhF9pLW4_H0",
        "outputId": "4b325a1b-5423-43f6-ba1e-4ec2600ecadb"
      },
      "outputs": [
        {
          "name": "stdout",
          "output_type": "stream",
          "text": [
            "Collecting implicit\n",
            "  Downloading implicit-0.4.8.tar.gz (1.1 MB)\n",
            "\u001b[?25l\r\u001b[K     |▎                               | 10 kB 20.6 MB/s eta 0:00:01\r\u001b[K     |▋                               | 20 kB 24.9 MB/s eta 0:00:01\r\u001b[K     |▉                               | 30 kB 12.1 MB/s eta 0:00:01\r\u001b[K     |█▏                              | 40 kB 9.4 MB/s eta 0:00:01\r\u001b[K     |█▍                              | 51 kB 5.0 MB/s eta 0:00:01\r\u001b[K     |█▊                              | 61 kB 5.4 MB/s eta 0:00:01\r\u001b[K     |██                              | 71 kB 5.7 MB/s eta 0:00:01\r\u001b[K     |██▎                             | 81 kB 6.4 MB/s eta 0:00:01\r\u001b[K     |██▋                             | 92 kB 6.6 MB/s eta 0:00:01\r\u001b[K     |██▉                             | 102 kB 5.2 MB/s eta 0:00:01\r\u001b[K     |███▏                            | 112 kB 5.2 MB/s eta 0:00:01\r\u001b[K     |███▍                            | 122 kB 5.2 MB/s eta 0:00:01\r\u001b[K     |███▊                            | 133 kB 5.2 MB/s eta 0:00:01\r\u001b[K     |████                            | 143 kB 5.2 MB/s eta 0:00:01\r\u001b[K     |████▎                           | 153 kB 5.2 MB/s eta 0:00:01\r\u001b[K     |████▋                           | 163 kB 5.2 MB/s eta 0:00:01\r\u001b[K     |████▉                           | 174 kB 5.2 MB/s eta 0:00:01\r\u001b[K     |█████▏                          | 184 kB 5.2 MB/s eta 0:00:01\r\u001b[K     |█████▍                          | 194 kB 5.2 MB/s eta 0:00:01\r\u001b[K     |█████▊                          | 204 kB 5.2 MB/s eta 0:00:01\r\u001b[K     |██████                          | 215 kB 5.2 MB/s eta 0:00:01\r\u001b[K     |██████▎                         | 225 kB 5.2 MB/s eta 0:00:01\r\u001b[K     |██████▋                         | 235 kB 5.2 MB/s eta 0:00:01\r\u001b[K     |██████▉                         | 245 kB 5.2 MB/s eta 0:00:01\r\u001b[K     |███████▏                        | 256 kB 5.2 MB/s eta 0:00:01\r\u001b[K     |███████▌                        | 266 kB 5.2 MB/s eta 0:00:01\r\u001b[K     |███████▊                        | 276 kB 5.2 MB/s eta 0:00:01\r\u001b[K     |████████                        | 286 kB 5.2 MB/s eta 0:00:01\r\u001b[K     |████████▎                       | 296 kB 5.2 MB/s eta 0:00:01\r\u001b[K     |████████▋                       | 307 kB 5.2 MB/s eta 0:00:01\r\u001b[K     |████████▉                       | 317 kB 5.2 MB/s eta 0:00:01\r\u001b[K     |█████████▏                      | 327 kB 5.2 MB/s eta 0:00:01\r\u001b[K     |█████████▌                      | 337 kB 5.2 MB/s eta 0:00:01\r\u001b[K     |█████████▊                      | 348 kB 5.2 MB/s eta 0:00:01\r\u001b[K     |██████████                      | 358 kB 5.2 MB/s eta 0:00:01\r\u001b[K     |██████████▎                     | 368 kB 5.2 MB/s eta 0:00:01\r\u001b[K     |██████████▋                     | 378 kB 5.2 MB/s eta 0:00:01\r\u001b[K     |██████████▉                     | 389 kB 5.2 MB/s eta 0:00:01\r\u001b[K     |███████████▏                    | 399 kB 5.2 MB/s eta 0:00:01\r\u001b[K     |███████████▌                    | 409 kB 5.2 MB/s eta 0:00:01\r\u001b[K     |███████████▊                    | 419 kB 5.2 MB/s eta 0:00:01\r\u001b[K     |████████████                    | 430 kB 5.2 MB/s eta 0:00:01\r\u001b[K     |████████████▎                   | 440 kB 5.2 MB/s eta 0:00:01\r\u001b[K     |████████████▋                   | 450 kB 5.2 MB/s eta 0:00:01\r\u001b[K     |█████████████                   | 460 kB 5.2 MB/s eta 0:00:01\r\u001b[K     |█████████████▏                  | 471 kB 5.2 MB/s eta 0:00:01\r\u001b[K     |█████████████▌                  | 481 kB 5.2 MB/s eta 0:00:01\r\u001b[K     |█████████████▊                  | 491 kB 5.2 MB/s eta 0:00:01\r\u001b[K     |██████████████                  | 501 kB 5.2 MB/s eta 0:00:01\r\u001b[K     |██████████████▎                 | 512 kB 5.2 MB/s eta 0:00:01\r\u001b[K     |██████████████▋                 | 522 kB 5.2 MB/s eta 0:00:01\r\u001b[K     |███████████████                 | 532 kB 5.2 MB/s eta 0:00:01\r\u001b[K     |███████████████▏                | 542 kB 5.2 MB/s eta 0:00:01\r\u001b[K     |███████████████▌                | 552 kB 5.2 MB/s eta 0:00:01\r\u001b[K     |███████████████▊                | 563 kB 5.2 MB/s eta 0:00:01\r\u001b[K     |████████████████                | 573 kB 5.2 MB/s eta 0:00:01\r\u001b[K     |████████████████▎               | 583 kB 5.2 MB/s eta 0:00:01\r\u001b[K     |████████████████▋               | 593 kB 5.2 MB/s eta 0:00:01\r\u001b[K     |█████████████████               | 604 kB 5.2 MB/s eta 0:00:01\r\u001b[K     |█████████████████▏              | 614 kB 5.2 MB/s eta 0:00:01\r\u001b[K     |█████████████████▌              | 624 kB 5.2 MB/s eta 0:00:01\r\u001b[K     |█████████████████▊              | 634 kB 5.2 MB/s eta 0:00:01\r\u001b[K     |██████████████████              | 645 kB 5.2 MB/s eta 0:00:01\r\u001b[K     |██████████████████▍             | 655 kB 5.2 MB/s eta 0:00:01\r\u001b[K     |██████████████████▋             | 665 kB 5.2 MB/s eta 0:00:01\r\u001b[K     |███████████████████             | 675 kB 5.2 MB/s eta 0:00:01\r\u001b[K     |███████████████████▏            | 686 kB 5.2 MB/s eta 0:00:01\r\u001b[K     |███████████████████▌            | 696 kB 5.2 MB/s eta 0:00:01\r\u001b[K     |███████████████████▊            | 706 kB 5.2 MB/s eta 0:00:01\r\u001b[K     |████████████████████            | 716 kB 5.2 MB/s eta 0:00:01\r\u001b[K     |████████████████████▍           | 727 kB 5.2 MB/s eta 0:00:01\r\u001b[K     |████████████████████▋           | 737 kB 5.2 MB/s eta 0:00:01\r\u001b[K     |█████████████████████           | 747 kB 5.2 MB/s eta 0:00:01\r\u001b[K     |█████████████████████▏          | 757 kB 5.2 MB/s eta 0:00:01\r\u001b[K     |█████████████████████▌          | 768 kB 5.2 MB/s eta 0:00:01\r\u001b[K     |█████████████████████▊          | 778 kB 5.2 MB/s eta 0:00:01\r\u001b[K     |██████████████████████          | 788 kB 5.2 MB/s eta 0:00:01\r\u001b[K     |██████████████████████▍         | 798 kB 5.2 MB/s eta 0:00:01\r\u001b[K     |██████████████████████▋         | 808 kB 5.2 MB/s eta 0:00:01\r\u001b[K     |███████████████████████         | 819 kB 5.2 MB/s eta 0:00:01\r\u001b[K     |███████████████████████▏        | 829 kB 5.2 MB/s eta 0:00:01\r\u001b[K     |███████████████████████▌        | 839 kB 5.2 MB/s eta 0:00:01\r\u001b[K     |███████████████████████▉        | 849 kB 5.2 MB/s eta 0:00:01\r\u001b[K     |████████████████████████        | 860 kB 5.2 MB/s eta 0:00:01\r\u001b[K     |████████████████████████▍       | 870 kB 5.2 MB/s eta 0:00:01\r\u001b[K     |████████████████████████▋       | 880 kB 5.2 MB/s eta 0:00:01\r\u001b[K     |█████████████████████████       | 890 kB 5.2 MB/s eta 0:00:01\r\u001b[K     |█████████████████████████▏      | 901 kB 5.2 MB/s eta 0:00:01\r\u001b[K     |█████████████████████████▌      | 911 kB 5.2 MB/s eta 0:00:01\r\u001b[K     |█████████████████████████▉      | 921 kB 5.2 MB/s eta 0:00:01\r\u001b[K     |██████████████████████████      | 931 kB 5.2 MB/s eta 0:00:01\r\u001b[K     |██████████████████████████▍     | 942 kB 5.2 MB/s eta 0:00:01\r\u001b[K     |██████████████████████████▋     | 952 kB 5.2 MB/s eta 0:00:01\r\u001b[K     |███████████████████████████     | 962 kB 5.2 MB/s eta 0:00:01\r\u001b[K     |███████████████████████████▏    | 972 kB 5.2 MB/s eta 0:00:01\r\u001b[K     |███████████████████████████▌    | 983 kB 5.2 MB/s eta 0:00:01\r\u001b[K     |███████████████████████████▉    | 993 kB 5.2 MB/s eta 0:00:01\r\u001b[K     |████████████████████████████    | 1.0 MB 5.2 MB/s eta 0:00:01\r\u001b[K     |████████████████████████████▍   | 1.0 MB 5.2 MB/s eta 0:00:01\r\u001b[K     |████████████████████████████▋   | 1.0 MB 5.2 MB/s eta 0:00:01\r\u001b[K     |█████████████████████████████   | 1.0 MB 5.2 MB/s eta 0:00:01\r\u001b[K     |█████████████████████████████▎  | 1.0 MB 5.2 MB/s eta 0:00:01\r\u001b[K     |█████████████████████████████▌  | 1.1 MB 5.2 MB/s eta 0:00:01\r\u001b[K     |█████████████████████████████▉  | 1.1 MB 5.2 MB/s eta 0:00:01\r\u001b[K     |██████████████████████████████  | 1.1 MB 5.2 MB/s eta 0:00:01\r\u001b[K     |██████████████████████████████▍ | 1.1 MB 5.2 MB/s eta 0:00:01\r\u001b[K     |██████████████████████████████▋ | 1.1 MB 5.2 MB/s eta 0:00:01\r\u001b[K     |███████████████████████████████ | 1.1 MB 5.2 MB/s eta 0:00:01\r\u001b[K     |███████████████████████████████▎| 1.1 MB 5.2 MB/s eta 0:00:01\r\u001b[K     |███████████████████████████████▌| 1.1 MB 5.2 MB/s eta 0:00:01\r\u001b[K     |███████████████████████████████▉| 1.1 MB 5.2 MB/s eta 0:00:01\r\u001b[K     |████████████████████████████████| 1.1 MB 5.2 MB/s \n",
            "\u001b[?25h  Installing build dependencies ... \u001b[?25l\u001b[?25hdone\n",
            "  Getting requirements to build wheel ... \u001b[?25l\u001b[?25hdone\n",
            "  Installing backend dependencies ... \u001b[?25l\u001b[?25hdone\n",
            "    Preparing wheel metadata ... \u001b[?25l\u001b[?25hdone\n",
            "Requirement already satisfied: numpy in /usr/local/lib/python3.7/dist-packages (from implicit) (1.19.5)\n",
            "Requirement already satisfied: scipy>=0.16 in /usr/local/lib/python3.7/dist-packages (from implicit) (1.4.1)\n",
            "Requirement already satisfied: tqdm>=4.27 in /usr/local/lib/python3.7/dist-packages (from implicit) (4.62.3)\n",
            "Building wheels for collected packages: implicit\n",
            "  Building wheel for implicit (PEP 517) ... \u001b[?25l\u001b[?25hdone\n",
            "  Created wheel for implicit: filename=implicit-0.4.8-cp37-cp37m-linux_x86_64.whl size=4606579 sha256=7cf42491875c1d0f10e130be8ea7bf3d32932f0f3a124e73ef6523012c1b04f1\n",
            "  Stored in directory: /root/.cache/pip/wheels/88/e6/34/25e73cccbaf1a961154bb562a5f86123b68fdbf40e306073d6\n",
            "Successfully built implicit\n",
            "Installing collected packages: implicit\n",
            "Successfully installed implicit-0.4.8\n"
          ]
        }
      ],
      "source": [
        "# install implicit package so we can try those algorithms\n",
        "!pip install implicit"
      ]
    },
    {
      "cell_type": "code",
      "execution_count": null,
      "metadata": {
        "id": "6fmDeiVX-Wi0"
      },
      "outputs": [],
      "source": [
        "from  lenskit.algorithms import implicit \n",
        "\n",
        "# define the algorithms we want to test in a dict with labels, so we can \n",
        "# add and adjust what we want to test here\n",
        "algos = {\n",
        "  'ItemItem': knn.ItemItem(50, center=False, aggregate='sum'),  # was previously not generating any results; now working?\n",
        "  # 'UserUser': user_knn.UserUser(50),   # not generating results either\n",
        "  'ALS': als.BiasedMF(50),\n",
        "  'ALS iMF': als.ImplicitMF(50, use_ratings=False),\n",
        "  'TF BiasedMF': tf.BiasedMF(50),\n",
        "  'TF BPR': tf.BPR(50),\n",
        "  # 'Implicit BPR': implicit.BPR(50),  # Cuda error :-( \n",
        "  'Popular': basic.Popular(),\n",
        "  'Random': basic.Random(),\n",
        "}"
      ]
    },
    {
      "cell_type": "markdown",
      "metadata": {
        "id": "g0HLlMmx-Wi3"
      },
      "source": [
        "## Running the Evaluation\n",
        "\n",
        "In LensKit, our evaluation proceeds in 2 steps:\n",
        "\n",
        "1. Generate recommendations\n",
        "2. Measure them\n",
        "\n",
        "If memory is a concern, we can measure while generating, but we will not do that for now.\n",
        "\n",
        "We will first define a function to generate recommendations from one algorithm over a single partition of the data set.  It will take an algorithm, a train set, and a test set, and return the recommendations.\n",
        "\n",
        "**Note:** before fitting the algorithm, we clone it.  Some algorithms misbehave when fit multiple times.\n",
        "\n",
        "**Note 2:** our algorithms do not necessarily implement the `Recommender` interface, so we adapt them. This fills in a default candidate selector.\n",
        "\n",
        "The code function looks like this:"
      ]
    },
    {
      "cell_type": "code",
      "execution_count": null,
      "metadata": {
        "id": "Ail8EBMw-Wi3"
      },
      "outputs": [],
      "source": [
        "def eval(aname, algo, train, test):\n",
        "    fittable = util.clone(algo)\n",
        "    fittable = Recommender.adapt(fittable)\n",
        "    fittable.fit(train)\n",
        "    users = test.user.unique()\n",
        "    # now we run the recommender\n",
        "    recs = batch.recommend(fittable, users, 100)\n",
        "    # add the algorithm name for analyzability\n",
        "    recs['Algorithm'] = aname\n",
        "    return recs"
      ]
    },
    {
      "cell_type": "markdown",
      "metadata": {
        "id": "YvXB4_ox-Wi5"
      },
      "source": [
        "Now, we will loop over the data and the algorithms, and generate recommendations:"
      ]
    },
    {
      "cell_type": "code",
      "execution_count": null,
      "metadata": {
        "colab": {
          "base_uri": "https://localhost:8080/"
        },
        "id": "SmrMUXs1-Wi5",
        "outputId": "33d43cee-02ff-4b89-b740-2d02de74d305"
      },
      "outputs": [
        {
          "name": "stdout",
          "output_type": "stream",
          "text": [
            "Epoch 1/5\n",
            "2/2 [==============================] - 1s 19ms/step - loss: 0.0053\n",
            "Epoch 2/5\n",
            "2/2 [==============================] - 0s 18ms/step - loss: 0.0051\n",
            "Epoch 3/5\n",
            "2/2 [==============================] - 0s 16ms/step - loss: 0.0050\n",
            "Epoch 4/5\n",
            "2/2 [==============================] - 0s 23ms/step - loss: 0.0048\n",
            "Epoch 5/5\n",
            "2/2 [==============================] - 0s 20ms/step - loss: 0.0046\n",
            "Epoch 1/5\n",
            "2/2 [==============================] - 1s 25ms/step - loss: 0.6982\n",
            "Epoch 2/5\n",
            "2/2 [==============================] - 0s 28ms/step - loss: 0.6977\n",
            "Epoch 3/5\n",
            "2/2 [==============================] - 0s 29ms/step - loss: 0.6970\n",
            "Epoch 4/5\n",
            "2/2 [==============================] - 0s 25ms/step - loss: 0.6963\n",
            "Epoch 5/5\n",
            "2/2 [==============================] - 0s 25ms/step - loss: 0.6958\n",
            "Epoch 1/5\n",
            "2/2 [==============================] - 1s 19ms/step - loss: 0.0053\n",
            "Epoch 2/5\n",
            "2/2 [==============================] - 0s 16ms/step - loss: 0.0052\n",
            "Epoch 3/5\n",
            "2/2 [==============================] - 0s 16ms/step - loss: 0.0050\n",
            "Epoch 4/5\n",
            "2/2 [==============================] - 0s 17ms/step - loss: 0.0048\n",
            "Epoch 5/5\n",
            "2/2 [==============================] - 0s 16ms/step - loss: 0.0047\n",
            "Epoch 1/5\n",
            "2/2 [==============================] - 1s 27ms/step - loss: 0.6980\n",
            "Epoch 2/5\n",
            "2/2 [==============================] - 0s 28ms/step - loss: 0.6974\n",
            "Epoch 3/5\n",
            "2/2 [==============================] - 0s 31ms/step - loss: 0.6968\n",
            "Epoch 4/5\n",
            "2/2 [==============================] - 0s 27ms/step - loss: 0.6961\n",
            "Epoch 5/5\n",
            "2/2 [==============================] - 0s 28ms/step - loss: 0.6956\n",
            "Epoch 1/5\n",
            "2/2 [==============================] - 0s 19ms/step - loss: 0.0053\n",
            "Epoch 2/5\n",
            "2/2 [==============================] - 0s 16ms/step - loss: 0.0051\n",
            "Epoch 3/5\n",
            "2/2 [==============================] - 0s 16ms/step - loss: 0.0050\n",
            "Epoch 4/5\n",
            "2/2 [==============================] - 0s 16ms/step - loss: 0.0048\n",
            "Epoch 5/5\n",
            "2/2 [==============================] - 0s 19ms/step - loss: 0.0046\n",
            "Epoch 1/5\n",
            "2/2 [==============================] - 1s 28ms/step - loss: 0.6983\n",
            "Epoch 2/5\n",
            "2/2 [==============================] - 0s 30ms/step - loss: 0.6978\n",
            "Epoch 3/5\n",
            "2/2 [==============================] - 0s 28ms/step - loss: 0.6972\n",
            "Epoch 4/5\n",
            "2/2 [==============================] - 0s 27ms/step - loss: 0.6966\n",
            "Epoch 5/5\n",
            "2/2 [==============================] - 0s 30ms/step - loss: 0.6959\n",
            "Epoch 1/5\n",
            "2/2 [==============================] - 1s 19ms/step - loss: 0.0053\n",
            "Epoch 2/5\n",
            "2/2 [==============================] - 0s 19ms/step - loss: 0.0052\n",
            "Epoch 3/5\n",
            "2/2 [==============================] - 0s 17ms/step - loss: 0.0050\n",
            "Epoch 4/5\n",
            "2/2 [==============================] - 0s 20ms/step - loss: 0.0048\n",
            "Epoch 5/5\n",
            "2/2 [==============================] - 0s 18ms/step - loss: 0.0046\n",
            "Epoch 1/5\n",
            "2/2 [==============================] - 1s 25ms/step - loss: 0.6984\n",
            "Epoch 2/5\n",
            "2/2 [==============================] - 0s 25ms/step - loss: 0.6978\n",
            "Epoch 3/5\n",
            "2/2 [==============================] - 0s 27ms/step - loss: 0.6970\n",
            "Epoch 4/5\n",
            "2/2 [==============================] - 0s 32ms/step - loss: 0.6964\n",
            "Epoch 5/5\n",
            "2/2 [==============================] - 0s 38ms/step - loss: 0.6959\n",
            "Epoch 1/5\n",
            "2/2 [==============================] - 1s 22ms/step - loss: 0.0053\n",
            "Epoch 2/5\n",
            "2/2 [==============================] - 0s 18ms/step - loss: 0.0051\n",
            "Epoch 3/5\n",
            "2/2 [==============================] - 0s 21ms/step - loss: 0.0050\n",
            "Epoch 4/5\n",
            "2/2 [==============================] - 0s 25ms/step - loss: 0.0048\n",
            "Epoch 5/5\n",
            "2/2 [==============================] - 0s 17ms/step - loss: 0.0046\n",
            "Epoch 1/5\n",
            "2/2 [==============================] - 1s 26ms/step - loss: 0.6981\n",
            "Epoch 2/5\n",
            "2/2 [==============================] - 0s 31ms/step - loss: 0.6975\n",
            "Epoch 3/5\n",
            "2/2 [==============================] - 0s 29ms/step - loss: 0.6969\n",
            "Epoch 4/5\n",
            "2/2 [==============================] - 0s 24ms/step - loss: 0.6963\n",
            "Epoch 5/5\n",
            "2/2 [==============================] - 0s 26ms/step - loss: 0.6956\n"
          ]
        }
      ],
      "source": [
        "all_recs = []\n",
        "test_data = []\n",
        "for train, test in xf.partition_users(ratings[['user', 'item', 'rating', 'timestamp']], 5, xf.SampleFrac(0.2)):\n",
        "    test_data.append(test)\n",
        "    # for each algo defined in our dict above, evaulate and append results\n",
        "    for algo_name, algo in algos.items():\n",
        "          all_recs.append(eval(algo_name, algo, train, test))  \n",
        "\n",
        "    # all_recs.append(eval('ItemItem', algo_ii, train, test))  \n",
        "    # all_recs.append(eval('UserUser', algo_uu, train, test))  \n",
        "    # all_recs.append(eval('ALS', algo_als, train, test))\n",
        "    # all_recs.append(eval('ALS_iMF', algo_alsimf, train, test))\n",
        "    # all_recs.append(eval('TF BiasedMF', algo_tfbiasmd, train, test))\n",
        "    # all_recs.append(eval('TF BPR', algo_tfbpr, train, test))\n",
        "    # all_recs.append(eval('Random', random, train, test))\n",
        "    # # all_recs.append(eval('implicit_base', algo_implicit, train, test))\n"
      ]
    },
    {
      "cell_type": "markdown",
      "metadata": {
        "id": "A8OKt3Nh-Wi7"
      },
      "source": [
        "With the results in place, we can concatenate them into a single data frame:"
      ]
    },
    {
      "cell_type": "code",
      "execution_count": null,
      "metadata": {
        "colab": {
          "base_uri": "https://localhost:8080/",
          "height": 206
        },
        "id": "QN4dpGrj-Wi7",
        "outputId": "fa3b3a58-f909-488b-c21f-090757476ba7"
      },
      "outputs": [
        {
          "data": {
            "text/html": [
              "<div>\n",
              "<style scoped>\n",
              "    .dataframe tbody tr th:only-of-type {\n",
              "        vertical-align: middle;\n",
              "    }\n",
              "\n",
              "    .dataframe tbody tr th {\n",
              "        vertical-align: top;\n",
              "    }\n",
              "\n",
              "    .dataframe thead th {\n",
              "        text-align: right;\n",
              "    }\n",
              "</style>\n",
              "<table border=\"1\" class=\"dataframe\">\n",
              "  <thead>\n",
              "    <tr style=\"text-align: right;\">\n",
              "      <th></th>\n",
              "      <th>item</th>\n",
              "      <th>score</th>\n",
              "      <th>user</th>\n",
              "      <th>rank</th>\n",
              "      <th>Algorithm</th>\n",
              "    </tr>\n",
              "  </thead>\n",
              "  <tbody>\n",
              "    <tr>\n",
              "      <th>0</th>\n",
              "      <td>mason-washington-legation-murders</td>\n",
              "      <td>1.508962</td>\n",
              "      <td>baldwin-helen-green</td>\n",
              "      <td>1</td>\n",
              "      <td>ItemItem</td>\n",
              "    </tr>\n",
              "    <tr>\n",
              "      <th>1</th>\n",
              "      <td>christie-thirteen-dinner</td>\n",
              "      <td>1.469200</td>\n",
              "      <td>baldwin-helen-green</td>\n",
              "      <td>2</td>\n",
              "      <td>ItemItem</td>\n",
              "    </tr>\n",
              "    <tr>\n",
              "      <th>2</th>\n",
              "      <td>tomlinson-snows-helicon</td>\n",
              "      <td>1.438492</td>\n",
              "      <td>baldwin-helen-green</td>\n",
              "      <td>3</td>\n",
              "      <td>ItemItem</td>\n",
              "    </tr>\n",
              "    <tr>\n",
              "      <th>3</th>\n",
              "      <td>queen-roman-hat-mystery</td>\n",
              "      <td>1.341190</td>\n",
              "      <td>baldwin-helen-green</td>\n",
              "      <td>4</td>\n",
              "      <td>ItemItem</td>\n",
              "    </tr>\n",
              "    <tr>\n",
              "      <th>4</th>\n",
              "      <td>wharton-human-nature</td>\n",
              "      <td>1.274274</td>\n",
              "      <td>baldwin-helen-green</td>\n",
              "      <td>5</td>\n",
              "      <td>ItemItem</td>\n",
              "    </tr>\n",
              "  </tbody>\n",
              "</table>\n",
              "</div>"
            ],
            "text/plain": [
              "                                item     score  ... rank  Algorithm\n",
              "0  mason-washington-legation-murders  1.508962  ...    1   ItemItem\n",
              "1           christie-thirteen-dinner  1.469200  ...    2   ItemItem\n",
              "2            tomlinson-snows-helicon  1.438492  ...    3   ItemItem\n",
              "3            queen-roman-hat-mystery  1.341190  ...    4   ItemItem\n",
              "4               wharton-human-nature  1.274274  ...    5   ItemItem\n",
              "\n",
              "[5 rows x 5 columns]"
            ]
          },
          "execution_count": 17,
          "metadata": {},
          "output_type": "execute_result"
        }
      ],
      "source": [
        "all_recs = pd.concat(all_recs, ignore_index=True)\n",
        "all_recs.head()"
      ]
    },
    {
      "cell_type": "markdown",
      "metadata": {
        "id": "gYi83B1C-Wi9"
      },
      "source": [
        "To compute our analysis, we also need to concatenate the test data into a single frame:"
      ]
    },
    {
      "cell_type": "code",
      "execution_count": null,
      "metadata": {
        "id": "3iC3fXml-Wi9"
      },
      "outputs": [],
      "source": [
        "test_data = pd.concat(test_data, ignore_index=True)"
      ]
    },
    {
      "cell_type": "markdown",
      "metadata": {
        "id": "RNLl1uAo-Wi_"
      },
      "source": [
        "We analyze our recommendation lists with a `RecListAnalysis`.  It takes care of the hard work of making sure that the truth data (our test data) and the recoommendations line up properly.\n",
        "\n",
        "We do assume here that each user only appears once per algorithm. Since our crossfold method partitions users, this is fine."
      ]
    },
    {
      "cell_type": "code",
      "execution_count": null,
      "metadata": {
        "colab": {
          "base_uri": "https://localhost:8080/",
          "height": 238
        },
        "id": "BEcRuEoF-Wi_",
        "outputId": "574b560e-7a49-4f54-bf2c-d223e799e343"
      },
      "outputs": [
        {
          "data": {
            "text/html": [
              "<div>\n",
              "<style scoped>\n",
              "    .dataframe tbody tr th:only-of-type {\n",
              "        vertical-align: middle;\n",
              "    }\n",
              "\n",
              "    .dataframe tbody tr th {\n",
              "        vertical-align: top;\n",
              "    }\n",
              "\n",
              "    .dataframe thead th {\n",
              "        text-align: right;\n",
              "    }\n",
              "</style>\n",
              "<table border=\"1\" class=\"dataframe\">\n",
              "  <thead>\n",
              "    <tr style=\"text-align: right;\">\n",
              "      <th></th>\n",
              "      <th></th>\n",
              "      <th>nrecs</th>\n",
              "      <th>ndcg</th>\n",
              "    </tr>\n",
              "    <tr>\n",
              "      <th>Algorithm</th>\n",
              "      <th>user</th>\n",
              "      <th></th>\n",
              "      <th></th>\n",
              "    </tr>\n",
              "  </thead>\n",
              "  <tbody>\n",
              "    <tr>\n",
              "      <th rowspan=\"5\" valign=\"top\">ItemItem</th>\n",
              "      <th>baldwin-helen-green</th>\n",
              "      <td>100</td>\n",
              "      <td>0.077406</td>\n",
              "    </tr>\n",
              "    <tr>\n",
              "      <th>bernheim</th>\n",
              "      <td>100</td>\n",
              "      <td>0.021993</td>\n",
              "    </tr>\n",
              "    <tr>\n",
              "      <th>bernheim-antoinette</th>\n",
              "      <td>100</td>\n",
              "      <td>0.036162</td>\n",
              "    </tr>\n",
              "    <tr>\n",
              "      <th>bernheim-francoise</th>\n",
              "      <td>100</td>\n",
              "      <td>0.000000</td>\n",
              "    </tr>\n",
              "    <tr>\n",
              "      <th>bremond</th>\n",
              "      <td>100</td>\n",
              "      <td>0.039007</td>\n",
              "    </tr>\n",
              "  </tbody>\n",
              "</table>\n",
              "</div>"
            ],
            "text/plain": [
              "                               nrecs      ndcg\n",
              "Algorithm user                                \n",
              "ItemItem  baldwin-helen-green    100  0.077406\n",
              "          bernheim               100  0.021993\n",
              "          bernheim-antoinette    100  0.036162\n",
              "          bernheim-francoise     100  0.000000\n",
              "          bremond                100  0.039007"
            ]
          },
          "execution_count": 19,
          "metadata": {},
          "output_type": "execute_result"
        }
      ],
      "source": [
        "rla = topn.RecListAnalysis()\n",
        "rla.add_metric(topn.ndcg)\n",
        "results = rla.compute(all_recs, test_data)\n",
        "results.head()"
      ]
    },
    {
      "cell_type": "markdown",
      "metadata": {
        "id": "BlzeAxvo-WjC"
      },
      "source": [
        "Now we have nDCG values!"
      ]
    },
    {
      "cell_type": "code",
      "execution_count": null,
      "metadata": {
        "colab": {
          "base_uri": "https://localhost:8080/"
        },
        "id": "o5NFmun7-WjC",
        "outputId": "39b2927b-85cc-4c87-9375-0ace3570dec8"
      },
      "outputs": [
        {
          "data": {
            "text/plain": [
              "Algorithm\n",
              "ALS            0.004434\n",
              "ALS iMF        0.076177\n",
              "ItemItem       0.034903\n",
              "Popular        0.053541\n",
              "Random         0.006152\n",
              "TF BPR         0.005444\n",
              "TF BiasedMF    0.004969\n",
              "Name: ndcg, dtype: float64"
            ]
          },
          "execution_count": 20,
          "metadata": {},
          "output_type": "execute_result"
        }
      ],
      "source": [
        "results.groupby('Algorithm').ndcg.mean()"
      ]
    },
    {
      "cell_type": "markdown",
      "metadata": {
        "id": "meHcN4S3_wcA"
      },
      "source": [
        "Adn we can plot them:"
      ]
    },
    {
      "cell_type": "code",
      "execution_count": null,
      "metadata": {
        "colab": {
          "base_uri": "https://localhost:8080/",
          "height": 350
        },
        "id": "7ZlYiIvh-WjE",
        "outputId": "9709eff1-20d0-456c-c51e-cf49e73fb210"
      },
      "outputs": [
        {
          "data": {
            "text/plain": [
              "<matplotlib.axes._subplots.AxesSubplot at 0x7f275ccc7b50>"
            ]
          },
          "execution_count": 21,
          "metadata": {},
          "output_type": "execute_result"
        },
        {
          "data": {
            "image/png": "[encoded data removed]",
            "text/plain": [
              "<Figure size 432x288 with 1 Axes>"
            ]
          },
          "metadata": {
            "needs_background": "light"
          },
          "output_type": "display_data"
        }
      ],
      "source": [
        "results.groupby('Algorithm').ndcg.mean().plot.bar()"
      ]
    },
    {
      "cell_type": "code",
      "execution_count": null,
      "metadata": {
        "id": "_a5zFyej-WjH"
      },
      "outputs": [],
      "source": []
    }
  ],
  "metadata": {
    "colab": {
      "collapsed_sections": [],
      "name": "SCo_lenskit_eval",
      "provenance": []
    },
    "kernelspec": {
      "display_name": "Python 3",
      "language": "python",
      "name": "python3"
    },
    "language_info": {
      "codemirror_mode": {
        "name": "ipython",
        "version": 3
      },
      "file_extension": ".py",
      "mimetype": "text/x-python",
      "name": "python",
      "nbconvert_exporter": "python",
      "pygments_lexer": "ipython3",
      "version": "3.9.18"
    }
  },
  "nbformat": 4,
  "nbformat_minor": 0
}
