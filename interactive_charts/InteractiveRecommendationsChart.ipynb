{
  "cells": [
    {
      "cell_type": "markdown",
      "metadata": {
        "id": "I1x1AE35cOtj"
      },
      "source": [
        "# Generate and Evaluate Lenskit Model Stability and Select Scores for Predictions"
      ]
    },
    {
      "cell_type": "markdown",
      "metadata": {
        "id": "EjZT_ntacTdr"
      },
      "source": [
        "## Load libraries and data"
      ]
    },
    {
      "cell_type": "code",
      "execution_count": 1,
      "metadata": {},
      "outputs": [
        {
          "name": "stdout",
          "output_type": "stream",
          "text": [
            "Lenskit is already installed.\n"
          ]
        }
      ],
      "source": [
        "# This code checks if the lenskit library is installed and installs it if it is not.\n",
        "try:\n",
        "    import lenskit\n",
        "    print(\"Lenskit is already installed.\")\n",
        "except ImportError:\n",
        "    print(\"Lenskit is not installed. Installing...\")\n",
        "    import subprocess\n",
        "    subprocess.check_call([\"pip\", \"install\", \"lenskit\"])"
      ]
    },
    {
      "cell_type": "code",
      "execution_count": 2,
      "metadata": {
        "id": "Xo656ZZAGfei"
      },
      "outputs": [],
      "source": [
        "# Standard library imports\n",
        "import os\n",
        "import sys\n",
        "from typing import List\n",
        "\n",
        "# Third party imports\n",
        "import altair as alt  # For data visualization\n",
        "import numpy as np  # For numerical operations\n",
        "import pandas as pd  # For data manipulation\n",
        "import scipy\n",
        "from scipy.stats import zscore  # For statistical computations\n",
        "from sklearn.preprocessing import MinMaxScaler  # For data preprocessing\n",
        "from tqdm.notebook import tqdm  # For progress bars\n",
        "\n",
        "# LensKit imports\n",
        "from lenskit import Recommender, topn, util, batch, crossfold as xf  # For recommendation systems\n",
        "from lenskit.algorithms import als, basic  # For recommendation algorithms\n",
        "\n",
        "# Local application/library specific imports\n",
        "sys.path.append(\"..\")\n",
        "from utils.missing_data_processing import *  # For handling missing data"
      ]
    },
    {
      "cell_type": "code",
      "execution_count": 3,
      "metadata": {},
      "outputs": [],
      "source": [
        "# Load the initial data into four DataFrames: events_df, members_df, books_df, and borrow_overrides_df.\n",
        "events_df, members_df, books_df, borrow_overrides_df  = load_initial_data()\n",
        "\n",
        "# Process the events data to clean it and prepare it for analysis.\n",
        "events_df = preprocess_events_data(events_df)\n",
        "\n",
        "# Extract the item ID from the URI in the books DataFrame.\n",
        "# The item ID is the second to last part of the URI.\n",
        "books_df[\"item_id\"] = books_df.uri.apply(\n",
        "    lambda x: x.split(\"/\")[-2] if pd.notna(x) else None\n",
        ")\n",
        "\n",
        "# Create a lookup table for item titles\n",
        "title_lookup = {row.item_id: row.title for row in books_df.itertuples()}\n",
        "\n",
        "# Generate short IDs for the members in the members DataFrame.\n",
        "# The ID is the second to last part of the URI.\n",
        "members_df[\"id\"] = members_df.uri.apply(\n",
        "    lambda x: x.split(\"/\")[-2]\n",
        ")\n",
        "\n",
        "# Get all member-book interactions from the events DataFrame.\n",
        "# Only include rows where the item URI is not null.\n",
        "interactions_df = events_df[events_df.item_uri.notna()].copy()\n",
        "\n",
        "# Restrict the interactions to borrow events only.\n",
        "interactions_df = interactions_df[interactions_df.event_type == 'Borrow'].copy()\n",
        "\n",
        "# Reduce the interactions DataFrame to the minimum user/item interaction fields and drop duplicate rows.\n",
        "unique_interactions_df = interactions_df[\n",
        "    [\"member_id\", \"item_id\"]\n",
        "].drop_duplicates(subset=[\"member_id\", \"item_id\"])\n",
        "\n",
        "# Rename the columns to the names expected by LensKit.\n",
        "# The DataFrame is renamed to 'ratings' for use with the tutorial.\n",
        "ratings = unique_interactions_df.rename(columns={'member_id': 'user', 'item_id': 'item'})\n",
        "\n",
        "# The example assumes a rating. Use a 1/0 rating and set all to 1 to confirm interaction.\n",
        "ratings['rating'] = 1\n",
        "\n",
        "dated_events_df = events_df.copy()\n",
        "dated_events_df['start_date_dt'] = pd.to_datetime(dated_events_df['start_date'], errors='coerce')\n",
        "dated_events_df['end_date_dt'] = pd.to_datetime(dated_events_df['end_date'], errors='coerce')"
      ]
    },
    {
      "cell_type": "markdown",
      "metadata": {
        "id": "DwEwSsFdjD7r"
      },
      "source": [
        "## Lenskit Recommendations"
      ]
    },
    {
      "cell_type": "code",
      "execution_count": 4,
      "metadata": {
        "id": "_Z3-aAZHdr4p"
      },
      "outputs": [],
      "source": [
        "lenskit_model = pd.read_csv(f'../speculative_reading/data/lenskit_model100_scores.csv')\n",
        "lenskit_model['member_period'] = lenskit_model.member_id + ': ' + lenskit_model.subscription_start.astype(str) + '/' + lenskit_model.subscription_end.astype(str)"
      ]
    },
    {
      "cell_type": "code",
      "execution_count": 5,
      "metadata": {
        "colab": {
          "base_uri": "https://localhost:8080/"
        },
        "id": "XVVmXsmvrNus",
        "outputId": "e0d5e8e3-d06e-4937-dc56-bd4ebcfec1a0"
      },
      "outputs": [
        {
          "data": {
            "text/plain": [
              "member_id         subscription_start  subscription_end\n",
              "hemingway-ernest  1924-03-28          1925-03-28          128500\n",
              "                  1921-12-28          1922-11-08           65400\n",
              "dtype: int64"
            ]
          },
          "execution_count": 5,
          "metadata": {},
          "output_type": "execute_result"
        }
      ],
      "source": [
        "lenskit_model[['member_id', 'subscription_start', 'subscription_end']].value_counts()"
      ]
    },
    {
      "cell_type": "code",
      "execution_count": 6,
      "metadata": {},
      "outputs": [
        {
          "data": {
            "text/plain": [
              "member_period\n",
              "hemingway-ernest: 1921-12-28/1922-11-08     654\n",
              "hemingway-ernest: 1924-03-28/1925-03-28    1285\n",
              "Name: item_id, dtype: int64"
            ]
          },
          "execution_count": 6,
          "metadata": {},
          "output_type": "execute_result"
        }
      ],
      "source": [
        "lenskit_model.groupby('member_period')['item_id'].nunique()"
      ]
    },
    {
      "cell_type": "code",
      "execution_count": 7,
      "metadata": {
        "id": "D7ACefq438yi"
      },
      "outputs": [],
      "source": [
        "def get_formatted_titles(row):\n",
        "\n",
        "  item = books_df[books_df.item_id == row.item_id]\n",
        "  if item.author.isna().any() == False:\n",
        "    author = ' '.join(item.author.str.split(',').values[0][::-1])\n",
        "    author = ' by' + author\n",
        "  else: \n",
        "    author = '(Periodical)'\n",
        "  title = item.title.values[0]\n",
        "  return title + author\n",
        "\n",
        "lenskit_model['formatted_title'] = lenskit_model.apply(get_formatted_titles, axis=1)"
      ]
    },
    {
      "cell_type": "code",
      "execution_count": 8,
      "metadata": {
        "id": "CGqXVIA64og0"
      },
      "outputs": [],
      "source": []
    },
    {
      "cell_type": "code",
      "execution_count": 9,
      "metadata": {
        "id": "GY36uXxDrkhb"
      },
      "outputs": [],
      "source": [
        "lenskit_model['period'] = lenskit_model.member_period.str.split(':').str[1]\n",
        "lenskit_model['zscore'] = lenskit_model.groupby(['member_id', 'subscription_start', 'subscription_end', 'item_id'])['score'].transform(lambda x : zscore(x,ddof=1))\n",
        "\n",
        "top_scores = lenskit_model.groupby(['member_id', 'subscription_start', 'subscription_end', 'item_id']).agg({'score':'max'})[['score']].reset_index()\n",
        "top_scores = pd.merge(top_scores, lenskit_model, on=top_scores.columns.tolist(), how='inner')\n",
        "\n",
        "top_scores = top_scores.rename(columns={'score': 'top_score', 'zscore' : 'top_zscore'})\n",
        "\n",
        "avg_scores = lenskit_model.groupby(['member_id', 'subscription_start', 'subscription_end', 'item_id'])['score'].mean().reset_index(name='avg_score')\n",
        "scores_df = pd.merge(top_scores, avg_scores, on=['member_id', 'subscription_start', 'subscription_end', 'item_id'])\n",
        "\n",
        "std_scores = lenskit_model.groupby(['member_id', 'subscription_start', 'subscription_end', 'item_id']).agg({'score':'std'}).reset_index()\n",
        "std_scores = std_scores.rename(columns={'score': 'std_score'})\n",
        "scores_df = pd.merge(scores_df, std_scores, on=['member_id', 'subscription_start', 'subscription_end', 'item_id'])\n",
        "\n",
        "median_scores = lenskit_model.groupby(['member_id', 'subscription_start', 'subscription_end', 'item_id'])['score'].median().reset_index(name='median_score')\n",
        "scores_df = pd.merge(scores_df, median_scores, on=['member_id', 'subscription_start', 'subscription_end', 'item_id'])\n",
        "\n",
        "mode_scores = lenskit_model.groupby(['member_id', 'subscription_start', 'subscription_end', 'item_id'])['score'].agg(lambda x: scipy.stats.mode(x)[0][0]).reset_index()\n",
        "mode_scores = pd.merge(mode_scores, lenskit_model, on=mode_scores.columns.tolist(), how='inner')\n",
        "mode_scores = mode_scores.rename(columns={'score': 'mode_score', 'zscore' : 'mode_zscore'})\n",
        "\n",
        "lenskit_scores = pd.merge(mode_scores[['member_id', 'subscription_start', 'subscription_end', 'item_id', 'mode_score', 'mode_zscore']], scores_df, on=['member_id', 'subscription_start', 'subscription_end', 'item_id'])"
      ]
    },
    {
      "cell_type": "code",
      "execution_count": 79,
      "metadata": {},
      "outputs": [
        {
          "ename": "NameError",
          "evalue": "name 'lenskit_scores' is not defined",
          "output_type": "error",
          "traceback": [
            "\u001b[0;31m---------------------------------------------------------------------------\u001b[0m",
            "\u001b[0;31mNameError\u001b[0m                                 Traceback (most recent call last)",
            "Input \u001b[0;32mIn [79]\u001b[0m, in \u001b[0;36m<cell line: 1>\u001b[0;34m()\u001b[0m\n\u001b[0;32m----> 1\u001b[0m \u001b[43mlenskit_scores\u001b[49m\u001b[38;5;241m.\u001b[39mhead()\n",
            "\u001b[0;31mNameError\u001b[0m: name 'lenskit_scores' is not defined"
          ]
        }
      ],
      "source": [
        "lenskit_scores.head()"
      ]
    },
    {
      "cell_type": "markdown",
      "metadata": {},
      "source": [
        "## Collaborative Filtering"
      ]
    },
    {
      "cell_type": "code",
      "execution_count": 59,
      "metadata": {},
      "outputs": [],
      "source": [
        "collaborative_filtering_model = pd.read_csv(\"../speculative_reading/data/full_collaborative_filtering_predictions.csv\")"
      ]
    },
    {
      "cell_type": "code",
      "execution_count": 78,
      "metadata": {},
      "outputs": [
        {
          "data": {
            "text/html": [
              "<div>\n",
              "<style scoped>\n",
              "    .dataframe tbody tr th:only-of-type {\n",
              "        vertical-align: middle;\n",
              "    }\n",
              "\n",
              "    .dataframe tbody tr th {\n",
              "        vertical-align: top;\n",
              "    }\n",
              "\n",
              "    .dataframe thead th {\n",
              "        text-align: right;\n",
              "    }\n",
              "</style>\n",
              "<table border=\"1\" class=\"dataframe\">\n",
              "  <thead>\n",
              "    <tr style=\"text-align: right;\">\n",
              "      <th></th>\n",
              "      <th>member_id</th>\n",
              "      <th>period</th>\n",
              "      <th>item_uri</th>\n",
              "      <th>formatted_table_title</th>\n",
              "      <th>formatted_chart_title</th>\n",
              "      <th>mode_score</th>\n",
              "      <th>mode_zscore</th>\n",
              "      <th>subscription_start</th>\n",
              "      <th>subscription_end</th>\n",
              "      <th>top_score</th>\n",
              "      <th>...</th>\n",
              "      <th>skew</th>\n",
              "      <th>std</th>\n",
              "      <th>var</th>\n",
              "      <th>kurtosis</th>\n",
              "      <th>metric</th>\n",
              "      <th>top_zscore</th>\n",
              "      <th>avg_score</th>\n",
              "      <th>median_score</th>\n",
              "      <th>std_score</th>\n",
              "      <th>coef_var</th>\n",
              "    </tr>\n",
              "  </thead>\n",
              "  <tbody>\n",
              "    <tr>\n",
              "      <th>0</th>\n",
              "      <td>hemingway-ernest</td>\n",
              "      <td>1921-12-28/1922-11-08</td>\n",
              "      <td>a-e-candle-vision</td>\n",
              "      <td>The Candle of Vision by Æ</td>\n",
              "      <td>*The Candle of Vision*,&lt;br&gt;Æ</td>\n",
              "      <td>0.000000</td>\n",
              "      <td>-0.577350</td>\n",
              "      <td>1921-12-28</td>\n",
              "      <td>1922-11-08</td>\n",
              "      <td>0.224766</td>\n",
              "      <td>...</td>\n",
              "      <td>1.732051</td>\n",
              "      <td>0.129769</td>\n",
              "      <td>0.016840</td>\n",
              "      <td>NaN</td>\n",
              "      <td>pearson</td>\n",
              "      <td>1.154701</td>\n",
              "      <td>0.074922</td>\n",
              "      <td>0.000000</td>\n",
              "      <td>0.129769</td>\n",
              "      <td>inf</td>\n",
              "    </tr>\n",
              "    <tr>\n",
              "      <th>1</th>\n",
              "      <td>hemingway-ernest</td>\n",
              "      <td>1921-12-28/1922-11-08</td>\n",
              "      <td>a-e-collected-poems</td>\n",
              "      <td>Collected Poems by Æ</td>\n",
              "      <td>*Collected Poems*,&lt;br&gt;Æ</td>\n",
              "      <td>0.000000</td>\n",
              "      <td>-0.577350</td>\n",
              "      <td>1921-12-28</td>\n",
              "      <td>1922-11-08</td>\n",
              "      <td>0.224766</td>\n",
              "      <td>...</td>\n",
              "      <td>1.732051</td>\n",
              "      <td>0.129769</td>\n",
              "      <td>0.016840</td>\n",
              "      <td>NaN</td>\n",
              "      <td>pearson</td>\n",
              "      <td>1.154701</td>\n",
              "      <td>0.074922</td>\n",
              "      <td>0.000000</td>\n",
              "      <td>0.129769</td>\n",
              "      <td>inf</td>\n",
              "    </tr>\n",
              "    <tr>\n",
              "      <th>2</th>\n",
              "      <td>hemingway-ernest</td>\n",
              "      <td>1921-12-28/1922-11-08</td>\n",
              "      <td>a-e-imaginations-reveries</td>\n",
              "      <td>Imaginations and Reveries by Æ</td>\n",
              "      <td>*Imaginations and Reveries*,&lt;br&gt;Æ</td>\n",
              "      <td>0.008704</td>\n",
              "      <td>-0.651694</td>\n",
              "      <td>1921-12-28</td>\n",
              "      <td>1922-11-08</td>\n",
              "      <td>0.228245</td>\n",
              "      <td>...</td>\n",
              "      <td>1.687123</td>\n",
              "      <td>0.121761</td>\n",
              "      <td>0.014826</td>\n",
              "      <td>NaN</td>\n",
              "      <td>pearson</td>\n",
              "      <td>1.151360</td>\n",
              "      <td>0.088055</td>\n",
              "      <td>0.027215</td>\n",
              "      <td>0.121761</td>\n",
              "      <td>4.473995</td>\n",
              "    </tr>\n",
              "    <tr>\n",
              "      <th>3</th>\n",
              "      <td>hemingway-ernest</td>\n",
              "      <td>1921-12-28/1922-11-08</td>\n",
              "      <td>abercrombie-speculative-dialogues</td>\n",
              "      <td>Speculative Dialogues by  Lascelles Abercrombie</td>\n",
              "      <td>*Speculative Dialogues*,&lt;br&gt; Lascelles Abercro...</td>\n",
              "      <td>0.000000</td>\n",
              "      <td>-0.577350</td>\n",
              "      <td>1921-12-28</td>\n",
              "      <td>1922-11-08</td>\n",
              "      <td>0.224766</td>\n",
              "      <td>...</td>\n",
              "      <td>1.732051</td>\n",
              "      <td>0.129769</td>\n",
              "      <td>0.016840</td>\n",
              "      <td>NaN</td>\n",
              "      <td>pearson</td>\n",
              "      <td>1.154701</td>\n",
              "      <td>0.074922</td>\n",
              "      <td>0.000000</td>\n",
              "      <td>0.129769</td>\n",
              "      <td>inf</td>\n",
              "    </tr>\n",
              "    <tr>\n",
              "      <th>4</th>\n",
              "      <td>hemingway-ernest</td>\n",
              "      <td>1921-12-28/1922-11-08</td>\n",
              "      <td>abercrombie-thomas-hardy-critical</td>\n",
              "      <td>Thomas Hardy: A Critical Study by  Lascelles A...</td>\n",
              "      <td>*Thomas Hardy: A Critical Study*,&lt;br&gt; Lascelle...</td>\n",
              "      <td>0.166476</td>\n",
              "      <td>-1.102686</td>\n",
              "      <td>1921-12-28</td>\n",
              "      <td>1922-11-08</td>\n",
              "      <td>0.272727</td>\n",
              "      <td>...</td>\n",
              "      <td>-1.071395</td>\n",
              "      <td>0.054466</td>\n",
              "      <td>0.002967</td>\n",
              "      <td>NaN</td>\n",
              "      <td>euclidean</td>\n",
              "      <td>0.848097</td>\n",
              "      <td>0.226535</td>\n",
              "      <td>0.240401</td>\n",
              "      <td>0.054466</td>\n",
              "      <td>0.226563</td>\n",
              "    </tr>\n",
              "  </tbody>\n",
              "</table>\n",
              "<p>5 rows × 21 columns</p>\n",
              "</div>"
            ],
            "text/plain": [
              "          member_id                 period                           item_uri  \\\n",
              "0  hemingway-ernest  1921-12-28/1922-11-08                  a-e-candle-vision   \n",
              "1  hemingway-ernest  1921-12-28/1922-11-08                a-e-collected-poems   \n",
              "2  hemingway-ernest  1921-12-28/1922-11-08          a-e-imaginations-reveries   \n",
              "3  hemingway-ernest  1921-12-28/1922-11-08  abercrombie-speculative-dialogues   \n",
              "4  hemingway-ernest  1921-12-28/1922-11-08  abercrombie-thomas-hardy-critical   \n",
              "\n",
              "                               formatted_table_title  \\\n",
              "0                          The Candle of Vision by Æ   \n",
              "1                               Collected Poems by Æ   \n",
              "2                     Imaginations and Reveries by Æ   \n",
              "3    Speculative Dialogues by  Lascelles Abercrombie   \n",
              "4  Thomas Hardy: A Critical Study by  Lascelles A...   \n",
              "\n",
              "                               formatted_chart_title  mode_score  mode_zscore  \\\n",
              "0                       *The Candle of Vision*,<br>Æ    0.000000    -0.577350   \n",
              "1                            *Collected Poems*,<br>Æ    0.000000    -0.577350   \n",
              "2                  *Imaginations and Reveries*,<br>Æ    0.008704    -0.651694   \n",
              "3  *Speculative Dialogues*,<br> Lascelles Abercro...    0.000000    -0.577350   \n",
              "4  *Thomas Hardy: A Critical Study*,<br> Lascelle...    0.166476    -1.102686   \n",
              "\n",
              "  subscription_start subscription_end  top_score  ...      skew       std  \\\n",
              "0         1921-12-28       1922-11-08   0.224766  ...  1.732051  0.129769   \n",
              "1         1921-12-28       1922-11-08   0.224766  ...  1.732051  0.129769   \n",
              "2         1921-12-28       1922-11-08   0.228245  ...  1.687123  0.121761   \n",
              "3         1921-12-28       1922-11-08   0.224766  ...  1.732051  0.129769   \n",
              "4         1921-12-28       1922-11-08   0.272727  ... -1.071395  0.054466   \n",
              "\n",
              "        var  kurtosis     metric top_zscore  avg_score  median_score  \\\n",
              "0  0.016840       NaN    pearson   1.154701   0.074922      0.000000   \n",
              "1  0.016840       NaN    pearson   1.154701   0.074922      0.000000   \n",
              "2  0.014826       NaN    pearson   1.151360   0.088055      0.027215   \n",
              "3  0.016840       NaN    pearson   1.154701   0.074922      0.000000   \n",
              "4  0.002967       NaN  euclidean   0.848097   0.226535      0.240401   \n",
              "\n",
              "   std_score  coef_var  \n",
              "0   0.129769       inf  \n",
              "1   0.129769       inf  \n",
              "2   0.121761  4.473995  \n",
              "3   0.129769       inf  \n",
              "4   0.054466  0.226563  \n",
              "\n",
              "[5 rows x 21 columns]"
            ]
          },
          "execution_count": 78,
          "metadata": {},
          "output_type": "execute_result"
        }
      ],
      "source": [
        "collaborative_filtering_model.head()"
      ]
    },
    {
      "cell_type": "markdown",
      "metadata": {},
      "source": [
        "## Popular Titles"
      ]
    },
    {
      "cell_type": "code",
      "execution_count": 66,
      "metadata": {},
      "outputs": [
        {
          "data": {
            "text/plain": [
              "<lenskit.algorithms.basic.Popular at 0x31de78df0>"
            ]
          },
          "execution_count": 66,
          "metadata": {},
          "output_type": "execute_result"
        }
      ],
      "source": [
        "# define a recommender using the algorithm that worked best in eval script\n",
        "rec = Recommender.adapt(als.ImplicitMF(50, use_ratings=False))\n",
        "# fit to all of our data\n",
        "rec.fit(ratings)\n",
        "\n",
        "# define a popularity recommender for comparison\n",
        "popular = Recommender.adapt(basic.Popular())\n",
        "popular.fit(ratings)"
      ]
    },
    {
      "cell_type": "code",
      "execution_count": 70,
      "metadata": {},
      "outputs": [
        {
          "data": {
            "text/html": [
              "<div>\n",
              "<style scoped>\n",
              "    .dataframe tbody tr th:only-of-type {\n",
              "        vertical-align: middle;\n",
              "    }\n",
              "\n",
              "    .dataframe tbody tr th {\n",
              "        vertical-align: top;\n",
              "    }\n",
              "\n",
              "    .dataframe thead th {\n",
              "        text-align: right;\n",
              "    }\n",
              "</style>\n",
              "<table border=\"1\" class=\"dataframe\">\n",
              "  <thead>\n",
              "    <tr style=\"text-align: right;\">\n",
              "      <th></th>\n",
              "      <th>member_id</th>\n",
              "      <th>subscription_start</th>\n",
              "      <th>subscription_end</th>\n",
              "      <th>subscription_start_dt</th>\n",
              "      <th>subscription_end_dt</th>\n",
              "    </tr>\n",
              "  </thead>\n",
              "  <tbody>\n",
              "    <tr>\n",
              "      <th>0</th>\n",
              "      <td>hemingway-ernest</td>\n",
              "      <td>1921-12-28</td>\n",
              "      <td>1922-11-08</td>\n",
              "      <td>1921-12-28</td>\n",
              "      <td>1922-11-08</td>\n",
              "    </tr>\n",
              "    <tr>\n",
              "      <th>65400</th>\n",
              "      <td>hemingway-ernest</td>\n",
              "      <td>1924-03-28</td>\n",
              "      <td>1925-03-28</td>\n",
              "      <td>1924-03-28</td>\n",
              "      <td>1925-03-28</td>\n",
              "    </tr>\n",
              "  </tbody>\n",
              "</table>\n",
              "</div>"
            ],
            "text/plain": [
              "              member_id subscription_start subscription_end  \\\n",
              "0      hemingway-ernest         1921-12-28       1922-11-08   \n",
              "65400  hemingway-ernest         1924-03-28       1925-03-28   \n",
              "\n",
              "      subscription_start_dt subscription_end_dt  \n",
              "0                1921-12-28          1922-11-08  \n",
              "65400            1924-03-28          1925-03-28  "
            ]
          },
          "execution_count": 70,
          "metadata": {},
          "output_type": "execute_result"
        }
      ],
      "source": [
        "popular_periods = lenskit_model[['member_id', 'subscription_start', 'subscription_end']].drop_duplicates()\n",
        "popular_periods['subscription_start_dt'] = pd.to_datetime(popular_periods['subscription_start'], errors='coerce')\n",
        "popular_periods['subscription_end_dt'] = pd.to_datetime(popular_periods['subscription_end'], errors='coerce')\n",
        "popular_periods"
      ]
    },
    {
      "cell_type": "code",
      "execution_count": 74,
      "metadata": {},
      "outputs": [],
      "source": [
        "from dateutil.relativedelta import relativedelta\n",
        "\n",
        "sixmonths = relativedelta(months=6)\n",
        "\n",
        "last_member = None\n",
        "\n",
        "popularity_results = []\n",
        "\n",
        "for _, row in popular_periods.iterrows():\n",
        "\n",
        "\tcirculation_start = row.subscription_start_dt - sixmonths\n",
        "\tuser_id = row.member_id\n",
        "\n",
        "\tcirculating_book_events = dated_events_df[dated_events_df.start_date_dt.between(circulation_start, row.subscription_end_dt) | dated_events_df.end_date_dt.between(circulation_start, row.subscription_end_dt)]\n",
        "\n",
        "\t# get a *unique* list of item ids\n",
        "\titem_ids = circulating_book_events.item_id.unique()\n",
        "\tpop_predictions = popular.recommend(user_id, n=len(item_ids), candidates=item_ids)\n",
        "\n",
        "\tpop_predictions['type'] = 'popular (all time)'\n",
        "\tpop_predictions['subscription_period'] = row.subscription_start + '/' + row.subscription_end\n",
        "\tpop_predictions = pop_predictions.rename(columns={'item': 'item_id'})\n",
        "\t\n",
        "\tpopular_current = circulating_book_events.groupby(['item_id'])['item_id'].count().reset_index(name='score').sort_values(['score'], ascending=False)\n",
        "\tpopular_current['type'] = 'popular (current)'\n",
        "\tpopular_current['subscription_period'] = row.subscription_start + '/' + row.subscription_end\n",
        "\n",
        "\tcombined = pd.concat([pop_predictions, popular_current])\n",
        "\tpopularity_results.append(combined)\n",
        "\n"
      ]
    },
    {
      "cell_type": "code",
      "execution_count": 77,
      "metadata": {},
      "outputs": [
        {
          "data": {
            "text/html": [
              "<div>\n",
              "<style scoped>\n",
              "    .dataframe tbody tr th:only-of-type {\n",
              "        vertical-align: middle;\n",
              "    }\n",
              "\n",
              "    .dataframe tbody tr th {\n",
              "        vertical-align: top;\n",
              "    }\n",
              "\n",
              "    .dataframe thead th {\n",
              "        text-align: right;\n",
              "    }\n",
              "</style>\n",
              "<table border=\"1\" class=\"dataframe\">\n",
              "  <thead>\n",
              "    <tr style=\"text-align: right;\">\n",
              "      <th></th>\n",
              "      <th>item_id</th>\n",
              "      <th>score</th>\n",
              "      <th>type</th>\n",
              "      <th>subscription_period</th>\n",
              "    </tr>\n",
              "  </thead>\n",
              "  <tbody>\n",
              "    <tr>\n",
              "      <th>0</th>\n",
              "      <td>joyce-portrait-artist-young</td>\n",
              "      <td>50.0</td>\n",
              "      <td>popular (all time)</td>\n",
              "      <td>1921-12-28/1922-11-08</td>\n",
              "    </tr>\n",
              "    <tr>\n",
              "      <th>1</th>\n",
              "      <td>joyce-dubliners</td>\n",
              "      <td>45.0</td>\n",
              "      <td>popular (all time)</td>\n",
              "      <td>1921-12-28/1922-11-08</td>\n",
              "    </tr>\n",
              "    <tr>\n",
              "      <th>2</th>\n",
              "      <td>richardson-pointed-roofs</td>\n",
              "      <td>40.0</td>\n",
              "      <td>popular (all time)</td>\n",
              "      <td>1921-12-28/1922-11-08</td>\n",
              "    </tr>\n",
              "    <tr>\n",
              "      <th>3</th>\n",
              "      <td>mansfield-garden-party-stories</td>\n",
              "      <td>34.0</td>\n",
              "      <td>popular (all time)</td>\n",
              "      <td>1921-12-28/1922-11-08</td>\n",
              "    </tr>\n",
              "    <tr>\n",
              "      <th>4</th>\n",
              "      <td>mansfield-bliss-short-stories</td>\n",
              "      <td>31.0</td>\n",
              "      <td>popular (all time)</td>\n",
              "      <td>1921-12-28/1922-11-08</td>\n",
              "    </tr>\n",
              "  </tbody>\n",
              "</table>\n",
              "</div>"
            ],
            "text/plain": [
              "                          item_id  score                type  \\\n",
              "0     joyce-portrait-artist-young   50.0  popular (all time)   \n",
              "1                 joyce-dubliners   45.0  popular (all time)   \n",
              "2        richardson-pointed-roofs   40.0  popular (all time)   \n",
              "3  mansfield-garden-party-stories   34.0  popular (all time)   \n",
              "4   mansfield-bliss-short-stories   31.0  popular (all time)   \n",
              "\n",
              "     subscription_period  \n",
              "0  1921-12-28/1922-11-08  \n",
              "1  1921-12-28/1922-11-08  \n",
              "2  1921-12-28/1922-11-08  \n",
              "3  1921-12-28/1922-11-08  \n",
              "4  1921-12-28/1922-11-08  "
            ]
          },
          "execution_count": 77,
          "metadata": {},
          "output_type": "execute_result"
        }
      ],
      "source": [
        "popularity_results_df = pd.concat(popularity_results)\n",
        "popularity_results_df.head()"
      ]
    },
    {
      "cell_type": "code",
      "execution_count": null,
      "metadata": {},
      "outputs": [],
      "source": []
    }
  ],
  "metadata": {
    "colab": {
      "collapsed_sections": [],
      "name": "lenskit_model_scores_stability.ipynb",
      "provenance": []
    },
    "kernelspec": {
      "display_name": "Python 3",
      "name": "python3"
    },
    "language_info": {
      "codemirror_mode": {
        "name": "ipython",
        "version": 3
      },
      "file_extension": ".py",
      "mimetype": "text/x-python",
      "name": "python",
      "nbconvert_exporter": "python",
      "pygments_lexer": "ipython3",
      "version": "3.9.18"
    }
  },
  "nbformat": 4,
  "nbformat_minor": 0
}
