{
  "nbformat": 4,
  "nbformat_minor": 0,
  "metadata": {
    "colab": {
      "provenance": [],
      "toc_visible": true,
      "authorship_tag": "ABX9TyMsFzF/TTfayLwdtATmc+g0",
      "include_colab_link": true
    },
    "kernelspec": {
      "name": "python3",
      "display_name": "Python 3"
    },
    "language_info": {
      "name": "python"
    }
  },
  "cells": [
    {
      "cell_type": "markdown",
      "metadata": {
        "id": "view-in-github",
        "colab_type": "text"
      },
      "source": [
        "<a href=\"https://colab.research.google.com/github/rlskoeser/shxco-missingdata-specreading/blob/main/missing-data/Sco_copia_missing_books.ipynb\" target=\"_parent\"><img src=\"https://colab.research.google.com/assets/colab-badge.svg\" alt=\"Open In Colab\"/></a>"
      ]
    },
    {
      "cell_type": "code",
      "execution_count": null,
      "metadata": {
        "id": "YUBiHX4IWfd-"
      },
      "outputs": [],
      "source": [
        "# use v1.2 datasets; load from our repo for convenience\n",
        "csv_urls = {\n",
        "    'members': 'https://raw.githubusercontent.com/ZoeLeBlanc/unknown_borrowers/main/dataset_generator/source_data/SCoData_members_v1.2_2022-01.csv',\n",
        "    'books': 'https://raw.githubusercontent.com/ZoeLeBlanc/unknown_borrowers/main/dataset_generator/source_data/SCoData_books_v1.2_2022-01.csv',\n",
        "    'events': 'https://raw.githubusercontent.com/ZoeLeBlanc/unknown_borrowers/main/dataset_generator/source_data/SCoData_events_v1.2_2022-01.csv',\n",
        "    # project-specific data\n",
        "    'partial_borrowers': 'https://github.com/ZoeLeBlanc/unknown_borrowers/raw/main/dataset_generator/data/partial_borrowers_collapsed.csv',\n",
        "    'borrow_overrides': 'https://raw.githubusercontent.com/ZoeLeBlanc/unknown_borrowers/main/dataset_generator/data/long_borrow_overrides.csv'\n",
        "}"
      ]
    },
    {
      "cell_type": "code",
      "source": [
        "import pandas as pd\n",
        "\n",
        "# load books\n",
        "books_df = pd.read_csv(csv_urls['books'])"
      ],
      "metadata": {
        "id": "x3Uq6kJ1Wgix"
      },
      "execution_count": null,
      "outputs": []
    },
    {
      "cell_type": "code",
      "source": [
        "total_books = books_df.shape[0]\n",
        "total_books"
      ],
      "metadata": {
        "colab": {
          "base_uri": "https://localhost:8080/"
        },
        "id": "ihCBva7oWjUo",
        "outputId": "080b9a58-1381-4f7c-83ae-e0bc36ea4954"
      },
      "execution_count": null,
      "outputs": [
        {
          "output_type": "execute_result",
          "data": {
            "text/plain": [
              "6020"
            ]
          },
          "metadata": {},
          "execution_count": 4
        }
      ]
    },
    {
      "cell_type": "code",
      "source": [
        "borrowed_books = books_df[books_df.borrow_count != 0]\n",
        "total_borrowed_books = borrowed_books.shape[0]\n",
        "total_borrowed_books"
      ],
      "metadata": {
        "colab": {
          "base_uri": "https://localhost:8080/"
        },
        "id": "7MQ0160IanaP",
        "outputId": "01f0ae3b-c04b-43b3-f4c1-0a0ae4a62656"
      },
      "execution_count": null,
      "outputs": [
        {
          "output_type": "execute_result",
          "data": {
            "text/plain": [
              "5683"
            ]
          },
          "metadata": {},
          "execution_count": 5
        }
      ]
    },
    {
      "cell_type": "code",
      "source": [
        "uncertain_books = books_df[books_df.uncertain].shape[0]\n",
        "uncertain_books"
      ],
      "metadata": {
        "colab": {
          "base_uri": "https://localhost:8080/"
        },
        "id": "B0b_3lgVWkZL",
        "outputId": "95779c2f-9e71-463b-c4bb-cfbb1d29c5af"
      },
      "execution_count": null,
      "outputs": [
        {
          "output_type": "execute_result",
          "data": {
            "text/plain": [
              "475"
            ]
          },
          "metadata": {},
          "execution_count": 23
        }
      ]
    },
    {
      "cell_type": "code",
      "source": [
        "total_borrowed_books - uncertain_books"
      ],
      "metadata": {
        "colab": {
          "base_uri": "https://localhost:8080/"
        },
        "id": "N2oqcT7MWn5U",
        "outputId": "d6b65184-bb5f-4ce2-cc08-04a78ada2578"
      },
      "execution_count": null,
      "outputs": [
        {
          "output_type": "execute_result",
          "data": {
            "text/plain": [
              "5208"
            ]
          },
          "metadata": {},
          "execution_count": 7
        }
      ]
    },
    {
      "cell_type": "code",
      "source": [
        "books_df"
      ],
      "metadata": {
        "colab": {
          "base_uri": "https://localhost:8080/",
          "height": 852
        },
        "id": "yHIeU3JjWw2i",
        "outputId": "7155fcb2-d515-42ff-a5a6-f038a685f5c1"
      },
      "execution_count": null,
      "outputs": [
        {
          "output_type": "execute_result",
          "data": {
            "text/html": [
              "\n",
              "  <div id=\"df-5937416d-96a6-4886-a6bb-b610a0e9bb24\">\n",
              "    <div class=\"colab-df-container\">\n",
              "      <div>\n",
              "<style scoped>\n",
              "    .dataframe tbody tr th:only-of-type {\n",
              "        vertical-align: middle;\n",
              "    }\n",
              "\n",
              "    .dataframe tbody tr th {\n",
              "        vertical-align: top;\n",
              "    }\n",
              "\n",
              "    .dataframe thead th {\n",
              "        text-align: right;\n",
              "    }\n",
              "</style>\n",
              "<table border=\"1\" class=\"dataframe\">\n",
              "  <thead>\n",
              "    <tr style=\"text-align: right;\">\n",
              "      <th></th>\n",
              "      <th>uri</th>\n",
              "      <th>title</th>\n",
              "      <th>author</th>\n",
              "      <th>editor</th>\n",
              "      <th>translator</th>\n",
              "      <th>introduction</th>\n",
              "      <th>illustrator</th>\n",
              "      <th>photographer</th>\n",
              "      <th>year</th>\n",
              "      <th>format</th>\n",
              "      <th>uncertain</th>\n",
              "      <th>ebook_url</th>\n",
              "      <th>volumes_issues</th>\n",
              "      <th>notes</th>\n",
              "      <th>event_count</th>\n",
              "      <th>borrow_count</th>\n",
              "      <th>purchase_count</th>\n",
              "      <th>circulation_years</th>\n",
              "      <th>updated</th>\n",
              "    </tr>\n",
              "  </thead>\n",
              "  <tbody>\n",
              "    <tr>\n",
              "      <th>0</th>\n",
              "      <td>https://shakespeareandco.princeton.edu/books/m...</td>\n",
              "      <td>Le Morte d'Arthur</td>\n",
              "      <td>Malory, Thomas</td>\n",
              "      <td>NaN</td>\n",
              "      <td>NaN</td>\n",
              "      <td>NaN</td>\n",
              "      <td>NaN</td>\n",
              "      <td>NaN</td>\n",
              "      <td>1485.0</td>\n",
              "      <td>Book</td>\n",
              "      <td>False</td>\n",
              "      <td>https://archive.org/details/mortedarthur02malo</td>\n",
              "      <td>NaN</td>\n",
              "      <td>NaN</td>\n",
              "      <td>7</td>\n",
              "      <td>7</td>\n",
              "      <td>0</td>\n",
              "      <td>1930;1932;1937;1938;1939</td>\n",
              "      <td>2021-11-14T13:57:51.282365+00:00</td>\n",
              "    </tr>\n",
              "    <tr>\n",
              "      <th>1</th>\n",
              "      <td>https://shakespeareandco.princeton.edu/books/m...</td>\n",
              "      <td>Utopia</td>\n",
              "      <td>More, Thomas</td>\n",
              "      <td>NaN</td>\n",
              "      <td>NaN</td>\n",
              "      <td>NaN</td>\n",
              "      <td>NaN</td>\n",
              "      <td>NaN</td>\n",
              "      <td>1516.0</td>\n",
              "      <td>Book</td>\n",
              "      <td>False</td>\n",
              "      <td>https://archive.org/details/utopiamo00more</td>\n",
              "      <td>NaN</td>\n",
              "      <td>NaN</td>\n",
              "      <td>2</td>\n",
              "      <td>2</td>\n",
              "      <td>0</td>\n",
              "      <td>1930;1950;1951</td>\n",
              "      <td>2021-10-31T17:47:49.103296+00:00</td>\n",
              "    </tr>\n",
              "    <tr>\n",
              "      <th>2</th>\n",
              "      <td>https://shakespeareandco.princeton.edu/books/n...</td>\n",
              "      <td>Gorboduc</td>\n",
              "      <td>Norton, Thomas</td>\n",
              "      <td>NaN</td>\n",
              "      <td>NaN</td>\n",
              "      <td>NaN</td>\n",
              "      <td>NaN</td>\n",
              "      <td>NaN</td>\n",
              "      <td>1561.0</td>\n",
              "      <td>Book</td>\n",
              "      <td>False</td>\n",
              "      <td>NaN</td>\n",
              "      <td>NaN</td>\n",
              "      <td>NaN</td>\n",
              "      <td>1</td>\n",
              "      <td>1</td>\n",
              "      <td>0</td>\n",
              "      <td>1950</td>\n",
              "      <td>2020-06-29T03:49:47+00:00</td>\n",
              "    </tr>\n",
              "    <tr>\n",
              "      <th>3</th>\n",
              "      <td>https://shakespeareandco.princeton.edu/books/l...</td>\n",
              "      <td>Euphues: The Anatomy of Wit</td>\n",
              "      <td>Lyly, John</td>\n",
              "      <td>NaN</td>\n",
              "      <td>NaN</td>\n",
              "      <td>NaN</td>\n",
              "      <td>NaN</td>\n",
              "      <td>NaN</td>\n",
              "      <td>1578.0</td>\n",
              "      <td>Book</td>\n",
              "      <td>False</td>\n",
              "      <td>https://archive.org/details/cu31924013122084</td>\n",
              "      <td>NaN</td>\n",
              "      <td>NaN</td>\n",
              "      <td>1</td>\n",
              "      <td>1</td>\n",
              "      <td>0</td>\n",
              "      <td>1941</td>\n",
              "      <td>2021-06-05T15:37:07+00:00</td>\n",
              "    </tr>\n",
              "    <tr>\n",
              "      <th>4</th>\n",
              "      <td>https://shakespeareandco.princeton.edu/books/s...</td>\n",
              "      <td>The Shepheard's Calendar</td>\n",
              "      <td>Spenser, Edmund</td>\n",
              "      <td>NaN</td>\n",
              "      <td>NaN</td>\n",
              "      <td>NaN</td>\n",
              "      <td>NaN</td>\n",
              "      <td>NaN</td>\n",
              "      <td>1579.0</td>\n",
              "      <td>Book</td>\n",
              "      <td>False</td>\n",
              "      <td>https://archive.org/details/shepheardscalend00...</td>\n",
              "      <td>NaN</td>\n",
              "      <td>NaN</td>\n",
              "      <td>1</td>\n",
              "      <td>1</td>\n",
              "      <td>0</td>\n",
              "      <td>1941</td>\n",
              "      <td>2021-11-06T12:26:04.482734+00:00</td>\n",
              "    </tr>\n",
              "    <tr>\n",
              "      <th>...</th>\n",
              "      <td>...</td>\n",
              "      <td>...</td>\n",
              "      <td>...</td>\n",
              "      <td>...</td>\n",
              "      <td>...</td>\n",
              "      <td>...</td>\n",
              "      <td>...</td>\n",
              "      <td>...</td>\n",
              "      <td>...</td>\n",
              "      <td>...</td>\n",
              "      <td>...</td>\n",
              "      <td>...</td>\n",
              "      <td>...</td>\n",
              "      <td>...</td>\n",
              "      <td>...</td>\n",
              "      <td>...</td>\n",
              "      <td>...</td>\n",
              "      <td>...</td>\n",
              "      <td>...</td>\n",
              "    </tr>\n",
              "    <tr>\n",
              "      <th>6015</th>\n",
              "      <td>https://shakespeareandco.princeton.edu/books/b...</td>\n",
              "      <td>Wuthering Heights and Agnes Grey</td>\n",
              "      <td>Brontë, Emily;Brontë, Anne</td>\n",
              "      <td>NaN</td>\n",
              "      <td>NaN</td>\n",
              "      <td>NaN</td>\n",
              "      <td>NaN</td>\n",
              "      <td>NaN</td>\n",
              "      <td>NaN</td>\n",
              "      <td>Book</td>\n",
              "      <td>False</td>\n",
              "      <td>https://archive.org/details/wutheringheight04b...</td>\n",
              "      <td>NaN</td>\n",
              "      <td>NaN</td>\n",
              "      <td>3</td>\n",
              "      <td>3</td>\n",
              "      <td>0</td>\n",
              "      <td>1937;1938;1939</td>\n",
              "      <td>2020-06-02T21:01:35+00:00</td>\n",
              "    </tr>\n",
              "    <tr>\n",
              "      <th>6016</th>\n",
              "      <td>https://shakespeareandco.princeton.edu/books/c...</td>\n",
              "      <td>Yale Review</td>\n",
              "      <td>NaN</td>\n",
              "      <td>Cross, Wilbur L.</td>\n",
              "      <td>NaN</td>\n",
              "      <td>NaN</td>\n",
              "      <td>NaN</td>\n",
              "      <td>NaN</td>\n",
              "      <td>NaN</td>\n",
              "      <td>Periodical</td>\n",
              "      <td>False</td>\n",
              "      <td>NaN</td>\n",
              "      <td>NaN</td>\n",
              "      <td>NaN</td>\n",
              "      <td>5</td>\n",
              "      <td>5</td>\n",
              "      <td>0</td>\n",
              "      <td>1936;1933;1934;1935</td>\n",
              "      <td>2020-06-11T12:07:01+00:00</td>\n",
              "    </tr>\n",
              "    <tr>\n",
              "      <th>6017</th>\n",
              "      <td>https://shakespeareandco.princeton.edu/books/y...</td>\n",
              "      <td>Yeats</td>\n",
              "      <td>NaN</td>\n",
              "      <td>NaN</td>\n",
              "      <td>NaN</td>\n",
              "      <td>NaN</td>\n",
              "      <td>NaN</td>\n",
              "      <td>NaN</td>\n",
              "      <td>NaN</td>\n",
              "      <td>NaN</td>\n",
              "      <td>True</td>\n",
              "      <td>NaN</td>\n",
              "      <td>NaN</td>\n",
              "      <td>Unidentified. By or about W. B. Yeats.</td>\n",
              "      <td>1</td>\n",
              "      <td>1</td>\n",
              "      <td>0</td>\n",
              "      <td>1920</td>\n",
              "      <td>2021-11-15T22:52:17.216749+00:00</td>\n",
              "    </tr>\n",
              "    <tr>\n",
              "      <th>6018</th>\n",
              "      <td>https://shakespeareandco.princeton.edu/books/y...</td>\n",
              "      <td>Yeats: Various Articles By &amp; On</td>\n",
              "      <td>NaN</td>\n",
              "      <td>NaN</td>\n",
              "      <td>NaN</td>\n",
              "      <td>NaN</td>\n",
              "      <td>NaN</td>\n",
              "      <td>NaN</td>\n",
              "      <td>NaN</td>\n",
              "      <td>NaN</td>\n",
              "      <td>True</td>\n",
              "      <td>NaN</td>\n",
              "      <td>NaN</td>\n",
              "      <td>Unidentified.</td>\n",
              "      <td>1</td>\n",
              "      <td>1</td>\n",
              "      <td>0</td>\n",
              "      <td>1939</td>\n",
              "      <td>2021-11-17T13:22:00.439805+00:00</td>\n",
              "    </tr>\n",
              "    <tr>\n",
              "      <th>6019</th>\n",
              "      <td>https://shakespeareandco.princeton.edu/books/z...</td>\n",
              "      <td>Zola</td>\n",
              "      <td>NaN</td>\n",
              "      <td>NaN</td>\n",
              "      <td>NaN</td>\n",
              "      <td>NaN</td>\n",
              "      <td>NaN</td>\n",
              "      <td>NaN</td>\n",
              "      <td>NaN</td>\n",
              "      <td>NaN</td>\n",
              "      <td>True</td>\n",
              "      <td>NaN</td>\n",
              "      <td>NaN</td>\n",
              "      <td>Unidentified. By or about Émile Zola.</td>\n",
              "      <td>1</td>\n",
              "      <td>1</td>\n",
              "      <td>0</td>\n",
              "      <td>1930</td>\n",
              "      <td>2020-07-07T04:31:02+00:00</td>\n",
              "    </tr>\n",
              "  </tbody>\n",
              "</table>\n",
              "<p>6020 rows × 19 columns</p>\n",
              "</div>\n",
              "      <button class=\"colab-df-convert\" onclick=\"convertToInteractive('df-5937416d-96a6-4886-a6bb-b610a0e9bb24')\"\n",
              "              title=\"Convert this dataframe to an interactive table.\"\n",
              "              style=\"display:none;\">\n",
              "        \n",
              "  <svg xmlns=\"http://www.w3.org/2000/svg\" height=\"24px\"viewBox=\"0 0 24 24\"\n",
              "       width=\"24px\">\n",
              "    <path d=\"M0 0h24v24H0V0z\" fill=\"none\"/>\n",
              "    <path d=\"M18.56 5.44l.94 2.06.94-2.06 2.06-.94-2.06-.94-.94-2.06-.94 2.06-2.06.94zm-11 1L8.5 8.5l.94-2.06 2.06-.94-2.06-.94L8.5 2.5l-.94 2.06-2.06.94zm10 10l.94 2.06.94-2.06 2.06-.94-2.06-.94-.94-2.06-.94 2.06-2.06.94z\"/><path d=\"M17.41 7.96l-1.37-1.37c-.4-.4-.92-.59-1.43-.59-.52 0-1.04.2-1.43.59L10.3 9.45l-7.72 7.72c-.78.78-.78 2.05 0 2.83L4 21.41c.39.39.9.59 1.41.59.51 0 1.02-.2 1.41-.59l7.78-7.78 2.81-2.81c.8-.78.8-2.07 0-2.86zM5.41 20L4 18.59l7.72-7.72 1.47 1.35L5.41 20z\"/>\n",
              "  </svg>\n",
              "      </button>\n",
              "      \n",
              "  <style>\n",
              "    .colab-df-container {\n",
              "      display:flex;\n",
              "      flex-wrap:wrap;\n",
              "      gap: 12px;\n",
              "    }\n",
              "\n",
              "    .colab-df-convert {\n",
              "      background-color: #E8F0FE;\n",
              "      border: none;\n",
              "      border-radius: 50%;\n",
              "      cursor: pointer;\n",
              "      display: none;\n",
              "      fill: #1967D2;\n",
              "      height: 32px;\n",
              "      padding: 0 0 0 0;\n",
              "      width: 32px;\n",
              "    }\n",
              "\n",
              "    .colab-df-convert:hover {\n",
              "      background-color: #E2EBFA;\n",
              "      box-shadow: 0px 1px 2px rgba(60, 64, 67, 0.3), 0px 1px 3px 1px rgba(60, 64, 67, 0.15);\n",
              "      fill: #174EA6;\n",
              "    }\n",
              "\n",
              "    [theme=dark] .colab-df-convert {\n",
              "      background-color: #3B4455;\n",
              "      fill: #D2E3FC;\n",
              "    }\n",
              "\n",
              "    [theme=dark] .colab-df-convert:hover {\n",
              "      background-color: #434B5C;\n",
              "      box-shadow: 0px 1px 3px 1px rgba(0, 0, 0, 0.15);\n",
              "      filter: drop-shadow(0px 1px 2px rgba(0, 0, 0, 0.3));\n",
              "      fill: #FFFFFF;\n",
              "    }\n",
              "  </style>\n",
              "\n",
              "      <script>\n",
              "        const buttonEl =\n",
              "          document.querySelector('#df-5937416d-96a6-4886-a6bb-b610a0e9bb24 button.colab-df-convert');\n",
              "        buttonEl.style.display =\n",
              "          google.colab.kernel.accessAllowed ? 'block' : 'none';\n",
              "\n",
              "        async function convertToInteractive(key) {\n",
              "          const element = document.querySelector('#df-5937416d-96a6-4886-a6bb-b610a0e9bb24');\n",
              "          const dataTable =\n",
              "            await google.colab.kernel.invokeFunction('convertToInteractive',\n",
              "                                                     [key], {});\n",
              "          if (!dataTable) return;\n",
              "\n",
              "          const docLinkHtml = 'Like what you see? Visit the ' +\n",
              "            '<a target=\"_blank\" href=https://colab.research.google.com/notebooks/data_table.ipynb>data table notebook</a>'\n",
              "            + ' to learn more about interactive tables.';\n",
              "          element.innerHTML = '';\n",
              "          dataTable['output_type'] = 'display_data';\n",
              "          await google.colab.output.renderOutput(dataTable, element);\n",
              "          const docLink = document.createElement('div');\n",
              "          docLink.innerHTML = docLinkHtml;\n",
              "          element.appendChild(docLink);\n",
              "        }\n",
              "      </script>\n",
              "    </div>\n",
              "  </div>\n",
              "  "
            ],
            "text/plain": [
              "                                                    uri  ...                           updated\n",
              "0     https://shakespeareandco.princeton.edu/books/m...  ...  2021-11-14T13:57:51.282365+00:00\n",
              "1     https://shakespeareandco.princeton.edu/books/m...  ...  2021-10-31T17:47:49.103296+00:00\n",
              "2     https://shakespeareandco.princeton.edu/books/n...  ...         2020-06-29T03:49:47+00:00\n",
              "3     https://shakespeareandco.princeton.edu/books/l...  ...         2021-06-05T15:37:07+00:00\n",
              "4     https://shakespeareandco.princeton.edu/books/s...  ...  2021-11-06T12:26:04.482734+00:00\n",
              "...                                                 ...  ...                               ...\n",
              "6015  https://shakespeareandco.princeton.edu/books/b...  ...         2020-06-02T21:01:35+00:00\n",
              "6016  https://shakespeareandco.princeton.edu/books/c...  ...         2020-06-11T12:07:01+00:00\n",
              "6017  https://shakespeareandco.princeton.edu/books/y...  ...  2021-11-15T22:52:17.216749+00:00\n",
              "6018  https://shakespeareandco.princeton.edu/books/y...  ...  2021-11-17T13:22:00.439805+00:00\n",
              "6019  https://shakespeareandco.princeton.edu/books/z...  ...         2020-07-07T04:31:02+00:00\n",
              "\n",
              "[6020 rows x 19 columns]"
            ]
          },
          "metadata": {},
          "execution_count": 8
        }
      ]
    },
    {
      "cell_type": "code",
      "source": [
        "# sort by most borrowed; drop unborrowed titles\n",
        "most_borrowed_books_df = borrowed_books.sort_values('borrow_count', ascending=False).reindex()\n",
        "most_borrowed_books_df[['title', 'borrow_count']].head()"
      ],
      "metadata": {
        "colab": {
          "base_uri": "https://localhost:8080/",
          "height": 206
        },
        "id": "01bvvTX4W0C9",
        "outputId": "f3ce0cac-ecfb-44ce-8849-604c13a4b016"
      },
      "execution_count": null,
      "outputs": [
        {
          "output_type": "execute_result",
          "data": {
            "text/html": [
              "\n",
              "  <div id=\"df-a0645abb-ae8b-40c0-9887-4a5635254d42\">\n",
              "    <div class=\"colab-df-container\">\n",
              "      <div>\n",
              "<style scoped>\n",
              "    .dataframe tbody tr th:only-of-type {\n",
              "        vertical-align: middle;\n",
              "    }\n",
              "\n",
              "    .dataframe tbody tr th {\n",
              "        vertical-align: top;\n",
              "    }\n",
              "\n",
              "    .dataframe thead th {\n",
              "        text-align: right;\n",
              "    }\n",
              "</style>\n",
              "<table border=\"1\" class=\"dataframe\">\n",
              "  <thead>\n",
              "    <tr style=\"text-align: right;\">\n",
              "      <th></th>\n",
              "      <th>title</th>\n",
              "      <th>borrow_count</th>\n",
              "    </tr>\n",
              "  </thead>\n",
              "  <tbody>\n",
              "    <tr>\n",
              "      <th>5905</th>\n",
              "      <td>The New Statesman and Nation</td>\n",
              "      <td>115</td>\n",
              "    </tr>\n",
              "    <tr>\n",
              "      <th>5955</th>\n",
              "      <td>Time and Tide</td>\n",
              "      <td>109</td>\n",
              "    </tr>\n",
              "    <tr>\n",
              "      <th>5906</th>\n",
              "      <td>The New Yorker</td>\n",
              "      <td>72</td>\n",
              "    </tr>\n",
              "    <tr>\n",
              "      <th>1305</th>\n",
              "      <td>A Portrait of the Artist as a Young Man</td>\n",
              "      <td>56</td>\n",
              "    </tr>\n",
              "    <tr>\n",
              "      <th>1200</th>\n",
              "      <td>Dubliners</td>\n",
              "      <td>47</td>\n",
              "    </tr>\n",
              "  </tbody>\n",
              "</table>\n",
              "</div>\n",
              "      <button class=\"colab-df-convert\" onclick=\"convertToInteractive('df-a0645abb-ae8b-40c0-9887-4a5635254d42')\"\n",
              "              title=\"Convert this dataframe to an interactive table.\"\n",
              "              style=\"display:none;\">\n",
              "        \n",
              "  <svg xmlns=\"http://www.w3.org/2000/svg\" height=\"24px\"viewBox=\"0 0 24 24\"\n",
              "       width=\"24px\">\n",
              "    <path d=\"M0 0h24v24H0V0z\" fill=\"none\"/>\n",
              "    <path d=\"M18.56 5.44l.94 2.06.94-2.06 2.06-.94-2.06-.94-.94-2.06-.94 2.06-2.06.94zm-11 1L8.5 8.5l.94-2.06 2.06-.94-2.06-.94L8.5 2.5l-.94 2.06-2.06.94zm10 10l.94 2.06.94-2.06 2.06-.94-2.06-.94-.94-2.06-.94 2.06-2.06.94z\"/><path d=\"M17.41 7.96l-1.37-1.37c-.4-.4-.92-.59-1.43-.59-.52 0-1.04.2-1.43.59L10.3 9.45l-7.72 7.72c-.78.78-.78 2.05 0 2.83L4 21.41c.39.39.9.59 1.41.59.51 0 1.02-.2 1.41-.59l7.78-7.78 2.81-2.81c.8-.78.8-2.07 0-2.86zM5.41 20L4 18.59l7.72-7.72 1.47 1.35L5.41 20z\"/>\n",
              "  </svg>\n",
              "      </button>\n",
              "      \n",
              "  <style>\n",
              "    .colab-df-container {\n",
              "      display:flex;\n",
              "      flex-wrap:wrap;\n",
              "      gap: 12px;\n",
              "    }\n",
              "\n",
              "    .colab-df-convert {\n",
              "      background-color: #E8F0FE;\n",
              "      border: none;\n",
              "      border-radius: 50%;\n",
              "      cursor: pointer;\n",
              "      display: none;\n",
              "      fill: #1967D2;\n",
              "      height: 32px;\n",
              "      padding: 0 0 0 0;\n",
              "      width: 32px;\n",
              "    }\n",
              "\n",
              "    .colab-df-convert:hover {\n",
              "      background-color: #E2EBFA;\n",
              "      box-shadow: 0px 1px 2px rgba(60, 64, 67, 0.3), 0px 1px 3px 1px rgba(60, 64, 67, 0.15);\n",
              "      fill: #174EA6;\n",
              "    }\n",
              "\n",
              "    [theme=dark] .colab-df-convert {\n",
              "      background-color: #3B4455;\n",
              "      fill: #D2E3FC;\n",
              "    }\n",
              "\n",
              "    [theme=dark] .colab-df-convert:hover {\n",
              "      background-color: #434B5C;\n",
              "      box-shadow: 0px 1px 3px 1px rgba(0, 0, 0, 0.15);\n",
              "      filter: drop-shadow(0px 1px 2px rgba(0, 0, 0, 0.3));\n",
              "      fill: #FFFFFF;\n",
              "    }\n",
              "  </style>\n",
              "\n",
              "      <script>\n",
              "        const buttonEl =\n",
              "          document.querySelector('#df-a0645abb-ae8b-40c0-9887-4a5635254d42 button.colab-df-convert');\n",
              "        buttonEl.style.display =\n",
              "          google.colab.kernel.accessAllowed ? 'block' : 'none';\n",
              "\n",
              "        async function convertToInteractive(key) {\n",
              "          const element = document.querySelector('#df-a0645abb-ae8b-40c0-9887-4a5635254d42');\n",
              "          const dataTable =\n",
              "            await google.colab.kernel.invokeFunction('convertToInteractive',\n",
              "                                                     [key], {});\n",
              "          if (!dataTable) return;\n",
              "\n",
              "          const docLinkHtml = 'Like what you see? Visit the ' +\n",
              "            '<a target=\"_blank\" href=https://colab.research.google.com/notebooks/data_table.ipynb>data table notebook</a>'\n",
              "            + ' to learn more about interactive tables.';\n",
              "          element.innerHTML = '';\n",
              "          dataTable['output_type'] = 'display_data';\n",
              "          await google.colab.output.renderOutput(dataTable, element);\n",
              "          const docLink = document.createElement('div');\n",
              "          docLink.innerHTML = docLinkHtml;\n",
              "          element.appendChild(docLink);\n",
              "        }\n",
              "      </script>\n",
              "    </div>\n",
              "  </div>\n",
              "  "
            ],
            "text/plain": [
              "                                        title  borrow_count\n",
              "5905             The New Statesman and Nation           115\n",
              "5955                            Time and Tide           109\n",
              "5906                           The New Yorker            72\n",
              "1305  A Portrait of the Artist as a Young Man            56\n",
              "1200                                Dubliners            47"
            ]
          },
          "metadata": {},
          "execution_count": 9
        }
      ]
    },
    {
      "cell_type": "code",
      "source": [
        "most_borrowed_books_df[['title', 'borrow_count']].tail()"
      ],
      "metadata": {
        "colab": {
          "base_uri": "https://localhost:8080/",
          "height": 206
        },
        "id": "6ZQk0Jetfbqp",
        "outputId": "c1acba78-9da6-4514-a5df-99ec81c11587"
      },
      "execution_count": null,
      "outputs": [
        {
          "output_type": "execute_result",
          "data": {
            "text/html": [
              "\n",
              "  <div id=\"df-086eed50-7f80-4544-beed-f42fb7e4d6be\">\n",
              "    <div class=\"colab-df-container\">\n",
              "      <div>\n",
              "<style scoped>\n",
              "    .dataframe tbody tr th:only-of-type {\n",
              "        vertical-align: middle;\n",
              "    }\n",
              "\n",
              "    .dataframe tbody tr th {\n",
              "        vertical-align: top;\n",
              "    }\n",
              "\n",
              "    .dataframe thead th {\n",
              "        text-align: right;\n",
              "    }\n",
              "</style>\n",
              "<table border=\"1\" class=\"dataframe\">\n",
              "  <thead>\n",
              "    <tr style=\"text-align: right;\">\n",
              "      <th></th>\n",
              "      <th>title</th>\n",
              "      <th>borrow_count</th>\n",
              "    </tr>\n",
              "  </thead>\n",
              "  <tbody>\n",
              "    <tr>\n",
              "      <th>1430</th>\n",
              "      <td>Ardours and Endurances</td>\n",
              "      <td>1</td>\n",
              "    </tr>\n",
              "    <tr>\n",
              "      <th>3859</th>\n",
              "      <td>Satan's Circus and Other Stories</td>\n",
              "      <td>1</td>\n",
              "    </tr>\n",
              "    <tr>\n",
              "      <th>1428</th>\n",
              "      <td>Adolphe</td>\n",
              "      <td>1</td>\n",
              "    </tr>\n",
              "    <tr>\n",
              "      <th>3861</th>\n",
              "      <td>Save Me the Waltz</td>\n",
              "      <td>1</td>\n",
              "    </tr>\n",
              "    <tr>\n",
              "      <th>6019</th>\n",
              "      <td>Zola</td>\n",
              "      <td>1</td>\n",
              "    </tr>\n",
              "  </tbody>\n",
              "</table>\n",
              "</div>\n",
              "      <button class=\"colab-df-convert\" onclick=\"convertToInteractive('df-086eed50-7f80-4544-beed-f42fb7e4d6be')\"\n",
              "              title=\"Convert this dataframe to an interactive table.\"\n",
              "              style=\"display:none;\">\n",
              "        \n",
              "  <svg xmlns=\"http://www.w3.org/2000/svg\" height=\"24px\"viewBox=\"0 0 24 24\"\n",
              "       width=\"24px\">\n",
              "    <path d=\"M0 0h24v24H0V0z\" fill=\"none\"/>\n",
              "    <path d=\"M18.56 5.44l.94 2.06.94-2.06 2.06-.94-2.06-.94-.94-2.06-.94 2.06-2.06.94zm-11 1L8.5 8.5l.94-2.06 2.06-.94-2.06-.94L8.5 2.5l-.94 2.06-2.06.94zm10 10l.94 2.06.94-2.06 2.06-.94-2.06-.94-.94-2.06-.94 2.06-2.06.94z\"/><path d=\"M17.41 7.96l-1.37-1.37c-.4-.4-.92-.59-1.43-.59-.52 0-1.04.2-1.43.59L10.3 9.45l-7.72 7.72c-.78.78-.78 2.05 0 2.83L4 21.41c.39.39.9.59 1.41.59.51 0 1.02-.2 1.41-.59l7.78-7.78 2.81-2.81c.8-.78.8-2.07 0-2.86zM5.41 20L4 18.59l7.72-7.72 1.47 1.35L5.41 20z\"/>\n",
              "  </svg>\n",
              "      </button>\n",
              "      \n",
              "  <style>\n",
              "    .colab-df-container {\n",
              "      display:flex;\n",
              "      flex-wrap:wrap;\n",
              "      gap: 12px;\n",
              "    }\n",
              "\n",
              "    .colab-df-convert {\n",
              "      background-color: #E8F0FE;\n",
              "      border: none;\n",
              "      border-radius: 50%;\n",
              "      cursor: pointer;\n",
              "      display: none;\n",
              "      fill: #1967D2;\n",
              "      height: 32px;\n",
              "      padding: 0 0 0 0;\n",
              "      width: 32px;\n",
              "    }\n",
              "\n",
              "    .colab-df-convert:hover {\n",
              "      background-color: #E2EBFA;\n",
              "      box-shadow: 0px 1px 2px rgba(60, 64, 67, 0.3), 0px 1px 3px 1px rgba(60, 64, 67, 0.15);\n",
              "      fill: #174EA6;\n",
              "    }\n",
              "\n",
              "    [theme=dark] .colab-df-convert {\n",
              "      background-color: #3B4455;\n",
              "      fill: #D2E3FC;\n",
              "    }\n",
              "\n",
              "    [theme=dark] .colab-df-convert:hover {\n",
              "      background-color: #434B5C;\n",
              "      box-shadow: 0px 1px 3px 1px rgba(0, 0, 0, 0.15);\n",
              "      filter: drop-shadow(0px 1px 2px rgba(0, 0, 0, 0.3));\n",
              "      fill: #FFFFFF;\n",
              "    }\n",
              "  </style>\n",
              "\n",
              "      <script>\n",
              "        const buttonEl =\n",
              "          document.querySelector('#df-086eed50-7f80-4544-beed-f42fb7e4d6be button.colab-df-convert');\n",
              "        buttonEl.style.display =\n",
              "          google.colab.kernel.accessAllowed ? 'block' : 'none';\n",
              "\n",
              "        async function convertToInteractive(key) {\n",
              "          const element = document.querySelector('#df-086eed50-7f80-4544-beed-f42fb7e4d6be');\n",
              "          const dataTable =\n",
              "            await google.colab.kernel.invokeFunction('convertToInteractive',\n",
              "                                                     [key], {});\n",
              "          if (!dataTable) return;\n",
              "\n",
              "          const docLinkHtml = 'Like what you see? Visit the ' +\n",
              "            '<a target=\"_blank\" href=https://colab.research.google.com/notebooks/data_table.ipynb>data table notebook</a>'\n",
              "            + ' to learn more about interactive tables.';\n",
              "          element.innerHTML = '';\n",
              "          dataTable['output_type'] = 'display_data';\n",
              "          await google.colab.output.renderOutput(dataTable, element);\n",
              "          const docLink = document.createElement('div');\n",
              "          docLink.innerHTML = docLinkHtml;\n",
              "          element.appendChild(docLink);\n",
              "        }\n",
              "      </script>\n",
              "    </div>\n",
              "  </div>\n",
              "  "
            ],
            "text/plain": [
              "                                 title  borrow_count\n",
              "1430            Ardours and Endurances             1\n",
              "3859  Satan's Circus and Other Stories             1\n",
              "1428                           Adolphe             1\n",
              "3861                 Save Me the Waltz             1\n",
              "6019                              Zola             1"
            ]
          },
          "metadata": {},
          "execution_count": 10
        }
      ]
    },
    {
      "cell_type": "markdown",
      "source": [
        "## analyze with copia\n"
      ],
      "metadata": {
        "id": "Bb3UVOZ492D7"
      }
    },
    {
      "cell_type": "code",
      "source": [
        "!pip install copia\n"
      ],
      "metadata": {
        "colab": {
          "base_uri": "https://localhost:8080/",
          "height": 745
        },
        "id": "aRJ1Jkhc99fy",
        "outputId": "d98fc59a-7176-44e4-8e80-b0a789ea49f2"
      },
      "execution_count": null,
      "outputs": [
        {
          "output_type": "stream",
          "name": "stdout",
          "text": [
            "Requirement already satisfied: copia in /usr/local/lib/python3.7/dist-packages (0.1.4)\n",
            "Requirement already satisfied: seaborn>=0.11.0 in /usr/local/lib/python3.7/dist-packages (from copia) (0.11.2)\n",
            "Requirement already satisfied: scipy>=1.5.1 in /usr/local/lib/python3.7/dist-packages (from copia) (1.7.3)\n",
            "Requirement already satisfied: pandas>=1.1.2 in /usr/local/lib/python3.7/dist-packages (from copia) (1.3.5)\n",
            "Requirement already satisfied: tqdm>=4.48.0 in /usr/local/lib/python3.7/dist-packages (from copia) (4.62.3)\n",
            "Requirement already satisfied: pytest>=6.2.2 in /usr/local/lib/python3.7/dist-packages (from copia) (7.0.1)\n",
            "Requirement already satisfied: numpy>=1.19.0 in /usr/local/lib/python3.7/dist-packages (from copia) (1.21.5)\n",
            "Collecting matplotlib>=3.3.2\n",
            "  Using cached matplotlib-3.5.1-cp37-cp37m-manylinux_2_5_x86_64.manylinux1_x86_64.whl (11.2 MB)\n",
            "Requirement already satisfied: packaging>=20.0 in /usr/local/lib/python3.7/dist-packages (from matplotlib>=3.3.2->copia) (21.3)\n",
            "Requirement already satisfied: python-dateutil>=2.7 in /usr/local/lib/python3.7/dist-packages (from matplotlib>=3.3.2->copia) (2.8.2)\n",
            "Requirement already satisfied: fonttools>=4.22.0 in /usr/local/lib/python3.7/dist-packages (from matplotlib>=3.3.2->copia) (4.29.1)\n",
            "Requirement already satisfied: cycler>=0.10 in /usr/local/lib/python3.7/dist-packages (from matplotlib>=3.3.2->copia) (0.11.0)\n",
            "Requirement already satisfied: pillow>=6.2.0 in /usr/local/lib/python3.7/dist-packages (from matplotlib>=3.3.2->copia) (7.1.2)\n",
            "Requirement already satisfied: pyparsing>=2.2.1 in /usr/local/lib/python3.7/dist-packages (from matplotlib>=3.3.2->copia) (3.0.7)\n",
            "Requirement already satisfied: kiwisolver>=1.0.1 in /usr/local/lib/python3.7/dist-packages (from matplotlib>=3.3.2->copia) (1.3.2)\n",
            "Requirement already satisfied: pytz>=2017.3 in /usr/local/lib/python3.7/dist-packages (from pandas>=1.1.2->copia) (2018.9)\n",
            "Requirement already satisfied: attrs>=19.2.0 in /usr/local/lib/python3.7/dist-packages (from pytest>=6.2.2->copia) (21.4.0)\n",
            "Requirement already satisfied: tomli>=1.0.0 in /usr/local/lib/python3.7/dist-packages (from pytest>=6.2.2->copia) (2.0.1)\n",
            "Requirement already satisfied: importlib-metadata>=0.12 in /usr/local/lib/python3.7/dist-packages (from pytest>=6.2.2->copia) (4.11.1)\n",
            "Requirement already satisfied: py>=1.8.2 in /usr/local/lib/python3.7/dist-packages (from pytest>=6.2.2->copia) (1.11.0)\n",
            "Requirement already satisfied: pluggy<2.0,>=0.12 in /usr/local/lib/python3.7/dist-packages (from pytest>=6.2.2->copia) (1.0.0)\n",
            "Requirement already satisfied: iniconfig in /usr/local/lib/python3.7/dist-packages (from pytest>=6.2.2->copia) (1.1.1)\n",
            "Requirement already satisfied: zipp>=0.5 in /usr/local/lib/python3.7/dist-packages (from importlib-metadata>=0.12->pytest>=6.2.2->copia) (3.7.0)\n",
            "Requirement already satisfied: typing-extensions>=3.6.4 in /usr/local/lib/python3.7/dist-packages (from importlib-metadata>=0.12->pytest>=6.2.2->copia) (3.10.0.2)\n",
            "Requirement already satisfied: six>=1.5 in /usr/local/lib/python3.7/dist-packages (from python-dateutil>=2.7->matplotlib>=3.3.2->copia) (1.15.0)\n",
            "Installing collected packages: matplotlib\n",
            "  Attempting uninstall: matplotlib\n",
            "    Found existing installation: matplotlib 3.1.3\n",
            "    Uninstalling matplotlib-3.1.3:\n",
            "      Successfully uninstalled matplotlib-3.1.3\n",
            "\u001b[31mERROR: pip's dependency resolver does not currently take into account all the packages that are installed. This behaviour is the source of the following dependency conflicts.\n",
            "albumentations 0.1.12 requires imgaug<0.2.7,>=0.2.5, but you have imgaug 0.2.9 which is incompatible.\u001b[0m\n",
            "Successfully installed matplotlib-3.5.1\n"
          ]
        },
        {
          "output_type": "display_data",
          "data": {
            "application/vnd.colab-display-data+json": {
              "pip_warning": {
                "packages": [
                  "matplotlib",
                  "mpl_toolkits"
                ]
              }
            }
          },
          "metadata": {}
        }
      ]
    },
    {
      "cell_type": "code",
      "source": [
        "# load events to generate list of works for copia to aggregate\n",
        "events_df = pd.read_csv(csv_urls['events'])"
      ],
      "metadata": {
        "colab": {
          "base_uri": "https://localhost:8080/"
        },
        "id": "rDVjM8HA-BhJ",
        "outputId": "a5d7e370-6a71-4cb3-a135-a0c919ade919"
      },
      "execution_count": null,
      "outputs": [
        {
          "output_type": "stream",
          "name": "stderr",
          "text": [
            "/usr/local/lib/python3.7/dist-packages/IPython/core/interactiveshell.py:2882: DtypeWarning: Columns (20) have mixed types.Specify dtype option on import or set low_memory=False.\n",
            "  exec(code_obj, self.user_global_ns, self.user_ns)\n"
          ]
        }
      ]
    },
    {
      "cell_type": "code",
      "source": [
        "# get all the borrows\n",
        "borrows = events_df[events_df.event_type == 'Borrow']\n",
        "borrows.shape[0]"
      ],
      "metadata": {
        "colab": {
          "base_uri": "https://localhost:8080/"
        },
        "id": "FKvYKWJhWcrm",
        "outputId": "e9f8871c-6475-4a1b-fa46-2e95958bdc23"
      },
      "execution_count": null,
      "outputs": [
        {
          "output_type": "execute_result",
          "data": {
            "text/plain": [
              "21059"
            ]
          },
          "metadata": {},
          "execution_count": 13
        }
      ]
    },
    {
      "cell_type": "code",
      "source": [
        "borrows['item_id'] = borrows.item_uri.apply(lambda x: x.split('/')[-2])\n",
        "borrows.head()"
      ],
      "metadata": {
        "colab": {
          "base_uri": "https://localhost:8080/",
          "height": 591
        },
        "id": "h_x5oSV7XaPg",
        "outputId": "4a25a7c0-41a1-4651-c2e0-89c24a6d8a67"
      },
      "execution_count": null,
      "outputs": [
        {
          "output_type": "stream",
          "name": "stderr",
          "text": [
            "/usr/local/lib/python3.7/dist-packages/ipykernel_launcher.py:1: SettingWithCopyWarning: \n",
            "A value is trying to be set on a copy of a slice from a DataFrame.\n",
            "Try using .loc[row_indexer,col_indexer] = value instead\n",
            "\n",
            "See the caveats in the documentation: https://pandas.pydata.org/pandas-docs/stable/user_guide/indexing.html#returning-a-view-versus-a-copy\n",
            "  \"\"\"Entry point for launching an IPython kernel.\n"
          ]
        },
        {
          "output_type": "execute_result",
          "data": {
            "text/html": [
              "\n",
              "  <div id=\"df-639d313d-64a9-459d-96a0-5504f669597d\">\n",
              "    <div class=\"colab-df-container\">\n",
              "      <div>\n",
              "<style scoped>\n",
              "    .dataframe tbody tr th:only-of-type {\n",
              "        vertical-align: middle;\n",
              "    }\n",
              "\n",
              "    .dataframe tbody tr th {\n",
              "        vertical-align: top;\n",
              "    }\n",
              "\n",
              "    .dataframe thead th {\n",
              "        text-align: right;\n",
              "    }\n",
              "</style>\n",
              "<table border=\"1\" class=\"dataframe\">\n",
              "  <thead>\n",
              "    <tr style=\"text-align: right;\">\n",
              "      <th></th>\n",
              "      <th>event_type</th>\n",
              "      <th>start_date</th>\n",
              "      <th>end_date</th>\n",
              "      <th>member_uris</th>\n",
              "      <th>member_names</th>\n",
              "      <th>member_sort_names</th>\n",
              "      <th>subscription_price_paid</th>\n",
              "      <th>subscription_deposit</th>\n",
              "      <th>subscription_duration</th>\n",
              "      <th>subscription_duration_days</th>\n",
              "      <th>subscription_volumes</th>\n",
              "      <th>subscription_category</th>\n",
              "      <th>subscription_purchase_date</th>\n",
              "      <th>reimbursement_refund</th>\n",
              "      <th>borrow_status</th>\n",
              "      <th>borrow_duration_days</th>\n",
              "      <th>purchase_price</th>\n",
              "      <th>currency</th>\n",
              "      <th>item_uri</th>\n",
              "      <th>item_title</th>\n",
              "      <th>item_volume</th>\n",
              "      <th>item_authors</th>\n",
              "      <th>item_year</th>\n",
              "      <th>item_notes</th>\n",
              "      <th>source_type</th>\n",
              "      <th>source_citation</th>\n",
              "      <th>source_manifest</th>\n",
              "      <th>source_image</th>\n",
              "      <th>item_id</th>\n",
              "    </tr>\n",
              "  </thead>\n",
              "  <tbody>\n",
              "    <tr>\n",
              "      <th>2</th>\n",
              "      <td>Borrow</td>\n",
              "      <td>1922</td>\n",
              "      <td>1922-08-23</td>\n",
              "      <td>https://shakespeareandco.princeton.edu/members...</td>\n",
              "      <td>Mr. Rhys</td>\n",
              "      <td>Rhys, Mr.</td>\n",
              "      <td>NaN</td>\n",
              "      <td>NaN</td>\n",
              "      <td>NaN</td>\n",
              "      <td>NaN</td>\n",
              "      <td>NaN</td>\n",
              "      <td>NaN</td>\n",
              "      <td>NaN</td>\n",
              "      <td>NaN</td>\n",
              "      <td>Returned</td>\n",
              "      <td>NaN</td>\n",
              "      <td>NaN</td>\n",
              "      <td>NaN</td>\n",
              "      <td>https://shakespeareandco.princeton.edu/books/c...</td>\n",
              "      <td>Typhoon</td>\n",
              "      <td>NaN</td>\n",
              "      <td>Conrad, Joseph</td>\n",
              "      <td>1902.0</td>\n",
              "      <td>NaN</td>\n",
              "      <td>Lending Library Card</td>\n",
              "      <td>Sylvia Beach, Rhys Lending Library Card, Box 4...</td>\n",
              "      <td>https://figgy.princeton.edu/concern/scanned_re...</td>\n",
              "      <td>https://iiif.princeton.edu/loris/figgy_prod/67...</td>\n",
              "      <td>conrad-typhoon</td>\n",
              "    </tr>\n",
              "    <tr>\n",
              "      <th>8</th>\n",
              "      <td>Borrow</td>\n",
              "      <td>1923</td>\n",
              "      <td>1923-11-07</td>\n",
              "      <td>https://shakespeareandco.princeton.edu/members...</td>\n",
              "      <td>Eyre de Lanux / Mrs. Pierre de Lanux</td>\n",
              "      <td>de Lanux, Eyre</td>\n",
              "      <td>NaN</td>\n",
              "      <td>NaN</td>\n",
              "      <td>NaN</td>\n",
              "      <td>NaN</td>\n",
              "      <td>NaN</td>\n",
              "      <td>NaN</td>\n",
              "      <td>NaN</td>\n",
              "      <td>NaN</td>\n",
              "      <td>Returned</td>\n",
              "      <td>NaN</td>\n",
              "      <td>NaN</td>\n",
              "      <td>NaN</td>\n",
              "      <td>https://shakespeareandco.princeton.edu/books/w...</td>\n",
              "      <td>Night and Day</td>\n",
              "      <td>NaN</td>\n",
              "      <td>Woolf, Virginia</td>\n",
              "      <td>1919.0</td>\n",
              "      <td>NaN</td>\n",
              "      <td>Lending Library Card</td>\n",
              "      <td>Sylvia Beach, Eyre de Lanux Lending Library Ca...</td>\n",
              "      <td>https://figgy.princeton.edu/concern/scanned_re...</td>\n",
              "      <td>https://iiif.princeton.edu/loris/figgy_prod/c5...</td>\n",
              "      <td>woolf-night-day</td>\n",
              "    </tr>\n",
              "    <tr>\n",
              "      <th>12</th>\n",
              "      <td>Borrow</td>\n",
              "      <td>1924</td>\n",
              "      <td>1924-10-22</td>\n",
              "      <td>https://shakespeareandco.princeton.edu/members...</td>\n",
              "      <td>Simone Téry</td>\n",
              "      <td>Téry, Simone</td>\n",
              "      <td>NaN</td>\n",
              "      <td>NaN</td>\n",
              "      <td>NaN</td>\n",
              "      <td>NaN</td>\n",
              "      <td>NaN</td>\n",
              "      <td>NaN</td>\n",
              "      <td>NaN</td>\n",
              "      <td>NaN</td>\n",
              "      <td>Returned</td>\n",
              "      <td>NaN</td>\n",
              "      <td>NaN</td>\n",
              "      <td>NaN</td>\n",
              "      <td>https://shakespeareandco.princeton.edu/books/j...</td>\n",
              "      <td>James Joyce</td>\n",
              "      <td>NaN</td>\n",
              "      <td>NaN</td>\n",
              "      <td>NaN</td>\n",
              "      <td>Unidentified. By or about Joyce.</td>\n",
              "      <td>Lending Library Card</td>\n",
              "      <td>Sylvia Beach, Mlle Simone Tery Lending Library...</td>\n",
              "      <td>https://figgy.princeton.edu/concern/scanned_re...</td>\n",
              "      <td>https://iiif.princeton.edu/loris/figgy_prod/c2...</td>\n",
              "      <td>james-joyce</td>\n",
              "    </tr>\n",
              "    <tr>\n",
              "      <th>13</th>\n",
              "      <td>Borrow</td>\n",
              "      <td>1924</td>\n",
              "      <td>1924-10-22</td>\n",
              "      <td>https://shakespeareandco.princeton.edu/members...</td>\n",
              "      <td>Simone Téry</td>\n",
              "      <td>Téry, Simone</td>\n",
              "      <td>NaN</td>\n",
              "      <td>NaN</td>\n",
              "      <td>NaN</td>\n",
              "      <td>NaN</td>\n",
              "      <td>NaN</td>\n",
              "      <td>NaN</td>\n",
              "      <td>NaN</td>\n",
              "      <td>NaN</td>\n",
              "      <td>Returned</td>\n",
              "      <td>NaN</td>\n",
              "      <td>NaN</td>\n",
              "      <td>NaN</td>\n",
              "      <td>https://shakespeareandco.princeton.edu/books/f...</td>\n",
              "      <td>A Portrait of George Moore in a Study of His Work</td>\n",
              "      <td>NaN</td>\n",
              "      <td>Freeman, John</td>\n",
              "      <td>1922.0</td>\n",
              "      <td>NaN</td>\n",
              "      <td>Lending Library Card</td>\n",
              "      <td>Sylvia Beach, Mlle Simone Tery Lending Library...</td>\n",
              "      <td>https://figgy.princeton.edu/concern/scanned_re...</td>\n",
              "      <td>https://iiif.princeton.edu/loris/figgy_prod/c2...</td>\n",
              "      <td>freeman-portrait-george-moore</td>\n",
              "    </tr>\n",
              "    <tr>\n",
              "      <th>22</th>\n",
              "      <td>Borrow</td>\n",
              "      <td>1926</td>\n",
              "      <td>1926-01-14</td>\n",
              "      <td>https://shakespeareandco.princeton.edu/members...</td>\n",
              "      <td>Ada (Hitchcock) MacLeish;Archibald MacLeish</td>\n",
              "      <td>MacLeish, Ada;MacLeish, Archibald</td>\n",
              "      <td>NaN</td>\n",
              "      <td>NaN</td>\n",
              "      <td>NaN</td>\n",
              "      <td>NaN</td>\n",
              "      <td>NaN</td>\n",
              "      <td>NaN</td>\n",
              "      <td>NaN</td>\n",
              "      <td>NaN</td>\n",
              "      <td>Returned</td>\n",
              "      <td>NaN</td>\n",
              "      <td>NaN</td>\n",
              "      <td>NaN</td>\n",
              "      <td>https://shakespeareandco.princeton.edu/books/s...</td>\n",
              "      <td>Tents of Israel</td>\n",
              "      <td>NaN</td>\n",
              "      <td>Stern, G. B.</td>\n",
              "      <td>1924.0</td>\n",
              "      <td>NaN</td>\n",
              "      <td>Lending Library Card</td>\n",
              "      <td>Sylvia Beach, Ada and Archibald MacLeish Lendi...</td>\n",
              "      <td>https://figgy.princeton.edu/concern/scanned_re...</td>\n",
              "      <td>https://iiif.princeton.edu/loris/figgy_prod/22...</td>\n",
              "      <td>stern-tents-israel</td>\n",
              "    </tr>\n",
              "  </tbody>\n",
              "</table>\n",
              "</div>\n",
              "      <button class=\"colab-df-convert\" onclick=\"convertToInteractive('df-639d313d-64a9-459d-96a0-5504f669597d')\"\n",
              "              title=\"Convert this dataframe to an interactive table.\"\n",
              "              style=\"display:none;\">\n",
              "        \n",
              "  <svg xmlns=\"http://www.w3.org/2000/svg\" height=\"24px\"viewBox=\"0 0 24 24\"\n",
              "       width=\"24px\">\n",
              "    <path d=\"M0 0h24v24H0V0z\" fill=\"none\"/>\n",
              "    <path d=\"M18.56 5.44l.94 2.06.94-2.06 2.06-.94-2.06-.94-.94-2.06-.94 2.06-2.06.94zm-11 1L8.5 8.5l.94-2.06 2.06-.94-2.06-.94L8.5 2.5l-.94 2.06-2.06.94zm10 10l.94 2.06.94-2.06 2.06-.94-2.06-.94-.94-2.06-.94 2.06-2.06.94z\"/><path d=\"M17.41 7.96l-1.37-1.37c-.4-.4-.92-.59-1.43-.59-.52 0-1.04.2-1.43.59L10.3 9.45l-7.72 7.72c-.78.78-.78 2.05 0 2.83L4 21.41c.39.39.9.59 1.41.59.51 0 1.02-.2 1.41-.59l7.78-7.78 2.81-2.81c.8-.78.8-2.07 0-2.86zM5.41 20L4 18.59l7.72-7.72 1.47 1.35L5.41 20z\"/>\n",
              "  </svg>\n",
              "      </button>\n",
              "      \n",
              "  <style>\n",
              "    .colab-df-container {\n",
              "      display:flex;\n",
              "      flex-wrap:wrap;\n",
              "      gap: 12px;\n",
              "    }\n",
              "\n",
              "    .colab-df-convert {\n",
              "      background-color: #E8F0FE;\n",
              "      border: none;\n",
              "      border-radius: 50%;\n",
              "      cursor: pointer;\n",
              "      display: none;\n",
              "      fill: #1967D2;\n",
              "      height: 32px;\n",
              "      padding: 0 0 0 0;\n",
              "      width: 32px;\n",
              "    }\n",
              "\n",
              "    .colab-df-convert:hover {\n",
              "      background-color: #E2EBFA;\n",
              "      box-shadow: 0px 1px 2px rgba(60, 64, 67, 0.3), 0px 1px 3px 1px rgba(60, 64, 67, 0.15);\n",
              "      fill: #174EA6;\n",
              "    }\n",
              "\n",
              "    [theme=dark] .colab-df-convert {\n",
              "      background-color: #3B4455;\n",
              "      fill: #D2E3FC;\n",
              "    }\n",
              "\n",
              "    [theme=dark] .colab-df-convert:hover {\n",
              "      background-color: #434B5C;\n",
              "      box-shadow: 0px 1px 3px 1px rgba(0, 0, 0, 0.15);\n",
              "      filter: drop-shadow(0px 1px 2px rgba(0, 0, 0, 0.3));\n",
              "      fill: #FFFFFF;\n",
              "    }\n",
              "  </style>\n",
              "\n",
              "      <script>\n",
              "        const buttonEl =\n",
              "          document.querySelector('#df-639d313d-64a9-459d-96a0-5504f669597d button.colab-df-convert');\n",
              "        buttonEl.style.display =\n",
              "          google.colab.kernel.accessAllowed ? 'block' : 'none';\n",
              "\n",
              "        async function convertToInteractive(key) {\n",
              "          const element = document.querySelector('#df-639d313d-64a9-459d-96a0-5504f669597d');\n",
              "          const dataTable =\n",
              "            await google.colab.kernel.invokeFunction('convertToInteractive',\n",
              "                                                     [key], {});\n",
              "          if (!dataTable) return;\n",
              "\n",
              "          const docLinkHtml = 'Like what you see? Visit the ' +\n",
              "            '<a target=\"_blank\" href=https://colab.research.google.com/notebooks/data_table.ipynb>data table notebook</a>'\n",
              "            + ' to learn more about interactive tables.';\n",
              "          element.innerHTML = '';\n",
              "          dataTable['output_type'] = 'display_data';\n",
              "          await google.colab.output.renderOutput(dataTable, element);\n",
              "          const docLink = document.createElement('div');\n",
              "          docLink.innerHTML = docLinkHtml;\n",
              "          element.appendChild(docLink);\n",
              "        }\n",
              "      </script>\n",
              "    </div>\n",
              "  </div>\n",
              "  "
            ],
            "text/plain": [
              "   event_type  ...                        item_id\n",
              "2      Borrow  ...                 conrad-typhoon\n",
              "8      Borrow  ...                woolf-night-day\n",
              "12     Borrow  ...                    james-joyce\n",
              "13     Borrow  ...  freeman-portrait-george-moore\n",
              "22     Borrow  ...             stern-tents-israel\n",
              "\n",
              "[5 rows x 29 columns]"
            ]
          },
          "metadata": {},
          "execution_count": 14
        }
      ]
    },
    {
      "cell_type": "code",
      "source": [
        "# how many events total?\n",
        "len(borrows.item_id)"
      ],
      "metadata": {
        "colab": {
          "base_uri": "https://localhost:8080/"
        },
        "id": "b0JuFuUU-b7n",
        "outputId": "2cc54e6b-fb8e-4604-8a4c-5806ceea4790"
      },
      "execution_count": null,
      "outputs": [
        {
          "output_type": "execute_result",
          "data": {
            "text/plain": [
              "21059"
            ]
          },
          "metadata": {},
          "execution_count": 15
        }
      ]
    },
    {
      "cell_type": "code",
      "source": [
        "# how many unique items?\n",
        "len(borrows.item_id.unique())"
      ],
      "metadata": {
        "colab": {
          "base_uri": "https://localhost:8080/"
        },
        "id": "9AZXU7Uq-ffJ",
        "outputId": "e1eeb6ac-2765-4056-a5a8-83a2b5363367"
      },
      "execution_count": null,
      "outputs": [
        {
          "output_type": "execute_result",
          "data": {
            "text/plain": [
              "5683"
            ]
          },
          "metadata": {},
          "execution_count": 16
        }
      ]
    },
    {
      "cell_type": "code",
      "source": [
        "from copia.utils import to_abundance, basic_stats\n",
        "\n",
        "abundance = to_abundance(borrows.item_id)\n",
        "abundance"
      ],
      "metadata": {
        "colab": {
          "base_uri": "https://localhost:8080/"
        },
        "id": "VrHTxoCt-iGG",
        "outputId": "952eead7-3c0e-4f87-9f71-bf8f040174d4"
      },
      "execution_count": null,
      "outputs": [
        {
          "output_type": "execute_result",
          "data": {
            "text/plain": [
              "array([ 6, 16,  6, ...,  1,  1,  1])"
            ]
          },
          "metadata": {},
          "execution_count": 17
        }
      ]
    },
    {
      "cell_type": "code",
      "source": [
        "basic_stats(abundance)"
      ],
      "metadata": {
        "colab": {
          "base_uri": "https://localhost:8080/"
        },
        "id": "2Sf-Ppsm-qTA",
        "outputId": "efde34d2-16c3-425a-8f75-bcc22599aabc"
      },
      "execution_count": null,
      "outputs": [
        {
          "output_type": "execute_result",
          "data": {
            "text/plain": [
              "{'S': 5683, 'f1': 2031, 'f2': 1099, 'f3': 673, 'f4': 468, 'n': 21059}"
            ]
          },
          "metadata": {},
          "execution_count": 18
        }
      ]
    },
    {
      "cell_type": "code",
      "source": [
        "from copia.plot import abundance_counts\n",
        "abundance_counts(abundance)\n",
        "abundance_counts(abundance, trendline=True);\n",
        "\n"
      ],
      "metadata": {
        "colab": {
          "base_uri": "https://localhost:8080/",
          "height": 828
        },
        "id": "oXu2YD3O-t5y",
        "outputId": "bbb61630-0006-4937-ea1c-ba887f496d39"
      },
      "execution_count": null,
      "outputs": [
        {
          "output_type": "error",
          "ename": "ImportError",
          "evalue": "ignored",
          "traceback": [
            "\u001b[0;31m---------------------------------------------------------------------------\u001b[0m",
            "\u001b[0;31mImportError\u001b[0m                               Traceback (most recent call last)",
            "\u001b[0;32m/usr/local/lib/python3.7/dist-packages/IPython/core/formatters.py\u001b[0m in \u001b[0;36m__call__\u001b[0;34m(self, obj)\u001b[0m\n\u001b[1;32m    332\u001b[0m                 \u001b[0;32mpass\u001b[0m\u001b[0;34m\u001b[0m\u001b[0;34m\u001b[0m\u001b[0m\n\u001b[1;32m    333\u001b[0m             \u001b[0;32melse\u001b[0m\u001b[0;34m:\u001b[0m\u001b[0;34m\u001b[0m\u001b[0;34m\u001b[0m\u001b[0m\n\u001b[0;32m--> 334\u001b[0;31m                 \u001b[0;32mreturn\u001b[0m \u001b[0mprinter\u001b[0m\u001b[0;34m(\u001b[0m\u001b[0mobj\u001b[0m\u001b[0;34m)\u001b[0m\u001b[0;34m\u001b[0m\u001b[0;34m\u001b[0m\u001b[0m\n\u001b[0m\u001b[1;32m    335\u001b[0m             \u001b[0;31m# Finally look for special method names\u001b[0m\u001b[0;34m\u001b[0m\u001b[0;34m\u001b[0m\u001b[0;34m\u001b[0m\u001b[0m\n\u001b[1;32m    336\u001b[0m             \u001b[0mmethod\u001b[0m \u001b[0;34m=\u001b[0m \u001b[0mget_real_method\u001b[0m\u001b[0;34m(\u001b[0m\u001b[0mobj\u001b[0m\u001b[0;34m,\u001b[0m \u001b[0mself\u001b[0m\u001b[0;34m.\u001b[0m\u001b[0mprint_method\u001b[0m\u001b[0;34m)\u001b[0m\u001b[0;34m\u001b[0m\u001b[0;34m\u001b[0m\u001b[0m\n",
            "\u001b[0;32m/usr/local/lib/python3.7/dist-packages/IPython/core/pylabtools.py\u001b[0m in \u001b[0;36m<lambda>\u001b[0;34m(fig)\u001b[0m\n\u001b[1;32m    239\u001b[0m \u001b[0;34m\u001b[0m\u001b[0m\n\u001b[1;32m    240\u001b[0m     \u001b[0;32mif\u001b[0m \u001b[0;34m'png'\u001b[0m \u001b[0;32min\u001b[0m \u001b[0mformats\u001b[0m\u001b[0;34m:\u001b[0m\u001b[0;34m\u001b[0m\u001b[0;34m\u001b[0m\u001b[0m\n\u001b[0;32m--> 241\u001b[0;31m         \u001b[0mpng_formatter\u001b[0m\u001b[0;34m.\u001b[0m\u001b[0mfor_type\u001b[0m\u001b[0;34m(\u001b[0m\u001b[0mFigure\u001b[0m\u001b[0;34m,\u001b[0m \u001b[0;32mlambda\u001b[0m \u001b[0mfig\u001b[0m\u001b[0;34m:\u001b[0m \u001b[0mprint_figure\u001b[0m\u001b[0;34m(\u001b[0m\u001b[0mfig\u001b[0m\u001b[0;34m,\u001b[0m \u001b[0;34m'png'\u001b[0m\u001b[0;34m,\u001b[0m \u001b[0;34m**\u001b[0m\u001b[0mkwargs\u001b[0m\u001b[0;34m)\u001b[0m\u001b[0;34m)\u001b[0m\u001b[0;34m\u001b[0m\u001b[0;34m\u001b[0m\u001b[0m\n\u001b[0m\u001b[1;32m    242\u001b[0m     \u001b[0;32mif\u001b[0m \u001b[0;34m'retina'\u001b[0m \u001b[0;32min\u001b[0m \u001b[0mformats\u001b[0m \u001b[0;32mor\u001b[0m \u001b[0;34m'png2x'\u001b[0m \u001b[0;32min\u001b[0m \u001b[0mformats\u001b[0m\u001b[0;34m:\u001b[0m\u001b[0;34m\u001b[0m\u001b[0;34m\u001b[0m\u001b[0m\n\u001b[1;32m    243\u001b[0m         \u001b[0mpng_formatter\u001b[0m\u001b[0;34m.\u001b[0m\u001b[0mfor_type\u001b[0m\u001b[0;34m(\u001b[0m\u001b[0mFigure\u001b[0m\u001b[0;34m,\u001b[0m \u001b[0;32mlambda\u001b[0m \u001b[0mfig\u001b[0m\u001b[0;34m:\u001b[0m \u001b[0mretina_figure\u001b[0m\u001b[0;34m(\u001b[0m\u001b[0mfig\u001b[0m\u001b[0;34m,\u001b[0m \u001b[0;34m**\u001b[0m\u001b[0mkwargs\u001b[0m\u001b[0;34m)\u001b[0m\u001b[0;34m)\u001b[0m\u001b[0;34m\u001b[0m\u001b[0;34m\u001b[0m\u001b[0m\n",
            "\u001b[0;32m/usr/local/lib/python3.7/dist-packages/IPython/core/pylabtools.py\u001b[0m in \u001b[0;36mprint_figure\u001b[0;34m(fig, fmt, bbox_inches, **kwargs)\u001b[0m\n\u001b[1;32m    123\u001b[0m \u001b[0;34m\u001b[0m\u001b[0m\n\u001b[1;32m    124\u001b[0m     \u001b[0mbytes_io\u001b[0m \u001b[0;34m=\u001b[0m \u001b[0mBytesIO\u001b[0m\u001b[0;34m(\u001b[0m\u001b[0;34m)\u001b[0m\u001b[0;34m\u001b[0m\u001b[0;34m\u001b[0m\u001b[0m\n\u001b[0;32m--> 125\u001b[0;31m     \u001b[0mfig\u001b[0m\u001b[0;34m.\u001b[0m\u001b[0mcanvas\u001b[0m\u001b[0;34m.\u001b[0m\u001b[0mprint_figure\u001b[0m\u001b[0;34m(\u001b[0m\u001b[0mbytes_io\u001b[0m\u001b[0;34m,\u001b[0m \u001b[0;34m**\u001b[0m\u001b[0mkw\u001b[0m\u001b[0;34m)\u001b[0m\u001b[0;34m\u001b[0m\u001b[0;34m\u001b[0m\u001b[0m\n\u001b[0m\u001b[1;32m    126\u001b[0m     \u001b[0mdata\u001b[0m \u001b[0;34m=\u001b[0m \u001b[0mbytes_io\u001b[0m\u001b[0;34m.\u001b[0m\u001b[0mgetvalue\u001b[0m\u001b[0;34m(\u001b[0m\u001b[0;34m)\u001b[0m\u001b[0;34m\u001b[0m\u001b[0;34m\u001b[0m\u001b[0m\n\u001b[1;32m    127\u001b[0m     \u001b[0;32mif\u001b[0m \u001b[0mfmt\u001b[0m \u001b[0;34m==\u001b[0m \u001b[0;34m'svg'\u001b[0m\u001b[0;34m:\u001b[0m\u001b[0;34m\u001b[0m\u001b[0;34m\u001b[0m\u001b[0m\n",
            "\u001b[0;32m/usr/local/lib/python3.7/dist-packages/matplotlib/backend_bases.py\u001b[0m in \u001b[0;36mprint_figure\u001b[0;34m(self, filename, dpi, facecolor, edgecolor, orientation, format, bbox_inches, **kwargs)\u001b[0m\n\u001b[1;32m   2063\u001b[0m     \u001b[0;32mdef\u001b[0m \u001b[0mdevice_pixel_ratio\u001b[0m\u001b[0;34m(\u001b[0m\u001b[0mself\u001b[0m\u001b[0;34m)\u001b[0m\u001b[0;34m:\u001b[0m\u001b[0;34m\u001b[0m\u001b[0;34m\u001b[0m\u001b[0m\n\u001b[1;32m   2064\u001b[0m         \"\"\"\n\u001b[0;32m-> 2065\u001b[0;31m         \u001b[0mThe\u001b[0m \u001b[0mratio\u001b[0m \u001b[0mof\u001b[0m \u001b[0mphysical\u001b[0m \u001b[0mto\u001b[0m \u001b[0mlogical\u001b[0m \u001b[0mpixels\u001b[0m \u001b[0mused\u001b[0m \u001b[0;32mfor\u001b[0m \u001b[0mthe\u001b[0m \u001b[0mcanvas\u001b[0m \u001b[0mon\u001b[0m \u001b[0mscreen\u001b[0m\u001b[0;34m.\u001b[0m\u001b[0;34m\u001b[0m\u001b[0;34m\u001b[0m\u001b[0m\n\u001b[0m\u001b[1;32m   2066\u001b[0m \u001b[0;34m\u001b[0m\u001b[0m\n\u001b[1;32m   2067\u001b[0m         \u001b[0mBy\u001b[0m \u001b[0mdefault\u001b[0m\u001b[0;34m,\u001b[0m \u001b[0mthis\u001b[0m \u001b[0;32mis\u001b[0m \u001b[0;36m1\u001b[0m\u001b[0;34m,\u001b[0m \u001b[0mmeaning\u001b[0m \u001b[0mphysical\u001b[0m \u001b[0;32mand\u001b[0m \u001b[0mlogical\u001b[0m \u001b[0mpixels\u001b[0m \u001b[0mare\u001b[0m \u001b[0mthe\u001b[0m \u001b[0msame\u001b[0m\u001b[0;34m\u001b[0m\u001b[0;34m\u001b[0m\u001b[0m\n",
            "\u001b[0;32m/usr/local/lib/python3.7/dist-packages/matplotlib/backends/backend_agg.py\u001b[0m in \u001b[0;36mprint_png\u001b[0;34m(self, filename_or_obj, metadata, pil_kwargs, *args, **kwargs)\u001b[0m\n\u001b[1;32m    499\u001b[0m         \u001b[0mfilename_or_obj\u001b[0m \u001b[0;34m:\u001b[0m \u001b[0mstr\u001b[0m \u001b[0;32mor\u001b[0m \u001b[0mpath\u001b[0m\u001b[0;34m-\u001b[0m\u001b[0mlike\u001b[0m \u001b[0;32mor\u001b[0m \u001b[0mfile\u001b[0m\u001b[0;34m-\u001b[0m\u001b[0mlike\u001b[0m\u001b[0;34m\u001b[0m\u001b[0;34m\u001b[0m\u001b[0m\n\u001b[1;32m    500\u001b[0m             \u001b[0mThe\u001b[0m \u001b[0mfile\u001b[0m \u001b[0mto\u001b[0m \u001b[0mwrite\u001b[0m \u001b[0mto\u001b[0m\u001b[0;34m.\u001b[0m\u001b[0;34m\u001b[0m\u001b[0;34m\u001b[0m\u001b[0m\n\u001b[0;32m--> 501\u001b[0;31m \u001b[0;34m\u001b[0m\u001b[0m\n\u001b[0m\u001b[1;32m    502\u001b[0m         \u001b[0mmetadata\u001b[0m \u001b[0;34m:\u001b[0m \u001b[0mdict\u001b[0m\u001b[0;34m,\u001b[0m \u001b[0moptional\u001b[0m\u001b[0;34m\u001b[0m\u001b[0;34m\u001b[0m\u001b[0m\n\u001b[1;32m    503\u001b[0m             \u001b[0mMetadata\u001b[0m \u001b[0;32min\u001b[0m \u001b[0mthe\u001b[0m \u001b[0mPNG\u001b[0m \u001b[0mfile\u001b[0m \u001b[0;32mas\u001b[0m \u001b[0mkey\u001b[0m\u001b[0;34m-\u001b[0m\u001b[0mvalue\u001b[0m \u001b[0mpairs\u001b[0m \u001b[0mof\u001b[0m \u001b[0mbytes\u001b[0m \u001b[0;32mor\u001b[0m \u001b[0mlatin\u001b[0m\u001b[0;34m-\u001b[0m\u001b[0;36m1\u001b[0m\u001b[0;34m\u001b[0m\u001b[0;34m\u001b[0m\u001b[0m\n",
            "\u001b[0;31mImportError\u001b[0m: cannot import name '_png' from 'matplotlib' (/usr/local/lib/python3.7/dist-packages/matplotlib/__init__.py)"
          ]
        },
        {
          "output_type": "display_data",
          "data": {
            "text/plain": [
              "<Figure size 432x288 with 1 Axes>"
            ]
          },
          "metadata": {
            "needs_background": "light"
          }
        },
        {
          "output_type": "error",
          "ename": "ImportError",
          "evalue": "ignored",
          "traceback": [
            "\u001b[0;31m---------------------------------------------------------------------------\u001b[0m",
            "\u001b[0;31mImportError\u001b[0m                               Traceback (most recent call last)",
            "\u001b[0;32m/usr/local/lib/python3.7/dist-packages/IPython/core/formatters.py\u001b[0m in \u001b[0;36m__call__\u001b[0;34m(self, obj)\u001b[0m\n\u001b[1;32m    332\u001b[0m                 \u001b[0;32mpass\u001b[0m\u001b[0;34m\u001b[0m\u001b[0;34m\u001b[0m\u001b[0m\n\u001b[1;32m    333\u001b[0m             \u001b[0;32melse\u001b[0m\u001b[0;34m:\u001b[0m\u001b[0;34m\u001b[0m\u001b[0;34m\u001b[0m\u001b[0m\n\u001b[0;32m--> 334\u001b[0;31m                 \u001b[0;32mreturn\u001b[0m \u001b[0mprinter\u001b[0m\u001b[0;34m(\u001b[0m\u001b[0mobj\u001b[0m\u001b[0;34m)\u001b[0m\u001b[0;34m\u001b[0m\u001b[0;34m\u001b[0m\u001b[0m\n\u001b[0m\u001b[1;32m    335\u001b[0m             \u001b[0;31m# Finally look for special method names\u001b[0m\u001b[0;34m\u001b[0m\u001b[0;34m\u001b[0m\u001b[0;34m\u001b[0m\u001b[0m\n\u001b[1;32m    336\u001b[0m             \u001b[0mmethod\u001b[0m \u001b[0;34m=\u001b[0m \u001b[0mget_real_method\u001b[0m\u001b[0;34m(\u001b[0m\u001b[0mobj\u001b[0m\u001b[0;34m,\u001b[0m \u001b[0mself\u001b[0m\u001b[0;34m.\u001b[0m\u001b[0mprint_method\u001b[0m\u001b[0;34m)\u001b[0m\u001b[0;34m\u001b[0m\u001b[0;34m\u001b[0m\u001b[0m\n",
            "\u001b[0;32m/usr/local/lib/python3.7/dist-packages/IPython/core/pylabtools.py\u001b[0m in \u001b[0;36m<lambda>\u001b[0;34m(fig)\u001b[0m\n\u001b[1;32m    239\u001b[0m \u001b[0;34m\u001b[0m\u001b[0m\n\u001b[1;32m    240\u001b[0m     \u001b[0;32mif\u001b[0m \u001b[0;34m'png'\u001b[0m \u001b[0;32min\u001b[0m \u001b[0mformats\u001b[0m\u001b[0;34m:\u001b[0m\u001b[0;34m\u001b[0m\u001b[0;34m\u001b[0m\u001b[0m\n\u001b[0;32m--> 241\u001b[0;31m         \u001b[0mpng_formatter\u001b[0m\u001b[0;34m.\u001b[0m\u001b[0mfor_type\u001b[0m\u001b[0;34m(\u001b[0m\u001b[0mFigure\u001b[0m\u001b[0;34m,\u001b[0m \u001b[0;32mlambda\u001b[0m \u001b[0mfig\u001b[0m\u001b[0;34m:\u001b[0m \u001b[0mprint_figure\u001b[0m\u001b[0;34m(\u001b[0m\u001b[0mfig\u001b[0m\u001b[0;34m,\u001b[0m \u001b[0;34m'png'\u001b[0m\u001b[0;34m,\u001b[0m \u001b[0;34m**\u001b[0m\u001b[0mkwargs\u001b[0m\u001b[0;34m)\u001b[0m\u001b[0;34m)\u001b[0m\u001b[0;34m\u001b[0m\u001b[0;34m\u001b[0m\u001b[0m\n\u001b[0m\u001b[1;32m    242\u001b[0m     \u001b[0;32mif\u001b[0m \u001b[0;34m'retina'\u001b[0m \u001b[0;32min\u001b[0m \u001b[0mformats\u001b[0m \u001b[0;32mor\u001b[0m \u001b[0;34m'png2x'\u001b[0m \u001b[0;32min\u001b[0m \u001b[0mformats\u001b[0m\u001b[0;34m:\u001b[0m\u001b[0;34m\u001b[0m\u001b[0;34m\u001b[0m\u001b[0m\n\u001b[1;32m    243\u001b[0m         \u001b[0mpng_formatter\u001b[0m\u001b[0;34m.\u001b[0m\u001b[0mfor_type\u001b[0m\u001b[0;34m(\u001b[0m\u001b[0mFigure\u001b[0m\u001b[0;34m,\u001b[0m \u001b[0;32mlambda\u001b[0m \u001b[0mfig\u001b[0m\u001b[0;34m:\u001b[0m \u001b[0mretina_figure\u001b[0m\u001b[0;34m(\u001b[0m\u001b[0mfig\u001b[0m\u001b[0;34m,\u001b[0m \u001b[0;34m**\u001b[0m\u001b[0mkwargs\u001b[0m\u001b[0;34m)\u001b[0m\u001b[0;34m)\u001b[0m\u001b[0;34m\u001b[0m\u001b[0;34m\u001b[0m\u001b[0m\n",
            "\u001b[0;32m/usr/local/lib/python3.7/dist-packages/IPython/core/pylabtools.py\u001b[0m in \u001b[0;36mprint_figure\u001b[0;34m(fig, fmt, bbox_inches, **kwargs)\u001b[0m\n\u001b[1;32m    123\u001b[0m \u001b[0;34m\u001b[0m\u001b[0m\n\u001b[1;32m    124\u001b[0m     \u001b[0mbytes_io\u001b[0m \u001b[0;34m=\u001b[0m \u001b[0mBytesIO\u001b[0m\u001b[0;34m(\u001b[0m\u001b[0;34m)\u001b[0m\u001b[0;34m\u001b[0m\u001b[0;34m\u001b[0m\u001b[0m\n\u001b[0;32m--> 125\u001b[0;31m     \u001b[0mfig\u001b[0m\u001b[0;34m.\u001b[0m\u001b[0mcanvas\u001b[0m\u001b[0;34m.\u001b[0m\u001b[0mprint_figure\u001b[0m\u001b[0;34m(\u001b[0m\u001b[0mbytes_io\u001b[0m\u001b[0;34m,\u001b[0m \u001b[0;34m**\u001b[0m\u001b[0mkw\u001b[0m\u001b[0;34m)\u001b[0m\u001b[0;34m\u001b[0m\u001b[0;34m\u001b[0m\u001b[0m\n\u001b[0m\u001b[1;32m    126\u001b[0m     \u001b[0mdata\u001b[0m \u001b[0;34m=\u001b[0m \u001b[0mbytes_io\u001b[0m\u001b[0;34m.\u001b[0m\u001b[0mgetvalue\u001b[0m\u001b[0;34m(\u001b[0m\u001b[0;34m)\u001b[0m\u001b[0;34m\u001b[0m\u001b[0;34m\u001b[0m\u001b[0m\n\u001b[1;32m    127\u001b[0m     \u001b[0;32mif\u001b[0m \u001b[0mfmt\u001b[0m \u001b[0;34m==\u001b[0m \u001b[0;34m'svg'\u001b[0m\u001b[0;34m:\u001b[0m\u001b[0;34m\u001b[0m\u001b[0;34m\u001b[0m\u001b[0m\n",
            "\u001b[0;32m/usr/local/lib/python3.7/dist-packages/matplotlib/backend_bases.py\u001b[0m in \u001b[0;36mprint_figure\u001b[0;34m(self, filename, dpi, facecolor, edgecolor, orientation, format, bbox_inches, **kwargs)\u001b[0m\n\u001b[1;32m   2063\u001b[0m     \u001b[0;32mdef\u001b[0m \u001b[0mdevice_pixel_ratio\u001b[0m\u001b[0;34m(\u001b[0m\u001b[0mself\u001b[0m\u001b[0;34m)\u001b[0m\u001b[0;34m:\u001b[0m\u001b[0;34m\u001b[0m\u001b[0;34m\u001b[0m\u001b[0m\n\u001b[1;32m   2064\u001b[0m         \"\"\"\n\u001b[0;32m-> 2065\u001b[0;31m         \u001b[0mThe\u001b[0m \u001b[0mratio\u001b[0m \u001b[0mof\u001b[0m \u001b[0mphysical\u001b[0m \u001b[0mto\u001b[0m \u001b[0mlogical\u001b[0m \u001b[0mpixels\u001b[0m \u001b[0mused\u001b[0m \u001b[0;32mfor\u001b[0m \u001b[0mthe\u001b[0m \u001b[0mcanvas\u001b[0m \u001b[0mon\u001b[0m \u001b[0mscreen\u001b[0m\u001b[0;34m.\u001b[0m\u001b[0;34m\u001b[0m\u001b[0;34m\u001b[0m\u001b[0m\n\u001b[0m\u001b[1;32m   2066\u001b[0m \u001b[0;34m\u001b[0m\u001b[0m\n\u001b[1;32m   2067\u001b[0m         \u001b[0mBy\u001b[0m \u001b[0mdefault\u001b[0m\u001b[0;34m,\u001b[0m \u001b[0mthis\u001b[0m \u001b[0;32mis\u001b[0m \u001b[0;36m1\u001b[0m\u001b[0;34m,\u001b[0m \u001b[0mmeaning\u001b[0m \u001b[0mphysical\u001b[0m \u001b[0;32mand\u001b[0m \u001b[0mlogical\u001b[0m \u001b[0mpixels\u001b[0m \u001b[0mare\u001b[0m \u001b[0mthe\u001b[0m \u001b[0msame\u001b[0m\u001b[0;34m\u001b[0m\u001b[0;34m\u001b[0m\u001b[0m\n",
            "\u001b[0;32m/usr/local/lib/python3.7/dist-packages/matplotlib/backends/backend_agg.py\u001b[0m in \u001b[0;36mprint_png\u001b[0;34m(self, filename_or_obj, metadata, pil_kwargs, *args, **kwargs)\u001b[0m\n\u001b[1;32m    499\u001b[0m         \u001b[0mfilename_or_obj\u001b[0m \u001b[0;34m:\u001b[0m \u001b[0mstr\u001b[0m \u001b[0;32mor\u001b[0m \u001b[0mpath\u001b[0m\u001b[0;34m-\u001b[0m\u001b[0mlike\u001b[0m \u001b[0;32mor\u001b[0m \u001b[0mfile\u001b[0m\u001b[0;34m-\u001b[0m\u001b[0mlike\u001b[0m\u001b[0;34m\u001b[0m\u001b[0;34m\u001b[0m\u001b[0m\n\u001b[1;32m    500\u001b[0m             \u001b[0mThe\u001b[0m \u001b[0mfile\u001b[0m \u001b[0mto\u001b[0m \u001b[0mwrite\u001b[0m \u001b[0mto\u001b[0m\u001b[0;34m.\u001b[0m\u001b[0;34m\u001b[0m\u001b[0;34m\u001b[0m\u001b[0m\n\u001b[0;32m--> 501\u001b[0;31m \u001b[0;34m\u001b[0m\u001b[0m\n\u001b[0m\u001b[1;32m    502\u001b[0m         \u001b[0mmetadata\u001b[0m \u001b[0;34m:\u001b[0m \u001b[0mdict\u001b[0m\u001b[0;34m,\u001b[0m \u001b[0moptional\u001b[0m\u001b[0;34m\u001b[0m\u001b[0;34m\u001b[0m\u001b[0m\n\u001b[1;32m    503\u001b[0m             \u001b[0mMetadata\u001b[0m \u001b[0;32min\u001b[0m \u001b[0mthe\u001b[0m \u001b[0mPNG\u001b[0m \u001b[0mfile\u001b[0m \u001b[0;32mas\u001b[0m \u001b[0mkey\u001b[0m\u001b[0;34m-\u001b[0m\u001b[0mvalue\u001b[0m \u001b[0mpairs\u001b[0m \u001b[0mof\u001b[0m \u001b[0mbytes\u001b[0m \u001b[0;32mor\u001b[0m \u001b[0mlatin\u001b[0m\u001b[0;34m-\u001b[0m\u001b[0;36m1\u001b[0m\u001b[0;34m\u001b[0m\u001b[0;34m\u001b[0m\u001b[0m\n",
            "\u001b[0;31mImportError\u001b[0m: cannot import name '_png' from 'matplotlib' (/usr/local/lib/python3.7/dist-packages/matplotlib/__init__.py)"
          ]
        },
        {
          "output_type": "display_data",
          "data": {
            "text/plain": [
              "<Figure size 432x288 with 2 Axes>"
            ]
          },
          "metadata": {
            "needs_background": "light"
          }
        }
      ]
    },
    {
      "cell_type": "code",
      "source": [
        "import matplotlib.pyplot as plt\n",
        "\n",
        "# save figure not working ..\n",
        "# plt.savefig('borrow_count_abundance_count.png')\n"
      ],
      "metadata": {
        "id": "-pgaJNPiJkkR"
      },
      "execution_count": null,
      "outputs": []
    },
    {
      "cell_type": "code",
      "source": [
        "from copia.plot import accumulation_curve\n",
        "accumulation_curve(abundance, accumulation,\n",
        "                   xlabel='documents', ylabel='works',\n",
        "                   title='species accumulation curve')\n",
        "\n",
        "from copia.plot import abundance_histogram\n",
        "abundance_histogram(abundance)\n",
        "abundance_histogram(abundance, trendline=True)"
      ],
      "metadata": {
        "colab": {
          "base_uri": "https://localhost:8080/",
          "height": 248
        },
        "id": "byshAuJS-2oQ",
        "outputId": "912a502c-6ed7-4084-9aaa-98bbef100005"
      },
      "execution_count": null,
      "outputs": [
        {
          "output_type": "error",
          "ename": "NameError",
          "evalue": "ignored",
          "traceback": [
            "\u001b[0;31m---------------------------------------------------------------------------\u001b[0m",
            "\u001b[0;31mNameError\u001b[0m                                 Traceback (most recent call last)",
            "\u001b[0;32m<ipython-input-21-e0a964bd2e11>\u001b[0m in \u001b[0;36m<module>\u001b[0;34m()\u001b[0m\n\u001b[1;32m      1\u001b[0m \u001b[0;32mfrom\u001b[0m \u001b[0mcopia\u001b[0m\u001b[0;34m.\u001b[0m\u001b[0mplot\u001b[0m \u001b[0;32mimport\u001b[0m \u001b[0maccumulation_curve\u001b[0m\u001b[0;34m\u001b[0m\u001b[0;34m\u001b[0m\u001b[0m\n\u001b[0;32m----> 2\u001b[0;31m accumulation_curve(abundance, accumulation,\n\u001b[0m\u001b[1;32m      3\u001b[0m                    \u001b[0mxlabel\u001b[0m\u001b[0;34m=\u001b[0m\u001b[0;34m'documents'\u001b[0m\u001b[0;34m,\u001b[0m \u001b[0mylabel\u001b[0m\u001b[0;34m=\u001b[0m\u001b[0;34m'works'\u001b[0m\u001b[0;34m,\u001b[0m\u001b[0;34m\u001b[0m\u001b[0;34m\u001b[0m\u001b[0m\n\u001b[1;32m      4\u001b[0m                    title='species accumulation curve')\n\u001b[1;32m      5\u001b[0m \u001b[0;34m\u001b[0m\u001b[0m\n",
            "\u001b[0;31mNameError\u001b[0m: name 'accumulation' is not defined"
          ]
        }
      ]
    },
    {
      "cell_type": "code",
      "source": [
        "# estimate diversity\n",
        "from copia.richness import *\n",
        "print(diversity(abundance, method='chao1'))\n",
        "print(chao1(abundance))\n",
        "\n"
      ],
      "metadata": {
        "id": "JHVc9SS8-9Lr"
      },
      "execution_count": null,
      "outputs": []
    },
    {
      "cell_type": "code",
      "source": [
        "print(jackknife(abundance, return_order=True))\n",
        "print(diversity(abundance, method='jackknife', return_order=True))\n",
        "\n"
      ],
      "metadata": {
        "id": "A6vYvy8__IvC"
      },
      "execution_count": null,
      "outputs": []
    },
    {
      "cell_type": "code",
      "source": [
        "for m in ('chao1', 'ichao1', 'ace', 'jackknife', 'egghe_proot'):\n",
        "    print(m, '->', diversity(abundance, method=m))"
      ],
      "metadata": {
        "id": "tlR9qWXF_MVH"
      },
      "execution_count": null,
      "outputs": []
    },
    {
      "cell_type": "code",
      "source": [
        "print('species richness:', diversity(abundance, method='empirical'))\n",
        "print('population size:', diversity(abundance, method='empirical', species=False))\n",
        "\n"
      ],
      "metadata": {
        "id": "9w5f8m88_PzT"
      },
      "execution_count": null,
      "outputs": []
    },
    {
      "cell_type": "code",
      "source": [
        "# re-estimate with confidence interval\n",
        "\n",
        "diversity(abundance, method='chao1', CI=True, n_iter=10)"
      ],
      "metadata": {
        "id": "gyiTL5Nt_Uys"
      },
      "execution_count": null,
      "outputs": []
    },
    {
      "cell_type": "code",
      "source": [
        "diversity(abundance, method='jackknife', CI=True)"
      ],
      "metadata": {
        "id": "m9v_tOOJ_cfz"
      },
      "execution_count": null,
      "outputs": []
    },
    {
      "cell_type": "code",
      "source": [
        "print('Empirical size:', diversity(abundance, method='empirical', species=False))\n",
        "print('Unbiased estimate:', diversity(abundance, method='minsample'))"
      ],
      "metadata": {
        "id": "j7TenRLO_hDk"
      },
      "execution_count": null,
      "outputs": []
    },
    {
      "cell_type": "code",
      "source": [
        "diversity(abundance, method='minsample', CI=True, n_iter=10)"
      ],
      "metadata": {
        "id": "QRas3ne-IP3I"
      },
      "execution_count": null,
      "outputs": []
    },
    {
      "cell_type": "code",
      "source": [
        "# plot diagnostics to see if it makes sense\n",
        "\n",
        "diagn = diversity(abundance, method='minsample',\n",
        "                        solver='grid', CI=False, # CI must be False for this use!\n",
        "                        diagnostics=True)\n",
        "print(diagn)"
      ],
      "metadata": {
        "id": "ng_JlkVC_nuX"
      },
      "execution_count": null,
      "outputs": []
    },
    {
      "cell_type": "code",
      "source": [],
      "metadata": {
        "id": "BQB_ebQxINNR"
      },
      "execution_count": null,
      "outputs": []
    },
    {
      "cell_type": "code",
      "source": [
        "import numpy as np\n",
        "assert np.isclose(diagn['richness'],\n",
        "                  diagn['n'] + (diagn['x*'] * diagn['n']),\n",
        "                  atol=0.001)"
      ],
      "metadata": {
        "id": "NkrDxsV__t9k"
      },
      "execution_count": null,
      "outputs": []
    },
    {
      "cell_type": "code",
      "source": [
        "from copia.plot import minsample_diagnostic_plot\n",
        "minsample_diagnostic_plot(abundance, diagn)"
      ],
      "metadata": {
        "id": "GR5JeFcQ_wSn"
      },
      "execution_count": null,
      "outputs": []
    },
    {
      "cell_type": "code",
      "source": [
        "# NOTE: not doing calculate species accumulation, too slow with our data"
      ],
      "metadata": {
        "id": "mHNQ0jwN_57f"
      },
      "execution_count": null,
      "outputs": []
    },
    {
      "cell_type": "markdown",
      "source": [
        "## books by unique borrowers"
      ],
      "metadata": {
        "id": "SfpeyI6RZqwr"
      }
    },
    {
      "cell_type": "code",
      "source": [
        "# these numbers were based on pure borrow count; what if we look at number of borrowers instead?\n",
        "\n"
      ],
      "metadata": {
        "id": "AR-n1G0GoJmm"
      },
      "execution_count": null,
      "outputs": []
    },
    {
      "cell_type": "code",
      "source": [
        "# get unique book/person combination\n",
        "uniq_borrows = borrows[['member_uris', 'item_id']].drop_duplicates()\n",
        "uniq_borrows.shape[0]"
      ],
      "metadata": {
        "id": "zgSiCprNWgaA"
      },
      "execution_count": null,
      "outputs": []
    },
    {
      "cell_type": "code",
      "source": [
        "uniq_borrow_book_counts = uniq_borrows.groupby('item_id').count().reset_index().rename(columns={'member_uris': 'borrower_count'}).sort_values('borrower_count', ascending=False)\n",
        "uniq_borrow_book_counts"
      ],
      "metadata": {
        "id": "RXayCEy1WtY4"
      },
      "execution_count": null,
      "outputs": []
    },
    {
      "cell_type": "code",
      "source": [
        "len(uniq_borrows.item_id)"
      ],
      "metadata": {
        "id": "Rpy3zoDRCOWJ"
      },
      "execution_count": null,
      "outputs": []
    },
    {
      "cell_type": "code",
      "source": [
        "len(uniq_borrows.item_id.unique())"
      ],
      "metadata": {
        "id": "Zoy903u8CSD8"
      },
      "execution_count": null,
      "outputs": []
    },
    {
      "cell_type": "code",
      "source": [
        "uniq_abundance = to_abundance(uniq_borrows.item_id)\n",
        "uniq_abundance"
      ],
      "metadata": {
        "id": "iAno5lPkCWax"
      },
      "execution_count": null,
      "outputs": []
    },
    {
      "cell_type": "code",
      "source": [
        "basic_stats(uniq_abundance)"
      ],
      "metadata": {
        "id": "5a7TAe_OCayn"
      },
      "execution_count": null,
      "outputs": []
    },
    {
      "cell_type": "code",
      "source": [
        "abundance_counts(uniq_abundance)\n",
        "abundance_counts(uniq_abundance, trendline=True);"
      ],
      "metadata": {
        "id": "jZRCyn_PCdzG"
      },
      "execution_count": null,
      "outputs": []
    },
    {
      "cell_type": "code",
      "source": [
        "abundance_histogram(uniq_abundance)\n",
        "abundance_histogram(uniq_abundance, trendline=True)"
      ],
      "metadata": {
        "id": "n9o_DkSDCpZa"
      },
      "execution_count": null,
      "outputs": []
    },
    {
      "cell_type": "code",
      "source": [
        "print(diversity(uniq_abundance, method='chao1'))\n",
        "print(chao1(uniq_abundance))"
      ],
      "metadata": {
        "id": "1zxeu7fxCxMf"
      },
      "execution_count": null,
      "outputs": []
    },
    {
      "cell_type": "code",
      "source": [
        "print(jackknife(uniq_abundance, return_order=True))\n",
        "print(diversity(uniq_abundance, method='jackknife', return_order=True))\n",
        "\n"
      ],
      "metadata": {
        "id": "rV9pPe-mDCza"
      },
      "execution_count": null,
      "outputs": []
    },
    {
      "cell_type": "code",
      "source": [
        "for m in ('chao1', 'ichao1', 'ace', 'jackknife', 'egghe_proot'):\n",
        "    print(m, '->', diversity(uniq_abundance, method=m))"
      ],
      "metadata": {
        "id": "HxGvRIesDIXb"
      },
      "execution_count": null,
      "outputs": []
    },
    {
      "cell_type": "code",
      "source": [
        "print('species richness:', diversity(uniq_abundance, method='empirical'))\n",
        "print('population size:', diversity(uniq_abundance, method='empirical', species=False))\n",
        "\n"
      ],
      "metadata": {
        "id": "p8O1k67uDMzx"
      },
      "execution_count": null,
      "outputs": []
    },
    {
      "cell_type": "code",
      "source": [
        "diversity(uniq_abundance, method='minsample', CI=True, n_iter=10)"
      ],
      "metadata": {
        "id": "OFKG1i5ODRsk"
      },
      "execution_count": null,
      "outputs": []
    },
    {
      "cell_type": "code",
      "source": [
        "uniq_diagn = diversity(uniq_abundance, method='minsample',\n",
        "                        solver='grid', CI=False, # CI must be False for this use!\n",
        "                        diagnostics=True)\n",
        "print(uniq_diagn)"
      ],
      "metadata": {
        "id": "bSjgYYOXDXyK"
      },
      "execution_count": null,
      "outputs": []
    },
    {
      "cell_type": "code",
      "source": [
        "assert np.isclose(uniq_diagn['richness'],\n",
        "                  uniq_diagn['n'] + (uniq_diagn['x*'] * uniq_diagn['n']),\n",
        "                  atol=0.001)"
      ],
      "metadata": {
        "id": "TlC5oAOCDcwn"
      },
      "execution_count": null,
      "outputs": []
    },
    {
      "cell_type": "code",
      "source": [
        "minsample_diagnostic_plot(uniq_abundance, uniq_diagn)"
      ],
      "metadata": {
        "id": "OlcoTHo5DhKr"
      },
      "execution_count": null,
      "outputs": []
    },
    {
      "cell_type": "markdown",
      "source": [
        "## re-run copia but exclude uncertain titles"
      ],
      "metadata": {
        "id": "vh821XTtNSX3"
      }
    },
    {
      "cell_type": "code",
      "source": [
        "# generate short-form id for matching with events and easy comparison\n",
        "books_df['id'] = books_df.uri.apply(lambda x: x.split('/')[-2])\n",
        "uncertain_books_df = books_df[books_df.uncertain]\n",
        "uncertain_books_df[['id', 'title']]"
      ],
      "metadata": {
        "colab": {
          "base_uri": "https://localhost:8080/",
          "height": 424
        },
        "id": "uCt57_S8NVCX",
        "outputId": "a5f5cfec-c723-4086-cd4a-33678b6b1425"
      },
      "execution_count": null,
      "outputs": [
        {
          "output_type": "execute_result",
          "data": {
            "text/html": [
              "\n",
              "  <div id=\"df-4d4d44d4-6490-4d73-83fe-d9ca741109f7\">\n",
              "    <div class=\"colab-df-container\">\n",
              "      <div>\n",
              "<style scoped>\n",
              "    .dataframe tbody tr th:only-of-type {\n",
              "        vertical-align: middle;\n",
              "    }\n",
              "\n",
              "    .dataframe tbody tr th {\n",
              "        vertical-align: top;\n",
              "    }\n",
              "\n",
              "    .dataframe thead th {\n",
              "        text-align: right;\n",
              "    }\n",
              "</style>\n",
              "<table border=\"1\" class=\"dataframe\">\n",
              "  <thead>\n",
              "    <tr style=\"text-align: right;\">\n",
              "      <th></th>\n",
              "      <th>id</th>\n",
              "      <th>title</th>\n",
              "    </tr>\n",
              "  </thead>\n",
              "  <tbody>\n",
              "    <tr>\n",
              "      <th>1154</th>\n",
              "      <td>miscellaneous-pieces</td>\n",
              "      <td>Miscellaneous Pieces</td>\n",
              "    </tr>\n",
              "    <tr>\n",
              "      <th>1312</th>\n",
              "      <td>epictetus</td>\n",
              "      <td>Epictetus</td>\n",
              "    </tr>\n",
              "    <tr>\n",
              "      <th>5300</th>\n",
              "      <td>12-30-heaven</td>\n",
              "      <td>12:30 from Heaven</td>\n",
              "    </tr>\n",
              "    <tr>\n",
              "      <th>5302</th>\n",
              "      <td>abc-language</td>\n",
              "      <td>ABC of Language</td>\n",
              "    </tr>\n",
              "    <tr>\n",
              "      <th>5303</th>\n",
              "      <td>abraham-lincoln</td>\n",
              "      <td>Abraham Lincoln</td>\n",
              "    </tr>\n",
              "    <tr>\n",
              "      <th>...</th>\n",
              "      <td>...</td>\n",
              "      <td>...</td>\n",
              "    </tr>\n",
              "    <tr>\n",
              "      <th>6011</th>\n",
              "      <td>joyce-work-progress</td>\n",
              "      <td>Work in Progress</td>\n",
              "    </tr>\n",
              "    <tr>\n",
              "      <th>6014</th>\n",
              "      <td>w-unclear</td>\n",
              "      <td>W[unclear]</td>\n",
              "    </tr>\n",
              "    <tr>\n",
              "      <th>6017</th>\n",
              "      <td>yeats</td>\n",
              "      <td>Yeats</td>\n",
              "    </tr>\n",
              "    <tr>\n",
              "      <th>6018</th>\n",
              "      <td>yeats-various-articles</td>\n",
              "      <td>Yeats: Various Articles By &amp; On</td>\n",
              "    </tr>\n",
              "    <tr>\n",
              "      <th>6019</th>\n",
              "      <td>zola</td>\n",
              "      <td>Zola</td>\n",
              "    </tr>\n",
              "  </tbody>\n",
              "</table>\n",
              "<p>475 rows × 2 columns</p>\n",
              "</div>\n",
              "      <button class=\"colab-df-convert\" onclick=\"convertToInteractive('df-4d4d44d4-6490-4d73-83fe-d9ca741109f7')\"\n",
              "              title=\"Convert this dataframe to an interactive table.\"\n",
              "              style=\"display:none;\">\n",
              "        \n",
              "  <svg xmlns=\"http://www.w3.org/2000/svg\" height=\"24px\"viewBox=\"0 0 24 24\"\n",
              "       width=\"24px\">\n",
              "    <path d=\"M0 0h24v24H0V0z\" fill=\"none\"/>\n",
              "    <path d=\"M18.56 5.44l.94 2.06.94-2.06 2.06-.94-2.06-.94-.94-2.06-.94 2.06-2.06.94zm-11 1L8.5 8.5l.94-2.06 2.06-.94-2.06-.94L8.5 2.5l-.94 2.06-2.06.94zm10 10l.94 2.06.94-2.06 2.06-.94-2.06-.94-.94-2.06-.94 2.06-2.06.94z\"/><path d=\"M17.41 7.96l-1.37-1.37c-.4-.4-.92-.59-1.43-.59-.52 0-1.04.2-1.43.59L10.3 9.45l-7.72 7.72c-.78.78-.78 2.05 0 2.83L4 21.41c.39.39.9.59 1.41.59.51 0 1.02-.2 1.41-.59l7.78-7.78 2.81-2.81c.8-.78.8-2.07 0-2.86zM5.41 20L4 18.59l7.72-7.72 1.47 1.35L5.41 20z\"/>\n",
              "  </svg>\n",
              "      </button>\n",
              "      \n",
              "  <style>\n",
              "    .colab-df-container {\n",
              "      display:flex;\n",
              "      flex-wrap:wrap;\n",
              "      gap: 12px;\n",
              "    }\n",
              "\n",
              "    .colab-df-convert {\n",
              "      background-color: #E8F0FE;\n",
              "      border: none;\n",
              "      border-radius: 50%;\n",
              "      cursor: pointer;\n",
              "      display: none;\n",
              "      fill: #1967D2;\n",
              "      height: 32px;\n",
              "      padding: 0 0 0 0;\n",
              "      width: 32px;\n",
              "    }\n",
              "\n",
              "    .colab-df-convert:hover {\n",
              "      background-color: #E2EBFA;\n",
              "      box-shadow: 0px 1px 2px rgba(60, 64, 67, 0.3), 0px 1px 3px 1px rgba(60, 64, 67, 0.15);\n",
              "      fill: #174EA6;\n",
              "    }\n",
              "\n",
              "    [theme=dark] .colab-df-convert {\n",
              "      background-color: #3B4455;\n",
              "      fill: #D2E3FC;\n",
              "    }\n",
              "\n",
              "    [theme=dark] .colab-df-convert:hover {\n",
              "      background-color: #434B5C;\n",
              "      box-shadow: 0px 1px 3px 1px rgba(0, 0, 0, 0.15);\n",
              "      filter: drop-shadow(0px 1px 2px rgba(0, 0, 0, 0.3));\n",
              "      fill: #FFFFFF;\n",
              "    }\n",
              "  </style>\n",
              "\n",
              "      <script>\n",
              "        const buttonEl =\n",
              "          document.querySelector('#df-4d4d44d4-6490-4d73-83fe-d9ca741109f7 button.colab-df-convert');\n",
              "        buttonEl.style.display =\n",
              "          google.colab.kernel.accessAllowed ? 'block' : 'none';\n",
              "\n",
              "        async function convertToInteractive(key) {\n",
              "          const element = document.querySelector('#df-4d4d44d4-6490-4d73-83fe-d9ca741109f7');\n",
              "          const dataTable =\n",
              "            await google.colab.kernel.invokeFunction('convertToInteractive',\n",
              "                                                     [key], {});\n",
              "          if (!dataTable) return;\n",
              "\n",
              "          const docLinkHtml = 'Like what you see? Visit the ' +\n",
              "            '<a target=\"_blank\" href=https://colab.research.google.com/notebooks/data_table.ipynb>data table notebook</a>'\n",
              "            + ' to learn more about interactive tables.';\n",
              "          element.innerHTML = '';\n",
              "          dataTable['output_type'] = 'display_data';\n",
              "          await google.colab.output.renderOutput(dataTable, element);\n",
              "          const docLink = document.createElement('div');\n",
              "          docLink.innerHTML = docLinkHtml;\n",
              "          element.appendChild(docLink);\n",
              "        }\n",
              "      </script>\n",
              "    </div>\n",
              "  </div>\n",
              "  "
            ],
            "text/plain": [
              "                          id                            title\n",
              "1154    miscellaneous-pieces             Miscellaneous Pieces\n",
              "1312               epictetus                        Epictetus\n",
              "5300            12-30-heaven                12:30 from Heaven\n",
              "5302            abc-language                  ABC of Language\n",
              "5303         abraham-lincoln                  Abraham Lincoln\n",
              "...                      ...                              ...\n",
              "6011     joyce-work-progress                 Work in Progress\n",
              "6014               w-unclear                       W[unclear]\n",
              "6017                   yeats                            Yeats\n",
              "6018  yeats-various-articles  Yeats: Various Articles By & On\n",
              "6019                    zola                             Zola\n",
              "\n",
              "[475 rows x 2 columns]"
            ]
          },
          "metadata": {},
          "execution_count": 25
        }
      ]
    },
    {
      "cell_type": "code",
      "source": [
        "# exclude borrow events fro uncertain titles\n",
        "certain_borrows = borrows[~borrows.item_id.isin(uncertain_books_df.id)]\n",
        "certain_borrows.shape[0]"
      ],
      "metadata": {
        "id": "AXOwH8NMNflC"
      },
      "execution_count": null,
      "outputs": []
    },
    {
      "cell_type": "code",
      "source": [
        "certainborrow_abundance = abundance = to_abundance(certain_borrows.item_id)"
      ],
      "metadata": {
        "id": "IDZygU73NlvI"
      },
      "execution_count": null,
      "outputs": []
    },
    {
      "cell_type": "code",
      "source": [
        "basic_stats(certainborrow_abundance)"
      ],
      "metadata": {
        "id": "b3LDRUKHNsko"
      },
      "execution_count": null,
      "outputs": []
    },
    {
      "cell_type": "code",
      "source": [
        "abundance_counts(certainborrow_abundance, trendline=True);"
      ],
      "metadata": {
        "id": "FsfEN7zmNu4o"
      },
      "execution_count": null,
      "outputs": []
    },
    {
      "cell_type": "code",
      "source": [
        "abundance_histogram(certainborrow_abundance, trendline=True)"
      ],
      "metadata": {
        "id": "SzGAeNq1Nuyr"
      },
      "execution_count": null,
      "outputs": []
    },
    {
      "cell_type": "code",
      "source": [
        "for m in ('chao1', 'ichao1', 'ace', 'jackknife', 'egghe_proot'):\n",
        "    print(m, '->', diversity(certainborrow_abundance, method=m))"
      ],
      "metadata": {
        "id": "-9Dj-zIlN5Fg"
      },
      "execution_count": null,
      "outputs": []
    },
    {
      "cell_type": "code",
      "source": [
        "diversity(certainborrow_abundance, method='chao1', CI=True, n_iter=10)"
      ],
      "metadata": {
        "id": "oRNA2e0MN-QW"
      },
      "execution_count": null,
      "outputs": []
    },
    {
      "cell_type": "code",
      "source": [
        "diversity(certainborrow_abundance, method='jackknife', CI=True)"
      ],
      "metadata": {
        "id": "5ayokPTqOBTg"
      },
      "execution_count": null,
      "outputs": []
    },
    {
      "cell_type": "code",
      "source": [
        "diversity(certainborrow_abundance, method='minsample', CI=True, n_iter=10)"
      ],
      "metadata": {
        "id": "pOga_xq-OFqZ"
      },
      "execution_count": null,
      "outputs": []
    },
    {
      "cell_type": "code",
      "source": [
        "diagn = diversity(certainborrow_abundance, method='minsample',\n",
        "                        solver='grid', CI=False, # CI must be False for this use!\n",
        "                        diagnostics=True)\n",
        "print(diagn)\n",
        "\n"
      ],
      "metadata": {
        "id": "o6TfpkZNOKT0"
      },
      "execution_count": null,
      "outputs": []
    },
    {
      "cell_type": "code",
      "source": [
        "assert np.isclose(diagn['richness'],\n",
        "                  diagn['n'] + (diagn['x*'] * diagn['n']),\n",
        "                  atol=0.001)"
      ],
      "metadata": {
        "id": "sC88aes_ON_u"
      },
      "execution_count": null,
      "outputs": []
    },
    {
      "cell_type": "code",
      "source": [
        "minsample_diagnostic_plot(certainborrow_abundance, diagn)"
      ],
      "metadata": {
        "id": "bXuo_QizOPv6"
      },
      "execution_count": null,
      "outputs": []
    },
    {
      "cell_type": "code",
      "source": [
        "# accummulation\n",
        "\n",
        "from copia.richness import species_accumulation\n",
        "accumulation = species_accumulation(certainborrow_abundance, max_steps=4000, n_iter=10)\n",
        "accumulation\n",
        "\n"
      ],
      "metadata": {
        "id": "AseZCgRNh3y8"
      },
      "execution_count": null,
      "outputs": []
    },
    {
      "cell_type": "code",
      "source": [
        "from copia.plot import accumulation_curve\n",
        "accumulation_curve(certainborrow_abundance, accumulation,\n",
        "                   xlabel='documents', ylabel='works',\n",
        "                   title='species accumulation curve')"
      ],
      "metadata": {
        "id": "8xZC7cJ0horF"
      },
      "execution_count": null,
      "outputs": []
    },
    {
      "cell_type": "code",
      "source": [
        "from copia.plot import density\n",
        "estimate = diversity(certainborrow_abundance, method='iChao1', CI=True)\n",
        "density(estimate);"
      ],
      "metadata": {
        "id": "NRr4pTrms18E"
      },
      "execution_count": null,
      "outputs": []
    },
    {
      "cell_type": "code",
      "source": [
        "empirical = diversity(certainborrow_abundance, method='empirical')\n",
        "density(estimate, empirical);"
      ],
      "metadata": {
        "id": "c_Yhh3Zzs6GF"
      },
      "execution_count": null,
      "outputs": []
    },
    {
      "cell_type": "code",
      "source": [
        "from copia.utils import survival_ratio\n",
        "survival = survival_ratio(abundance, method='chao1')\n",
        "density(survival, xlim=(0, 1));"
      ],
      "metadata": {
        "id": "676ZJTx5s-JM"
      },
      "execution_count": null,
      "outputs": []
    },
    {
      "cell_type": "code",
      "source": [
        "from copia.hill import hill_numbers\n",
        "emp, est = hill_numbers(abundance, n_iter=10)\n",
        "print(est)\n"
      ],
      "metadata": {
        "id": "FmNp4JfKtA3X"
      },
      "execution_count": null,
      "outputs": []
    },
    {
      "cell_type": "code",
      "source": [
        "import copia.plot as plot\n",
        "plot.hill_plot(emp, est);"
      ],
      "metadata": {
        "id": "W4FoGzKotC7n"
      },
      "execution_count": null,
      "outputs": []
    },
    {
      "cell_type": "markdown",
      "source": [
        "### re-run uniq borrowers, no uncertain titles\n"
      ],
      "metadata": {
        "id": "AdibRGOcOU36"
      }
    },
    {
      "cell_type": "code",
      "source": [
        "# get unique book/person combination\n",
        "uniq_certain_borrows = certain_borrows[['member_uris', 'item_id']].drop_duplicates()\n",
        "uniq_certain_borrows.shape[0]"
      ],
      "metadata": {
        "id": "1y5jMdlTOZV9"
      },
      "execution_count": null,
      "outputs": []
    },
    {
      "cell_type": "code",
      "source": [
        "uniq_certain_abundance = to_abundance(uniq_certain_borrows.item_id)"
      ],
      "metadata": {
        "id": "bdCXFU1LOetN"
      },
      "execution_count": null,
      "outputs": []
    },
    {
      "cell_type": "code",
      "source": [
        "basic_stats(uniq_certain_abundance)"
      ],
      "metadata": {
        "id": "aw56BIHQOnD6"
      },
      "execution_count": null,
      "outputs": []
    },
    {
      "cell_type": "code",
      "source": [
        "abundance_counts(uniq_certain_abundance, trendline=True);"
      ],
      "metadata": {
        "id": "niSPC-8JOpBR"
      },
      "execution_count": null,
      "outputs": []
    },
    {
      "cell_type": "code",
      "source": [
        "abundance_histogram(uniq_certain_abundance, trendline=True)"
      ],
      "metadata": {
        "id": "TlrZ1RT_OsoD"
      },
      "execution_count": null,
      "outputs": []
    },
    {
      "cell_type": "code",
      "source": [
        "for m in ('chao1', 'ichao1', 'ace', 'jackknife', 'egghe_proot'):\n",
        "    print(m, '->', diversity(uniq_certain_abundance, method=m))"
      ],
      "metadata": {
        "id": "hBPwxCWwO1pi"
      },
      "execution_count": null,
      "outputs": []
    },
    {
      "cell_type": "code",
      "source": [
        "diversity(uniq_certain_abundance, method='chao1', CI=True, n_iter=10)"
      ],
      "metadata": {
        "id": "Zw3eZ1CkO5Sz"
      },
      "execution_count": null,
      "outputs": []
    },
    {
      "cell_type": "code",
      "source": [
        "diversity(uniq_certain_abundance, method='jackknife', CI=True)"
      ],
      "metadata": {
        "id": "Vif4D7EaO_Bx"
      },
      "execution_count": null,
      "outputs": []
    },
    {
      "cell_type": "code",
      "source": [
        "diversity(uniq_certain_abundance, method='minsample', CI=True, n_iter=10)"
      ],
      "metadata": {
        "id": "qLSfbJYAPC5X"
      },
      "execution_count": null,
      "outputs": []
    },
    {
      "cell_type": "code",
      "source": [
        "diagn = diversity(uniq_certain_abundance, method='minsample',\n",
        "                        solver='grid', CI=False, # CI must be False for this use!\n",
        "                        diagnostics=True)\n",
        "print(diagn)\n",
        "\n"
      ],
      "metadata": {
        "id": "l18DajuBPMUD"
      },
      "execution_count": null,
      "outputs": []
    },
    {
      "cell_type": "code",
      "source": [
        "assert np.isclose(diagn['richness'],\n",
        "                  diagn['n'] + (diagn['x*'] * diagn['n']),\n",
        "                  atol=0.001)"
      ],
      "metadata": {
        "id": "qXJ-o4TbPPOu"
      },
      "execution_count": null,
      "outputs": []
    },
    {
      "cell_type": "code",
      "source": [
        "minsample_diagnostic_plot(uniq_certain_abundance, diagn)"
      ],
      "metadata": {
        "id": "UHheiR0jPQoB"
      },
      "execution_count": null,
      "outputs": []
    },
    {
      "cell_type": "markdown",
      "source": [
        "### percent available\n"
      ],
      "metadata": {
        "id": "bP691J6jWmbX"
      }
    },
    {
      "cell_type": "code",
      "source": [
        "certain_titles = 5269"
      ],
      "metadata": {
        "id": "jNUjMoiSWneL"
      },
      "execution_count": null,
      "outputs": []
    },
    {
      "cell_type": "code",
      "source": [
        "# all borrow events for certain titles\n",
        "\n",
        "chao1 = 6768\n",
        "chao1_upper = 6943\n",
        "chao1_lower = 6628"
      ],
      "metadata": {
        "id": "99OH_5PJWz-1"
      },
      "execution_count": null,
      "outputs": []
    },
    {
      "cell_type": "code",
      "source": [
        "print(f'''\n",
        "total estimate: {chao1} (upper {chao1_upper}; lower {chao1_lower})\n",
        "missing titles {chao1 - certain_titles} (upper {chao1_upper - certain_titles}; lower {chao1_lower - certain_titles})\n",
        "percent surviving: {certain_titles/chao1 * 100:.2f}% (upper {certain_titles/chao1_upper * 100:.2f}%; lower {certain_titles/chao1_lower * 100:.2f}%)\n",
        "''')"
      ],
      "metadata": {
        "id": "MHIYTRfUW_Vj"
      },
      "execution_count": null,
      "outputs": []
    },
    {
      "cell_type": "code",
      "source": [
        "jackknife = 8102\n",
        "jackknife_upper = 8432\n",
        "jackknife_lower = 7771"
      ],
      "metadata": {
        "id": "wRoE3XHQXw7J"
      },
      "execution_count": null,
      "outputs": []
    },
    {
      "cell_type": "code",
      "source": [
        "print(f'''\n",
        "percent surviving: {certain_titles/jackknife * 100:.2f}% (upper {certain_titles/jackknife_upper * 100:.2f}%; lower {certain_titles/jackknife_lower * 100:.2f}%)\n",
        "''')"
      ],
      "metadata": {
        "id": "q60LDuRhYrnw"
      },
      "execution_count": null,
      "outputs": []
    },
    {
      "cell_type": "code",
      "source": [
        "# minsample\n",
        "minsample_borrows = 201949\n",
        "actual_borrows = 20316\n",
        "actual_borrows / minsample_borrows\n"
      ],
      "metadata": {
        "id": "IJ97kVE5aBfP"
      },
      "execution_count": null,
      "outputs": []
    },
    {
      "cell_type": "markdown",
      "source": [
        "hmm, but we know we have more than 10% of borrowing activity\n"
      ],
      "metadata": {
        "id": "oJHKSaKebh3S"
      }
    },
    {
      "cell_type": "code",
      "source": [
        "# unique borrowers for certain titles\n",
        "chao1 = 6873\n",
        "chao1_upper = 6950\n",
        "chao1_lower = 6775"
      ],
      "metadata": {
        "id": "D1xclzYEY16R"
      },
      "execution_count": null,
      "outputs": []
    },
    {
      "cell_type": "code",
      "source": [
        "print(f'''\n",
        "total estimate: {chao1} (upper {chao1_upper}; lower {chao1_lower})\n",
        "percent surviving: {certain_titles/chao1 * 100:.2f}% (upper {certain_titles/chao1_upper * 100:.2f}%; lower {certain_titles/chao1_lower * 100:.2f}%)\n",
        "''')"
      ],
      "metadata": {
        "id": "X2OcKDDBY_pu"
      },
      "execution_count": null,
      "outputs": []
    },
    {
      "cell_type": "code",
      "source": [
        "jackknife = 8567\n",
        "jackknife_upper = 9128\n",
        "jackknife_lower = 8005"
      ],
      "metadata": {
        "id": "ZZ90nWypZhxI"
      },
      "execution_count": null,
      "outputs": []
    },
    {
      "cell_type": "code",
      "source": [
        "print(f'''\n",
        "percent surviving: {certain_titles/jackknife * 100:.2f}% (upper {certain_titles/jackknife_upper * 100:.2f}%; lower {certain_titles/jackknife_lower * 100:.2f}%)\n",
        "''')"
      ],
      "metadata": {
        "id": "BKvwS3wpZ5DR"
      },
      "execution_count": null,
      "outputs": []
    },
    {
      "cell_type": "code",
      "source": [
        "uniq_borrow_minsample = 189648\n",
        "actual_borrows / uniq_borrow_minsample"
      ],
      "metadata": {
        "id": "Pzdw3OS8bf59"
      },
      "execution_count": null,
      "outputs": []
    },
    {
      "cell_type": "code",
      "source": [
        "# how many books were checked out only once?\n",
        "books_df[books_df.borrow_count == 1][['id', 'title', 'uncertain', 'borrow_count']]"
      ],
      "metadata": {
        "id": "MGhyuezikdhh"
      },
      "execution_count": null,
      "outputs": []
    },
    {
      "cell_type": "code",
      "source": [
        "books_df[books_df.borrow_count == 1][~books_df.uncertain][['id', 'title', 'uncertain', 'borrow_count']]"
      ],
      "metadata": {
        "id": "7vw1Xa6_uKaJ"
      },
      "execution_count": null,
      "outputs": []
    },
    {
      "cell_type": "markdown",
      "source": [
        "## beach's tally\n",
        "\n",
        "> Based on a handwritten tally in the Beach papers, we know that there were 4,600 books in February 1931. "
      ],
      "metadata": {
        "id": "Q3_FmHaUgMM3"
      }
    },
    {
      "cell_type": "code",
      "source": [
        "from datetime import date\n",
        "\n",
        "# parse start date so we can compare\n",
        "borrows['start_date_dt'] = pd.to_datetime(borrows['start_date'], errors='coerce')\n",
        "\n",
        "# get all borrows up to february 28 1931\n",
        "pretally_borrows = borrows[borrows.start_date_dt <= pd.to_datetime(date(1931, 2, 28))]\n",
        "\n",
        "# how many unique books?\n",
        "len(pretally_borrows.item_id.unique())"
      ],
      "metadata": {
        "id": "yCgnGHwcgObq"
      },
      "execution_count": null,
      "outputs": []
    },
    {
      "cell_type": "code",
      "source": [
        "pretally_borrows.borrow_status.value_counts()"
      ],
      "metadata": {
        "id": "BPpJVX3ngN_h"
      },
      "execution_count": null,
      "outputs": []
    },
    {
      "cell_type": "code",
      "source": [
        "# what about only the books that were returned?\n",
        "len(pretally_borrows[pretally_borrows.borrow_status == 'Returned'].item_id.unique())"
      ],
      "metadata": {
        "id": "PlaWafNyhP5A"
      },
      "execution_count": null,
      "outputs": []
    },
    {
      "cell_type": "code",
      "source": [
        "# oh, but how do we group books so we get the *last* status?\n",
        "# a book could have been returned multiple times before it is lost or bought\n",
        "\n",
        "sorted_pretally_borrows = pretally_borrows.sort_values('start_date_dt', ascending=True)\n",
        "sorted_pretally_borrows[['start_date', 'item_id', 'borrow_status']]\n"
      ],
      "metadata": {
        "id": "hglAAo9_heDD"
      },
      "execution_count": null,
      "outputs": []
    },
    {
      "cell_type": "code",
      "source": [
        "# drop duplicates based only on item id; keep the last entry\n",
        "pretally_borrow_laststatus = sorted_pretally_borrows.drop_duplicates(subset=['item_id'], keep='last')\n",
        "pretally_borrow_laststatus[['start_date', 'item_id', 'borrow_status']]"
      ],
      "metadata": {
        "id": "4FlUOmMPh4AN"
      },
      "execution_count": null,
      "outputs": []
    },
    {
      "cell_type": "code",
      "source": [
        "pretally_borrow_laststatus.borrow_status.value_counts()"
      ],
      "metadata": {
        "id": "hSw5M54MjNwU"
      },
      "execution_count": null,
      "outputs": []
    },
    {
      "cell_type": "code",
      "source": [
        "pretally_borrow_laststatus[pretally_borrow_laststatus.borrow_status == 'Returned'][['start_date', 'item_id', 'borrow_status']]"
      ],
      "metadata": {
        "id": "gsFW5wCFjTVU"
      },
      "execution_count": null,
      "outputs": []
    },
    {
      "cell_type": "code",
      "source": [
        "# double check\n",
        "len(pretally_borrow_laststatus[pretally_borrow_laststatus.borrow_status == 'Returned'].item_id.unique())"
      ],
      "metadata": {
        "id": "PN4-35ORjeXL"
      },
      "execution_count": null,
      "outputs": []
    },
    {
      "cell_type": "code",
      "source": [
        "2765 / 4600"
      ],
      "metadata": {
        "id": "Zht_LslWjvs4"
      },
      "execution_count": null,
      "outputs": []
    },
    {
      "cell_type": "markdown",
      "source": [
        "## run copia on the later time period"
      ],
      "metadata": {
        "id": "GxwRE1AJcRzL"
      }
    },
    {
      "cell_type": "code",
      "source": [
        "certain_borrows = borrows[~borrows.item_id.isin(uncertain_books_df.id)]\n",
        "certain_borrows"
      ],
      "metadata": {
        "id": "KN2GWI1vk9zq",
        "colab": {
          "base_uri": "https://localhost:8080/",
          "height": 939
        },
        "outputId": "2d62a22b-9ba8-45db-a3a9-be98e40ae845"
      },
      "execution_count": null,
      "outputs": [
        {
          "output_type": "execute_result",
          "data": {
            "text/html": [
              "\n",
              "  <div id=\"df-ab4dc3f8-52d5-4e92-8b80-c90f60497430\">\n",
              "    <div class=\"colab-df-container\">\n",
              "      <div>\n",
              "<style scoped>\n",
              "    .dataframe tbody tr th:only-of-type {\n",
              "        vertical-align: middle;\n",
              "    }\n",
              "\n",
              "    .dataframe tbody tr th {\n",
              "        vertical-align: top;\n",
              "    }\n",
              "\n",
              "    .dataframe thead th {\n",
              "        text-align: right;\n",
              "    }\n",
              "</style>\n",
              "<table border=\"1\" class=\"dataframe\">\n",
              "  <thead>\n",
              "    <tr style=\"text-align: right;\">\n",
              "      <th></th>\n",
              "      <th>event_type</th>\n",
              "      <th>start_date</th>\n",
              "      <th>end_date</th>\n",
              "      <th>member_uris</th>\n",
              "      <th>member_names</th>\n",
              "      <th>member_sort_names</th>\n",
              "      <th>subscription_price_paid</th>\n",
              "      <th>subscription_deposit</th>\n",
              "      <th>subscription_duration</th>\n",
              "      <th>subscription_duration_days</th>\n",
              "      <th>subscription_volumes</th>\n",
              "      <th>subscription_category</th>\n",
              "      <th>subscription_purchase_date</th>\n",
              "      <th>reimbursement_refund</th>\n",
              "      <th>borrow_status</th>\n",
              "      <th>borrow_duration_days</th>\n",
              "      <th>purchase_price</th>\n",
              "      <th>currency</th>\n",
              "      <th>item_uri</th>\n",
              "      <th>item_title</th>\n",
              "      <th>item_volume</th>\n",
              "      <th>item_authors</th>\n",
              "      <th>item_year</th>\n",
              "      <th>item_notes</th>\n",
              "      <th>source_type</th>\n",
              "      <th>source_citation</th>\n",
              "      <th>source_manifest</th>\n",
              "      <th>source_image</th>\n",
              "      <th>item_id</th>\n",
              "    </tr>\n",
              "  </thead>\n",
              "  <tbody>\n",
              "    <tr>\n",
              "      <th>2</th>\n",
              "      <td>Borrow</td>\n",
              "      <td>1922</td>\n",
              "      <td>1922-08-23</td>\n",
              "      <td>https://shakespeareandco.princeton.edu/members...</td>\n",
              "      <td>Mr. Rhys</td>\n",
              "      <td>Rhys, Mr.</td>\n",
              "      <td>NaN</td>\n",
              "      <td>NaN</td>\n",
              "      <td>NaN</td>\n",
              "      <td>NaN</td>\n",
              "      <td>NaN</td>\n",
              "      <td>NaN</td>\n",
              "      <td>NaN</td>\n",
              "      <td>NaN</td>\n",
              "      <td>Returned</td>\n",
              "      <td>NaN</td>\n",
              "      <td>NaN</td>\n",
              "      <td>NaN</td>\n",
              "      <td>https://shakespeareandco.princeton.edu/books/c...</td>\n",
              "      <td>Typhoon</td>\n",
              "      <td>NaN</td>\n",
              "      <td>Conrad, Joseph</td>\n",
              "      <td>1902.0</td>\n",
              "      <td>NaN</td>\n",
              "      <td>Lending Library Card</td>\n",
              "      <td>Sylvia Beach, Rhys Lending Library Card, Box 4...</td>\n",
              "      <td>https://figgy.princeton.edu/concern/scanned_re...</td>\n",
              "      <td>https://iiif.princeton.edu/loris/figgy_prod/67...</td>\n",
              "      <td>conrad-typhoon</td>\n",
              "    </tr>\n",
              "    <tr>\n",
              "      <th>8</th>\n",
              "      <td>Borrow</td>\n",
              "      <td>1923</td>\n",
              "      <td>1923-11-07</td>\n",
              "      <td>https://shakespeareandco.princeton.edu/members...</td>\n",
              "      <td>Eyre de Lanux / Mrs. Pierre de Lanux</td>\n",
              "      <td>de Lanux, Eyre</td>\n",
              "      <td>NaN</td>\n",
              "      <td>NaN</td>\n",
              "      <td>NaN</td>\n",
              "      <td>NaN</td>\n",
              "      <td>NaN</td>\n",
              "      <td>NaN</td>\n",
              "      <td>NaN</td>\n",
              "      <td>NaN</td>\n",
              "      <td>Returned</td>\n",
              "      <td>NaN</td>\n",
              "      <td>NaN</td>\n",
              "      <td>NaN</td>\n",
              "      <td>https://shakespeareandco.princeton.edu/books/w...</td>\n",
              "      <td>Night and Day</td>\n",
              "      <td>NaN</td>\n",
              "      <td>Woolf, Virginia</td>\n",
              "      <td>1919.0</td>\n",
              "      <td>NaN</td>\n",
              "      <td>Lending Library Card</td>\n",
              "      <td>Sylvia Beach, Eyre de Lanux Lending Library Ca...</td>\n",
              "      <td>https://figgy.princeton.edu/concern/scanned_re...</td>\n",
              "      <td>https://iiif.princeton.edu/loris/figgy_prod/c5...</td>\n",
              "      <td>woolf-night-day</td>\n",
              "    </tr>\n",
              "    <tr>\n",
              "      <th>13</th>\n",
              "      <td>Borrow</td>\n",
              "      <td>1924</td>\n",
              "      <td>1924-10-22</td>\n",
              "      <td>https://shakespeareandco.princeton.edu/members...</td>\n",
              "      <td>Simone Téry</td>\n",
              "      <td>Téry, Simone</td>\n",
              "      <td>NaN</td>\n",
              "      <td>NaN</td>\n",
              "      <td>NaN</td>\n",
              "      <td>NaN</td>\n",
              "      <td>NaN</td>\n",
              "      <td>NaN</td>\n",
              "      <td>NaN</td>\n",
              "      <td>NaN</td>\n",
              "      <td>Returned</td>\n",
              "      <td>NaN</td>\n",
              "      <td>NaN</td>\n",
              "      <td>NaN</td>\n",
              "      <td>https://shakespeareandco.princeton.edu/books/f...</td>\n",
              "      <td>A Portrait of George Moore in a Study of His Work</td>\n",
              "      <td>NaN</td>\n",
              "      <td>Freeman, John</td>\n",
              "      <td>1922.0</td>\n",
              "      <td>NaN</td>\n",
              "      <td>Lending Library Card</td>\n",
              "      <td>Sylvia Beach, Mlle Simone Tery Lending Library...</td>\n",
              "      <td>https://figgy.princeton.edu/concern/scanned_re...</td>\n",
              "      <td>https://iiif.princeton.edu/loris/figgy_prod/c2...</td>\n",
              "      <td>freeman-portrait-george-moore</td>\n",
              "    </tr>\n",
              "    <tr>\n",
              "      <th>22</th>\n",
              "      <td>Borrow</td>\n",
              "      <td>1926</td>\n",
              "      <td>1926-01-14</td>\n",
              "      <td>https://shakespeareandco.princeton.edu/members...</td>\n",
              "      <td>Ada (Hitchcock) MacLeish;Archibald MacLeish</td>\n",
              "      <td>MacLeish, Ada;MacLeish, Archibald</td>\n",
              "      <td>NaN</td>\n",
              "      <td>NaN</td>\n",
              "      <td>NaN</td>\n",
              "      <td>NaN</td>\n",
              "      <td>NaN</td>\n",
              "      <td>NaN</td>\n",
              "      <td>NaN</td>\n",
              "      <td>NaN</td>\n",
              "      <td>Returned</td>\n",
              "      <td>NaN</td>\n",
              "      <td>NaN</td>\n",
              "      <td>NaN</td>\n",
              "      <td>https://shakespeareandco.princeton.edu/books/s...</td>\n",
              "      <td>Tents of Israel</td>\n",
              "      <td>NaN</td>\n",
              "      <td>Stern, G. B.</td>\n",
              "      <td>1924.0</td>\n",
              "      <td>NaN</td>\n",
              "      <td>Lending Library Card</td>\n",
              "      <td>Sylvia Beach, Ada and Archibald MacLeish Lendi...</td>\n",
              "      <td>https://figgy.princeton.edu/concern/scanned_re...</td>\n",
              "      <td>https://iiif.princeton.edu/loris/figgy_prod/22...</td>\n",
              "      <td>stern-tents-israel</td>\n",
              "    </tr>\n",
              "    <tr>\n",
              "      <th>38</th>\n",
              "      <td>Borrow</td>\n",
              "      <td>1929</td>\n",
              "      <td>1929-03-13</td>\n",
              "      <td>https://shakespeareandco.princeton.edu/members...</td>\n",
              "      <td>Elvira de Alvear</td>\n",
              "      <td>de Alvear, Elvira</td>\n",
              "      <td>NaN</td>\n",
              "      <td>NaN</td>\n",
              "      <td>NaN</td>\n",
              "      <td>NaN</td>\n",
              "      <td>NaN</td>\n",
              "      <td>NaN</td>\n",
              "      <td>NaN</td>\n",
              "      <td>NaN</td>\n",
              "      <td>Returned</td>\n",
              "      <td>NaN</td>\n",
              "      <td>NaN</td>\n",
              "      <td>NaN</td>\n",
              "      <td>https://shakespeareandco.princeton.edu/books/y...</td>\n",
              "      <td>Later Poems</td>\n",
              "      <td>NaN</td>\n",
              "      <td>Yeats, William Butler</td>\n",
              "      <td>1922.0</td>\n",
              "      <td>NaN</td>\n",
              "      <td>Lending Library Card</td>\n",
              "      <td>Sylvia Beach, Elvira de Alvear Lending Library...</td>\n",
              "      <td>https://figgy.princeton.edu/concern/scanned_re...</td>\n",
              "      <td>https://iiif.princeton.edu/loris/figgy_prod/1b...</td>\n",
              "      <td>yeats-later-poems</td>\n",
              "    </tr>\n",
              "    <tr>\n",
              "      <th>...</th>\n",
              "      <td>...</td>\n",
              "      <td>...</td>\n",
              "      <td>...</td>\n",
              "      <td>...</td>\n",
              "      <td>...</td>\n",
              "      <td>...</td>\n",
              "      <td>...</td>\n",
              "      <td>...</td>\n",
              "      <td>...</td>\n",
              "      <td>...</td>\n",
              "      <td>...</td>\n",
              "      <td>...</td>\n",
              "      <td>...</td>\n",
              "      <td>...</td>\n",
              "      <td>...</td>\n",
              "      <td>...</td>\n",
              "      <td>...</td>\n",
              "      <td>...</td>\n",
              "      <td>...</td>\n",
              "      <td>...</td>\n",
              "      <td>...</td>\n",
              "      <td>...</td>\n",
              "      <td>...</td>\n",
              "      <td>...</td>\n",
              "      <td>...</td>\n",
              "      <td>...</td>\n",
              "      <td>...</td>\n",
              "      <td>...</td>\n",
              "      <td>...</td>\n",
              "    </tr>\n",
              "    <tr>\n",
              "      <th>35429</th>\n",
              "      <td>Borrow</td>\n",
              "      <td>NaN</td>\n",
              "      <td>NaN</td>\n",
              "      <td>https://shakespeareandco.princeton.edu/members...</td>\n",
              "      <td>James Joyce</td>\n",
              "      <td>Joyce, James</td>\n",
              "      <td>NaN</td>\n",
              "      <td>NaN</td>\n",
              "      <td>NaN</td>\n",
              "      <td>NaN</td>\n",
              "      <td>NaN</td>\n",
              "      <td>NaN</td>\n",
              "      <td>NaN</td>\n",
              "      <td>NaN</td>\n",
              "      <td>Unknown</td>\n",
              "      <td>NaN</td>\n",
              "      <td>NaN</td>\n",
              "      <td>NaN</td>\n",
              "      <td>https://shakespeareandco.princeton.edu/books/s...</td>\n",
              "      <td>The Expedition of Humphry Clinker</td>\n",
              "      <td>NaN</td>\n",
              "      <td>Smollett, Tobias</td>\n",
              "      <td>1771.0</td>\n",
              "      <td>NaN</td>\n",
              "      <td>Lending Library Card</td>\n",
              "      <td>James Joyce's lending library cards not repres...</td>\n",
              "      <td>NaN</td>\n",
              "      <td>NaN</td>\n",
              "      <td>smollett-expedition-humphry-clinker</td>\n",
              "    </tr>\n",
              "    <tr>\n",
              "      <th>35457</th>\n",
              "      <td>Borrow</td>\n",
              "      <td>NaN</td>\n",
              "      <td>NaN</td>\n",
              "      <td>https://shakespeareandco.princeton.edu/members...</td>\n",
              "      <td>Bernard Hommel</td>\n",
              "      <td>Hommel, Bernard</td>\n",
              "      <td>NaN</td>\n",
              "      <td>NaN</td>\n",
              "      <td>NaN</td>\n",
              "      <td>NaN</td>\n",
              "      <td>NaN</td>\n",
              "      <td>NaN</td>\n",
              "      <td>NaN</td>\n",
              "      <td>NaN</td>\n",
              "      <td>Returned</td>\n",
              "      <td>NaN</td>\n",
              "      <td>NaN</td>\n",
              "      <td>NaN</td>\n",
              "      <td>https://shakespeareandco.princeton.edu/books/h...</td>\n",
              "      <td>Poems</td>\n",
              "      <td>NaN</td>\n",
              "      <td>Heine, Heinrich</td>\n",
              "      <td>NaN</td>\n",
              "      <td>NaN</td>\n",
              "      <td>Lending Library Card</td>\n",
              "      <td>Sylvia Beach, Bernard Hommel Lending Library C...</td>\n",
              "      <td>https://figgy.princeton.edu/concern/scanned_re...</td>\n",
              "      <td>https://iiif.princeton.edu/loris/figgy_prod/e4...</td>\n",
              "      <td>heine-poems</td>\n",
              "    </tr>\n",
              "    <tr>\n",
              "      <th>35460</th>\n",
              "      <td>Borrow</td>\n",
              "      <td>NaN</td>\n",
              "      <td>NaN</td>\n",
              "      <td>https://shakespeareandco.princeton.edu/members...</td>\n",
              "      <td>Bernard Hommel</td>\n",
              "      <td>Hommel, Bernard</td>\n",
              "      <td>NaN</td>\n",
              "      <td>NaN</td>\n",
              "      <td>NaN</td>\n",
              "      <td>NaN</td>\n",
              "      <td>NaN</td>\n",
              "      <td>NaN</td>\n",
              "      <td>NaN</td>\n",
              "      <td>NaN</td>\n",
              "      <td>Returned</td>\n",
              "      <td>NaN</td>\n",
              "      <td>NaN</td>\n",
              "      <td>NaN</td>\n",
              "      <td>https://shakespeareandco.princeton.edu/books/c...</td>\n",
              "      <td>Exile's Return: A Narrative of Ideas</td>\n",
              "      <td>NaN</td>\n",
              "      <td>Cowley, Malcolm</td>\n",
              "      <td>1934.0</td>\n",
              "      <td>NaN</td>\n",
              "      <td>Lending Library Card</td>\n",
              "      <td>Sylvia Beach, Bernard Hommel Lending Library C...</td>\n",
              "      <td>https://figgy.princeton.edu/concern/scanned_re...</td>\n",
              "      <td>https://iiif.princeton.edu/loris/figgy_prod/e4...</td>\n",
              "      <td>cowley-exiles-return-narrative</td>\n",
              "    </tr>\n",
              "    <tr>\n",
              "      <th>35463</th>\n",
              "      <td>Borrow</td>\n",
              "      <td>NaN</td>\n",
              "      <td>NaN</td>\n",
              "      <td>https://shakespeareandco.princeton.edu/members...</td>\n",
              "      <td>Bernard Hommel</td>\n",
              "      <td>Hommel, Bernard</td>\n",
              "      <td>NaN</td>\n",
              "      <td>NaN</td>\n",
              "      <td>NaN</td>\n",
              "      <td>NaN</td>\n",
              "      <td>NaN</td>\n",
              "      <td>NaN</td>\n",
              "      <td>NaN</td>\n",
              "      <td>NaN</td>\n",
              "      <td>Returned</td>\n",
              "      <td>NaN</td>\n",
              "      <td>NaN</td>\n",
              "      <td>NaN</td>\n",
              "      <td>https://shakespeareandco.princeton.edu/books/w...</td>\n",
              "      <td>Axel's Castle: A Study in the Imaginative Lite...</td>\n",
              "      <td>NaN</td>\n",
              "      <td>Wilson, Edmund</td>\n",
              "      <td>1931.0</td>\n",
              "      <td>NaN</td>\n",
              "      <td>Lending Library Card</td>\n",
              "      <td>Sylvia Beach, Bernard Hommel Lending Library C...</td>\n",
              "      <td>https://figgy.princeton.edu/concern/scanned_re...</td>\n",
              "      <td>https://iiif.princeton.edu/loris/figgy_prod/e4...</td>\n",
              "      <td>wilson-axels-castle-study</td>\n",
              "    </tr>\n",
              "    <tr>\n",
              "      <th>35485</th>\n",
              "      <td>Borrow</td>\n",
              "      <td>NaN</td>\n",
              "      <td>NaN</td>\n",
              "      <td>https://shakespeareandco.princeton.edu/members...</td>\n",
              "      <td>Bernard Hommel</td>\n",
              "      <td>Hommel, Bernard</td>\n",
              "      <td>NaN</td>\n",
              "      <td>NaN</td>\n",
              "      <td>NaN</td>\n",
              "      <td>NaN</td>\n",
              "      <td>NaN</td>\n",
              "      <td>NaN</td>\n",
              "      <td>NaN</td>\n",
              "      <td>NaN</td>\n",
              "      <td>Returned</td>\n",
              "      <td>NaN</td>\n",
              "      <td>NaN</td>\n",
              "      <td>NaN</td>\n",
              "      <td>https://shakespeareandco.princeton.edu/books/j...</td>\n",
              "      <td>Pomes Penyeach</td>\n",
              "      <td>NaN</td>\n",
              "      <td>Joyce, James</td>\n",
              "      <td>1927.0</td>\n",
              "      <td>NaN</td>\n",
              "      <td>Lending Library Card</td>\n",
              "      <td>Sylvia Beach, Bernard Hommel Lending Library C...</td>\n",
              "      <td>https://figgy.princeton.edu/concern/scanned_re...</td>\n",
              "      <td>https://iiif.princeton.edu/loris/figgy_prod/e4...</td>\n",
              "      <td>joyce-pomes-penyeach</td>\n",
              "    </tr>\n",
              "  </tbody>\n",
              "</table>\n",
              "<p>20316 rows × 29 columns</p>\n",
              "</div>\n",
              "      <button class=\"colab-df-convert\" onclick=\"convertToInteractive('df-ab4dc3f8-52d5-4e92-8b80-c90f60497430')\"\n",
              "              title=\"Convert this dataframe to an interactive table.\"\n",
              "              style=\"display:none;\">\n",
              "        \n",
              "  <svg xmlns=\"http://www.w3.org/2000/svg\" height=\"24px\"viewBox=\"0 0 24 24\"\n",
              "       width=\"24px\">\n",
              "    <path d=\"M0 0h24v24H0V0z\" fill=\"none\"/>\n",
              "    <path d=\"M18.56 5.44l.94 2.06.94-2.06 2.06-.94-2.06-.94-.94-2.06-.94 2.06-2.06.94zm-11 1L8.5 8.5l.94-2.06 2.06-.94-2.06-.94L8.5 2.5l-.94 2.06-2.06.94zm10 10l.94 2.06.94-2.06 2.06-.94-2.06-.94-.94-2.06-.94 2.06-2.06.94z\"/><path d=\"M17.41 7.96l-1.37-1.37c-.4-.4-.92-.59-1.43-.59-.52 0-1.04.2-1.43.59L10.3 9.45l-7.72 7.72c-.78.78-.78 2.05 0 2.83L4 21.41c.39.39.9.59 1.41.59.51 0 1.02-.2 1.41-.59l7.78-7.78 2.81-2.81c.8-.78.8-2.07 0-2.86zM5.41 20L4 18.59l7.72-7.72 1.47 1.35L5.41 20z\"/>\n",
              "  </svg>\n",
              "      </button>\n",
              "      \n",
              "  <style>\n",
              "    .colab-df-container {\n",
              "      display:flex;\n",
              "      flex-wrap:wrap;\n",
              "      gap: 12px;\n",
              "    }\n",
              "\n",
              "    .colab-df-convert {\n",
              "      background-color: #E8F0FE;\n",
              "      border: none;\n",
              "      border-radius: 50%;\n",
              "      cursor: pointer;\n",
              "      display: none;\n",
              "      fill: #1967D2;\n",
              "      height: 32px;\n",
              "      padding: 0 0 0 0;\n",
              "      width: 32px;\n",
              "    }\n",
              "\n",
              "    .colab-df-convert:hover {\n",
              "      background-color: #E2EBFA;\n",
              "      box-shadow: 0px 1px 2px rgba(60, 64, 67, 0.3), 0px 1px 3px 1px rgba(60, 64, 67, 0.15);\n",
              "      fill: #174EA6;\n",
              "    }\n",
              "\n",
              "    [theme=dark] .colab-df-convert {\n",
              "      background-color: #3B4455;\n",
              "      fill: #D2E3FC;\n",
              "    }\n",
              "\n",
              "    [theme=dark] .colab-df-convert:hover {\n",
              "      background-color: #434B5C;\n",
              "      box-shadow: 0px 1px 3px 1px rgba(0, 0, 0, 0.15);\n",
              "      filter: drop-shadow(0px 1px 2px rgba(0, 0, 0, 0.3));\n",
              "      fill: #FFFFFF;\n",
              "    }\n",
              "  </style>\n",
              "\n",
              "      <script>\n",
              "        const buttonEl =\n",
              "          document.querySelector('#df-ab4dc3f8-52d5-4e92-8b80-c90f60497430 button.colab-df-convert');\n",
              "        buttonEl.style.display =\n",
              "          google.colab.kernel.accessAllowed ? 'block' : 'none';\n",
              "\n",
              "        async function convertToInteractive(key) {\n",
              "          const element = document.querySelector('#df-ab4dc3f8-52d5-4e92-8b80-c90f60497430');\n",
              "          const dataTable =\n",
              "            await google.colab.kernel.invokeFunction('convertToInteractive',\n",
              "                                                     [key], {});\n",
              "          if (!dataTable) return;\n",
              "\n",
              "          const docLinkHtml = 'Like what you see? Visit the ' +\n",
              "            '<a target=\"_blank\" href=https://colab.research.google.com/notebooks/data_table.ipynb>data table notebook</a>'\n",
              "            + ' to learn more about interactive tables.';\n",
              "          element.innerHTML = '';\n",
              "          dataTable['output_type'] = 'display_data';\n",
              "          await google.colab.output.renderOutput(dataTable, element);\n",
              "          const docLink = document.createElement('div');\n",
              "          docLink.innerHTML = docLinkHtml;\n",
              "          element.appendChild(docLink);\n",
              "        }\n",
              "      </script>\n",
              "    </div>\n",
              "  </div>\n",
              "  "
            ],
            "text/plain": [
              "      event_type  ...                              item_id\n",
              "2         Borrow  ...                       conrad-typhoon\n",
              "8         Borrow  ...                      woolf-night-day\n",
              "13        Borrow  ...        freeman-portrait-george-moore\n",
              "22        Borrow  ...                   stern-tents-israel\n",
              "38        Borrow  ...                    yeats-later-poems\n",
              "...          ...  ...                                  ...\n",
              "35429     Borrow  ...  smollett-expedition-humphry-clinker\n",
              "35457     Borrow  ...                          heine-poems\n",
              "35460     Borrow  ...       cowley-exiles-return-narrative\n",
              "35463     Borrow  ...            wilson-axels-castle-study\n",
              "35485     Borrow  ...                 joyce-pomes-penyeach\n",
              "\n",
              "[20316 rows x 29 columns]"
            ]
          },
          "metadata": {},
          "execution_count": 26
        }
      ]
    },
    {
      "cell_type": "code",
      "source": [
        "def get_best_date(row):\n",
        "  # dates are strings; return the longest\n",
        "  start_date_len = len(row.start_date) if pd.notna(row.start_date) else 0\n",
        "  end_date_len = len(row.end_date) if pd.notna(row.end_date) else 0\n",
        "\n",
        "  if start_date_len > end_date_len:\n",
        "    return row.start_date\n",
        "  else:\n",
        "    return row.end_date\n",
        "\n",
        "# get either start or end date, whichever we find first\n",
        "\n",
        "certain_borrows['date'] = certain_borrows.apply(get_best_date, axis=1)\n",
        "certain_borrows[['start_date', 'end_date', 'date']].head()"
      ],
      "metadata": {
        "colab": {
          "base_uri": "https://localhost:8080/",
          "height": 319
        },
        "id": "XU3N82sLcU36",
        "outputId": "32f729e2-f68d-4733-f7cb-77a6815e1f96"
      },
      "execution_count": null,
      "outputs": [
        {
          "output_type": "stream",
          "name": "stderr",
          "text": [
            "/usr/local/lib/python3.7/dist-packages/ipykernel_launcher.py:13: SettingWithCopyWarning: \n",
            "A value is trying to be set on a copy of a slice from a DataFrame.\n",
            "Try using .loc[row_indexer,col_indexer] = value instead\n",
            "\n",
            "See the caveats in the documentation: https://pandas.pydata.org/pandas-docs/stable/user_guide/indexing.html#returning-a-view-versus-a-copy\n",
            "  del sys.path[0]\n"
          ]
        },
        {
          "output_type": "execute_result",
          "data": {
            "text/html": [
              "\n",
              "  <div id=\"df-a966819b-3fec-45c5-a52b-de0157b6853e\">\n",
              "    <div class=\"colab-df-container\">\n",
              "      <div>\n",
              "<style scoped>\n",
              "    .dataframe tbody tr th:only-of-type {\n",
              "        vertical-align: middle;\n",
              "    }\n",
              "\n",
              "    .dataframe tbody tr th {\n",
              "        vertical-align: top;\n",
              "    }\n",
              "\n",
              "    .dataframe thead th {\n",
              "        text-align: right;\n",
              "    }\n",
              "</style>\n",
              "<table border=\"1\" class=\"dataframe\">\n",
              "  <thead>\n",
              "    <tr style=\"text-align: right;\">\n",
              "      <th></th>\n",
              "      <th>start_date</th>\n",
              "      <th>end_date</th>\n",
              "      <th>date</th>\n",
              "    </tr>\n",
              "  </thead>\n",
              "  <tbody>\n",
              "    <tr>\n",
              "      <th>2</th>\n",
              "      <td>1922</td>\n",
              "      <td>1922-08-23</td>\n",
              "      <td>1922-08-23</td>\n",
              "    </tr>\n",
              "    <tr>\n",
              "      <th>8</th>\n",
              "      <td>1923</td>\n",
              "      <td>1923-11-07</td>\n",
              "      <td>1923-11-07</td>\n",
              "    </tr>\n",
              "    <tr>\n",
              "      <th>13</th>\n",
              "      <td>1924</td>\n",
              "      <td>1924-10-22</td>\n",
              "      <td>1924-10-22</td>\n",
              "    </tr>\n",
              "    <tr>\n",
              "      <th>22</th>\n",
              "      <td>1926</td>\n",
              "      <td>1926-01-14</td>\n",
              "      <td>1926-01-14</td>\n",
              "    </tr>\n",
              "    <tr>\n",
              "      <th>38</th>\n",
              "      <td>1929</td>\n",
              "      <td>1929-03-13</td>\n",
              "      <td>1929-03-13</td>\n",
              "    </tr>\n",
              "  </tbody>\n",
              "</table>\n",
              "</div>\n",
              "      <button class=\"colab-df-convert\" onclick=\"convertToInteractive('df-a966819b-3fec-45c5-a52b-de0157b6853e')\"\n",
              "              title=\"Convert this dataframe to an interactive table.\"\n",
              "              style=\"display:none;\">\n",
              "        \n",
              "  <svg xmlns=\"http://www.w3.org/2000/svg\" height=\"24px\"viewBox=\"0 0 24 24\"\n",
              "       width=\"24px\">\n",
              "    <path d=\"M0 0h24v24H0V0z\" fill=\"none\"/>\n",
              "    <path d=\"M18.56 5.44l.94 2.06.94-2.06 2.06-.94-2.06-.94-.94-2.06-.94 2.06-2.06.94zm-11 1L8.5 8.5l.94-2.06 2.06-.94-2.06-.94L8.5 2.5l-.94 2.06-2.06.94zm10 10l.94 2.06.94-2.06 2.06-.94-2.06-.94-.94-2.06-.94 2.06-2.06.94z\"/><path d=\"M17.41 7.96l-1.37-1.37c-.4-.4-.92-.59-1.43-.59-.52 0-1.04.2-1.43.59L10.3 9.45l-7.72 7.72c-.78.78-.78 2.05 0 2.83L4 21.41c.39.39.9.59 1.41.59.51 0 1.02-.2 1.41-.59l7.78-7.78 2.81-2.81c.8-.78.8-2.07 0-2.86zM5.41 20L4 18.59l7.72-7.72 1.47 1.35L5.41 20z\"/>\n",
              "  </svg>\n",
              "      </button>\n",
              "      \n",
              "  <style>\n",
              "    .colab-df-container {\n",
              "      display:flex;\n",
              "      flex-wrap:wrap;\n",
              "      gap: 12px;\n",
              "    }\n",
              "\n",
              "    .colab-df-convert {\n",
              "      background-color: #E8F0FE;\n",
              "      border: none;\n",
              "      border-radius: 50%;\n",
              "      cursor: pointer;\n",
              "      display: none;\n",
              "      fill: #1967D2;\n",
              "      height: 32px;\n",
              "      padding: 0 0 0 0;\n",
              "      width: 32px;\n",
              "    }\n",
              "\n",
              "    .colab-df-convert:hover {\n",
              "      background-color: #E2EBFA;\n",
              "      box-shadow: 0px 1px 2px rgba(60, 64, 67, 0.3), 0px 1px 3px 1px rgba(60, 64, 67, 0.15);\n",
              "      fill: #174EA6;\n",
              "    }\n",
              "\n",
              "    [theme=dark] .colab-df-convert {\n",
              "      background-color: #3B4455;\n",
              "      fill: #D2E3FC;\n",
              "    }\n",
              "\n",
              "    [theme=dark] .colab-df-convert:hover {\n",
              "      background-color: #434B5C;\n",
              "      box-shadow: 0px 1px 3px 1px rgba(0, 0, 0, 0.15);\n",
              "      filter: drop-shadow(0px 1px 2px rgba(0, 0, 0, 0.3));\n",
              "      fill: #FFFFFF;\n",
              "    }\n",
              "  </style>\n",
              "\n",
              "      <script>\n",
              "        const buttonEl =\n",
              "          document.querySelector('#df-a966819b-3fec-45c5-a52b-de0157b6853e button.colab-df-convert');\n",
              "        buttonEl.style.display =\n",
              "          google.colab.kernel.accessAllowed ? 'block' : 'none';\n",
              "\n",
              "        async function convertToInteractive(key) {\n",
              "          const element = document.querySelector('#df-a966819b-3fec-45c5-a52b-de0157b6853e');\n",
              "          const dataTable =\n",
              "            await google.colab.kernel.invokeFunction('convertToInteractive',\n",
              "                                                     [key], {});\n",
              "          if (!dataTable) return;\n",
              "\n",
              "          const docLinkHtml = 'Like what you see? Visit the ' +\n",
              "            '<a target=\"_blank\" href=https://colab.research.google.com/notebooks/data_table.ipynb>data table notebook</a>'\n",
              "            + ' to learn more about interactive tables.';\n",
              "          element.innerHTML = '';\n",
              "          dataTable['output_type'] = 'display_data';\n",
              "          await google.colab.output.renderOutput(dataTable, element);\n",
              "          const docLink = document.createElement('div');\n",
              "          docLink.innerHTML = docLinkHtml;\n",
              "          element.appendChild(docLink);\n",
              "        }\n",
              "      </script>\n",
              "    </div>\n",
              "  </div>\n",
              "  "
            ],
            "text/plain": [
              "   start_date    end_date        date\n",
              "2        1922  1922-08-23  1922-08-23\n",
              "8        1923  1923-11-07  1923-11-07\n",
              "13       1924  1924-10-22  1924-10-22\n",
              "22       1926  1926-01-14  1926-01-14\n",
              "38       1929  1929-03-13  1929-03-13"
            ]
          },
          "metadata": {},
          "execution_count": 27
        }
      ]
    },
    {
      "cell_type": "code",
      "source": [
        "certain_borrows['date_dt'] = pd.to_datetime(certain_borrows.date, errors='coerce')"
      ],
      "metadata": {
        "colab": {
          "base_uri": "https://localhost:8080/"
        },
        "id": "ayPlDmYachkZ",
        "outputId": "d564e630-a7ff-4958-fc36-9305fb3fefab"
      },
      "execution_count": null,
      "outputs": [
        {
          "output_type": "stream",
          "name": "stderr",
          "text": [
            "/usr/local/lib/python3.7/dist-packages/ipykernel_launcher.py:1: SettingWithCopyWarning: \n",
            "A value is trying to be set on a copy of a slice from a DataFrame.\n",
            "Try using .loc[row_indexer,col_indexer] = value instead\n",
            "\n",
            "See the caveats in the documentation: https://pandas.pydata.org/pandas-docs/stable/user_guide/indexing.html#returning-a-view-versus-a-copy\n",
            "  \"\"\"Entry point for launching an IPython kernel.\n"
          ]
        }
      ]
    },
    {
      "cell_type": "code",
      "source": [
        "# catalog borrows ? or post 1933 ?\n",
        "# February 17 1931 to September 25 1932 (586 days)\n",
        "# let's just do after this gap\n",
        "\n",
        "from datetime import date\n",
        "\n",
        "range_start = pd.to_datetime(date(1932, 9, 26))\n",
        "\n",
        "later_borrows = certain_borrows[certain_borrows.date_dt >= range_start]\n",
        "later_borrows\n",
        "\n"
      ],
      "metadata": {
        "colab": {
          "base_uri": "https://localhost:8080/",
          "height": 922
        },
        "id": "ic0nIXj9cl-R",
        "outputId": "072f0e64-41c6-46b8-e890-f448affe33e0"
      },
      "execution_count": null,
      "outputs": [
        {
          "output_type": "execute_result",
          "data": {
            "text/html": [
              "\n",
              "  <div id=\"df-9df9e345-3be8-48c1-b837-460cddc8d5e7\">\n",
              "    <div class=\"colab-df-container\">\n",
              "      <div>\n",
              "<style scoped>\n",
              "    .dataframe tbody tr th:only-of-type {\n",
              "        vertical-align: middle;\n",
              "    }\n",
              "\n",
              "    .dataframe tbody tr th {\n",
              "        vertical-align: top;\n",
              "    }\n",
              "\n",
              "    .dataframe thead th {\n",
              "        text-align: right;\n",
              "    }\n",
              "</style>\n",
              "<table border=\"1\" class=\"dataframe\">\n",
              "  <thead>\n",
              "    <tr style=\"text-align: right;\">\n",
              "      <th></th>\n",
              "      <th>event_type</th>\n",
              "      <th>start_date</th>\n",
              "      <th>end_date</th>\n",
              "      <th>member_uris</th>\n",
              "      <th>member_names</th>\n",
              "      <th>member_sort_names</th>\n",
              "      <th>subscription_price_paid</th>\n",
              "      <th>subscription_deposit</th>\n",
              "      <th>subscription_duration</th>\n",
              "      <th>subscription_duration_days</th>\n",
              "      <th>subscription_volumes</th>\n",
              "      <th>subscription_category</th>\n",
              "      <th>subscription_purchase_date</th>\n",
              "      <th>reimbursement_refund</th>\n",
              "      <th>borrow_status</th>\n",
              "      <th>borrow_duration_days</th>\n",
              "      <th>purchase_price</th>\n",
              "      <th>currency</th>\n",
              "      <th>item_uri</th>\n",
              "      <th>item_title</th>\n",
              "      <th>item_volume</th>\n",
              "      <th>item_authors</th>\n",
              "      <th>item_year</th>\n",
              "      <th>item_notes</th>\n",
              "      <th>source_type</th>\n",
              "      <th>source_citation</th>\n",
              "      <th>source_manifest</th>\n",
              "      <th>source_image</th>\n",
              "      <th>item_id</th>\n",
              "      <th>date</th>\n",
              "      <th>date_dt</th>\n",
              "    </tr>\n",
              "  </thead>\n",
              "  <tbody>\n",
              "    <tr>\n",
              "      <th>121</th>\n",
              "      <td>Borrow</td>\n",
              "      <td>1934</td>\n",
              "      <td>1934-11-16</td>\n",
              "      <td>https://shakespeareandco.princeton.edu/members...</td>\n",
              "      <td>Catherine Marie Knight Peake / Mrs. Charles Pe...</td>\n",
              "      <td>Peake, Catherine;Peake, Charles</td>\n",
              "      <td>NaN</td>\n",
              "      <td>NaN</td>\n",
              "      <td>NaN</td>\n",
              "      <td>NaN</td>\n",
              "      <td>NaN</td>\n",
              "      <td>NaN</td>\n",
              "      <td>NaN</td>\n",
              "      <td>NaN</td>\n",
              "      <td>Returned</td>\n",
              "      <td>NaN</td>\n",
              "      <td>NaN</td>\n",
              "      <td>NaN</td>\n",
              "      <td>https://shakespeareandco.princeton.edu/books/b...</td>\n",
              "      <td>James Joyce and the Making of Ulysses</td>\n",
              "      <td>NaN</td>\n",
              "      <td>Budgen, Frank</td>\n",
              "      <td>1934.0</td>\n",
              "      <td>NaN</td>\n",
              "      <td>Lending Library Card</td>\n",
              "      <td>Sylvia Beach, Charles Peake Lending Library Ca...</td>\n",
              "      <td>https://figgy.princeton.edu/concern/scanned_re...</td>\n",
              "      <td>https://iiif.princeton.edu/loris/figgy_prod/0c...</td>\n",
              "      <td>budgen-james-joyce-making</td>\n",
              "      <td>1934-11-16</td>\n",
              "      <td>1934-11-16</td>\n",
              "    </tr>\n",
              "    <tr>\n",
              "      <th>140</th>\n",
              "      <td>Borrow</td>\n",
              "      <td>1936</td>\n",
              "      <td>1936-12-04</td>\n",
              "      <td>https://shakespeareandco.princeton.edu/members...</td>\n",
              "      <td>Suzanne Mespoulet</td>\n",
              "      <td>Mespoulet, Suzanne</td>\n",
              "      <td>NaN</td>\n",
              "      <td>NaN</td>\n",
              "      <td>NaN</td>\n",
              "      <td>NaN</td>\n",
              "      <td>NaN</td>\n",
              "      <td>NaN</td>\n",
              "      <td>NaN</td>\n",
              "      <td>NaN</td>\n",
              "      <td>Returned</td>\n",
              "      <td>NaN</td>\n",
              "      <td>NaN</td>\n",
              "      <td>NaN</td>\n",
              "      <td>https://shakespeareandco.princeton.edu/books/d...</td>\n",
              "      <td>Restoration Comedy, 1660 – 1720</td>\n",
              "      <td>NaN</td>\n",
              "      <td>Dobrée, Bonamy</td>\n",
              "      <td>1924.0</td>\n",
              "      <td>NaN</td>\n",
              "      <td>Lending Library Card</td>\n",
              "      <td>Sylvia Beach, Suzanne Mespoulet Lending Librar...</td>\n",
              "      <td>https://figgy.princeton.edu/concern/scanned_re...</td>\n",
              "      <td>https://iiif.princeton.edu/loris/figgy_prod/67...</td>\n",
              "      <td>dobree-restoration-comedy-1660</td>\n",
              "      <td>1936-12-04</td>\n",
              "      <td>1936-12-04</td>\n",
              "    </tr>\n",
              "    <tr>\n",
              "      <th>149</th>\n",
              "      <td>Borrow</td>\n",
              "      <td>1937</td>\n",
              "      <td>1937-06-01</td>\n",
              "      <td>https://shakespeareandco.princeton.edu/members...</td>\n",
              "      <td>Fernand Colens</td>\n",
              "      <td>Colens, Fernand</td>\n",
              "      <td>NaN</td>\n",
              "      <td>NaN</td>\n",
              "      <td>NaN</td>\n",
              "      <td>NaN</td>\n",
              "      <td>NaN</td>\n",
              "      <td>NaN</td>\n",
              "      <td>NaN</td>\n",
              "      <td>NaN</td>\n",
              "      <td>Returned</td>\n",
              "      <td>NaN</td>\n",
              "      <td>NaN</td>\n",
              "      <td>NaN</td>\n",
              "      <td>https://shakespeareandco.princeton.edu/books/d...</td>\n",
              "      <td>The Friendly Tree</td>\n",
              "      <td>NaN</td>\n",
              "      <td>Day Lewis, C.</td>\n",
              "      <td>1936.0</td>\n",
              "      <td>NaN</td>\n",
              "      <td>Lending Library Card</td>\n",
              "      <td>Sylvia Beach, Fernand Colens Lending Library C...</td>\n",
              "      <td>https://figgy.princeton.edu/concern/scanned_re...</td>\n",
              "      <td>https://iiif-cloud.princeton.edu/iiif/2/6d%2F7...</td>\n",
              "      <td>day-lewis-friendly-tree</td>\n",
              "      <td>1937-06-01</td>\n",
              "      <td>1937-06-01</td>\n",
              "    </tr>\n",
              "    <tr>\n",
              "      <th>150</th>\n",
              "      <td>Borrow</td>\n",
              "      <td>1937</td>\n",
              "      <td>1937-12-08</td>\n",
              "      <td>https://shakespeareandco.princeton.edu/members...</td>\n",
              "      <td>Fanny Rirachowsky</td>\n",
              "      <td>Rirachowsky, Fanny</td>\n",
              "      <td>NaN</td>\n",
              "      <td>NaN</td>\n",
              "      <td>NaN</td>\n",
              "      <td>NaN</td>\n",
              "      <td>NaN</td>\n",
              "      <td>NaN</td>\n",
              "      <td>NaN</td>\n",
              "      <td>NaN</td>\n",
              "      <td>Returned</td>\n",
              "      <td>NaN</td>\n",
              "      <td>NaN</td>\n",
              "      <td>NaN</td>\n",
              "      <td>https://shakespeareandco.princeton.edu/books/s...</td>\n",
              "      <td>Poems</td>\n",
              "      <td>NaN</td>\n",
              "      <td>Spender, Stephen</td>\n",
              "      <td>1933.0</td>\n",
              "      <td>NaN</td>\n",
              "      <td>Lending Library Card</td>\n",
              "      <td>Sylvia Beach, Fanny Rirachowsky Lending Librar...</td>\n",
              "      <td>https://figgy.princeton.edu/concern/scanned_re...</td>\n",
              "      <td>https://iiif-cloud.princeton.edu/iiif/2/b8%2F1...</td>\n",
              "      <td>spender-poems</td>\n",
              "      <td>1937-12-08</td>\n",
              "      <td>1937-12-08</td>\n",
              "    </tr>\n",
              "    <tr>\n",
              "      <th>152</th>\n",
              "      <td>Borrow</td>\n",
              "      <td>1937</td>\n",
              "      <td>1937-12-08</td>\n",
              "      <td>https://shakespeareandco.princeton.edu/members...</td>\n",
              "      <td>Fanny Rirachowsky</td>\n",
              "      <td>Rirachowsky, Fanny</td>\n",
              "      <td>NaN</td>\n",
              "      <td>NaN</td>\n",
              "      <td>NaN</td>\n",
              "      <td>NaN</td>\n",
              "      <td>NaN</td>\n",
              "      <td>NaN</td>\n",
              "      <td>NaN</td>\n",
              "      <td>NaN</td>\n",
              "      <td>Returned</td>\n",
              "      <td>NaN</td>\n",
              "      <td>NaN</td>\n",
              "      <td>NaN</td>\n",
              "      <td>https://shakespeareandco.princeton.edu/books/t...</td>\n",
              "      <td>The Home and the World</td>\n",
              "      <td>NaN</td>\n",
              "      <td>Tagore, Rabindranath</td>\n",
              "      <td>1919.0</td>\n",
              "      <td>NaN</td>\n",
              "      <td>Lending Library Card</td>\n",
              "      <td>Sylvia Beach, Fanny Rirachowsky Lending Librar...</td>\n",
              "      <td>https://figgy.princeton.edu/concern/scanned_re...</td>\n",
              "      <td>https://iiif-cloud.princeton.edu/iiif/2/b8%2F1...</td>\n",
              "      <td>tagore-home-world</td>\n",
              "      <td>1937-12-08</td>\n",
              "      <td>1937-12-08</td>\n",
              "    </tr>\n",
              "    <tr>\n",
              "      <th>...</th>\n",
              "      <td>...</td>\n",
              "      <td>...</td>\n",
              "      <td>...</td>\n",
              "      <td>...</td>\n",
              "      <td>...</td>\n",
              "      <td>...</td>\n",
              "      <td>...</td>\n",
              "      <td>...</td>\n",
              "      <td>...</td>\n",
              "      <td>...</td>\n",
              "      <td>...</td>\n",
              "      <td>...</td>\n",
              "      <td>...</td>\n",
              "      <td>...</td>\n",
              "      <td>...</td>\n",
              "      <td>...</td>\n",
              "      <td>...</td>\n",
              "      <td>...</td>\n",
              "      <td>...</td>\n",
              "      <td>...</td>\n",
              "      <td>...</td>\n",
              "      <td>...</td>\n",
              "      <td>...</td>\n",
              "      <td>...</td>\n",
              "      <td>...</td>\n",
              "      <td>...</td>\n",
              "      <td>...</td>\n",
              "      <td>...</td>\n",
              "      <td>...</td>\n",
              "      <td>...</td>\n",
              "      <td>...</td>\n",
              "    </tr>\n",
              "    <tr>\n",
              "      <th>29908</th>\n",
              "      <td>Borrow</td>\n",
              "      <td>1961-10-04</td>\n",
              "      <td>1962-03-21</td>\n",
              "      <td>https://shakespeareandco.princeton.edu/members...</td>\n",
              "      <td>Ann Samyn</td>\n",
              "      <td>Samyn, Ann</td>\n",
              "      <td>NaN</td>\n",
              "      <td>NaN</td>\n",
              "      <td>NaN</td>\n",
              "      <td>NaN</td>\n",
              "      <td>NaN</td>\n",
              "      <td>NaN</td>\n",
              "      <td>NaN</td>\n",
              "      <td>NaN</td>\n",
              "      <td>Returned</td>\n",
              "      <td>168.0</td>\n",
              "      <td>NaN</td>\n",
              "      <td>NaN</td>\n",
              "      <td>https://shakespeareandco.princeton.edu/books/m...</td>\n",
              "      <td>North America: Continent of Conjecture</td>\n",
              "      <td>NaN</td>\n",
              "      <td>McAlmon, Robert</td>\n",
              "      <td>1929.0</td>\n",
              "      <td>NaN</td>\n",
              "      <td>Lending Library Card</td>\n",
              "      <td>Sylvia Beach, Mademoiselle Anne Samyn Lending ...</td>\n",
              "      <td>https://figgy.princeton.edu/concern/scanned_re...</td>\n",
              "      <td>https://iiif.princeton.edu/loris/figgy_prod/9a...</td>\n",
              "      <td>mcalmon-north-america-continent</td>\n",
              "      <td>1962-03-21</td>\n",
              "      <td>1962-03-21</td>\n",
              "    </tr>\n",
              "    <tr>\n",
              "      <th>29909</th>\n",
              "      <td>Borrow</td>\n",
              "      <td>1961-12-14</td>\n",
              "      <td>NaN</td>\n",
              "      <td>https://shakespeareandco.princeton.edu/members...</td>\n",
              "      <td>Hélène (Focillon) Baltrusaitis</td>\n",
              "      <td>Baltrusaitis, Hélène</td>\n",
              "      <td>NaN</td>\n",
              "      <td>NaN</td>\n",
              "      <td>NaN</td>\n",
              "      <td>NaN</td>\n",
              "      <td>NaN</td>\n",
              "      <td>NaN</td>\n",
              "      <td>NaN</td>\n",
              "      <td>NaN</td>\n",
              "      <td>Unknown</td>\n",
              "      <td>NaN</td>\n",
              "      <td>NaN</td>\n",
              "      <td>NaN</td>\n",
              "      <td>https://shakespeareandco.princeton.edu/books/s...</td>\n",
              "      <td>Saturday Night and Sunday Morning</td>\n",
              "      <td>NaN</td>\n",
              "      <td>Sillitoe, Alan</td>\n",
              "      <td>1958.0</td>\n",
              "      <td>NaN</td>\n",
              "      <td>Lending Library Card</td>\n",
              "      <td>Sylvia Beach, Madame Helene Baltrusaitis Lendi...</td>\n",
              "      <td>https://figgy.princeton.edu/concern/scanned_re...</td>\n",
              "      <td>https://iiif.princeton.edu/loris/figgy_prod/c5...</td>\n",
              "      <td>sillitoe-saturday-night-sunday</td>\n",
              "      <td>1961-12-14</td>\n",
              "      <td>1961-12-14</td>\n",
              "    </tr>\n",
              "    <tr>\n",
              "      <th>29910</th>\n",
              "      <td>Borrow</td>\n",
              "      <td>1961-12-14</td>\n",
              "      <td>NaN</td>\n",
              "      <td>https://shakespeareandco.princeton.edu/members...</td>\n",
              "      <td>Hélène (Focillon) Baltrusaitis</td>\n",
              "      <td>Baltrusaitis, Hélène</td>\n",
              "      <td>NaN</td>\n",
              "      <td>NaN</td>\n",
              "      <td>NaN</td>\n",
              "      <td>NaN</td>\n",
              "      <td>NaN</td>\n",
              "      <td>NaN</td>\n",
              "      <td>NaN</td>\n",
              "      <td>NaN</td>\n",
              "      <td>Unknown</td>\n",
              "      <td>NaN</td>\n",
              "      <td>NaN</td>\n",
              "      <td>NaN</td>\n",
              "      <td>https://shakespeareandco.princeton.edu/books/b...</td>\n",
              "      <td>The Vodi</td>\n",
              "      <td>NaN</td>\n",
              "      <td>Braine, John</td>\n",
              "      <td>1959.0</td>\n",
              "      <td>NaN</td>\n",
              "      <td>Lending Library Card</td>\n",
              "      <td>Sylvia Beach, Madame Helene Baltrusaitis Lendi...</td>\n",
              "      <td>https://figgy.princeton.edu/concern/scanned_re...</td>\n",
              "      <td>https://iiif.princeton.edu/loris/figgy_prod/c5...</td>\n",
              "      <td>braine-vodi</td>\n",
              "      <td>1961-12-14</td>\n",
              "      <td>1961-12-14</td>\n",
              "    </tr>\n",
              "    <tr>\n",
              "      <th>29911</th>\n",
              "      <td>Borrow</td>\n",
              "      <td>1961-12-14</td>\n",
              "      <td>NaN</td>\n",
              "      <td>https://shakespeareandco.princeton.edu/members...</td>\n",
              "      <td>Hélène (Focillon) Baltrusaitis</td>\n",
              "      <td>Baltrusaitis, Hélène</td>\n",
              "      <td>NaN</td>\n",
              "      <td>NaN</td>\n",
              "      <td>NaN</td>\n",
              "      <td>NaN</td>\n",
              "      <td>NaN</td>\n",
              "      <td>NaN</td>\n",
              "      <td>NaN</td>\n",
              "      <td>NaN</td>\n",
              "      <td>Unknown</td>\n",
              "      <td>NaN</td>\n",
              "      <td>NaN</td>\n",
              "      <td>NaN</td>\n",
              "      <td>https://shakespeareandco.princeton.edu/books/o...</td>\n",
              "      <td>Look Back in Anger</td>\n",
              "      <td>NaN</td>\n",
              "      <td>Osborne, John</td>\n",
              "      <td>1957.0</td>\n",
              "      <td>NaN</td>\n",
              "      <td>Lending Library Card</td>\n",
              "      <td>Sylvia Beach, Madame Helene Baltrusaitis Lendi...</td>\n",
              "      <td>https://figgy.princeton.edu/concern/scanned_re...</td>\n",
              "      <td>https://iiif.princeton.edu/loris/figgy_prod/c5...</td>\n",
              "      <td>osborne-look-back-anger</td>\n",
              "      <td>1961-12-14</td>\n",
              "      <td>1961-12-14</td>\n",
              "    </tr>\n",
              "    <tr>\n",
              "      <th>29913</th>\n",
              "      <td>Borrow</td>\n",
              "      <td>1962-06-28</td>\n",
              "      <td>NaN</td>\n",
              "      <td>https://shakespeareandco.princeton.edu/members...</td>\n",
              "      <td>Jean-Dominique Rey</td>\n",
              "      <td>Rey, Jean-Dominique</td>\n",
              "      <td>NaN</td>\n",
              "      <td>NaN</td>\n",
              "      <td>NaN</td>\n",
              "      <td>NaN</td>\n",
              "      <td>NaN</td>\n",
              "      <td>NaN</td>\n",
              "      <td>NaN</td>\n",
              "      <td>NaN</td>\n",
              "      <td>Unknown</td>\n",
              "      <td>NaN</td>\n",
              "      <td>NaN</td>\n",
              "      <td>NaN</td>\n",
              "      <td>https://shakespeareandco.princeton.edu/books/a...</td>\n",
              "      <td>Les années vingt: Les écrivains Américains à P...</td>\n",
              "      <td>NaN</td>\n",
              "      <td>NaN</td>\n",
              "      <td>1959.0</td>\n",
              "      <td>A catalog for an exhibition at the Center Cult...</td>\n",
              "      <td>Lending Library Card</td>\n",
              "      <td>Sylvia Beach, Jean-Dominique Rey Lending Libra...</td>\n",
              "      <td>https://figgy.princeton.edu/concern/scanned_re...</td>\n",
              "      <td>https://iiif.princeton.edu/loris/figgy_prod/76...</td>\n",
              "      <td>annees-vingt-ecrivains</td>\n",
              "      <td>1962-06-28</td>\n",
              "      <td>1962-06-28</td>\n",
              "    </tr>\n",
              "  </tbody>\n",
              "</table>\n",
              "<p>13023 rows × 31 columns</p>\n",
              "</div>\n",
              "      <button class=\"colab-df-convert\" onclick=\"convertToInteractive('df-9df9e345-3be8-48c1-b837-460cddc8d5e7')\"\n",
              "              title=\"Convert this dataframe to an interactive table.\"\n",
              "              style=\"display:none;\">\n",
              "        \n",
              "  <svg xmlns=\"http://www.w3.org/2000/svg\" height=\"24px\"viewBox=\"0 0 24 24\"\n",
              "       width=\"24px\">\n",
              "    <path d=\"M0 0h24v24H0V0z\" fill=\"none\"/>\n",
              "    <path d=\"M18.56 5.44l.94 2.06.94-2.06 2.06-.94-2.06-.94-.94-2.06-.94 2.06-2.06.94zm-11 1L8.5 8.5l.94-2.06 2.06-.94-2.06-.94L8.5 2.5l-.94 2.06-2.06.94zm10 10l.94 2.06.94-2.06 2.06-.94-2.06-.94-.94-2.06-.94 2.06-2.06.94z\"/><path d=\"M17.41 7.96l-1.37-1.37c-.4-.4-.92-.59-1.43-.59-.52 0-1.04.2-1.43.59L10.3 9.45l-7.72 7.72c-.78.78-.78 2.05 0 2.83L4 21.41c.39.39.9.59 1.41.59.51 0 1.02-.2 1.41-.59l7.78-7.78 2.81-2.81c.8-.78.8-2.07 0-2.86zM5.41 20L4 18.59l7.72-7.72 1.47 1.35L5.41 20z\"/>\n",
              "  </svg>\n",
              "      </button>\n",
              "      \n",
              "  <style>\n",
              "    .colab-df-container {\n",
              "      display:flex;\n",
              "      flex-wrap:wrap;\n",
              "      gap: 12px;\n",
              "    }\n",
              "\n",
              "    .colab-df-convert {\n",
              "      background-color: #E8F0FE;\n",
              "      border: none;\n",
              "      border-radius: 50%;\n",
              "      cursor: pointer;\n",
              "      display: none;\n",
              "      fill: #1967D2;\n",
              "      height: 32px;\n",
              "      padding: 0 0 0 0;\n",
              "      width: 32px;\n",
              "    }\n",
              "\n",
              "    .colab-df-convert:hover {\n",
              "      background-color: #E2EBFA;\n",
              "      box-shadow: 0px 1px 2px rgba(60, 64, 67, 0.3), 0px 1px 3px 1px rgba(60, 64, 67, 0.15);\n",
              "      fill: #174EA6;\n",
              "    }\n",
              "\n",
              "    [theme=dark] .colab-df-convert {\n",
              "      background-color: #3B4455;\n",
              "      fill: #D2E3FC;\n",
              "    }\n",
              "\n",
              "    [theme=dark] .colab-df-convert:hover {\n",
              "      background-color: #434B5C;\n",
              "      box-shadow: 0px 1px 3px 1px rgba(0, 0, 0, 0.15);\n",
              "      filter: drop-shadow(0px 1px 2px rgba(0, 0, 0, 0.3));\n",
              "      fill: #FFFFFF;\n",
              "    }\n",
              "  </style>\n",
              "\n",
              "      <script>\n",
              "        const buttonEl =\n",
              "          document.querySelector('#df-9df9e345-3be8-48c1-b837-460cddc8d5e7 button.colab-df-convert');\n",
              "        buttonEl.style.display =\n",
              "          google.colab.kernel.accessAllowed ? 'block' : 'none';\n",
              "\n",
              "        async function convertToInteractive(key) {\n",
              "          const element = document.querySelector('#df-9df9e345-3be8-48c1-b837-460cddc8d5e7');\n",
              "          const dataTable =\n",
              "            await google.colab.kernel.invokeFunction('convertToInteractive',\n",
              "                                                     [key], {});\n",
              "          if (!dataTable) return;\n",
              "\n",
              "          const docLinkHtml = 'Like what you see? Visit the ' +\n",
              "            '<a target=\"_blank\" href=https://colab.research.google.com/notebooks/data_table.ipynb>data table notebook</a>'\n",
              "            + ' to learn more about interactive tables.';\n",
              "          element.innerHTML = '';\n",
              "          dataTable['output_type'] = 'display_data';\n",
              "          await google.colab.output.renderOutput(dataTable, element);\n",
              "          const docLink = document.createElement('div');\n",
              "          docLink.innerHTML = docLinkHtml;\n",
              "          element.appendChild(docLink);\n",
              "        }\n",
              "      </script>\n",
              "    </div>\n",
              "  </div>\n",
              "  "
            ],
            "text/plain": [
              "      event_type  start_date  ...        date    date_dt\n",
              "121       Borrow        1934  ...  1934-11-16 1934-11-16\n",
              "140       Borrow        1936  ...  1936-12-04 1936-12-04\n",
              "149       Borrow        1937  ...  1937-06-01 1937-06-01\n",
              "150       Borrow        1937  ...  1937-12-08 1937-12-08\n",
              "152       Borrow        1937  ...  1937-12-08 1937-12-08\n",
              "...          ...         ...  ...         ...        ...\n",
              "29908     Borrow  1961-10-04  ...  1962-03-21 1962-03-21\n",
              "29909     Borrow  1961-12-14  ...  1961-12-14 1961-12-14\n",
              "29910     Borrow  1961-12-14  ...  1961-12-14 1961-12-14\n",
              "29911     Borrow  1961-12-14  ...  1961-12-14 1961-12-14\n",
              "29913     Borrow  1962-06-28  ...  1962-06-28 1962-06-28\n",
              "\n",
              "[13023 rows x 31 columns]"
            ]
          },
          "metadata": {},
          "execution_count": 29
        }
      ]
    },
    {
      "cell_type": "code",
      "source": [
        "later_abundance = to_abundance(later_borrows.item_id)"
      ],
      "metadata": {
        "id": "C4k8fHWQdEBr"
      },
      "execution_count": null,
      "outputs": []
    },
    {
      "cell_type": "code",
      "source": [
        "!pip install matplotlib==3.1.3"
      ],
      "metadata": {
        "colab": {
          "base_uri": "https://localhost:8080/",
          "height": 426
        },
        "id": "oK2GjTwRdmtq",
        "outputId": "27e5fdd3-611f-4bc8-89e9-7b58d317161c"
      },
      "execution_count": null,
      "outputs": [
        {
          "output_type": "stream",
          "name": "stdout",
          "text": [
            "Collecting matplotlib==3.1.3\n",
            "  Using cached matplotlib-3.1.3-cp37-cp37m-manylinux1_x86_64.whl (13.1 MB)\n",
            "Requirement already satisfied: numpy>=1.11 in /usr/local/lib/python3.7/dist-packages (from matplotlib==3.1.3) (1.21.5)\n",
            "Requirement already satisfied: cycler>=0.10 in /usr/local/lib/python3.7/dist-packages (from matplotlib==3.1.3) (0.11.0)\n",
            "Requirement already satisfied: python-dateutil>=2.1 in /usr/local/lib/python3.7/dist-packages (from matplotlib==3.1.3) (2.8.2)\n",
            "Requirement already satisfied: pyparsing!=2.0.4,!=2.1.2,!=2.1.6,>=2.0.1 in /usr/local/lib/python3.7/dist-packages (from matplotlib==3.1.3) (3.0.7)\n",
            "Requirement already satisfied: kiwisolver>=1.0.1 in /usr/local/lib/python3.7/dist-packages (from matplotlib==3.1.3) (1.3.2)\n",
            "Requirement already satisfied: six>=1.5 in /usr/local/lib/python3.7/dist-packages (from python-dateutil>=2.1->matplotlib==3.1.3) (1.15.0)\n",
            "Installing collected packages: matplotlib\n",
            "  Attempting uninstall: matplotlib\n",
            "    Found existing installation: matplotlib 3.5.1\n",
            "    Uninstalling matplotlib-3.5.1:\n",
            "      Successfully uninstalled matplotlib-3.5.1\n",
            "\u001b[31mERROR: pip's dependency resolver does not currently take into account all the packages that are installed. This behaviour is the source of the following dependency conflicts.\n",
            "copia 0.1.4 requires matplotlib>=3.3.2, but you have matplotlib 3.1.3 which is incompatible.\n",
            "albumentations 0.1.12 requires imgaug<0.2.7,>=0.2.5, but you have imgaug 0.2.9 which is incompatible.\u001b[0m\n",
            "Successfully installed matplotlib-3.1.3\n"
          ]
        },
        {
          "output_type": "display_data",
          "data": {
            "application/vnd.colab-display-data+json": {
              "pip_warning": {
                "packages": [
                  "matplotlib",
                  "mpl_toolkits"
                ]
              }
            }
          },
          "metadata": {}
        }
      ]
    },
    {
      "cell_type": "code",
      "source": [
        "abundance_counts(later_abundance)\n",
        "abundance_counts(later_abundance, trendline=True);"
      ],
      "metadata": {
        "colab": {
          "base_uri": "https://localhost:8080/",
          "height": 539
        },
        "id": "SIPiK5HkdOBl",
        "outputId": "14a7731d-48c8-4678-df52-f63b2cf4aa53"
      },
      "execution_count": null,
      "outputs": [
        {
          "output_type": "display_data",
          "data": {
            "image/png": "[encoded data removed]",
            "text/plain": [
              "<Figure size 432x288 with 1 Axes>"
            ]
          },
          "metadata": {
            "needs_background": "light"
          }
        },
        {
          "output_type": "display_data",
          "data": {
            "image/png": "[encoded data removed]",
            "text/plain": [
              "<Figure size 432x288 with 2 Axes>"
            ]
          },
          "metadata": {
            "needs_background": "light"
          }
        }
      ]
    },
    {
      "cell_type": "code",
      "source": [
        "from copia.plot import abundance_histogram\n",
        "abundance_histogram(later_abundance)"
      ],
      "metadata": {
        "colab": {
          "base_uri": "https://localhost:8080/",
          "height": 314
        },
        "id": "MWyTqjL8dVsh",
        "outputId": "c89ec841-fb84-4be6-f6d1-6f64ad08ccbb"
      },
      "execution_count": null,
      "outputs": [
        {
          "output_type": "execute_result",
          "data": {
            "text/plain": [
              "<matplotlib.axes._subplots.AxesSubplot at 0x7fd7f66aae90>"
            ]
          },
          "metadata": {},
          "execution_count": 35
        },
        {
          "output_type": "display_data",
          "data": {
            "image/png": "[encoded data removed]",
            "text/plain": [
              "<Figure size 432x288 with 1 Axes>"
            ]
          },
          "metadata": {
            "needs_background": "light"
          }
        }
      ]
    },
    {
      "cell_type": "code",
      "source": [
        "from copia.richness import *\n",
        "\n",
        "for m in ('chao1', 'ichao1', 'ace', 'jackknife', 'egghe_proot', 'minsample'):\n",
        "    print(m, '->', diversity(later_abundance, method=m))"
      ],
      "metadata": {
        "colab": {
          "base_uri": "https://localhost:8080/"
        },
        "id": "9-gzPVOpdfU-",
        "outputId": "e59e5eb2-98c2-4153-8a60-49ce37fc2bf3"
      },
      "execution_count": null,
      "outputs": [
        {
          "output_type": "stream",
          "name": "stdout",
          "text": [
            "chao1 -> 5177.974780621821\n",
            "ichao1 -> 5533.397781689817\n",
            "ace -> 4877.040161073133\n",
            "jackknife -> 7281.000000000002\n",
            "egghe_proot -> 6075.0994294919265\n",
            "minsample -> 165483.41346041346\n"
          ]
        },
        {
          "output_type": "stream",
          "name": "stderr",
          "text": [
            "/usr/local/lib/python3.7/dist-packages/copia/richness.py:450: UserWarning: Tolerance criterion not met: 0.12160141724598361 > 0.1\n",
            "  warnings.warn(f\"Tolerance criterion not met: {diff_intersect} > {tolerance}\")\n"
          ]
        }
      ]
    },
    {
      "cell_type": "code",
      "source": [
        "print('species richness:', diversity(later_abundance, method='empirical'))\n",
        "print('population size:', diversity(later_abundance, method='empirical', species=False))"
      ],
      "metadata": {
        "colab": {
          "base_uri": "https://localhost:8080/"
        },
        "id": "vqPgW93qenZS",
        "outputId": "3b8fcc77-4504-4811-9796-a4f855a4af4d"
      },
      "execution_count": null,
      "outputs": [
        {
          "output_type": "stream",
          "name": "stdout",
          "text": [
            "species richness: 3603\n",
            "population size: 13023\n"
          ]
        }
      ]
    },
    {
      "cell_type": "code",
      "source": [
        "print('Empirical size:', diversity(later_abundance, method='empirical', species=False))\n",
        "print('Unbiased estimate:', diversity(later_abundance, method='minsample'))"
      ],
      "metadata": {
        "colab": {
          "base_uri": "https://localhost:8080/"
        },
        "id": "E8Z81POYe5RS",
        "outputId": "44f105ca-ff7e-4510-caeb-f3bf4befb7c6"
      },
      "execution_count": null,
      "outputs": [
        {
          "output_type": "stream",
          "name": "stdout",
          "text": [
            "Empirical size: 13023\n",
            "Unbiased estimate: 165483.41346041346\n"
          ]
        },
        {
          "output_type": "stream",
          "name": "stderr",
          "text": [
            "/usr/local/lib/python3.7/dist-packages/copia/richness.py:450: UserWarning: Tolerance criterion not met: 0.12160141724598361 > 0.1\n",
            "  warnings.warn(f\"Tolerance criterion not met: {diff_intersect} > {tolerance}\")\n"
          ]
        }
      ]
    },
    {
      "cell_type": "code",
      "source": [
        "print(diversity(later_abundance, method='minsample', solver='fsolve'))\n",
        "print(diversity(later_abundance, method='minsample', solver='grid'))"
      ],
      "metadata": {
        "colab": {
          "base_uri": "https://localhost:8080/"
        },
        "id": "DM6pIbZoe82L",
        "outputId": "8ec5bccb-505c-4fa3-de9f-a6af67add365"
      },
      "execution_count": null,
      "outputs": [
        {
          "output_type": "stream",
          "name": "stdout",
          "text": [
            "Diff_intersect: inf\n",
            "165483.41346041346\n",
            "165483.41346041346\n"
          ]
        },
        {
          "output_type": "stream",
          "name": "stderr",
          "text": [
            "/usr/local/lib/python3.7/dist-packages/copia/richness.py:424: RuntimeWarning: overflow encountered in exp\n",
            "  v = lambda x: np.exp(x * (2 * f2 / f1))\n",
            "/usr/local/lib/python3.7/dist-packages/scipy/optimize/minpack.py:175: RuntimeWarning: The iteration is not making good progress, as measured by the \n",
            "  improvement from the last ten iterations.\n",
            "  warnings.warn(msg, RuntimeWarning)\n",
            "/usr/local/lib/python3.7/dist-packages/copia/richness.py:437: UserWarning: Tolerance criterion not met via fsolve: inf > 0.1-> backing off to grid-solver.\n",
            "  warnings.warn(msg)\n",
            "/usr/local/lib/python3.7/dist-packages/copia/richness.py:450: UserWarning: Tolerance criterion not met: 0.12160141724598361 > 0.1\n",
            "  warnings.warn(f\"Tolerance criterion not met: {diff_intersect} > {tolerance}\")\n"
          ]
        }
      ]
    },
    {
      "cell_type": "code",
      "source": [
        "diagn = diversity(later_abundance, method='minsample',\n",
        "                        solver='grid', CI=False, # CI must be False for this use!\n",
        "                        diagnostics=True)\n",
        "print(diagn)"
      ],
      "metadata": {
        "colab": {
          "base_uri": "https://localhost:8080/"
        },
        "id": "q9WIzLR7fBF4",
        "outputId": "abcf6a1b-9f8e-4fbb-b174-e9504fd06c02"
      },
      "execution_count": null,
      "outputs": [
        {
          "output_type": "stream",
          "name": "stdout",
          "text": [
            "{'richness': 165483.41346041346, 'x*': 11.707011707011707, 'n': 13023}\n"
          ]
        },
        {
          "output_type": "stream",
          "name": "stderr",
          "text": [
            "/usr/local/lib/python3.7/dist-packages/copia/richness.py:450: UserWarning: Tolerance criterion not met: 0.12160141724598361 > 0.1\n",
            "  warnings.warn(f\"Tolerance criterion not met: {diff_intersect} > {tolerance}\")\n"
          ]
        }
      ]
    },
    {
      "cell_type": "code",
      "source": [
        "from copia.plot import minsample_diagnostic_plot\n",
        "minsample_diagnostic_plot(later_abundance, diagn)\n"
      ],
      "metadata": {
        "colab": {
          "base_uri": "https://localhost:8080/",
          "height": 298
        },
        "id": "nwJW5Ix3fEcM",
        "outputId": "b2488c8e-55f7-4770-9465-80bc86ee0fbb"
      },
      "execution_count": null,
      "outputs": [
        {
          "output_type": "execute_result",
          "data": {
            "text/plain": [
              "<matplotlib.axes._subplots.AxesSubplot at 0x7fd7f5a79150>"
            ]
          },
          "metadata": {},
          "execution_count": 42
        },
        {
          "output_type": "display_data",
          "data": {
            "image/png": "[encoded data removed]",
            "text/plain": [
              "<Figure size 432x288 with 1 Axes>"
            ]
          },
          "metadata": {
            "needs_background": "light"
          }
        }
      ]
    },
    {
      "cell_type": "code",
      "source": [
        "from copia.richness import species_accumulation\n",
        "accumulation = species_accumulation(later_abundance, max_steps=4000, n_iter=10)\n",
        "accumulation\n",
        "\n"
      ],
      "metadata": {
        "colab": {
          "base_uri": "https://localhost:8080/",
          "height": 704
        },
        "id": "6ONRJ25hfJvS",
        "outputId": "e3cf41b6-8687-480d-e6e1-2132d2217351"
      },
      "execution_count": null,
      "outputs": [
        {
          "output_type": "stream",
          "name": "stderr",
          "text": [
            "\r  0%|          | 0/10 [00:00<?, ?it/s]Process ForkPoolWorker-1:\n",
            "Traceback (most recent call last):\n",
            "  File \"/usr/lib/python3.7/multiprocessing/process.py\", line 297, in _bootstrap\n",
            "    self.run()\n",
            "  File \"/usr/lib/python3.7/multiprocessing/process.py\", line 99, in run\n",
            "    self._target(*self._args, **self._kwargs)\n",
            "  File \"/usr/lib/python3.7/multiprocessing/pool.py\", line 121, in worker\n",
            "    result = (True, func(*args, **kwds))\n",
            "  File \"/usr/local/lib/python3.7/dist-packages/copia/stats.py\", line 168, in rarefaction_extrapolation\n",
            "    return np.array([_sub(mi) for mi in range(1, max_steps)])\n",
            "  File \"/usr/local/lib/python3.7/dist-packages/copia/stats.py\", line 168, in <listcomp>\n",
            "    return np.array([_sub(mi) for mi in range(1, max_steps)])\n",
            "  File \"/usr/local/lib/python3.7/dist-packages/copia/stats.py\", line 161, in _sub\n",
            "    0 for i in x]))\n",
            "  File \"/usr/local/lib/python3.7/dist-packages/copia/stats.py\", line 161, in <listcomp>\n",
            "    0 for i in x]))\n"
          ]
        },
        {
          "output_type": "error",
          "ename": "KeyboardInterrupt",
          "evalue": "ignored",
          "traceback": [
            "\u001b[0;31m---------------------------------------------------------------------------\u001b[0m",
            "\u001b[0;31mKeyboardInterrupt\u001b[0m                         Traceback (most recent call last)",
            "\u001b[0;32m<ipython-input-43-d9c6357f6b35>\u001b[0m in \u001b[0;36m<module>\u001b[0;34m()\u001b[0m\n\u001b[1;32m      1\u001b[0m \u001b[0;32mfrom\u001b[0m \u001b[0mcopia\u001b[0m\u001b[0;34m.\u001b[0m\u001b[0mrichness\u001b[0m \u001b[0;32mimport\u001b[0m \u001b[0mspecies_accumulation\u001b[0m\u001b[0;34m\u001b[0m\u001b[0;34m\u001b[0m\u001b[0m\n\u001b[0;32m----> 2\u001b[0;31m \u001b[0maccumulation\u001b[0m \u001b[0;34m=\u001b[0m \u001b[0mspecies_accumulation\u001b[0m\u001b[0;34m(\u001b[0m\u001b[0mlater_abundance\u001b[0m\u001b[0;34m,\u001b[0m \u001b[0mmax_steps\u001b[0m\u001b[0;34m=\u001b[0m\u001b[0;36m4000\u001b[0m\u001b[0;34m,\u001b[0m \u001b[0mn_iter\u001b[0m\u001b[0;34m=\u001b[0m\u001b[0;36m10\u001b[0m\u001b[0;34m)\u001b[0m\u001b[0;34m\u001b[0m\u001b[0;34m\u001b[0m\u001b[0m\n\u001b[0m\u001b[1;32m      3\u001b[0m \u001b[0maccumulation\u001b[0m\u001b[0;34m\u001b[0m\u001b[0;34m\u001b[0m\u001b[0m\n\u001b[1;32m      4\u001b[0m \u001b[0;34m\u001b[0m\u001b[0m\n",
            "\u001b[0;32m/usr/local/lib/python3.7/dist-packages/copia/richness.py\u001b[0m in \u001b[0;36mspecies_accumulation\u001b[0;34m(x, max_steps, n_iter)\u001b[0m\n\u001b[1;32m    466\u001b[0m     accumulation = stats.bootstrap(x, fn=partial(stats.rarefaction_extrapolation,\n\u001b[1;32m    467\u001b[0m                                     max_steps=max_steps),\n\u001b[0;32m--> 468\u001b[0;31m                             n_iter=n_iter)\n\u001b[0m\u001b[1;32m    469\u001b[0m     \u001b[0maccumulation\u001b[0m\u001b[0;34m[\u001b[0m\u001b[0;34m'interpolated'\u001b[0m\u001b[0;34m]\u001b[0m \u001b[0;34m=\u001b[0m \u001b[0minterpolated\u001b[0m\u001b[0;34m\u001b[0m\u001b[0;34m\u001b[0m\u001b[0m\n\u001b[1;32m    470\u001b[0m     \u001b[0maccumulation\u001b[0m\u001b[0;34m[\u001b[0m\u001b[0;34m'steps'\u001b[0m\u001b[0;34m]\u001b[0m \u001b[0;34m=\u001b[0m \u001b[0msteps\u001b[0m\u001b[0;34m\u001b[0m\u001b[0;34m\u001b[0m\u001b[0m\n",
            "\u001b[0;32m/usr/local/lib/python3.7/dist-packages/copia/stats.py\u001b[0m in \u001b[0;36mbootstrap\u001b[0;34m(x, fn, n_iter, conf, n_jobs, disable_pb, seed)\u001b[0m\n\u001b[1;32m     80\u001b[0m     \u001b[0;32mfor\u001b[0m \u001b[0mrow\u001b[0m \u001b[0;32min\u001b[0m \u001b[0mdata_bt\u001b[0m\u001b[0;34m:\u001b[0m\u001b[0;34m\u001b[0m\u001b[0;34m\u001b[0m\u001b[0m\n\u001b[1;32m     81\u001b[0m         \u001b[0mpool\u001b[0m\u001b[0;34m.\u001b[0m\u001b[0mapply_async\u001b[0m\u001b[0;34m(\u001b[0m\u001b[0mfn\u001b[0m\u001b[0;34m,\u001b[0m \u001b[0margs\u001b[0m\u001b[0;34m=\u001b[0m\u001b[0;34m(\u001b[0m\u001b[0mrow\u001b[0m\u001b[0;34m,\u001b[0m\u001b[0;34m)\u001b[0m\u001b[0;34m)\u001b[0m\u001b[0;34m\u001b[0m\u001b[0;34m\u001b[0m\u001b[0m\n\u001b[0;32m---> 82\u001b[0;31m     \u001b[0mpool\u001b[0m\u001b[0;34m.\u001b[0m\u001b[0mjoin\u001b[0m\u001b[0;34m(\u001b[0m\u001b[0;34m)\u001b[0m\u001b[0;34m\u001b[0m\u001b[0;34m\u001b[0m\u001b[0m\n\u001b[0m\u001b[1;32m     83\u001b[0m \u001b[0;34m\u001b[0m\u001b[0m\n\u001b[1;32m     84\u001b[0m     \u001b[0mbt_pro\u001b[0m \u001b[0;34m=\u001b[0m \u001b[0mnp\u001b[0m\u001b[0;34m.\u001b[0m\u001b[0marray\u001b[0m\u001b[0;34m(\u001b[0m\u001b[0mpool\u001b[0m\u001b[0;34m.\u001b[0m\u001b[0mresult\u001b[0m\u001b[0;34m(\u001b[0m\u001b[0;34m)\u001b[0m\u001b[0;34m)\u001b[0m\u001b[0;34m\u001b[0m\u001b[0;34m\u001b[0m\u001b[0m\n",
            "\u001b[0;32m/usr/local/lib/python3.7/dist-packages/copia/utils.py\u001b[0m in \u001b[0;36mjoin\u001b[0;34m(self)\u001b[0m\n\u001b[1;32m     49\u001b[0m     \u001b[0;32mdef\u001b[0m \u001b[0mjoin\u001b[0m\u001b[0;34m(\u001b[0m\u001b[0mself\u001b[0m\u001b[0;34m)\u001b[0m\u001b[0;34m:\u001b[0m\u001b[0;34m\u001b[0m\u001b[0;34m\u001b[0m\u001b[0m\n\u001b[1;32m     50\u001b[0m         \u001b[0mself\u001b[0m\u001b[0;34m.\u001b[0m\u001b[0mpool\u001b[0m\u001b[0;34m.\u001b[0m\u001b[0mclose\u001b[0m\u001b[0;34m(\u001b[0m\u001b[0;34m)\u001b[0m\u001b[0;34m\u001b[0m\u001b[0;34m\u001b[0m\u001b[0m\n\u001b[0;32m---> 51\u001b[0;31m         \u001b[0mself\u001b[0m\u001b[0;34m.\u001b[0m\u001b[0mpool\u001b[0m\u001b[0;34m.\u001b[0m\u001b[0mjoin\u001b[0m\u001b[0;34m(\u001b[0m\u001b[0;34m)\u001b[0m\u001b[0;34m\u001b[0m\u001b[0;34m\u001b[0m\u001b[0m\n\u001b[0m\u001b[1;32m     52\u001b[0m \u001b[0;34m\u001b[0m\u001b[0m\n\u001b[1;32m     53\u001b[0m     \u001b[0;32mdef\u001b[0m \u001b[0mresult\u001b[0m\u001b[0;34m(\u001b[0m\u001b[0mself\u001b[0m\u001b[0;34m)\u001b[0m\u001b[0;34m:\u001b[0m\u001b[0;34m\u001b[0m\u001b[0;34m\u001b[0m\u001b[0m\n",
            "\u001b[0;32m/usr/lib/python3.7/multiprocessing/pool.py\u001b[0m in \u001b[0;36mjoin\u001b[0;34m(self)\u001b[0m\n\u001b[1;32m    554\u001b[0m         \u001b[0;32melif\u001b[0m \u001b[0mself\u001b[0m\u001b[0;34m.\u001b[0m\u001b[0m_state\u001b[0m \u001b[0;32mnot\u001b[0m \u001b[0;32min\u001b[0m \u001b[0;34m(\u001b[0m\u001b[0mCLOSE\u001b[0m\u001b[0;34m,\u001b[0m \u001b[0mTERMINATE\u001b[0m\u001b[0;34m)\u001b[0m\u001b[0;34m:\u001b[0m\u001b[0;34m\u001b[0m\u001b[0;34m\u001b[0m\u001b[0m\n\u001b[1;32m    555\u001b[0m             \u001b[0;32mraise\u001b[0m \u001b[0mValueError\u001b[0m\u001b[0;34m(\u001b[0m\u001b[0;34m\"In unknown state\"\u001b[0m\u001b[0;34m)\u001b[0m\u001b[0;34m\u001b[0m\u001b[0;34m\u001b[0m\u001b[0m\n\u001b[0;32m--> 556\u001b[0;31m         \u001b[0mself\u001b[0m\u001b[0;34m.\u001b[0m\u001b[0m_worker_handler\u001b[0m\u001b[0;34m.\u001b[0m\u001b[0mjoin\u001b[0m\u001b[0;34m(\u001b[0m\u001b[0;34m)\u001b[0m\u001b[0;34m\u001b[0m\u001b[0;34m\u001b[0m\u001b[0m\n\u001b[0m\u001b[1;32m    557\u001b[0m         \u001b[0mself\u001b[0m\u001b[0;34m.\u001b[0m\u001b[0m_task_handler\u001b[0m\u001b[0;34m.\u001b[0m\u001b[0mjoin\u001b[0m\u001b[0;34m(\u001b[0m\u001b[0;34m)\u001b[0m\u001b[0;34m\u001b[0m\u001b[0;34m\u001b[0m\u001b[0m\n\u001b[1;32m    558\u001b[0m         \u001b[0mself\u001b[0m\u001b[0;34m.\u001b[0m\u001b[0m_result_handler\u001b[0m\u001b[0;34m.\u001b[0m\u001b[0mjoin\u001b[0m\u001b[0;34m(\u001b[0m\u001b[0;34m)\u001b[0m\u001b[0;34m\u001b[0m\u001b[0;34m\u001b[0m\u001b[0m\n",
            "\u001b[0;32m/usr/lib/python3.7/threading.py\u001b[0m in \u001b[0;36mjoin\u001b[0;34m(self, timeout)\u001b[0m\n\u001b[1;32m   1042\u001b[0m \u001b[0;34m\u001b[0m\u001b[0m\n\u001b[1;32m   1043\u001b[0m         \u001b[0;32mif\u001b[0m \u001b[0mtimeout\u001b[0m \u001b[0;32mis\u001b[0m \u001b[0;32mNone\u001b[0m\u001b[0;34m:\u001b[0m\u001b[0;34m\u001b[0m\u001b[0;34m\u001b[0m\u001b[0m\n\u001b[0;32m-> 1044\u001b[0;31m             \u001b[0mself\u001b[0m\u001b[0;34m.\u001b[0m\u001b[0m_wait_for_tstate_lock\u001b[0m\u001b[0;34m(\u001b[0m\u001b[0;34m)\u001b[0m\u001b[0;34m\u001b[0m\u001b[0;34m\u001b[0m\u001b[0m\n\u001b[0m\u001b[1;32m   1045\u001b[0m         \u001b[0;32melse\u001b[0m\u001b[0;34m:\u001b[0m\u001b[0;34m\u001b[0m\u001b[0;34m\u001b[0m\u001b[0m\n\u001b[1;32m   1046\u001b[0m             \u001b[0;31m# the behavior of a negative timeout isn't documented, but\u001b[0m\u001b[0;34m\u001b[0m\u001b[0;34m\u001b[0m\u001b[0;34m\u001b[0m\u001b[0m\n",
            "\u001b[0;32m/usr/lib/python3.7/threading.py\u001b[0m in \u001b[0;36m_wait_for_tstate_lock\u001b[0;34m(self, block, timeout)\u001b[0m\n\u001b[1;32m   1058\u001b[0m         \u001b[0;32mif\u001b[0m \u001b[0mlock\u001b[0m \u001b[0;32mis\u001b[0m \u001b[0;32mNone\u001b[0m\u001b[0;34m:\u001b[0m  \u001b[0;31m# already determined that the C code is done\u001b[0m\u001b[0;34m\u001b[0m\u001b[0;34m\u001b[0m\u001b[0m\n\u001b[1;32m   1059\u001b[0m             \u001b[0;32massert\u001b[0m \u001b[0mself\u001b[0m\u001b[0;34m.\u001b[0m\u001b[0m_is_stopped\u001b[0m\u001b[0;34m\u001b[0m\u001b[0;34m\u001b[0m\u001b[0m\n\u001b[0;32m-> 1060\u001b[0;31m         \u001b[0;32melif\u001b[0m \u001b[0mlock\u001b[0m\u001b[0;34m.\u001b[0m\u001b[0macquire\u001b[0m\u001b[0;34m(\u001b[0m\u001b[0mblock\u001b[0m\u001b[0;34m,\u001b[0m \u001b[0mtimeout\u001b[0m\u001b[0;34m)\u001b[0m\u001b[0;34m:\u001b[0m\u001b[0;34m\u001b[0m\u001b[0;34m\u001b[0m\u001b[0m\n\u001b[0m\u001b[1;32m   1061\u001b[0m             \u001b[0mlock\u001b[0m\u001b[0;34m.\u001b[0m\u001b[0mrelease\u001b[0m\u001b[0;34m(\u001b[0m\u001b[0;34m)\u001b[0m\u001b[0;34m\u001b[0m\u001b[0;34m\u001b[0m\u001b[0m\n\u001b[1;32m   1062\u001b[0m             \u001b[0mself\u001b[0m\u001b[0;34m.\u001b[0m\u001b[0m_stop\u001b[0m\u001b[0;34m(\u001b[0m\u001b[0;34m)\u001b[0m\u001b[0;34m\u001b[0m\u001b[0;34m\u001b[0m\u001b[0m\n",
            "\u001b[0;31mKeyboardInterrupt\u001b[0m: "
          ]
        },
        {
          "output_type": "stream",
          "name": "stderr",
          "text": [
            "KeyboardInterrupt\n"
          ]
        }
      ]
    },
    {
      "cell_type": "code",
      "source": [
        "from copia.plot import density\n",
        "estimate = diversity(later_abundance, method='iChao1', CI=True)\n",
        "density(estimate);"
      ],
      "metadata": {
        "colab": {
          "base_uri": "https://localhost:8080/",
          "height": 603
        },
        "id": "UKYC6McHfNzl",
        "outputId": "d87dfbb5-fe9a-4733-f3d3-776706672538"
      },
      "execution_count": null,
      "outputs": [
        {
          "output_type": "stream",
          "name": "stderr",
          "text": [
            "\n",
            "  0%|          | 0/1000 [00:00<?, ?it/s]\u001b[A\n",
            "  5%|▌         | 52/1000 [00:00<00:01, 513.67it/s]\u001b[A\n",
            " 13%|█▎        | 127/1000 [00:00<00:01, 620.88it/s]\u001b[A\n",
            " 19%|█▉        | 189/1000 [00:00<00:01, 559.67it/s]\u001b[A\n",
            " 25%|██▌       | 250/1000 [00:00<00:01, 573.11it/s]\u001b[A\n",
            " 31%|███       | 308/1000 [00:00<00:01, 539.18it/s]\u001b[A\n",
            " 36%|███▋      | 363/1000 [00:00<00:01, 532.68it/s]\u001b[A\n",
            " 42%|████▏     | 421/1000 [00:00<00:01, 540.12it/s]\u001b[A\n",
            " 48%|████▊     | 480/1000 [00:00<00:00, 554.58it/s]\u001b[A\n",
            " 54%|█████▎    | 536/1000 [00:00<00:00, 553.37it/s]\u001b[A\n",
            " 59%|█████▉    | 594/1000 [00:01<00:00, 560.72it/s]\u001b[A\n",
            " 65%|██████▌   | 651/1000 [00:01<00:00, 540.36it/s]\u001b[A\n",
            " 71%|███████   | 706/1000 [00:01<00:00, 542.40it/s]\u001b[A\n",
            " 76%|███████▌  | 761/1000 [00:01<00:00, 529.67it/s]\u001b[A\n",
            " 82%|████████▏ | 819/1000 [00:01<00:00, 536.48it/s]\u001b[A\n",
            " 88%|████████▊ | 876/1000 [00:01<00:00, 545.25it/s]\u001b[A\n",
            "100%|██████████| 1000/1000 [00:01<00:00, 556.14it/s]\n"
          ]
        },
        {
          "output_type": "display_data",
          "data": {
            "image/png": "[encoded data removed]",
            "text/plain": [
              "<Figure size 432x288 with 1 Axes>"
            ]
          },
          "metadata": {
            "needs_background": "light"
          }
        }
      ]
    },
    {
      "cell_type": "code",
      "source": [
        "empirical = diversity(later_abundance, method='empirical')\n",
        "density(estimate, empirical);"
      ],
      "metadata": {
        "colab": {
          "base_uri": "https://localhost:8080/",
          "height": 265
        },
        "id": "0lM-O7IvgG75",
        "outputId": "11b2c8ba-29fe-44e7-fdc9-d471487f14cc"
      },
      "execution_count": null,
      "outputs": [
        {
          "output_type": "display_data",
          "data": {
            "image/png": "[encoded data removed]",
            "text/plain": [
              "<Figure size 432x288 with 1 Axes>"
            ]
          },
          "metadata": {
            "needs_background": "light"
          }
        }
      ]
    },
    {
      "cell_type": "code",
      "source": [
        "from copia.hill import hill_numbers\n",
        "emp, est = hill_numbers(later_abundance, n_iter=10)"
      ],
      "metadata": {
        "colab": {
          "base_uri": "https://localhost:8080/"
        },
        "id": "q3Ur7Js9gIYT",
        "outputId": "1453b63b-0896-435c-8d25-cfd5a4e297a6"
      },
      "execution_count": null,
      "outputs": [
        {
          "output_type": "stream",
          "name": "stderr",
          "text": [
            "\n",
            "  0%|          | 0/10 [00:00<?, ?it/s]\u001b[A\n",
            " 50%|█████     | 5/10 [00:00<00:00, 42.24it/s]\u001b[A\n",
            "100%|██████████| 10/10 [00:00<00:00, 35.86it/s]\n",
            "\n",
            "  0%|          | 0/10 [00:00<?, ?it/s]\u001b[A\n",
            " 10%|█         | 1/10 [00:07<01:04,  7.15s/it]\u001b[A\n",
            " 20%|██        | 2/10 [00:13<00:51,  6.42s/it]\u001b[A\n",
            " 30%|███       | 3/10 [00:18<00:42,  6.00s/it]\u001b[A\n",
            " 40%|████      | 4/10 [00:24<00:35,  5.85s/it]\u001b[A\n",
            " 50%|█████     | 5/10 [00:29<00:28,  5.73s/it]\u001b[A\n",
            " 60%|██████    | 6/10 [00:35<00:22,  5.74s/it]\u001b[A\n",
            " 70%|███████   | 7/10 [00:42<00:18,  6.07s/it]\u001b[A\n",
            " 80%|████████  | 8/10 [00:48<00:12,  6.01s/it]\u001b[A\n",
            " 90%|█████████ | 9/10 [00:53<00:05,  5.92s/it]\u001b[A\n",
            "100%|██████████| 10/10 [00:59<00:00,  5.92s/it]\n"
          ]
        }
      ]
    },
    {
      "cell_type": "code",
      "source": [
        "import copia.plot as plot\n",
        "plot.hill_plot(emp, est);"
      ],
      "metadata": {
        "colab": {
          "base_uri": "https://localhost:8080/",
          "height": 294
        },
        "id": "1mewdGOQgSu1",
        "outputId": "70c087af-8410-46c6-bd8e-a4a3aa34443b"
      },
      "execution_count": null,
      "outputs": [
        {
          "output_type": "display_data",
          "data": {
            "image/png": "[encoded data removed]",
            "text/plain": [
              "<Figure size 432x288 with 2 Axes>"
            ]
          },
          "metadata": {
            "needs_background": "light"
          }
        }
      ]
    },
    {
      "cell_type": "code",
      "source": [
        "# what percent do these numbers give us for this time period?\n",
        "\n",
        "later_period_items = len(later_borrows.item_id.unique())\n",
        "later_period_items\n",
        "\n",
        "\n"
      ],
      "metadata": {
        "colab": {
          "base_uri": "https://localhost:8080/"
        },
        "id": "H07BB4U7h76c",
        "outputId": "0321cba7-6eae-45b1-d4f3-41abc8acb290"
      },
      "execution_count": null,
      "outputs": [
        {
          "output_type": "execute_result",
          "data": {
            "text/plain": [
              "3603"
            ]
          },
          "metadata": {},
          "execution_count": 49
        }
      ]
    },
    {
      "cell_type": "code",
      "source": [
        "estimates = {\n",
        "'chao1':  5177.974780621821,\n",
        "'ichao1': 5533.397781689817,\n",
        "'ace': 4877.040161073133,\n",
        "'jackknife': 7281.000000000002,\n",
        "'egghe_proot': 6075.0994294919265,\n",
        "}\n",
        "\n",
        "for algo, est in estimates.items():\n",
        "  print('%s : %.2f%%' % (algo, later_period_items / est * 100))\n"
      ],
      "metadata": {
        "colab": {
          "base_uri": "https://localhost:8080/"
        },
        "id": "5VhMzhEniD8w",
        "outputId": "6a221924-3335-464d-8816-5d5f44f9db18"
      },
      "execution_count": null,
      "outputs": [
        {
          "output_type": "stream",
          "name": "stdout",
          "text": [
            "chao1 : 69.58%\n",
            "ichao1 : 65.11%\n",
            "ace : 73.88%\n",
            "jackknife : 49.48%\n",
            "egghe_proot : 59.31%\n"
          ]
        }
      ]
    },
    {
      "cell_type": "code",
      "source": [],
      "metadata": {
        "id": "JKq8gKbSiV6m"
      },
      "execution_count": null,
      "outputs": []
    }
  ]
}